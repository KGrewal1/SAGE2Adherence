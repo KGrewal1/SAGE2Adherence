{
 "cells": [
  {
   "attachments": {},
   "cell_type": "markdown",
   "metadata": {},
   "source": [
    "# Effect of socioeconomic and health-related factors on adherence to chronic disease medication in India: analysis of cross sectional data from WHO - SAGE2 \n",
    "\n",
    "Complete Code for analysis"
   ]
  },
  {
   "attachments": {},
   "cell_type": "markdown",
   "metadata": {},
   "source": [
    "# Import Packages"
   ]
  },
  {
   "cell_type": "code",
   "execution_count": 710,
   "metadata": {
    "vscode": {
     "languageId": "r"
    }
   },
   "outputs": [],
   "source": [
    "## Language = 'R'\n",
    "#The following install commands only need to be run once and then commented out\n",
    "# install.packages(\"ggthemes\")\n",
    "# install.packages(\"RColorBrewer\")\n",
    "# install.packages(\"scatterplot3d\")\n",
    "# install.packages(\"effsize\")\n",
    "# install.packages(\"lsr\")\n",
    "# install.packages(\"AMR\")\n",
    "# install.packages(\"oddsratio\")\n",
    "# install.packages(\"dplyr\")  \n",
    "# install.packages(\"epitools\")\n",
    "# install.packages(\"questionr\")\n",
    "# install.packages(\"forcats\")\n",
    "# install.packages(\"plyr\")\n",
    "# install.packages(\"stargazer\") \n",
    "# install.packages(\"caret\") \n",
    "# install.packages(\"leaps\") \n",
    "# install.packages(\"MASS\") \n",
    "# install.packages(\"car\") \n",
    "# install.packages(\"survey\")\n",
    "# install.packages(\"magrittr\")\n",
    "# install.packages(\"jtools\")\n",
    "# install.packages(\"ggpubr\")"
   ]
  },
  {
   "cell_type": "code",
   "execution_count": 711,
   "metadata": {
    "vscode": {
     "languageId": "r"
    }
   },
   "outputs": [],
   "source": [
    "# Activating packages\n",
    "suppressWarnings(suppressMessages({\n",
    "library(tidyverse)  # Modern data science workflow\n",
    "library(ggplot2) # Modern visualization tools\n",
    "library(ggpubr) # for combining figures\n",
    "library(ggrepel) ## For displaying label on ggplot2 object\n",
    "library(haven) # for reading .dta files\n",
    "library(dplyr)\n",
    "library(stargazer) #for regression results\n",
    "library(epitools) #for odds_ratio\n",
    "library(car) #for VIF\n",
    "library(survey) #for survey weighting\n",
    "}))\n"
   ]
  },
  {
   "cell_type": "code",
   "execution_count": 712,
   "metadata": {
    "vscode": {
     "languageId": "r"
    }
   },
   "outputs": [],
   "source": [
    "# Adjustments\n",
    "#knitr::opts_chunk$set(fig.align = 'center')\n",
    "knitr::opts_chunk$set(echo = TRUE)\n",
    "options(warn = -1)\n",
    "options(scipen = 10000)\n",
    "options(repr.plot.width = 12, repr.plot.height = 4)"
   ]
  },
  {
   "cell_type": "code",
   "execution_count": 713,
   "metadata": {
    "vscode": {
     "languageId": "r"
    }
   },
   "outputs": [
    {
     "data": {
      "text/plain": [
       "\n",
       "To cite R in publications use:\n",
       "\n",
       "  R Core Team (2022). R: A language and environment for statistical\n",
       "  computing. R Foundation for Statistical Computing, Vienna, Austria.\n",
       "  URL https://www.R-project.org/.\n",
       "\n",
       "A BibTeX entry for LaTeX users is\n",
       "\n",
       "  @Manual{,\n",
       "    title = {R: A Language and Environment for Statistical Computing},\n",
       "    author = {{R Core Team}},\n",
       "    organization = {R Foundation for Statistical Computing},\n",
       "    address = {Vienna, Austria},\n",
       "    year = {2022},\n",
       "    url = {https://www.R-project.org/},\n",
       "  }\n",
       "\n",
       "We have invested a lot of time and effort in creating R, please cite it\n",
       "when using it for data analysis. See also 'citation(\"pkgname\")' for\n",
       "citing R packages.\n"
      ]
     },
     "metadata": {},
     "output_type": "display_data"
    }
   ],
   "source": [
    "citation()\n",
    "# citation(\"tidyverse\")  # Modern data science workflow\n",
    "# citation(\"ggplot2\") # Modern visualization tools\n",
    "# citation(\"ggpubr\") # for combining figures\n",
    "# citation(\"ggrepel\") ## For displaying label on ggplot2 object\n",
    "# citation(\"haven\") # for reading .dta files\n",
    "# citation(\"dplyr\")\n",
    "# citation(\"stargazer\") #for regression results\n",
    "# citation(\"epitools\") #for odds_ratio\n",
    "# citation(\"car\") #for VIF\n",
    "# citation(\"survey\") #for survey weighting\n",
    "# toBibtex(citation(\"survey\"))"
   ]
  },
  {
   "cell_type": "code",
   "execution_count": 714,
   "metadata": {
    "vscode": {
     "languageId": "r"
    }
   },
   "outputs": [],
   "source": [
    "# clear variables and read data from dta\n",
    "rm(list=ls())\n",
    "\n",
    "# we are using haven from the Tidyverse library to import a stata file\n",
    "# this has both advantages (data fidelty) but also some complexity\n",
    "# stata (and SPSS / SAS) have labelled values\n",
    "# so we have to deal with that\n",
    "Setup = 'Y'\n",
    "\n",
    "if (Setup == 'Y'){\n",
    "    dta_raw <- read_dta(\"SAGE_India_W2_IND_Data.dta\")\n",
    "}\n",
    "\n"
   ]
  },
  {
   "attachments": {},
   "cell_type": "markdown",
   "metadata": {},
   "source": [
    "# Create subdirectories\n",
    "These are used to organise outputted csv's and figures"
   ]
  },
  {
   "cell_type": "code",
   "execution_count": 715,
   "metadata": {
    "vscode": {
     "languageId": "r"
    }
   },
   "outputs": [],
   "source": [
    "dir.create(file.path(getwd(), 'Supplementary2'), recursive = TRUE)\n",
    "dir.create(file.path(getwd(), 'Supplementary3'), recursive = TRUE)\n",
    "dir.create(file.path(getwd(), 'Figures'), recursive = TRUE)\n",
    "dir.create(file.path(getwd(), 'Misc'), recursive = TRUE)"
   ]
  },
  {
   "attachments": {},
   "cell_type": "markdown",
   "metadata": {},
   "source": [
    "# Data Importing and Cleanup\n",
    "\n",
    "Importing the raw dta and cleaning up values"
   ]
  },
  {
   "attachments": {},
   "cell_type": "markdown",
   "metadata": {},
   "source": [
    "## Deal with zero values vs 'no value'\n",
    "4 columns have 0 as the 'No' value as opposed to 2: 4001, 4014, 4040 and 4060.\n",
    "So we change the 0 value to 2 - makes subsequent analysis easier."
   ]
  },
  {
   "cell_type": "code",
   "execution_count": 716,
   "metadata": {
    "vscode": {
     "languageId": "r"
    }
   },
   "outputs": [],
   "source": [
    "if (Setup == 'Y'){\n",
    "    dta_raw$q4001 <- replace(dta_raw$q4001, dta_raw$q4001==0, 2)\n",
    "    dta_raw$q4014 <- replace(dta_raw$q4014, dta_raw$q4014==0, 2)\n",
    "    dta_raw$q4033 <- replace(dta_raw$q4033, dta_raw$q4033==0, 2)\n",
    "    dta_raw$q4040 <- replace(dta_raw$q4040, dta_raw$q4040==0, 2)\n",
    "    dta_raw$q4060 <- replace(dta_raw$q4060, dta_raw$q4060==0, 2)\n",
    "}"
   ]
  },
  {
   "attachments": {},
   "cell_type": "markdown",
   "metadata": {},
   "source": [
    "## Correct questions missing labels\n",
    "q1016 and q4033 had no labels attatched"
   ]
  },
  {
   "cell_type": "code",
   "execution_count": 717,
   "metadata": {
    "vscode": {
     "languageId": "r"
    }
   },
   "outputs": [],
   "source": [
    "if (Setup == 'Y'){  \n",
    "    attr(dta_raw$q4033, 'class') <- attr(dta_raw$q4022, 'class') \n",
    "    attr(dta_raw$q4033, 'format.stata') <- attr(dta_raw$q4022, 'format.stata') \n",
    "    attr(dta_raw$q4033, 'labels') <- attr(dta_raw$q4022, 'labels') \n",
    "}\n",
    "\n",
    "if (Setup == 'Y'){\n",
    "    attributes(dta_raw$q1016_) <- attributes(dta_raw$q1028)\n",
    "    attr(dta_raw$q1016_, 'label') <- 'Level of Education'\n",
    "}"
   ]
  },
  {
   "attachments": {},
   "cell_type": "markdown",
   "metadata": {},
   "source": [
    "## Correct question 5053\n",
    "q5053 has 2 associated columns, the correct one being q5053_new, as the labels on 5053 are incorrect"
   ]
  },
  {
   "cell_type": "code",
   "execution_count": 718,
   "metadata": {
    "vscode": {
     "languageId": "r"
    }
   },
   "outputs": [],
   "source": [
    "if (Setup == 'Y'){\n",
    "    dta_raw$q5053<-dta_raw$q5053_new\n",
    "    dta_raw <- subset(dta_raw , select = -c(q5053_new))\n",
    "}"
   ]
  },
  {
   "attachments": {},
   "cell_type": "markdown",
   "metadata": {},
   "source": [
    "## Correct question 7010\n",
    "q7010 has 68 labelled as 'Don't know' value as opposed to 8"
   ]
  },
  {
   "cell_type": "code",
   "execution_count": 719,
   "metadata": {
    "vscode": {
     "languageId": "r"
    }
   },
   "outputs": [],
   "source": [
    "if (Setup == 'Y'){\n",
    "    dta_raw$q7010 <- replace(dta_raw$q7010, dta_raw$q7010==8, 68)\n",
    "}"
   ]
  },
  {
   "attachments": {},
   "cell_type": "markdown",
   "metadata": {},
   "source": [
    "## Rename Columns\n",
    "Some questions do not have meaningful names associated with them"
   ]
  },
  {
   "cell_type": "code",
   "execution_count": 720,
   "metadata": {
    "vscode": {
     "languageId": "r"
    }
   },
   "outputs": [],
   "source": [
    "if (Setup == 'Y'){\n",
    "    attr(dta_raw$q8062, 'label') <- 'Community Support'\n",
    "    attr(dta_raw$q0105a, 'label')<- 'Region'\n",
    "}"
   ]
  },
  {
   "attachments": {},
   "cell_type": "markdown",
   "metadata": {},
   "source": [
    "## Rename Factors\n",
    "Some factors are misspelt / formatted"
   ]
  },
  {
   "cell_type": "code",
   "execution_count": 721,
   "metadata": {
    "vscode": {
     "languageId": "r"
    }
   },
   "outputs": [],
   "source": [
    "if (Setup == 'Y'){\n",
    "    levels(dta_raw$q0105a)<-list(\"Assam\"=c(\"ASSAM\"),\"Karnataka\"=c(\"KARNATAKA\"), \"Maharashtra\"=c('MAHARASHTRA'), \"Rajasthan\"=c(\"RAJASTHAN\"), \"Uttar Pradesh\"=c(\"UTTAR PRADESH\"), \"West Bengal\"=c(\"WEST BENGAL\"))\n",
    "}"
   ]
  },
  {
   "attachments": {},
   "cell_type": "markdown",
   "metadata": {},
   "source": [
    "## Save edited dta"
   ]
  },
  {
   "cell_type": "code",
   "execution_count": 722,
   "metadata": {
    "vscode": {
     "languageId": "r"
    }
   },
   "outputs": [],
   "source": [
    "if (Setup == 'Y'){\n",
    "    write_dta(\n",
    "    dta_raw,\n",
    "    'dta_edit.dta'\n",
    "    )\n",
    "} else {\n",
    "    dta_raw <- read_dta(\"dta_edit.dta\")\n",
    "}"
   ]
  },
  {
   "attachments": {},
   "cell_type": "markdown",
   "metadata": {},
   "source": [
    "## Data refactoring\n",
    "\n",
    "As the data is in a haven structure we can 'zap' the labels to obtain the values per se"
   ]
  },
  {
   "cell_type": "code",
   "execution_count": 723,
   "metadata": {
    "vscode": {
     "languageId": "r"
    }
   },
   "outputs": [],
   "source": [
    "data <- haven::as_factor(dta_raw, levels = \"default\")\n",
    "write.csv(data,\"SAGE_India_W2_IND_Data_Cleaned.csv\")"
   ]
  },
  {
   "attachments": {},
   "cell_type": "markdown",
   "metadata": {},
   "source": [
    "# Preparing data for analysis\n",
    "The creation of morbidity and multiadherence metrics, and regrouping of other factors"
   ]
  },
  {
   "attachments": {},
   "cell_type": "markdown",
   "metadata": {},
   "source": [
    "## Creating Morbidity and Adherence Metrics"
   ]
  },
  {
   "attachments": {},
   "cell_type": "markdown",
   "metadata": {},
   "source": [
    "Creation of an alternative string count function to ignore NA values"
   ]
  },
  {
   "cell_type": "code",
   "execution_count": 724,
   "metadata": {
    "vscode": {
     "languageId": "r"
    }
   },
   "outputs": [],
   "source": [
    "string_count <- function(string, search){\n",
    "    count = str_count(string, search)\n",
    "    count <- ifelse(is.na(count), 0, count)\n",
    "    return(count)\n",
    "}"
   ]
  },
  {
   "attachments": {},
   "cell_type": "markdown",
   "metadata": {},
   "source": [
    "### Calculation of Morbidity and Multimorbidity statistics\n",
    "\n",
    "This counts the number of chronic diseases of each respondent (`count_diseases`). If this is 1 or greater, the respondent is classed as having any morbidity. If this is 2 or greater, they are counted as having multimorbidity, and if it is 3 or greater, classed as having complex multimorbidity."
   ]
  },
  {
   "cell_type": "code",
   "execution_count": 725,
   "metadata": {
    "vscode": {
     "languageId": "r"
    }
   },
   "outputs": [],
   "source": [
    "#disease\n",
    "data <- data %>%\n",
    " mutate(count_diseases = string_count(q4010, \"Yes\") + string_count(q4014, \"Yes\")+ string_count(q4022, \"Yes\")+string_count(q4033, \"Yes\")+string_count(q4025, \"Yes\")+string_count(q4040, \"Yes\")+string_count(q4060, \"Yes\")) %>% \n",
    " mutate(anymorbidity = case_when (count_diseases >= 1 ~ \"Yes\", count_diseases < 1 ~ \"No\")) %>%\n",
    " mutate(multimorbidity = case_when (count_diseases >= 2 ~ \"Yes\", count_diseases < 2 ~ \"No\")) %>%\n",
    " mutate(complex_multimorbidity = case_when (count_diseases > 2 ~ \"Yes\", count_diseases <= 2 ~ \"No\"))\n",
    " \n",
    "\n",
    "attr(data$count_diseases, 'label') <- 'Number of Chronic Conditions'\n",
    "attr(data$anymorbidity, 'label') <- 'Any Morbidity'\n",
    "attr(data$complex_multimorbidity, 'label') <- 'Complex Multimorbidity'\n",
    "attr(data$multimorbidity, 'label') <- 'Multimorbidity'"
   ]
  },
  {
   "attachments": {},
   "cell_type": "markdown",
   "metadata": {},
   "source": [
    "### Calculation of Partial and Complete Adherence statistics\n",
    "This counts the number of chronic diseases to which the respondent said they had taken medication for over the past two weeks (`count_adh`). If this is greater than 0, the respondent is classed as having any partial adherence. If this is equal to the number of chronic conditions with which they are diagnosed (`count_diseases`), they are counted as having complete adherence."
   ]
  },
  {
   "cell_type": "code",
   "execution_count": 726,
   "metadata": {
    "vscode": {
     "languageId": "r"
    }
   },
   "outputs": [],
   "source": [
    "data <- data %>%\n",
    " mutate(count_adh = string_count(q4011a, \"Yes\") + string_count(q4015a, \"Yes\")+ string_count(q4023a, \"Yes\")+string_count(q4034a, \"Yes\")+string_count(q4026a, \"Yes\")+string_count(q4041a, \"Yes\")+string_count(q4061a, \"Yes\")) %>% \n",
    " mutate(complete_adherence = case_when (count_diseases == count_adh ~ \"Yes\", count_diseases != count_adh  ~ \"No\")) %>%\n",
    " mutate(partial_adherence = case_when (count_adh > 0 ~ \"Yes\", count_adh <= 0 ~ \"No\"))\n",
    "\n",
    "attr(data$complete_adherence, 'label') <- 'Complete Adherence'\n",
    "attr(data$partial_adherence, 'label') <- 'Partial Adherence'\n"
   ]
  },
  {
   "cell_type": "code",
   "execution_count": 727,
   "metadata": {
    "vscode": {
     "languageId": "r"
    }
   },
   "outputs": [],
   "source": [
    "attr(data$complete_adherence, 'levels') <- attr(data$q4011a, 'levels') \n",
    "data$complete_adherence  <- factor(data$complete_adherence )\n",
    "attr(data$complete_adherence, 'label') <- 'Complete Adherence'"
   ]
  },
  {
   "attachments": {},
   "cell_type": "markdown",
   "metadata": {},
   "source": [
    "## Create Age Categories\n",
    "\n",
    "Thse age categories are the same as those used in the [original SAGE2 paper](https://iipsindia.ac.in/sites/default/files/other_files/WHO-SAGE_Wave-2_India_Report.pdf)\n",
    "\n",
    "* < 50 (classed as younger adults)\n",
    "\n",
    "* \\>=50 (classed as older adults)"
   ]
  },
  {
   "cell_type": "code",
   "execution_count": 728,
   "metadata": {
    "vscode": {
     "languageId": "r"
    }
   },
   "outputs": [],
   "source": [
    "data <- data %>% mutate(age_category = case_when(q1011 < 50 ~ '<50',\n",
    "                                             q1011 >= 50   ~ '>=50'\n",
    "                                             ))\n",
    "\n",
    "\n",
    "data$age_category  <- factor(data$age_category)\n",
    "attr(data$age_category, 'label') <- 'Age Group'"
   ]
  },
  {
   "attachments": {},
   "cell_type": "markdown",
   "metadata": {},
   "source": [
    "## Regroup Variables"
   ]
  },
  {
   "cell_type": "code",
   "execution_count": 729,
   "metadata": {
    "vscode": {
     "languageId": "r"
    }
   },
   "outputs": [],
   "source": [
    "levels(data$q1016_)<- list(\"Less than primary school/don't know\"=c(\"No formal education\",\"Less than primary school\",\"Don't know\"), \"Secondary school and below\"=c(\"Primary school completed\",\"Secondary school completed\"), \"Past secondary school\"=c(\"High school(or equivalent) completed\",\"College/pre-university/uiversity completed\",\"Post-graduate completed\"))\n",
    "levels(data$q1019_)<-list(\"Hinduism\"=c(\"Hinduism\"),\"Islam\"=c(\"Islam\"),\"Other / None\"=c('Buddhism','Chinese traditional religion','Christianoty','Jainism','Judaism','Primal Indigenous','Sikhism','Others', 'No/None', \"Refused\"))\n",
    "levels(data$q5004)<-list(\"Private\"=c('Private doctor\\'s office','Private clinic/Health care facility','Private hospitals'), \"Public\"=c('Public clinic/Health care facility','Public hospital'),\"Community\"=c('Charity/Church run clinic','Charity/Church run hospital',\"Traditional healer\", 'Pharmacy/Dispensary'),\"Other\"=c(\"Others\"))\n",
    "levels(data$q1012)<-list(\"Currently Married\"=c(\"Currently Married\"), \"Not Currently Married\"=c('Never Married','Cohabiting','Separated/Divorced','Widowed'))\n",
    "levels(data$q1018_)<- list(\"Schedule Tribe\"=c('Schedule Tribe'), \"Schedule Caste\"=c('Schedule Caste'), \"Others\"=c('Other Backward Caste','None of the Above','Others', 'Dont Know'))"
   ]
  },
  {
   "attachments": {},
   "cell_type": "markdown",
   "metadata": {},
   "source": [
    "### Futher Regrouping\n",
    "\n",
    "For the following questions, the extreme categories tend to have very few respondants. As such, these categories are regrouped into Bad, encompassing moderate severe and extreme, and None/Mild for none/mild "
   ]
  },
  {
   "cell_type": "code",
   "execution_count": 730,
   "metadata": {
    "vscode": {
     "languageId": "r"
    }
   },
   "outputs": [],
   "source": [
    "levels(data$q2002) <- list(\"Moderate or worse\"=c(\"Moderate\", \"Severe\", \"Extreme/Cannot do\"),\"None/Mild\"=c(\"None\",\"Mild\")) \n",
    "levels(data$q2018) <- list(\"Moderate or worse\"=c(\"Moderate\", \"Severe\", \"Extreme/Cannot do\"),\"None/Mild\"=c(\"None\",\"Mild\")) \n",
    "levels(data$q2019) <- list(\"Moderate or worse\"=c(\"Moderate\", \"Severe\", \"Extreme/Cannot do\"),\"None/Mild\"=c(\"None\",\"Mild\")) \n",
    "levels(data$q2010) <- list(\"Moderate or worse\"=c(\"Moderate\", \"Severe\", \"Extreme/Cannot do\"),\"None/Mild\"=c(\"None\",\"Mild\")) "
   ]
  },
  {
   "attachments": {},
   "cell_type": "markdown",
   "metadata": {},
   "source": [
    "For the following questions, the extreme categories tend to have very few respondants. As such, these categories are regrouped into Poor, encompassing moderate, bad and very bad, and Good for Very good and Good"
   ]
  },
  {
   "cell_type": "code",
   "execution_count": 731,
   "metadata": {
    "vscode": {
     "languageId": "r"
    }
   },
   "outputs": [],
   "source": [
    "levels(data$q2000)<- list(\"Poor\"=c(\"Bad\", \"Very Bad\", \"Moderate\"),\"Good\"=c(\"Good\",\"Very good\"))"
   ]
  },
  {
   "attachments": {},
   "cell_type": "markdown",
   "metadata": {},
   "source": [
    "## Set reference levels"
   ]
  },
  {
   "cell_type": "code",
   "execution_count": 732,
   "metadata": {
    "vscode": {
     "languageId": "r"
    }
   },
   "outputs": [],
   "source": [
    "label.4040 <- attr(data$q4040, 'label') \n",
    "label.4062 <- attr(data$q4062, 'label') \n",
    "label.3001 <- attr(data$q3001, 'label') \n",
    "label.2018 <- attr(data$q2018, 'label') \n",
    "label.2019 <- attr(data$q2019, 'label') \n",
    "label.quintile <- attr(data$quintile, 'label') "
   ]
  },
  {
   "cell_type": "code",
   "execution_count": 733,
   "metadata": {
    "vscode": {
     "languageId": "r"
    }
   },
   "outputs": [],
   "source": [
    "data <- within(data, q4040 <- relevel(q4040, ref = 'No'))\n",
    "data <- within(data, q4062 <- relevel(q4062, ref = 'No'))\n",
    "data <- within(data, q3001 <- relevel(q3001, ref = 'No'))\n",
    "data <- within(data, q2018 <- relevel(q2018, ref = 'None/Mild'))\n",
    "data <- within(data, q2019 <- relevel(q2019, ref = 'None/Mild'))\n",
    "data$quintile <- as.factor(data$quintile)"
   ]
  },
  {
   "cell_type": "code",
   "execution_count": 734,
   "metadata": {
    "vscode": {
     "languageId": "r"
    }
   },
   "outputs": [],
   "source": [
    "attr(data$q4040, 'label') <- label.4040\n",
    "attr(data$q4062, 'label') <-  label.4062\n",
    "attr(data$q3001, 'label')  <- label.3001\n",
    "attr(data$q2018, 'label')  <- label.2018\n",
    "attr(data$q2019, 'label')  <- label.2019\n",
    "attr(data$quintile, 'label')  <- label.quintile"
   ]
  },
  {
   "attachments": {},
   "cell_type": "markdown",
   "metadata": {},
   "source": [
    "# Restrict Data\n",
    "\n",
    "Include only those people who answered the survey"
   ]
  },
  {
   "cell_type": "code",
   "execution_count": 735,
   "metadata": {
    "vscode": {
     "languageId": "r"
    }
   },
   "outputs": [],
   "source": [
    "data <- data[!is.na(data$pweight),]"
   ]
  },
  {
   "attachments": {},
   "cell_type": "markdown",
   "metadata": {},
   "source": [
    "# Create Survey Design\n",
    "Create survey design object encoding weights and PSU's"
   ]
  },
  {
   "cell_type": "code",
   "execution_count": 736,
   "metadata": {
    "vscode": {
     "languageId": "r"
    }
   },
   "outputs": [],
   "source": [
    "surveyDesign <- svydesign(ids=~q0101b, weights=~pweight, data=data)\n",
    "SurveyDesign <- surveyDesign"
   ]
  },
  {
   "attachments": {},
   "cell_type": "markdown",
   "metadata": {},
   "source": [
    "## Subset of survey design\n",
    "Create a survey design object that is a subset of those with any chronic condition. When both exists, survey design objects will be `PascalCase` whilst their corresponding dataframes will be `camelCase`"
   ]
  },
  {
   "cell_type": "code",
   "execution_count": 737,
   "metadata": {
    "vscode": {
     "languageId": "r"
    }
   },
   "outputs": [],
   "source": [
    "Morbidity <- subset(surveyDesign, anymorbidity == 'Yes') #survey design object\n",
    "morbidity <-as.data.frame(subset(data, data$anymorbidity==\"Yes\")) # dataframe \n",
    "\n",
    "Multimorbid       <-subset(Morbidity, multimorbidity== 'Yes')\n",
    "multimorbid       <-as.data.frame(subset(morbidity, morbidity$multimorbidity==\"Yes\")) \n",
    "\n",
    "Unimorbid      <-subset(Morbidity, multimorbidity== 'No')\n",
    "unimorbid      <-as.data.frame(subset(morbidity, morbidity$multimorbidity==\"No\")) \n",
    "\n",
    "Check             <- subset(surveyDesign, q1011 >= 50) # this exists to be able to compare specific results with those in the SAGE2 India paper, to confirm the analysis done in this code\n",
    "\n",
    "Stroke            <- subset(surveyDesign, q4010== 'Yes')\n",
    "Angina            <- subset(surveyDesign, q4014== 'Yes')\n",
    "Diabetes          <- subset(surveyDesign, q4022== 'Yes')\n",
    "LungDisease       <- subset(surveyDesign, q4025== 'Yes')\n",
    "Asthma            <- subset(surveyDesign, q4033== 'Yes')\n",
    "Depression        <- subset(surveyDesign, q4040== 'Yes')\n",
    "Hypertension <- subset(surveyDesign, q4060== 'Yes')\n",
    "\n",
    "stroke           <-as.data.frame(subset(data, data$q4010==\"Yes\"))\n",
    "angina           <-as.data.frame(subset(data, data$q4014==\"Yes\"))\n",
    "diabetes         <-as.data.frame(subset(data, data$q4022==\"Yes\"))\n",
    "lungDisease      <-as.data.frame(subset(data, data$q4025==\"Yes\"))\n",
    "asthma           <-as.data.frame(subset(data, data$q4033==\"Yes\"))\n",
    "depression       <-as.data.frame(subset(data, data$q4040==\"Yes\"))\n",
    "hypertension     <-as.data.frame(subset(data, data$q4060==\"Yes\"))"
   ]
  },
  {
   "attachments": {},
   "cell_type": "markdown",
   "metadata": {},
   "source": [
    "# Functions for analysis"
   ]
  },
  {
   "attachments": {},
   "cell_type": "markdown",
   "metadata": {},
   "source": [
    "The function `weightedBVCalc` shows the distribution of characteristics for both the adherent and non adherent group and calculates the significance level. For continuous variables the significance level is calculated using the **Welch Two Sample t-test**, whilst for discrete variables this is calculated using the **chi-square test**. It also removes empty categories from the final display. It utilises the survey weights in this analysis"
   ]
  },
  {
   "cell_type": "code",
   "execution_count": 738,
   "metadata": {
    "vscode": {
     "languageId": "r"
    }
   },
   "outputs": [],
   "source": [
    "weightedBVCalc <- function(variable, disease, adherenceQ){\n",
    "    Name <- attr(morbidity[ ,variable[1]], \"label\")\n",
    "   # print(Name)\n",
    "\n",
    "    \n",
    "    if (variable[2] == \"D\"){\n",
    "        #print('Here')\n",
    "        tableText <- paste0('svytable(~', variable[1], '+', adherenceQ, ', design = disease )')\n",
    "        #print(tableText)\n",
    "        AnalysisTable <- eval(parse(text=tableText))\n",
    "        #print(AnalysisTable)\n",
    "        AnalysisTable <- AnalysisTable[,c('No', 'Yes')]\n",
    "        AnalysisTable <- AnalysisTable[rowSums(AnalysisTable[])>0,] # remove empty rows\n",
    "        PropTable <- 100*prop.table(AnalysisTable, margin = 2)\n",
    "        pText <- paste0('svychisq(~',variable[1], '+', adherenceQ, \", disease, statistic = 'adjWald')$p.value\")\n",
    "       # print(pText)\n",
    "        p.value <- eval(parse(text=pText))\n",
    "        #print(p.value)\n",
    "        if (p.value < 0.001){\n",
    "            p.value <- paste('<0.001')\n",
    "        } else {\n",
    "            p.value <- paste(round(p.value, 3))\n",
    "        }\n",
    "        RowNames <- row.names(PropTable)\n",
    "        Title <- c(paste(Name, ' %', sep = '' ), '----', '----', p.value)\n",
    "        fx <- lapply(RowNames, function(x) {\n",
    "            name <- paste0('~~~', x, sep = '')\n",
    "            nonAdhering <- paste(round(PropTable[x, 'No'], 2), ' %', sep = '')\n",
    "            adhering <- paste(round(PropTable[x, 'Yes'], 2), ' %', sep = '')\n",
    "            pval = paste('--')\n",
    "            data.frame(\n",
    "                Name = name,\n",
    "                Nonadhering = nonAdhering,\n",
    "                Adhering = adhering,\n",
    "                Pvalue = pval,\n",
    "                stringsAsFactors=FALSE\n",
    "        )\n",
    "        })\n",
    "        output_dataframe <- do.call(rbind, fx)\n",
    "        output_dataframe <- rbind(Title, output_dataframe)        \n",
    "    }\n",
    "    if (variable[2] == \"C\"){ #t-test is applicable here https://thestatsgeek.com/2013/09/28/the-t-test-and-robustness-to-non-normality/\n",
    "        nonAdhering <- paste(signif(svyby(~eval(parse(text = variable[1])), ~eval(parse(text = adherenceQ)), disease, svymean, na = TRUE)['No',2],2), \n",
    "        ' (',signif(sqrt(svyby(~eval(parse(text = variable[1])), ~eval(parse(text = adherenceQ)), disease, svyvar, na = TRUE)['No',2]),2) , ')', sep = '')\n",
    "        adhering <- paste(signif(svyby(~eval(parse(text = variable[1])), ~eval(parse(text = adherenceQ)), disease, svymean, na = TRUE)['Yes',2],2), \n",
    "        ' (',signif(sqrt(svyby(~eval(parse(text = variable[1])), ~eval(parse(text = adherenceQ)), disease, svyvar, na = TRUE)['Yes',2]),2) , ')', sep = '')\n",
    "       # print(variable[1])\n",
    "       # print(adherenceQ)\n",
    "        ttext <- paste0('svyttest(', variable[1],'~', adherenceQ, ', disease, var.equal = FALSE)$p.value')\n",
    "       # print(ttext)\n",
    "        p.value <- eval(parse(text = ttext))\n",
    "        if (p.value < 0.001){\n",
    "            p.value <- paste('<0.001')\n",
    "        } else {\n",
    "            p.value <- paste(round(p.value, 3))\n",
    "        }\n",
    "        Title <- data.frame(\n",
    "                Name = paste(Name, ' [mean (SD)]', sep = '' ),\n",
    "                Nonadhering = nonAdhering,\n",
    "                Adhering = adhering,\n",
    "                Pvalue = p.value,\n",
    "                stringsAsFactors=FALSE\n",
    "        )\n",
    "        output_dataframe <- Title   \n",
    "    }\n",
    "\n",
    "    \n",
    "\n",
    "    output_dataframe           \n",
    "\n",
    "}"
   ]
  },
  {
   "attachments": {},
   "cell_type": "markdown",
   "metadata": {},
   "source": [
    "The function `weightedPropFunc` shows the distribution of answers for a Yes or No question, in a subset of the data, using survey weights"
   ]
  },
  {
   "cell_type": "code",
   "execution_count": 739,
   "metadata": {
    "vscode": {
     "languageId": "r"
    }
   },
   "outputs": [],
   "source": [
    "weightedPropFunc <- function(diseaseStr, question){\n",
    "    #diseaseStr <- str_to_title(diseaseStr)\n",
    "    diseaseStr <-  paste0(toupper(substr(diseaseStr, 1, 1)), substr(diseaseStr, 2, nchar(diseaseStr)))\n",
    "    # disease <- eval(parse(text = diseaseStr))\n",
    "    name <- diseaseStr\n",
    "    tableText <- paste0('svytable(~', question,  ', design =', diseaseStr, ', addNA = F)')\n",
    "    #print(tableText)\n",
    "    AnalysisTable <- eval(parse(text = tableText))\n",
    "    #AnalysisTable <- AnalysisTable[c('No', 'Yes')]\n",
    "    PropTable <- prop.table(AnalysisTable)\n",
    "    #print(PropTable)\n",
    "\n",
    "    \n",
    "    output_dataframe <- data.frame(\n",
    "                Name = name,\n",
    "                No = paste(round(100*PropTable['No'],2), ' %', sep = ''),\n",
    "                Yes = paste(round(100*PropTable['Yes'],2), ' %', sep = ''),\n",
    "                stringsAsFactors=FALSE\n",
    "        )\n",
    "    \n",
    "\n",
    "    output_dataframe           \n",
    "\n",
    "}"
   ]
  },
  {
   "attachments": {},
   "cell_type": "markdown",
   "metadata": {},
   "source": [
    "# Initial Variables for Analysis\n",
    "\n",
    "These are the factors which we are initially investigating"
   ]
  },
  {
   "cell_type": "code",
   "execution_count": 740,
   "metadata": {
    "vscode": {
     "languageId": "r"
    }
   },
   "outputs": [],
   "source": [
    "# D, C for discrete vs continuous\n",
    "\n",
    "VariableList <- matrix(\n",
    "\n",
    "    c(  \"q1011\", \"C\", #age\n",
    "        \"age_category\", \"D\", #age category\n",
    "        \"q1009\",  \"D\", # gender\n",
    "        \"quintile\",\"D\", #wealth quintile     \n",
    "        #\"wealthscore\",\"C\", #wealth score    \n",
    "        \"count_diseases\", \"C\", #Number of Morbidities        \n",
    "        \"q0104\",  \"D\", # rural/urban\n",
    "        \"q0105a\", \"D\", # state   \n",
    "        \"q1012\",  \"D\", # current marital status         \n",
    "        \"q1019_\", \"D\", # Religion        \n",
    "        \"q1018_\", \"D\", # Caste        \n",
    "        \"q3001\", \"D\", #tobacco        \n",
    "        \"q3008\", \"D\", #alcohol\n",
    "        \"q2000\", \"D\", #self reported health\n",
    "        \"q2010\", \"D\", #cognitive function\n",
    "        \"q2002\", \"D\", #physical function\n",
    "        \"q8062\", \"D\", #community support\n",
    "        \"q1503\", \"D\", #working\n",
    "        \"q5004\", \"D\", #PHC\n",
    "        \"q1015\",  \"D\", # schooling\n",
    "        \"q1016_\", \"D\", # Highest level of schooling\n",
    "        \"q2018\",  \"D\", # Depression, last 30 days\n",
    "        \"q4040\",  \"D\", # Clinical Depression\n",
    "        \"q2019\",  \"D\", # Anxiety\n",
    "        \"q4062\",  \"D\",  # Cataracts\n",
    "        \"q7002\", \"D\" #Subjective wealth\n",
    "), ncol = 2, byrow = TRUE\n",
    ")"
   ]
  },
  {
   "attachments": {},
   "cell_type": "markdown",
   "metadata": {},
   "source": [
    "# Analysis"
   ]
  },
  {
   "attachments": {},
   "cell_type": "markdown",
   "metadata": {},
   "source": [
    "## Initial bivariate analysis\n",
    "Select the portion of the survey population who are diagnosed with one or more chronic diseases"
   ]
  },
  {
   "cell_type": "code",
   "execution_count": 741,
   "metadata": {
    "vscode": {
     "languageId": "r"
    }
   },
   "outputs": [
    {
     "data": {
      "text/html": [
       "<table class=\"dataframe\">\n",
       "<caption>A data.frame: 86 × 4</caption>\n",
       "<thead>\n",
       "\t<tr><th scope=col>Name</th><th scope=col>Nonadhering</th><th scope=col>Adhering</th><th scope=col>Pvalue</th></tr>\n",
       "\t<tr><th scope=col>&lt;chr&gt;</th><th scope=col>&lt;chr&gt;</th><th scope=col>&lt;chr&gt;</th><th scope=col>&lt;chr&gt;</th></tr>\n",
       "</thead>\n",
       "<tbody>\n",
       "\t<tr><td>Age in Years [mean (SD)]                </td><td>60 (13)   </td><td>61 (11)  </td><td>0.024 </td></tr>\n",
       "\t<tr><td><span style=white-space:pre-wrap>Age Group %                             </span></td><td><span style=white-space:pre-wrap>----      </span></td><td><span style=white-space:pre-wrap>----     </span></td><td>&lt;0.001</td></tr>\n",
       "\t<tr><td><span style=white-space:pre-wrap>~~~&lt;50                                  </span></td><td><span style=white-space:pre-wrap>16.62 %   </span></td><td><span style=white-space:pre-wrap>10.53 %  </span></td><td><span style=white-space:pre-wrap>--    </span></td></tr>\n",
       "\t<tr><td><span style=white-space:pre-wrap>~~~&gt;=50                                 </span></td><td><span style=white-space:pre-wrap>83.38 %   </span></td><td><span style=white-space:pre-wrap>89.47 %  </span></td><td><span style=white-space:pre-wrap>--    </span></td></tr>\n",
       "\t<tr><td>Sex of the respondent %                 </td><td>----      </td><td>----     </td><td>0.426 </td></tr>\n",
       "\t<tr><td>~~~Male                                 </td><td>45.68 %   </td><td>47.44 %  </td><td>--    </td></tr>\n",
       "\t<tr><td>~~~Female                               </td><td>54.32 %   </td><td>52.56 %  </td><td>--    </td></tr>\n",
       "\t<tr><td>5 quantiles of wealthscore %            </td><td>----      </td><td>----     </td><td>0.008 </td></tr>\n",
       "\t<tr><td>~~~1                                    </td><td>17.59 %   </td><td>12.48 %  </td><td>--    </td></tr>\n",
       "\t<tr><td>~~~2                                    </td><td>17.54 %   </td><td>13.92 %  </td><td>--    </td></tr>\n",
       "\t<tr><td>~~~3                                    </td><td>15.73 %   </td><td>18.9 %   </td><td>--    </td></tr>\n",
       "\t<tr><td>~~~4                                    </td><td>21.53 %   </td><td>21.72 %  </td><td>--    </td></tr>\n",
       "\t<tr><td>~~~5                                    </td><td>27.61 %   </td><td>32.99 %  </td><td>--    </td></tr>\n",
       "\t<tr><td>Number of Chronic Conditions [mean (SD)]</td><td>1.5 (0.74)</td><td>1.2 (0.5)</td><td>&lt;0.001</td></tr>\n",
       "\t<tr><td>Place of residence %                    </td><td>----      </td><td>----     </td><td>0.006 </td></tr>\n",
       "\t<tr><td>~~~Urban                                </td><td>27.02 %   </td><td>37.1 %   </td><td>--    </td></tr>\n",
       "\t<tr><td>~~~Rural                                </td><td>72.98 %   </td><td>62.9 %   </td><td>--    </td></tr>\n",
       "\t<tr><td><span style=white-space:pre-wrap>Region %                                </span></td><td><span style=white-space:pre-wrap>----      </span></td><td><span style=white-space:pre-wrap>----     </span></td><td>&lt;0.001</td></tr>\n",
       "\t<tr><td>~~~ASSAM                                </td><td>11.71 %   </td><td>4.1 %    </td><td>--    </td></tr>\n",
       "\t<tr><td>~~~KARNATAKA                            </td><td>9.15 %    </td><td>17.36 %  </td><td>--    </td></tr>\n",
       "\t<tr><td>~~~MAHARASHTRA                          </td><td>19.21 %   </td><td>17.72 %  </td><td>--    </td></tr>\n",
       "\t<tr><td>~~~RAJASTHAN                            </td><td>19.85 %   </td><td>12.04 %  </td><td>--    </td></tr>\n",
       "\t<tr><td>~~~UTTAR PRADESH                        </td><td>21.59 %   </td><td>21.65 %  </td><td>--    </td></tr>\n",
       "\t<tr><td>~~~WEST BENGAL                          </td><td>18.49 %   </td><td>27.14 %  </td><td>--    </td></tr>\n",
       "\t<tr><td>Current Marital Status %                </td><td>----      </td><td>----     </td><td>0.404 </td></tr>\n",
       "\t<tr><td>~~~Currently Married                    </td><td>74.24 %   </td><td>75.87 %  </td><td>--    </td></tr>\n",
       "\t<tr><td>~~~Not Currently Married                </td><td>25.76 %   </td><td>24.13 %  </td><td>--    </td></tr>\n",
       "\t<tr><td>Religion %                              </td><td>----      </td><td>----     </td><td>0.231 </td></tr>\n",
       "\t<tr><td>~~~Hinduism                             </td><td>82.31 %   </td><td>84.43 %  </td><td>--    </td></tr>\n",
       "\t<tr><td>~~~Islam                                </td><td>12.96 %   </td><td>12.49 %  </td><td>--    </td></tr>\n",
       "\t<tr><td>⋮</td><td>⋮</td><td>⋮</td><td>⋮</td></tr>\n",
       "\t<tr><td>Health care provider %                      </td><td>----   </td><td>----   </td><td>0.214 </td></tr>\n",
       "\t<tr><td>~~~Private                                  </td><td>66.4 % </td><td>69.62 %</td><td>--    </td></tr>\n",
       "\t<tr><td>~~~Public                                   </td><td>26.39 %</td><td>22.67 %</td><td>--    </td></tr>\n",
       "\t<tr><td>~~~Community                                </td><td>3.92 % </td><td>5.25 % </td><td>--    </td></tr>\n",
       "\t<tr><td>~~~Other                                    </td><td>3.29 % </td><td>2.46 % </td><td>--    </td></tr>\n",
       "\t<tr><td><span style=white-space:pre-wrap>Ever Been to School %                       </span></td><td><span style=white-space:pre-wrap>----   </span></td><td><span style=white-space:pre-wrap>----   </span></td><td>&lt;0.001</td></tr>\n",
       "\t<tr><td>~~~Yes                                      </td><td>58.65 %</td><td>66.27 %</td><td>--    </td></tr>\n",
       "\t<tr><td>~~~No                                       </td><td>41.35 %</td><td>33.73 %</td><td>--    </td></tr>\n",
       "\t<tr><td>Level of Education %                        </td><td>----   </td><td>----   </td><td>0.315 </td></tr>\n",
       "\t<tr><td>~~~Less than primary school/don't know      </td><td>23.16 %</td><td>23.72 %</td><td>--    </td></tr>\n",
       "\t<tr><td>~~~Secondary school and below               </td><td>48.12 %</td><td>43.45 %</td><td>--    </td></tr>\n",
       "\t<tr><td>~~~Past secondary school                    </td><td>28.73 %</td><td>32.83 %</td><td>--    </td></tr>\n",
       "\t<tr><td>Feeling sad/low/depression %                </td><td>----   </td><td>----   </td><td>0.012 </td></tr>\n",
       "\t<tr><td>~~~None/Mild                                </td><td>69.97 %</td><td>75.24 %</td><td>--    </td></tr>\n",
       "\t<tr><td>~~~Moderate or worse                        </td><td>30.03 %</td><td>24.76 %</td><td>--    </td></tr>\n",
       "\t<tr><td><span style=white-space:pre-wrap>Self reported prevalence of depression %    </span></td><td><span style=white-space:pre-wrap>----   </span></td><td><span style=white-space:pre-wrap>----   </span></td><td>&lt;0.001</td></tr>\n",
       "\t<tr><td>~~~No                                       </td><td>89.24 %</td><td>96.21 %</td><td>--    </td></tr>\n",
       "\t<tr><td>~~~Yes                                      </td><td>10.76 %</td><td>3.79 % </td><td>--    </td></tr>\n",
       "\t<tr><td>Worry or anxiety %                          </td><td>----   </td><td>----   </td><td>0.005 </td></tr>\n",
       "\t<tr><td>~~~None/Mild                                </td><td>57.03 %</td><td>64.53 %</td><td>--    </td></tr>\n",
       "\t<tr><td>~~~Moderate or worse                        </td><td>42.97 %</td><td>35.47 %</td><td>--    </td></tr>\n",
       "\t<tr><td>Cataracts- New Sample (Chronic Conditions) %</td><td>----   </td><td>----   </td><td>0.831 </td></tr>\n",
       "\t<tr><td>~~~No                                       </td><td>76.05 %</td><td>75.53 %</td><td>--    </td></tr>\n",
       "\t<tr><td>~~~Yes                                      </td><td>23.95 %</td><td>24.47 %</td><td>--    </td></tr>\n",
       "\t<tr><td>Money to meed needs %                       </td><td>----   </td><td>----   </td><td>0.795 </td></tr>\n",
       "\t<tr><td>~~~Completely                               </td><td>8.51 % </td><td>9.53 % </td><td>--    </td></tr>\n",
       "\t<tr><td>~~~Mostly                                   </td><td>15.64 %</td><td>17.61 %</td><td>--    </td></tr>\n",
       "\t<tr><td>~~~Moderately                               </td><td>45.56 %</td><td>44.17 %</td><td>--    </td></tr>\n",
       "\t<tr><td>~~~A little                                 </td><td>22.91 %</td><td>21.83 %</td><td>--    </td></tr>\n",
       "\t<tr><td>~~~None at all                              </td><td>7.39 % </td><td>6.86 % </td><td>--    </td></tr>\n",
       "</tbody>\n",
       "</table>\n"
      ],
      "text/latex": [
       "A data.frame: 86 × 4\n",
       "\\begin{tabular}{llll}\n",
       " Name & Nonadhering & Adhering & Pvalue\\\\\n",
       " <chr> & <chr> & <chr> & <chr>\\\\\n",
       "\\hline\n",
       "\t Age in Years {[}mean (SD){]}                 & 60 (13)    & 61 (11)   & 0.024 \\\\\n",
       "\t Age Group \\%                              & ----       & ----      & <0.001\\\\\n",
       "\t \\textasciitilde{}\\textasciitilde{}\\textasciitilde{}<50                                   & 16.62 \\%    & 10.53 \\%   & --    \\\\\n",
       "\t \\textasciitilde{}\\textasciitilde{}\\textasciitilde{}>=50                                  & 83.38 \\%    & 89.47 \\%   & --    \\\\\n",
       "\t Sex of the respondent \\%                  & ----       & ----      & 0.426 \\\\\n",
       "\t \\textasciitilde{}\\textasciitilde{}\\textasciitilde{}Male                                  & 45.68 \\%    & 47.44 \\%   & --    \\\\\n",
       "\t \\textasciitilde{}\\textasciitilde{}\\textasciitilde{}Female                                & 54.32 \\%    & 52.56 \\%   & --    \\\\\n",
       "\t 5 quantiles of wealthscore \\%             & ----       & ----      & 0.008 \\\\\n",
       "\t \\textasciitilde{}\\textasciitilde{}\\textasciitilde{}1                                     & 17.59 \\%    & 12.48 \\%   & --    \\\\\n",
       "\t \\textasciitilde{}\\textasciitilde{}\\textasciitilde{}2                                     & 17.54 \\%    & 13.92 \\%   & --    \\\\\n",
       "\t \\textasciitilde{}\\textasciitilde{}\\textasciitilde{}3                                     & 15.73 \\%    & 18.9 \\%    & --    \\\\\n",
       "\t \\textasciitilde{}\\textasciitilde{}\\textasciitilde{}4                                     & 21.53 \\%    & 21.72 \\%   & --    \\\\\n",
       "\t \\textasciitilde{}\\textasciitilde{}\\textasciitilde{}5                                     & 27.61 \\%    & 32.99 \\%   & --    \\\\\n",
       "\t Number of Chronic Conditions {[}mean (SD){]} & 1.5 (0.74) & 1.2 (0.5) & <0.001\\\\\n",
       "\t Place of residence \\%                     & ----       & ----      & 0.006 \\\\\n",
       "\t \\textasciitilde{}\\textasciitilde{}\\textasciitilde{}Urban                                 & 27.02 \\%    & 37.1 \\%    & --    \\\\\n",
       "\t \\textasciitilde{}\\textasciitilde{}\\textasciitilde{}Rural                                 & 72.98 \\%    & 62.9 \\%    & --    \\\\\n",
       "\t Region \\%                                 & ----       & ----      & <0.001\\\\\n",
       "\t \\textasciitilde{}\\textasciitilde{}\\textasciitilde{}ASSAM                                 & 11.71 \\%    & 4.1 \\%     & --    \\\\\n",
       "\t \\textasciitilde{}\\textasciitilde{}\\textasciitilde{}KARNATAKA                             & 9.15 \\%     & 17.36 \\%   & --    \\\\\n",
       "\t \\textasciitilde{}\\textasciitilde{}\\textasciitilde{}MAHARASHTRA                           & 19.21 \\%    & 17.72 \\%   & --    \\\\\n",
       "\t \\textasciitilde{}\\textasciitilde{}\\textasciitilde{}RAJASTHAN                             & 19.85 \\%    & 12.04 \\%   & --    \\\\\n",
       "\t \\textasciitilde{}\\textasciitilde{}\\textasciitilde{}UTTAR PRADESH                         & 21.59 \\%    & 21.65 \\%   & --    \\\\\n",
       "\t \\textasciitilde{}\\textasciitilde{}\\textasciitilde{}WEST BENGAL                           & 18.49 \\%    & 27.14 \\%   & --    \\\\\n",
       "\t Current Marital Status \\%                 & ----       & ----      & 0.404 \\\\\n",
       "\t \\textasciitilde{}\\textasciitilde{}\\textasciitilde{}Currently Married                     & 74.24 \\%    & 75.87 \\%   & --    \\\\\n",
       "\t \\textasciitilde{}\\textasciitilde{}\\textasciitilde{}Not Currently Married                 & 25.76 \\%    & 24.13 \\%   & --    \\\\\n",
       "\t Religion \\%                               & ----       & ----      & 0.231 \\\\\n",
       "\t \\textasciitilde{}\\textasciitilde{}\\textasciitilde{}Hinduism                              & 82.31 \\%    & 84.43 \\%   & --    \\\\\n",
       "\t \\textasciitilde{}\\textasciitilde{}\\textasciitilde{}Islam                                 & 12.96 \\%    & 12.49 \\%   & --    \\\\\n",
       "\t ⋮ & ⋮ & ⋮ & ⋮\\\\\n",
       "\t Health care provider \\%                       & ----    & ----    & 0.214 \\\\\n",
       "\t \\textasciitilde{}\\textasciitilde{}\\textasciitilde{}Private                                   & 66.4 \\%  & 69.62 \\% & --    \\\\\n",
       "\t \\textasciitilde{}\\textasciitilde{}\\textasciitilde{}Public                                    & 26.39 \\% & 22.67 \\% & --    \\\\\n",
       "\t \\textasciitilde{}\\textasciitilde{}\\textasciitilde{}Community                                 & 3.92 \\%  & 5.25 \\%  & --    \\\\\n",
       "\t \\textasciitilde{}\\textasciitilde{}\\textasciitilde{}Other                                     & 3.29 \\%  & 2.46 \\%  & --    \\\\\n",
       "\t Ever Been to School \\%                        & ----    & ----    & <0.001\\\\\n",
       "\t \\textasciitilde{}\\textasciitilde{}\\textasciitilde{}Yes                                       & 58.65 \\% & 66.27 \\% & --    \\\\\n",
       "\t \\textasciitilde{}\\textasciitilde{}\\textasciitilde{}No                                        & 41.35 \\% & 33.73 \\% & --    \\\\\n",
       "\t Level of Education \\%                         & ----    & ----    & 0.315 \\\\\n",
       "\t \\textasciitilde{}\\textasciitilde{}\\textasciitilde{}Less than primary school/don't know       & 23.16 \\% & 23.72 \\% & --    \\\\\n",
       "\t \\textasciitilde{}\\textasciitilde{}\\textasciitilde{}Secondary school and below                & 48.12 \\% & 43.45 \\% & --    \\\\\n",
       "\t \\textasciitilde{}\\textasciitilde{}\\textasciitilde{}Past secondary school                     & 28.73 \\% & 32.83 \\% & --    \\\\\n",
       "\t Feeling sad/low/depression \\%                 & ----    & ----    & 0.012 \\\\\n",
       "\t \\textasciitilde{}\\textasciitilde{}\\textasciitilde{}None/Mild                                 & 69.97 \\% & 75.24 \\% & --    \\\\\n",
       "\t \\textasciitilde{}\\textasciitilde{}\\textasciitilde{}Moderate or worse                         & 30.03 \\% & 24.76 \\% & --    \\\\\n",
       "\t Self reported prevalence of depression \\%     & ----    & ----    & <0.001\\\\\n",
       "\t \\textasciitilde{}\\textasciitilde{}\\textasciitilde{}No                                        & 89.24 \\% & 96.21 \\% & --    \\\\\n",
       "\t \\textasciitilde{}\\textasciitilde{}\\textasciitilde{}Yes                                       & 10.76 \\% & 3.79 \\%  & --    \\\\\n",
       "\t Worry or anxiety \\%                           & ----    & ----    & 0.005 \\\\\n",
       "\t \\textasciitilde{}\\textasciitilde{}\\textasciitilde{}None/Mild                                 & 57.03 \\% & 64.53 \\% & --    \\\\\n",
       "\t \\textasciitilde{}\\textasciitilde{}\\textasciitilde{}Moderate or worse                         & 42.97 \\% & 35.47 \\% & --    \\\\\n",
       "\t Cataracts- New Sample (Chronic Conditions) \\% & ----    & ----    & 0.831 \\\\\n",
       "\t \\textasciitilde{}\\textasciitilde{}\\textasciitilde{}No                                        & 76.05 \\% & 75.53 \\% & --    \\\\\n",
       "\t \\textasciitilde{}\\textasciitilde{}\\textasciitilde{}Yes                                       & 23.95 \\% & 24.47 \\% & --    \\\\\n",
       "\t Money to meed needs \\%                        & ----    & ----    & 0.795 \\\\\n",
       "\t \\textasciitilde{}\\textasciitilde{}\\textasciitilde{}Completely                                & 8.51 \\%  & 9.53 \\%  & --    \\\\\n",
       "\t \\textasciitilde{}\\textasciitilde{}\\textasciitilde{}Mostly                                    & 15.64 \\% & 17.61 \\% & --    \\\\\n",
       "\t \\textasciitilde{}\\textasciitilde{}\\textasciitilde{}Moderately                                & 45.56 \\% & 44.17 \\% & --    \\\\\n",
       "\t \\textasciitilde{}\\textasciitilde{}\\textasciitilde{}A little                                  & 22.91 \\% & 21.83 \\% & --    \\\\\n",
       "\t \\textasciitilde{}\\textasciitilde{}\\textasciitilde{}None at all                               & 7.39 \\%  & 6.86 \\%  & --    \\\\\n",
       "\\end{tabular}\n"
      ],
      "text/markdown": [
       "\n",
       "A data.frame: 86 × 4\n",
       "\n",
       "| Name &lt;chr&gt; | Nonadhering &lt;chr&gt; | Adhering &lt;chr&gt; | Pvalue &lt;chr&gt; |\n",
       "|---|---|---|---|\n",
       "| Age in Years [mean (SD)]                 | 60 (13)    | 61 (11)   | 0.024  |\n",
       "| Age Group %                              | ----       | ----      | &lt;0.001 |\n",
       "| ~~~&lt;50                                   | 16.62 %    | 10.53 %   | --     |\n",
       "| ~~~&gt;=50                                  | 83.38 %    | 89.47 %   | --     |\n",
       "| Sex of the respondent %                  | ----       | ----      | 0.426  |\n",
       "| ~~~Male                                  | 45.68 %    | 47.44 %   | --     |\n",
       "| ~~~Female                                | 54.32 %    | 52.56 %   | --     |\n",
       "| 5 quantiles of wealthscore %             | ----       | ----      | 0.008  |\n",
       "| ~~~1                                     | 17.59 %    | 12.48 %   | --     |\n",
       "| ~~~2                                     | 17.54 %    | 13.92 %   | --     |\n",
       "| ~~~3                                     | 15.73 %    | 18.9 %    | --     |\n",
       "| ~~~4                                     | 21.53 %    | 21.72 %   | --     |\n",
       "| ~~~5                                     | 27.61 %    | 32.99 %   | --     |\n",
       "| Number of Chronic Conditions [mean (SD)] | 1.5 (0.74) | 1.2 (0.5) | &lt;0.001 |\n",
       "| Place of residence %                     | ----       | ----      | 0.006  |\n",
       "| ~~~Urban                                 | 27.02 %    | 37.1 %    | --     |\n",
       "| ~~~Rural                                 | 72.98 %    | 62.9 %    | --     |\n",
       "| Region %                                 | ----       | ----      | &lt;0.001 |\n",
       "| ~~~ASSAM                                 | 11.71 %    | 4.1 %     | --     |\n",
       "| ~~~KARNATAKA                             | 9.15 %     | 17.36 %   | --     |\n",
       "| ~~~MAHARASHTRA                           | 19.21 %    | 17.72 %   | --     |\n",
       "| ~~~RAJASTHAN                             | 19.85 %    | 12.04 %   | --     |\n",
       "| ~~~UTTAR PRADESH                         | 21.59 %    | 21.65 %   | --     |\n",
       "| ~~~WEST BENGAL                           | 18.49 %    | 27.14 %   | --     |\n",
       "| Current Marital Status %                 | ----       | ----      | 0.404  |\n",
       "| ~~~Currently Married                     | 74.24 %    | 75.87 %   | --     |\n",
       "| ~~~Not Currently Married                 | 25.76 %    | 24.13 %   | --     |\n",
       "| Religion %                               | ----       | ----      | 0.231  |\n",
       "| ~~~Hinduism                              | 82.31 %    | 84.43 %   | --     |\n",
       "| ~~~Islam                                 | 12.96 %    | 12.49 %   | --     |\n",
       "| ⋮ | ⋮ | ⋮ | ⋮ |\n",
       "| Health care provider %                       | ----    | ----    | 0.214  |\n",
       "| ~~~Private                                   | 66.4 %  | 69.62 % | --     |\n",
       "| ~~~Public                                    | 26.39 % | 22.67 % | --     |\n",
       "| ~~~Community                                 | 3.92 %  | 5.25 %  | --     |\n",
       "| ~~~Other                                     | 3.29 %  | 2.46 %  | --     |\n",
       "| Ever Been to School %                        | ----    | ----    | &lt;0.001 |\n",
       "| ~~~Yes                                       | 58.65 % | 66.27 % | --     |\n",
       "| ~~~No                                        | 41.35 % | 33.73 % | --     |\n",
       "| Level of Education %                         | ----    | ----    | 0.315  |\n",
       "| ~~~Less than primary school/don't know       | 23.16 % | 23.72 % | --     |\n",
       "| ~~~Secondary school and below                | 48.12 % | 43.45 % | --     |\n",
       "| ~~~Past secondary school                     | 28.73 % | 32.83 % | --     |\n",
       "| Feeling sad/low/depression %                 | ----    | ----    | 0.012  |\n",
       "| ~~~None/Mild                                 | 69.97 % | 75.24 % | --     |\n",
       "| ~~~Moderate or worse                         | 30.03 % | 24.76 % | --     |\n",
       "| Self reported prevalence of depression %     | ----    | ----    | &lt;0.001 |\n",
       "| ~~~No                                        | 89.24 % | 96.21 % | --     |\n",
       "| ~~~Yes                                       | 10.76 % | 3.79 %  | --     |\n",
       "| Worry or anxiety %                           | ----    | ----    | 0.005  |\n",
       "| ~~~None/Mild                                 | 57.03 % | 64.53 % | --     |\n",
       "| ~~~Moderate or worse                         | 42.97 % | 35.47 % | --     |\n",
       "| Cataracts- New Sample (Chronic Conditions) % | ----    | ----    | 0.831  |\n",
       "| ~~~No                                        | 76.05 % | 75.53 % | --     |\n",
       "| ~~~Yes                                       | 23.95 % | 24.47 % | --     |\n",
       "| Money to meed needs %                        | ----    | ----    | 0.795  |\n",
       "| ~~~Completely                                | 8.51 %  | 9.53 %  | --     |\n",
       "| ~~~Mostly                                    | 15.64 % | 17.61 % | --     |\n",
       "| ~~~Moderately                                | 45.56 % | 44.17 % | --     |\n",
       "| ~~~A little                                  | 22.91 % | 21.83 % | --     |\n",
       "| ~~~None at all                               | 7.39 %  | 6.86 %  | --     |\n",
       "\n"
      ],
      "text/plain": [
       "   Name                                         Nonadhering Adhering  Pvalue\n",
       "1  Age in Years [mean (SD)]                     60 (13)     61 (11)   0.024 \n",
       "2  Age Group %                                  ----        ----      <0.001\n",
       "3  ~~~<50                                       16.62 %     10.53 %   --    \n",
       "4  ~~~>=50                                      83.38 %     89.47 %   --    \n",
       "5  Sex of the respondent %                      ----        ----      0.426 \n",
       "6  ~~~Male                                      45.68 %     47.44 %   --    \n",
       "7  ~~~Female                                    54.32 %     52.56 %   --    \n",
       "8  5 quantiles of wealthscore %                 ----        ----      0.008 \n",
       "9  ~~~1                                         17.59 %     12.48 %   --    \n",
       "10 ~~~2                                         17.54 %     13.92 %   --    \n",
       "11 ~~~3                                         15.73 %     18.9 %    --    \n",
       "12 ~~~4                                         21.53 %     21.72 %   --    \n",
       "13 ~~~5                                         27.61 %     32.99 %   --    \n",
       "14 Number of Chronic Conditions [mean (SD)]     1.5 (0.74)  1.2 (0.5) <0.001\n",
       "15 Place of residence %                         ----        ----      0.006 \n",
       "16 ~~~Urban                                     27.02 %     37.1 %    --    \n",
       "17 ~~~Rural                                     72.98 %     62.9 %    --    \n",
       "18 Region %                                     ----        ----      <0.001\n",
       "19 ~~~ASSAM                                     11.71 %     4.1 %     --    \n",
       "20 ~~~KARNATAKA                                 9.15 %      17.36 %   --    \n",
       "21 ~~~MAHARASHTRA                               19.21 %     17.72 %   --    \n",
       "22 ~~~RAJASTHAN                                 19.85 %     12.04 %   --    \n",
       "23 ~~~UTTAR PRADESH                             21.59 %     21.65 %   --    \n",
       "24 ~~~WEST BENGAL                               18.49 %     27.14 %   --    \n",
       "25 Current Marital Status %                     ----        ----      0.404 \n",
       "26 ~~~Currently Married                         74.24 %     75.87 %   --    \n",
       "27 ~~~Not Currently Married                     25.76 %     24.13 %   --    \n",
       "28 Religion %                                   ----        ----      0.231 \n",
       "29 ~~~Hinduism                                  82.31 %     84.43 %   --    \n",
       "30 ~~~Islam                                     12.96 %     12.49 %   --    \n",
       "⋮  ⋮                                            ⋮           ⋮         ⋮     \n",
       "57 Health care provider %                       ----        ----      0.214 \n",
       "58 ~~~Private                                   66.4 %      69.62 %   --    \n",
       "59 ~~~Public                                    26.39 %     22.67 %   --    \n",
       "60 ~~~Community                                 3.92 %      5.25 %    --    \n",
       "61 ~~~Other                                     3.29 %      2.46 %    --    \n",
       "62 Ever Been to School %                        ----        ----      <0.001\n",
       "63 ~~~Yes                                       58.65 %     66.27 %   --    \n",
       "64 ~~~No                                        41.35 %     33.73 %   --    \n",
       "65 Level of Education %                         ----        ----      0.315 \n",
       "66 ~~~Less than primary school/don't know       23.16 %     23.72 %   --    \n",
       "67 ~~~Secondary school and below                48.12 %     43.45 %   --    \n",
       "68 ~~~Past secondary school                     28.73 %     32.83 %   --    \n",
       "69 Feeling sad/low/depression %                 ----        ----      0.012 \n",
       "70 ~~~None/Mild                                 69.97 %     75.24 %   --    \n",
       "71 ~~~Moderate or worse                         30.03 %     24.76 %   --    \n",
       "72 Self reported prevalence of depression %     ----        ----      <0.001\n",
       "73 ~~~No                                        89.24 %     96.21 %   --    \n",
       "74 ~~~Yes                                       10.76 %     3.79 %    --    \n",
       "75 Worry or anxiety %                           ----        ----      0.005 \n",
       "76 ~~~None/Mild                                 57.03 %     64.53 %   --    \n",
       "77 ~~~Moderate or worse                         42.97 %     35.47 %   --    \n",
       "78 Cataracts- New Sample (Chronic Conditions) % ----        ----      0.831 \n",
       "79 ~~~No                                        76.05 %     75.53 %   --    \n",
       "80 ~~~Yes                                       23.95 %     24.47 %   --    \n",
       "81 Money to meed needs %                        ----        ----      0.795 \n",
       "82 ~~~Completely                                8.51 %      9.53 %    --    \n",
       "83 ~~~Mostly                                    15.64 %     17.61 %   --    \n",
       "84 ~~~Moderately                                45.56 %     44.17 %   --    \n",
       "85 ~~~A little                                  22.91 %     21.83 %   --    \n",
       "86 ~~~None at all                               7.39 %      6.86 %    --    "
      ]
     },
     "metadata": {},
     "output_type": "display_data"
    }
   ],
   "source": [
    "dfs <- apply(VariableList, 1, function(Var) {weightedBVCalc(Var, Morbidity, 'complete_adherence')})\n",
    "MorbidityWeightedBV <- do.call(rbind, dfs)\n",
    "MorbidityWeightedBV\n",
    "write.csv(MorbidityWeightedBV,\"Supplementary2/MorbidityWeightedBV.csv\")"
   ]
  },
  {
   "attachments": {},
   "cell_type": "markdown",
   "metadata": {},
   "source": [
    "## Comparison between unimorbid and multimorbid respondents"
   ]
  },
  {
   "attachments": {},
   "cell_type": "markdown",
   "metadata": {},
   "source": [
    "number of diseases can no longer be a factor"
   ]
  },
  {
   "cell_type": "code",
   "execution_count": 742,
   "metadata": {
    "vscode": {
     "languageId": "r"
    }
   },
   "outputs": [],
   "source": [
    "# D, C for discrete vs continuous\n",
    "\n",
    "VariableList <- matrix(\n",
    "\n",
    "    c(  \"q1011\", \"C\", #age\n",
    "        \"age_category\", \"D\", #age category\n",
    "        \"q1009\",  \"D\", # gender\n",
    "        \"quintile\",\"D\", #wealth quintile     \n",
    "        #\"wealthscore\",\"C\", #wealth score          \n",
    "        \"q0104\",  \"D\", # rural/urban\n",
    "        \"q0105a\", \"D\", # state   \n",
    "        \"q1012\",  \"D\", # current marital status         \n",
    "        \"q1019_\", \"D\", # Religion        \n",
    "        \"q1018_\", \"D\", # Caste        \n",
    "        \"q3001\", \"D\", #tobacco        \n",
    "        \"q3008\", \"D\", #alcohol\n",
    "        \"q2000\", \"D\", #self reported health\n",
    "        \"q2010\", \"D\", #cognitive function\n",
    "        \"q2002\", \"D\", #physical function\n",
    "        \"q8062\", \"D\", #community support\n",
    "        \"q1503\", \"D\", #working\n",
    "        \"q5004\", \"D\", #PHC\n",
    "        \"q1015\",  \"D\", # schooling\n",
    "        \"q1016_\", \"D\", # Highest level of schooling\n",
    "        \"q2018\",  \"D\", # Depression, last 30 days\n",
    "        \"q2019\",  \"D\", # Anxiety\n",
    "        \"q4062\",  \"D\",  # Cataracts\n",
    "        \"q7002\", \"D\" #Subjective wealth\n",
    "), ncol = 2, byrow = TRUE\n",
    ")\n"
   ]
  },
  {
   "cell_type": "code",
   "execution_count": 743,
   "metadata": {
    "vscode": {
     "languageId": "r"
    }
   },
   "outputs": [
    {
     "data": {
      "text/html": [
       "<table class=\"dataframe\">\n",
       "<caption>A data.frame: 82 × 4</caption>\n",
       "<thead>\n",
       "\t<tr><th scope=col>Name</th><th scope=col>Nonadhering</th><th scope=col>Adhering</th><th scope=col>Pvalue</th></tr>\n",
       "\t<tr><th scope=col>&lt;chr&gt;</th><th scope=col>&lt;chr&gt;</th><th scope=col>&lt;chr&gt;</th><th scope=col>&lt;chr&gt;</th></tr>\n",
       "</thead>\n",
       "<tbody>\n",
       "\t<tr><td>Age in Years [mean (SD)]    </td><td>63 (11)</td><td>64 (8.8)</td><td>0.838 </td></tr>\n",
       "\t<tr><td><span style=white-space:pre-wrap>Age Group %                 </span></td><td><span style=white-space:pre-wrap>----   </span></td><td><span style=white-space:pre-wrap>----    </span></td><td>&lt;0.001</td></tr>\n",
       "\t<tr><td><span style=white-space:pre-wrap>~~~&lt;50                      </span></td><td>9.78 % </td><td><span style=white-space:pre-wrap>2.59 %  </span></td><td><span style=white-space:pre-wrap>--    </span></td></tr>\n",
       "\t<tr><td><span style=white-space:pre-wrap>~~~&gt;=50                     </span></td><td>90.22 %</td><td>97.41 % </td><td><span style=white-space:pre-wrap>--    </span></td></tr>\n",
       "\t<tr><td>Sex of the respondent %     </td><td>----   </td><td>----    </td><td>0.209 </td></tr>\n",
       "\t<tr><td>~~~Male                     </td><td>48.89 %</td><td>54.19 % </td><td>--    </td></tr>\n",
       "\t<tr><td>~~~Female                   </td><td>51.11 %</td><td>45.81 % </td><td>--    </td></tr>\n",
       "\t<tr><td>5 quantiles of wealthscore %</td><td>----   </td><td>----    </td><td>0.337 </td></tr>\n",
       "\t<tr><td>~~~1                        </td><td>13.83 %</td><td>8.92 %  </td><td>--    </td></tr>\n",
       "\t<tr><td>~~~2                        </td><td>13.95 %</td><td>13.14 % </td><td>--    </td></tr>\n",
       "\t<tr><td>~~~3                        </td><td>14.87 %</td><td>17.2 %  </td><td>--    </td></tr>\n",
       "\t<tr><td>~~~4                        </td><td>17.69 %</td><td>20.49 % </td><td>--    </td></tr>\n",
       "\t<tr><td>~~~5                        </td><td>39.66 %</td><td>40.24 % </td><td>--    </td></tr>\n",
       "\t<tr><td>Place of residence %        </td><td>----   </td><td>----    </td><td>0.455 </td></tr>\n",
       "\t<tr><td>~~~Urban                    </td><td>36.84 %</td><td>41.04 % </td><td>--    </td></tr>\n",
       "\t<tr><td>~~~Rural                    </td><td>63.16 %</td><td>58.96 % </td><td>--    </td></tr>\n",
       "\t<tr><td><span style=white-space:pre-wrap>Region %                    </span></td><td><span style=white-space:pre-wrap>----   </span></td><td><span style=white-space:pre-wrap>----    </span></td><td>&lt;0.001</td></tr>\n",
       "\t<tr><td>~~~ASSAM                    </td><td>11.05 %</td><td>2 %     </td><td>--    </td></tr>\n",
       "\t<tr><td>~~~KARNATAKA                </td><td>10.76 %</td><td>21.09 % </td><td>--    </td></tr>\n",
       "\t<tr><td>~~~MAHARASHTRA              </td><td>18.05 %</td><td>18.9 %  </td><td>--    </td></tr>\n",
       "\t<tr><td>~~~RAJASTHAN                </td><td>18.94 %</td><td>14.2 %  </td><td>--    </td></tr>\n",
       "\t<tr><td>~~~UTTAR PRADESH            </td><td>20.39 %</td><td>13.2 %  </td><td>--    </td></tr>\n",
       "\t<tr><td>~~~WEST BENGAL              </td><td>20.82 %</td><td>30.61 % </td><td>--    </td></tr>\n",
       "\t<tr><td>Current Marital Status %    </td><td>----   </td><td>----    </td><td>0.69  </td></tr>\n",
       "\t<tr><td>~~~Currently Married        </td><td>74.06 %</td><td>75.55 % </td><td>--    </td></tr>\n",
       "\t<tr><td>~~~Not Currently Married    </td><td>25.94 %</td><td>24.45 % </td><td>--    </td></tr>\n",
       "\t<tr><td>Religion %                  </td><td>----   </td><td>----    </td><td>0.198 </td></tr>\n",
       "\t<tr><td>~~~Hinduism                 </td><td>79.11 %</td><td>83.75 % </td><td>--    </td></tr>\n",
       "\t<tr><td>~~~Islam                    </td><td>15.2 % </td><td>14.18 % </td><td>--    </td></tr>\n",
       "\t<tr><td>~~~Other / None             </td><td>5.68 % </td><td>2.07 %  </td><td>--    </td></tr>\n",
       "\t<tr><td>⋮</td><td>⋮</td><td>⋮</td><td>⋮</td></tr>\n",
       "\t<tr><td>Currently working %                         </td><td>----   </td><td>----   </td><td>0.06 </td></tr>\n",
       "\t<tr><td>~~~Yes                                      </td><td>48.55 %</td><td>36.49 %</td><td>--   </td></tr>\n",
       "\t<tr><td>~~~No                                       </td><td>51.45 %</td><td>63.51 %</td><td>--   </td></tr>\n",
       "\t<tr><td>Health care provider %                      </td><td>----   </td><td>----   </td><td>0.273</td></tr>\n",
       "\t<tr><td>~~~Private                                  </td><td>70.41 %</td><td>76.21 %</td><td>--   </td></tr>\n",
       "\t<tr><td>~~~Public                                   </td><td>23.07 %</td><td>20.17 %</td><td>--   </td></tr>\n",
       "\t<tr><td>~~~Community                                </td><td>4.79 % </td><td>3.35 % </td><td>--   </td></tr>\n",
       "\t<tr><td>~~~Other                                    </td><td>1.73 % </td><td>0.27 % </td><td>--   </td></tr>\n",
       "\t<tr><td>Ever Been to School %                       </td><td>----   </td><td>----   </td><td>0.709</td></tr>\n",
       "\t<tr><td>~~~Yes                                      </td><td>68.43 %</td><td>70 %   </td><td>--   </td></tr>\n",
       "\t<tr><td>~~~No                                       </td><td>31.57 %</td><td>30 %   </td><td>--   </td></tr>\n",
       "\t<tr><td>Level of Education %                        </td><td>----   </td><td>----   </td><td>0.212</td></tr>\n",
       "\t<tr><td>~~~Less than primary school/don't know      </td><td>23.23 %</td><td>25.01 %</td><td>--   </td></tr>\n",
       "\t<tr><td>~~~Secondary school and below               </td><td>42.94 %</td><td>35.17 %</td><td>--   </td></tr>\n",
       "\t<tr><td>~~~Past secondary school                    </td><td>33.83 %</td><td>39.81 %</td><td>--   </td></tr>\n",
       "\t<tr><td>Feeling sad/low/depression %                </td><td>----   </td><td>----   </td><td>0.206</td></tr>\n",
       "\t<tr><td>~~~None/Mild                                </td><td>69.67 %</td><td>74.6 % </td><td>--   </td></tr>\n",
       "\t<tr><td>~~~Moderate or worse                        </td><td>30.33 %</td><td>25.4 % </td><td>--   </td></tr>\n",
       "\t<tr><td>Worry or anxiety %                          </td><td>----   </td><td>----   </td><td>0.317</td></tr>\n",
       "\t<tr><td>~~~None/Mild                                </td><td>56.74 %</td><td>61.63 %</td><td>--   </td></tr>\n",
       "\t<tr><td>~~~Moderate or worse                        </td><td>43.26 %</td><td>38.37 %</td><td>--   </td></tr>\n",
       "\t<tr><td>Cataracts- New Sample (Chronic Conditions) %</td><td>----   </td><td>----   </td><td>0.904</td></tr>\n",
       "\t<tr><td>~~~No                                       </td><td>66.81 %</td><td>67.41 %</td><td>--   </td></tr>\n",
       "\t<tr><td>~~~Yes                                      </td><td>33.19 %</td><td>32.59 %</td><td>--   </td></tr>\n",
       "\t<tr><td>Money to meed needs %                       </td><td>----   </td><td>----   </td><td>0.945</td></tr>\n",
       "\t<tr><td>~~~Completely                               </td><td>10.18 %</td><td>10.51 %</td><td>--   </td></tr>\n",
       "\t<tr><td>~~~Mostly                                   </td><td>19.08 %</td><td>17.12 %</td><td>--   </td></tr>\n",
       "\t<tr><td>~~~Moderately                               </td><td>41.61 %</td><td>44.17 %</td><td>--   </td></tr>\n",
       "\t<tr><td>~~~A little                                 </td><td>23.46 %</td><td>21.67 %</td><td>--   </td></tr>\n",
       "\t<tr><td>~~~None at all                              </td><td>5.67 % </td><td>6.53 % </td><td>--   </td></tr>\n",
       "</tbody>\n",
       "</table>\n"
      ],
      "text/latex": [
       "A data.frame: 82 × 4\n",
       "\\begin{tabular}{llll}\n",
       " Name & Nonadhering & Adhering & Pvalue\\\\\n",
       " <chr> & <chr> & <chr> & <chr>\\\\\n",
       "\\hline\n",
       "\t Age in Years {[}mean (SD){]}     & 63 (11) & 64 (8.8) & 0.838 \\\\\n",
       "\t Age Group \\%                  & ----    & ----     & <0.001\\\\\n",
       "\t \\textasciitilde{}\\textasciitilde{}\\textasciitilde{}<50                       & 9.78 \\%  & 2.59 \\%   & --    \\\\\n",
       "\t \\textasciitilde{}\\textasciitilde{}\\textasciitilde{}>=50                      & 90.22 \\% & 97.41 \\%  & --    \\\\\n",
       "\t Sex of the respondent \\%      & ----    & ----     & 0.209 \\\\\n",
       "\t \\textasciitilde{}\\textasciitilde{}\\textasciitilde{}Male                      & 48.89 \\% & 54.19 \\%  & --    \\\\\n",
       "\t \\textasciitilde{}\\textasciitilde{}\\textasciitilde{}Female                    & 51.11 \\% & 45.81 \\%  & --    \\\\\n",
       "\t 5 quantiles of wealthscore \\% & ----    & ----     & 0.337 \\\\\n",
       "\t \\textasciitilde{}\\textasciitilde{}\\textasciitilde{}1                         & 13.83 \\% & 8.92 \\%   & --    \\\\\n",
       "\t \\textasciitilde{}\\textasciitilde{}\\textasciitilde{}2                         & 13.95 \\% & 13.14 \\%  & --    \\\\\n",
       "\t \\textasciitilde{}\\textasciitilde{}\\textasciitilde{}3                         & 14.87 \\% & 17.2 \\%   & --    \\\\\n",
       "\t \\textasciitilde{}\\textasciitilde{}\\textasciitilde{}4                         & 17.69 \\% & 20.49 \\%  & --    \\\\\n",
       "\t \\textasciitilde{}\\textasciitilde{}\\textasciitilde{}5                         & 39.66 \\% & 40.24 \\%  & --    \\\\\n",
       "\t Place of residence \\%         & ----    & ----     & 0.455 \\\\\n",
       "\t \\textasciitilde{}\\textasciitilde{}\\textasciitilde{}Urban                     & 36.84 \\% & 41.04 \\%  & --    \\\\\n",
       "\t \\textasciitilde{}\\textasciitilde{}\\textasciitilde{}Rural                     & 63.16 \\% & 58.96 \\%  & --    \\\\\n",
       "\t Region \\%                     & ----    & ----     & <0.001\\\\\n",
       "\t \\textasciitilde{}\\textasciitilde{}\\textasciitilde{}ASSAM                     & 11.05 \\% & 2 \\%      & --    \\\\\n",
       "\t \\textasciitilde{}\\textasciitilde{}\\textasciitilde{}KARNATAKA                 & 10.76 \\% & 21.09 \\%  & --    \\\\\n",
       "\t \\textasciitilde{}\\textasciitilde{}\\textasciitilde{}MAHARASHTRA               & 18.05 \\% & 18.9 \\%   & --    \\\\\n",
       "\t \\textasciitilde{}\\textasciitilde{}\\textasciitilde{}RAJASTHAN                 & 18.94 \\% & 14.2 \\%   & --    \\\\\n",
       "\t \\textasciitilde{}\\textasciitilde{}\\textasciitilde{}UTTAR PRADESH             & 20.39 \\% & 13.2 \\%   & --    \\\\\n",
       "\t \\textasciitilde{}\\textasciitilde{}\\textasciitilde{}WEST BENGAL               & 20.82 \\% & 30.61 \\%  & --    \\\\\n",
       "\t Current Marital Status \\%     & ----    & ----     & 0.69  \\\\\n",
       "\t \\textasciitilde{}\\textasciitilde{}\\textasciitilde{}Currently Married         & 74.06 \\% & 75.55 \\%  & --    \\\\\n",
       "\t \\textasciitilde{}\\textasciitilde{}\\textasciitilde{}Not Currently Married     & 25.94 \\% & 24.45 \\%  & --    \\\\\n",
       "\t Religion \\%                   & ----    & ----     & 0.198 \\\\\n",
       "\t \\textasciitilde{}\\textasciitilde{}\\textasciitilde{}Hinduism                  & 79.11 \\% & 83.75 \\%  & --    \\\\\n",
       "\t \\textasciitilde{}\\textasciitilde{}\\textasciitilde{}Islam                     & 15.2 \\%  & 14.18 \\%  & --    \\\\\n",
       "\t \\textasciitilde{}\\textasciitilde{}\\textasciitilde{}Other / None              & 5.68 \\%  & 2.07 \\%   & --    \\\\\n",
       "\t ⋮ & ⋮ & ⋮ & ⋮\\\\\n",
       "\t Currently working \\%                          & ----    & ----    & 0.06 \\\\\n",
       "\t \\textasciitilde{}\\textasciitilde{}\\textasciitilde{}Yes                                       & 48.55 \\% & 36.49 \\% & --   \\\\\n",
       "\t \\textasciitilde{}\\textasciitilde{}\\textasciitilde{}No                                        & 51.45 \\% & 63.51 \\% & --   \\\\\n",
       "\t Health care provider \\%                       & ----    & ----    & 0.273\\\\\n",
       "\t \\textasciitilde{}\\textasciitilde{}\\textasciitilde{}Private                                   & 70.41 \\% & 76.21 \\% & --   \\\\\n",
       "\t \\textasciitilde{}\\textasciitilde{}\\textasciitilde{}Public                                    & 23.07 \\% & 20.17 \\% & --   \\\\\n",
       "\t \\textasciitilde{}\\textasciitilde{}\\textasciitilde{}Community                                 & 4.79 \\%  & 3.35 \\%  & --   \\\\\n",
       "\t \\textasciitilde{}\\textasciitilde{}\\textasciitilde{}Other                                     & 1.73 \\%  & 0.27 \\%  & --   \\\\\n",
       "\t Ever Been to School \\%                        & ----    & ----    & 0.709\\\\\n",
       "\t \\textasciitilde{}\\textasciitilde{}\\textasciitilde{}Yes                                       & 68.43 \\% & 70 \\%    & --   \\\\\n",
       "\t \\textasciitilde{}\\textasciitilde{}\\textasciitilde{}No                                        & 31.57 \\% & 30 \\%    & --   \\\\\n",
       "\t Level of Education \\%                         & ----    & ----    & 0.212\\\\\n",
       "\t \\textasciitilde{}\\textasciitilde{}\\textasciitilde{}Less than primary school/don't know       & 23.23 \\% & 25.01 \\% & --   \\\\\n",
       "\t \\textasciitilde{}\\textasciitilde{}\\textasciitilde{}Secondary school and below                & 42.94 \\% & 35.17 \\% & --   \\\\\n",
       "\t \\textasciitilde{}\\textasciitilde{}\\textasciitilde{}Past secondary school                     & 33.83 \\% & 39.81 \\% & --   \\\\\n",
       "\t Feeling sad/low/depression \\%                 & ----    & ----    & 0.206\\\\\n",
       "\t \\textasciitilde{}\\textasciitilde{}\\textasciitilde{}None/Mild                                 & 69.67 \\% & 74.6 \\%  & --   \\\\\n",
       "\t \\textasciitilde{}\\textasciitilde{}\\textasciitilde{}Moderate or worse                         & 30.33 \\% & 25.4 \\%  & --   \\\\\n",
       "\t Worry or anxiety \\%                           & ----    & ----    & 0.317\\\\\n",
       "\t \\textasciitilde{}\\textasciitilde{}\\textasciitilde{}None/Mild                                 & 56.74 \\% & 61.63 \\% & --   \\\\\n",
       "\t \\textasciitilde{}\\textasciitilde{}\\textasciitilde{}Moderate or worse                         & 43.26 \\% & 38.37 \\% & --   \\\\\n",
       "\t Cataracts- New Sample (Chronic Conditions) \\% & ----    & ----    & 0.904\\\\\n",
       "\t \\textasciitilde{}\\textasciitilde{}\\textasciitilde{}No                                        & 66.81 \\% & 67.41 \\% & --   \\\\\n",
       "\t \\textasciitilde{}\\textasciitilde{}\\textasciitilde{}Yes                                       & 33.19 \\% & 32.59 \\% & --   \\\\\n",
       "\t Money to meed needs \\%                        & ----    & ----    & 0.945\\\\\n",
       "\t \\textasciitilde{}\\textasciitilde{}\\textasciitilde{}Completely                                & 10.18 \\% & 10.51 \\% & --   \\\\\n",
       "\t \\textasciitilde{}\\textasciitilde{}\\textasciitilde{}Mostly                                    & 19.08 \\% & 17.12 \\% & --   \\\\\n",
       "\t \\textasciitilde{}\\textasciitilde{}\\textasciitilde{}Moderately                                & 41.61 \\% & 44.17 \\% & --   \\\\\n",
       "\t \\textasciitilde{}\\textasciitilde{}\\textasciitilde{}A little                                  & 23.46 \\% & 21.67 \\% & --   \\\\\n",
       "\t \\textasciitilde{}\\textasciitilde{}\\textasciitilde{}None at all                               & 5.67 \\%  & 6.53 \\%  & --   \\\\\n",
       "\\end{tabular}\n"
      ],
      "text/markdown": [
       "\n",
       "A data.frame: 82 × 4\n",
       "\n",
       "| Name &lt;chr&gt; | Nonadhering &lt;chr&gt; | Adhering &lt;chr&gt; | Pvalue &lt;chr&gt; |\n",
       "|---|---|---|---|\n",
       "| Age in Years [mean (SD)]     | 63 (11) | 64 (8.8) | 0.838  |\n",
       "| Age Group %                  | ----    | ----     | &lt;0.001 |\n",
       "| ~~~&lt;50                       | 9.78 %  | 2.59 %   | --     |\n",
       "| ~~~&gt;=50                      | 90.22 % | 97.41 %  | --     |\n",
       "| Sex of the respondent %      | ----    | ----     | 0.209  |\n",
       "| ~~~Male                      | 48.89 % | 54.19 %  | --     |\n",
       "| ~~~Female                    | 51.11 % | 45.81 %  | --     |\n",
       "| 5 quantiles of wealthscore % | ----    | ----     | 0.337  |\n",
       "| ~~~1                         | 13.83 % | 8.92 %   | --     |\n",
       "| ~~~2                         | 13.95 % | 13.14 %  | --     |\n",
       "| ~~~3                         | 14.87 % | 17.2 %   | --     |\n",
       "| ~~~4                         | 17.69 % | 20.49 %  | --     |\n",
       "| ~~~5                         | 39.66 % | 40.24 %  | --     |\n",
       "| Place of residence %         | ----    | ----     | 0.455  |\n",
       "| ~~~Urban                     | 36.84 % | 41.04 %  | --     |\n",
       "| ~~~Rural                     | 63.16 % | 58.96 %  | --     |\n",
       "| Region %                     | ----    | ----     | &lt;0.001 |\n",
       "| ~~~ASSAM                     | 11.05 % | 2 %      | --     |\n",
       "| ~~~KARNATAKA                 | 10.76 % | 21.09 %  | --     |\n",
       "| ~~~MAHARASHTRA               | 18.05 % | 18.9 %   | --     |\n",
       "| ~~~RAJASTHAN                 | 18.94 % | 14.2 %   | --     |\n",
       "| ~~~UTTAR PRADESH             | 20.39 % | 13.2 %   | --     |\n",
       "| ~~~WEST BENGAL               | 20.82 % | 30.61 %  | --     |\n",
       "| Current Marital Status %     | ----    | ----     | 0.69   |\n",
       "| ~~~Currently Married         | 74.06 % | 75.55 %  | --     |\n",
       "| ~~~Not Currently Married     | 25.94 % | 24.45 %  | --     |\n",
       "| Religion %                   | ----    | ----     | 0.198  |\n",
       "| ~~~Hinduism                  | 79.11 % | 83.75 %  | --     |\n",
       "| ~~~Islam                     | 15.2 %  | 14.18 %  | --     |\n",
       "| ~~~Other / None              | 5.68 %  | 2.07 %   | --     |\n",
       "| ⋮ | ⋮ | ⋮ | ⋮ |\n",
       "| Currently working %                          | ----    | ----    | 0.06  |\n",
       "| ~~~Yes                                       | 48.55 % | 36.49 % | --    |\n",
       "| ~~~No                                        | 51.45 % | 63.51 % | --    |\n",
       "| Health care provider %                       | ----    | ----    | 0.273 |\n",
       "| ~~~Private                                   | 70.41 % | 76.21 % | --    |\n",
       "| ~~~Public                                    | 23.07 % | 20.17 % | --    |\n",
       "| ~~~Community                                 | 4.79 %  | 3.35 %  | --    |\n",
       "| ~~~Other                                     | 1.73 %  | 0.27 %  | --    |\n",
       "| Ever Been to School %                        | ----    | ----    | 0.709 |\n",
       "| ~~~Yes                                       | 68.43 % | 70 %    | --    |\n",
       "| ~~~No                                        | 31.57 % | 30 %    | --    |\n",
       "| Level of Education %                         | ----    | ----    | 0.212 |\n",
       "| ~~~Less than primary school/don't know       | 23.23 % | 25.01 % | --    |\n",
       "| ~~~Secondary school and below                | 42.94 % | 35.17 % | --    |\n",
       "| ~~~Past secondary school                     | 33.83 % | 39.81 % | --    |\n",
       "| Feeling sad/low/depression %                 | ----    | ----    | 0.206 |\n",
       "| ~~~None/Mild                                 | 69.67 % | 74.6 %  | --    |\n",
       "| ~~~Moderate or worse                         | 30.33 % | 25.4 %  | --    |\n",
       "| Worry or anxiety %                           | ----    | ----    | 0.317 |\n",
       "| ~~~None/Mild                                 | 56.74 % | 61.63 % | --    |\n",
       "| ~~~Moderate or worse                         | 43.26 % | 38.37 % | --    |\n",
       "| Cataracts- New Sample (Chronic Conditions) % | ----    | ----    | 0.904 |\n",
       "| ~~~No                                        | 66.81 % | 67.41 % | --    |\n",
       "| ~~~Yes                                       | 33.19 % | 32.59 % | --    |\n",
       "| Money to meed needs %                        | ----    | ----    | 0.945 |\n",
       "| ~~~Completely                                | 10.18 % | 10.51 % | --    |\n",
       "| ~~~Mostly                                    | 19.08 % | 17.12 % | --    |\n",
       "| ~~~Moderately                                | 41.61 % | 44.17 % | --    |\n",
       "| ~~~A little                                  | 23.46 % | 21.67 % | --    |\n",
       "| ~~~None at all                               | 5.67 %  | 6.53 %  | --    |\n",
       "\n"
      ],
      "text/plain": [
       "   Name                                         Nonadhering Adhering Pvalue\n",
       "1  Age in Years [mean (SD)]                     63 (11)     64 (8.8) 0.838 \n",
       "2  Age Group %                                  ----        ----     <0.001\n",
       "3  ~~~<50                                       9.78 %      2.59 %   --    \n",
       "4  ~~~>=50                                      90.22 %     97.41 %  --    \n",
       "5  Sex of the respondent %                      ----        ----     0.209 \n",
       "6  ~~~Male                                      48.89 %     54.19 %  --    \n",
       "7  ~~~Female                                    51.11 %     45.81 %  --    \n",
       "8  5 quantiles of wealthscore %                 ----        ----     0.337 \n",
       "9  ~~~1                                         13.83 %     8.92 %   --    \n",
       "10 ~~~2                                         13.95 %     13.14 %  --    \n",
       "11 ~~~3                                         14.87 %     17.2 %   --    \n",
       "12 ~~~4                                         17.69 %     20.49 %  --    \n",
       "13 ~~~5                                         39.66 %     40.24 %  --    \n",
       "14 Place of residence %                         ----        ----     0.455 \n",
       "15 ~~~Urban                                     36.84 %     41.04 %  --    \n",
       "16 ~~~Rural                                     63.16 %     58.96 %  --    \n",
       "17 Region %                                     ----        ----     <0.001\n",
       "18 ~~~ASSAM                                     11.05 %     2 %      --    \n",
       "19 ~~~KARNATAKA                                 10.76 %     21.09 %  --    \n",
       "20 ~~~MAHARASHTRA                               18.05 %     18.9 %   --    \n",
       "21 ~~~RAJASTHAN                                 18.94 %     14.2 %   --    \n",
       "22 ~~~UTTAR PRADESH                             20.39 %     13.2 %   --    \n",
       "23 ~~~WEST BENGAL                               20.82 %     30.61 %  --    \n",
       "24 Current Marital Status %                     ----        ----     0.69  \n",
       "25 ~~~Currently Married                         74.06 %     75.55 %  --    \n",
       "26 ~~~Not Currently Married                     25.94 %     24.45 %  --    \n",
       "27 Religion %                                   ----        ----     0.198 \n",
       "28 ~~~Hinduism                                  79.11 %     83.75 %  --    \n",
       "29 ~~~Islam                                     15.2 %      14.18 %  --    \n",
       "30 ~~~Other / None                              5.68 %      2.07 %   --    \n",
       "⋮  ⋮                                            ⋮           ⋮        ⋮     \n",
       "53 Currently working %                          ----        ----     0.06  \n",
       "54 ~~~Yes                                       48.55 %     36.49 %  --    \n",
       "55 ~~~No                                        51.45 %     63.51 %  --    \n",
       "56 Health care provider %                       ----        ----     0.273 \n",
       "57 ~~~Private                                   70.41 %     76.21 %  --    \n",
       "58 ~~~Public                                    23.07 %     20.17 %  --    \n",
       "59 ~~~Community                                 4.79 %      3.35 %   --    \n",
       "60 ~~~Other                                     1.73 %      0.27 %   --    \n",
       "61 Ever Been to School %                        ----        ----     0.709 \n",
       "62 ~~~Yes                                       68.43 %     70 %     --    \n",
       "63 ~~~No                                        31.57 %     30 %     --    \n",
       "64 Level of Education %                         ----        ----     0.212 \n",
       "65 ~~~Less than primary school/don't know       23.23 %     25.01 %  --    \n",
       "66 ~~~Secondary school and below                42.94 %     35.17 %  --    \n",
       "67 ~~~Past secondary school                     33.83 %     39.81 %  --    \n",
       "68 Feeling sad/low/depression %                 ----        ----     0.206 \n",
       "69 ~~~None/Mild                                 69.67 %     74.6 %   --    \n",
       "70 ~~~Moderate or worse                         30.33 %     25.4 %   --    \n",
       "71 Worry or anxiety %                           ----        ----     0.317 \n",
       "72 ~~~None/Mild                                 56.74 %     61.63 %  --    \n",
       "73 ~~~Moderate or worse                         43.26 %     38.37 %  --    \n",
       "74 Cataracts- New Sample (Chronic Conditions) % ----        ----     0.904 \n",
       "75 ~~~No                                        66.81 %     67.41 %  --    \n",
       "76 ~~~Yes                                       33.19 %     32.59 %  --    \n",
       "77 Money to meed needs %                        ----        ----     0.945 \n",
       "78 ~~~Completely                                10.18 %     10.51 %  --    \n",
       "79 ~~~Mostly                                    19.08 %     17.12 %  --    \n",
       "80 ~~~Moderately                                41.61 %     44.17 %  --    \n",
       "81 ~~~A little                                  23.46 %     21.67 %  --    \n",
       "82 ~~~None at all                               5.67 %      6.53 %   --    "
      ]
     },
     "metadata": {},
     "output_type": "display_data"
    }
   ],
   "source": [
    "dfs <- apply(VariableList, 1, function(Var) {weightedBVCalc(Var, Multimorbid, 'complete_adherence')})\n",
    "multiMorbidityBV <- do.call(rbind, dfs)\n",
    "multiMorbidityBV\n",
    "write.csv(multiMorbidityBV,\"Supplementary2/multiMorbidityBVweighted.csv\")"
   ]
  },
  {
   "cell_type": "code",
   "execution_count": 744,
   "metadata": {
    "vscode": {
     "languageId": "r"
    }
   },
   "outputs": [
    {
     "data": {
      "text/html": [
       "<table class=\"dataframe\">\n",
       "<caption>A data.frame: 82 × 4</caption>\n",
       "<thead>\n",
       "\t<tr><th scope=col>Name</th><th scope=col>Nonadhering</th><th scope=col>Adhering</th><th scope=col>Pvalue</th></tr>\n",
       "\t<tr><th scope=col>&lt;chr&gt;</th><th scope=col>&lt;chr&gt;</th><th scope=col>&lt;chr&gt;</th><th scope=col>&lt;chr&gt;</th></tr>\n",
       "</thead>\n",
       "<tbody>\n",
       "\t<tr><td><span style=white-space:pre-wrap>Age in Years [mean (SD)]    </span></td><td>58 (14)</td><td>61 (12)</td><td>&lt;0.001</td></tr>\n",
       "\t<tr><td><span style=white-space:pre-wrap>Age Group %                 </span></td><td><span style=white-space:pre-wrap>----   </span></td><td><span style=white-space:pre-wrap>----   </span></td><td>&lt;0.001</td></tr>\n",
       "\t<tr><td><span style=white-space:pre-wrap>~~~&lt;50                      </span></td><td>20.49 %</td><td>12.58 %</td><td><span style=white-space:pre-wrap>--    </span></td></tr>\n",
       "\t<tr><td><span style=white-space:pre-wrap>~~~&gt;=50                     </span></td><td>79.51 %</td><td>87.42 %</td><td><span style=white-space:pre-wrap>--    </span></td></tr>\n",
       "\t<tr><td>Sex of the respondent %     </td><td>----   </td><td>----   </td><td>0.477 </td></tr>\n",
       "\t<tr><td>~~~Male                     </td><td>43.87 %</td><td>45.7 % </td><td>--    </td></tr>\n",
       "\t<tr><td>~~~Female                   </td><td>56.13 %</td><td>54.3 % </td><td>--    </td></tr>\n",
       "\t<tr><td>5 quantiles of wealthscore %</td><td>----   </td><td>----   </td><td>0.003 </td></tr>\n",
       "\t<tr><td>~~~1                        </td><td>19.72 %</td><td>13.4 % </td><td>--    </td></tr>\n",
       "\t<tr><td>~~~2                        </td><td>19.57 %</td><td>14.12 %</td><td>--    </td></tr>\n",
       "\t<tr><td>~~~3                        </td><td>16.21 %</td><td>19.33 %</td><td>--    </td></tr>\n",
       "\t<tr><td>~~~4                        </td><td>23.7 % </td><td>22.03 %</td><td>--    </td></tr>\n",
       "\t<tr><td>~~~5                        </td><td>20.79 %</td><td>31.11 %</td><td>--    </td></tr>\n",
       "\t<tr><td><span style=white-space:pre-wrap>Place of residence %        </span></td><td><span style=white-space:pre-wrap>----   </span></td><td><span style=white-space:pre-wrap>----   </span></td><td>&lt;0.001</td></tr>\n",
       "\t<tr><td>~~~Urban                    </td><td>21.47 %</td><td>36.09 %</td><td>--    </td></tr>\n",
       "\t<tr><td>~~~Rural                    </td><td>78.53 %</td><td>63.91 %</td><td>--    </td></tr>\n",
       "\t<tr><td><span style=white-space:pre-wrap>Region %                    </span></td><td><span style=white-space:pre-wrap>----   </span></td><td><span style=white-space:pre-wrap>----   </span></td><td>&lt;0.001</td></tr>\n",
       "\t<tr><td>~~~ASSAM                    </td><td>12.09 %</td><td>4.64 % </td><td>--    </td></tr>\n",
       "\t<tr><td>~~~KARNATAKA                </td><td>8.24 % </td><td>16.4 % </td><td>--    </td></tr>\n",
       "\t<tr><td>~~~MAHARASHTRA              </td><td>19.87 %</td><td>17.41 %</td><td>--    </td></tr>\n",
       "\t<tr><td>~~~RAJASTHAN                </td><td>20.36 %</td><td>11.48 %</td><td>--    </td></tr>\n",
       "\t<tr><td>~~~UTTAR PRADESH            </td><td>22.27 %</td><td>23.83 %</td><td>--    </td></tr>\n",
       "\t<tr><td>~~~WEST BENGAL              </td><td>17.18 %</td><td>26.24 %</td><td>--    </td></tr>\n",
       "\t<tr><td>Current Marital Status %    </td><td>----   </td><td>----   </td><td>0.432 </td></tr>\n",
       "\t<tr><td>~~~Currently Married        </td><td>74.34 %</td><td>75.95 %</td><td>--    </td></tr>\n",
       "\t<tr><td>~~~Not Currently Married    </td><td>25.66 %</td><td>24.05 %</td><td>--    </td></tr>\n",
       "\t<tr><td>Religion %                  </td><td>----   </td><td>----   </td><td>0.683 </td></tr>\n",
       "\t<tr><td>~~~Hinduism                 </td><td>84.12 %</td><td>84.61 %</td><td>--    </td></tr>\n",
       "\t<tr><td>~~~Islam                    </td><td>11.69 %</td><td>12.06 %</td><td>--    </td></tr>\n",
       "\t<tr><td>~~~Other / None             </td><td>4.19 % </td><td>3.33 % </td><td>--    </td></tr>\n",
       "\t<tr><td>⋮</td><td>⋮</td><td>⋮</td><td>⋮</td></tr>\n",
       "\t<tr><td>Currently working %                         </td><td>----   </td><td>----   </td><td>0.004 </td></tr>\n",
       "\t<tr><td>~~~Yes                                      </td><td>66.81 %</td><td>54.64 %</td><td>--    </td></tr>\n",
       "\t<tr><td>~~~No                                       </td><td>33.19 %</td><td>45.36 %</td><td>--    </td></tr>\n",
       "\t<tr><td>Health care provider %                      </td><td>----   </td><td>----   </td><td>0.093 </td></tr>\n",
       "\t<tr><td>~~~Private                                  </td><td>63.98 %</td><td>67.63 %</td><td>--    </td></tr>\n",
       "\t<tr><td>~~~Public                                   </td><td>28.39 %</td><td>23.42 %</td><td>--    </td></tr>\n",
       "\t<tr><td>~~~Community                                </td><td>3.4 %  </td><td>5.83 % </td><td>--    </td></tr>\n",
       "\t<tr><td>~~~Other                                    </td><td>4.23 % </td><td>3.12 % </td><td>--    </td></tr>\n",
       "\t<tr><td><span style=white-space:pre-wrap>Ever Been to School %                       </span></td><td><span style=white-space:pre-wrap>----   </span></td><td><span style=white-space:pre-wrap>----   </span></td><td>&lt;0.001</td></tr>\n",
       "\t<tr><td>~~~Yes                                      </td><td>53.12 %</td><td>65.3 % </td><td>--    </td></tr>\n",
       "\t<tr><td>~~~No                                       </td><td>46.88 %</td><td>34.7 % </td><td>--    </td></tr>\n",
       "\t<tr><td>Level of Education %                        </td><td>----   </td><td>----   </td><td>0.232 </td></tr>\n",
       "\t<tr><td>~~~Less than primary school/don't know      </td><td>23.11 %</td><td>23.36 %</td><td>--    </td></tr>\n",
       "\t<tr><td>~~~Secondary school and below               </td><td>51.89 %</td><td>45.74 %</td><td>--    </td></tr>\n",
       "\t<tr><td>~~~Past secondary school                    </td><td>25 %   </td><td>30.9 % </td><td>--    </td></tr>\n",
       "\t<tr><td>Feeling sad/low/depression %                </td><td>----   </td><td>----   </td><td>0.045 </td></tr>\n",
       "\t<tr><td>~~~None/Mild                                </td><td>70.14 %</td><td>75.41 %</td><td>--    </td></tr>\n",
       "\t<tr><td>~~~Moderate or worse                        </td><td>29.86 %</td><td>24.59 %</td><td>--    </td></tr>\n",
       "\t<tr><td>Worry or anxiety %                          </td><td>----   </td><td>----   </td><td>0.01  </td></tr>\n",
       "\t<tr><td>~~~None/Mild                                </td><td>57.19 %</td><td>65.28 %</td><td>--    </td></tr>\n",
       "\t<tr><td>~~~Moderate or worse                        </td><td>42.81 %</td><td>34.72 %</td><td>--    </td></tr>\n",
       "\t<tr><td>Cataracts- New Sample (Chronic Conditions) %</td><td>----   </td><td>----   </td><td>0.175 </td></tr>\n",
       "\t<tr><td>~~~No                                       </td><td>81.29 %</td><td>77.62 %</td><td>--    </td></tr>\n",
       "\t<tr><td>~~~Yes                                      </td><td>18.71 %</td><td>22.38 %</td><td>--    </td></tr>\n",
       "\t<tr><td>Money to meed needs %                       </td><td>----   </td><td>----   </td><td>0.407 </td></tr>\n",
       "\t<tr><td>~~~Completely                               </td><td>7.56 % </td><td>9.27 % </td><td>--    </td></tr>\n",
       "\t<tr><td>~~~Mostly                                   </td><td>13.7 % </td><td>17.74 %</td><td>--    </td></tr>\n",
       "\t<tr><td>~~~Moderately                               </td><td>47.78 %</td><td>44.17 %</td><td>--    </td></tr>\n",
       "\t<tr><td>~~~A little                                 </td><td>22.6 % </td><td>21.87 %</td><td>--    </td></tr>\n",
       "\t<tr><td>~~~None at all                              </td><td>8.36 % </td><td>6.95 % </td><td>--    </td></tr>\n",
       "</tbody>\n",
       "</table>\n"
      ],
      "text/latex": [
       "A data.frame: 82 × 4\n",
       "\\begin{tabular}{llll}\n",
       " Name & Nonadhering & Adhering & Pvalue\\\\\n",
       " <chr> & <chr> & <chr> & <chr>\\\\\n",
       "\\hline\n",
       "\t Age in Years {[}mean (SD){]}     & 58 (14) & 61 (12) & <0.001\\\\\n",
       "\t Age Group \\%                  & ----    & ----    & <0.001\\\\\n",
       "\t \\textasciitilde{}\\textasciitilde{}\\textasciitilde{}<50                       & 20.49 \\% & 12.58 \\% & --    \\\\\n",
       "\t \\textasciitilde{}\\textasciitilde{}\\textasciitilde{}>=50                      & 79.51 \\% & 87.42 \\% & --    \\\\\n",
       "\t Sex of the respondent \\%      & ----    & ----    & 0.477 \\\\\n",
       "\t \\textasciitilde{}\\textasciitilde{}\\textasciitilde{}Male                      & 43.87 \\% & 45.7 \\%  & --    \\\\\n",
       "\t \\textasciitilde{}\\textasciitilde{}\\textasciitilde{}Female                    & 56.13 \\% & 54.3 \\%  & --    \\\\\n",
       "\t 5 quantiles of wealthscore \\% & ----    & ----    & 0.003 \\\\\n",
       "\t \\textasciitilde{}\\textasciitilde{}\\textasciitilde{}1                         & 19.72 \\% & 13.4 \\%  & --    \\\\\n",
       "\t \\textasciitilde{}\\textasciitilde{}\\textasciitilde{}2                         & 19.57 \\% & 14.12 \\% & --    \\\\\n",
       "\t \\textasciitilde{}\\textasciitilde{}\\textasciitilde{}3                         & 16.21 \\% & 19.33 \\% & --    \\\\\n",
       "\t \\textasciitilde{}\\textasciitilde{}\\textasciitilde{}4                         & 23.7 \\%  & 22.03 \\% & --    \\\\\n",
       "\t \\textasciitilde{}\\textasciitilde{}\\textasciitilde{}5                         & 20.79 \\% & 31.11 \\% & --    \\\\\n",
       "\t Place of residence \\%         & ----    & ----    & <0.001\\\\\n",
       "\t \\textasciitilde{}\\textasciitilde{}\\textasciitilde{}Urban                     & 21.47 \\% & 36.09 \\% & --    \\\\\n",
       "\t \\textasciitilde{}\\textasciitilde{}\\textasciitilde{}Rural                     & 78.53 \\% & 63.91 \\% & --    \\\\\n",
       "\t Region \\%                     & ----    & ----    & <0.001\\\\\n",
       "\t \\textasciitilde{}\\textasciitilde{}\\textasciitilde{}ASSAM                     & 12.09 \\% & 4.64 \\%  & --    \\\\\n",
       "\t \\textasciitilde{}\\textasciitilde{}\\textasciitilde{}KARNATAKA                 & 8.24 \\%  & 16.4 \\%  & --    \\\\\n",
       "\t \\textasciitilde{}\\textasciitilde{}\\textasciitilde{}MAHARASHTRA               & 19.87 \\% & 17.41 \\% & --    \\\\\n",
       "\t \\textasciitilde{}\\textasciitilde{}\\textasciitilde{}RAJASTHAN                 & 20.36 \\% & 11.48 \\% & --    \\\\\n",
       "\t \\textasciitilde{}\\textasciitilde{}\\textasciitilde{}UTTAR PRADESH             & 22.27 \\% & 23.83 \\% & --    \\\\\n",
       "\t \\textasciitilde{}\\textasciitilde{}\\textasciitilde{}WEST BENGAL               & 17.18 \\% & 26.24 \\% & --    \\\\\n",
       "\t Current Marital Status \\%     & ----    & ----    & 0.432 \\\\\n",
       "\t \\textasciitilde{}\\textasciitilde{}\\textasciitilde{}Currently Married         & 74.34 \\% & 75.95 \\% & --    \\\\\n",
       "\t \\textasciitilde{}\\textasciitilde{}\\textasciitilde{}Not Currently Married     & 25.66 \\% & 24.05 \\% & --    \\\\\n",
       "\t Religion \\%                   & ----    & ----    & 0.683 \\\\\n",
       "\t \\textasciitilde{}\\textasciitilde{}\\textasciitilde{}Hinduism                  & 84.12 \\% & 84.61 \\% & --    \\\\\n",
       "\t \\textasciitilde{}\\textasciitilde{}\\textasciitilde{}Islam                     & 11.69 \\% & 12.06 \\% & --    \\\\\n",
       "\t \\textasciitilde{}\\textasciitilde{}\\textasciitilde{}Other / None              & 4.19 \\%  & 3.33 \\%  & --    \\\\\n",
       "\t ⋮ & ⋮ & ⋮ & ⋮\\\\\n",
       "\t Currently working \\%                          & ----    & ----    & 0.004 \\\\\n",
       "\t \\textasciitilde{}\\textasciitilde{}\\textasciitilde{}Yes                                       & 66.81 \\% & 54.64 \\% & --    \\\\\n",
       "\t \\textasciitilde{}\\textasciitilde{}\\textasciitilde{}No                                        & 33.19 \\% & 45.36 \\% & --    \\\\\n",
       "\t Health care provider \\%                       & ----    & ----    & 0.093 \\\\\n",
       "\t \\textasciitilde{}\\textasciitilde{}\\textasciitilde{}Private                                   & 63.98 \\% & 67.63 \\% & --    \\\\\n",
       "\t \\textasciitilde{}\\textasciitilde{}\\textasciitilde{}Public                                    & 28.39 \\% & 23.42 \\% & --    \\\\\n",
       "\t \\textasciitilde{}\\textasciitilde{}\\textasciitilde{}Community                                 & 3.4 \\%   & 5.83 \\%  & --    \\\\\n",
       "\t \\textasciitilde{}\\textasciitilde{}\\textasciitilde{}Other                                     & 4.23 \\%  & 3.12 \\%  & --    \\\\\n",
       "\t Ever Been to School \\%                        & ----    & ----    & <0.001\\\\\n",
       "\t \\textasciitilde{}\\textasciitilde{}\\textasciitilde{}Yes                                       & 53.12 \\% & 65.3 \\%  & --    \\\\\n",
       "\t \\textasciitilde{}\\textasciitilde{}\\textasciitilde{}No                                        & 46.88 \\% & 34.7 \\%  & --    \\\\\n",
       "\t Level of Education \\%                         & ----    & ----    & 0.232 \\\\\n",
       "\t \\textasciitilde{}\\textasciitilde{}\\textasciitilde{}Less than primary school/don't know       & 23.11 \\% & 23.36 \\% & --    \\\\\n",
       "\t \\textasciitilde{}\\textasciitilde{}\\textasciitilde{}Secondary school and below                & 51.89 \\% & 45.74 \\% & --    \\\\\n",
       "\t \\textasciitilde{}\\textasciitilde{}\\textasciitilde{}Past secondary school                     & 25 \\%    & 30.9 \\%  & --    \\\\\n",
       "\t Feeling sad/low/depression \\%                 & ----    & ----    & 0.045 \\\\\n",
       "\t \\textasciitilde{}\\textasciitilde{}\\textasciitilde{}None/Mild                                 & 70.14 \\% & 75.41 \\% & --    \\\\\n",
       "\t \\textasciitilde{}\\textasciitilde{}\\textasciitilde{}Moderate or worse                         & 29.86 \\% & 24.59 \\% & --    \\\\\n",
       "\t Worry or anxiety \\%                           & ----    & ----    & 0.01  \\\\\n",
       "\t \\textasciitilde{}\\textasciitilde{}\\textasciitilde{}None/Mild                                 & 57.19 \\% & 65.28 \\% & --    \\\\\n",
       "\t \\textasciitilde{}\\textasciitilde{}\\textasciitilde{}Moderate or worse                         & 42.81 \\% & 34.72 \\% & --    \\\\\n",
       "\t Cataracts- New Sample (Chronic Conditions) \\% & ----    & ----    & 0.175 \\\\\n",
       "\t \\textasciitilde{}\\textasciitilde{}\\textasciitilde{}No                                        & 81.29 \\% & 77.62 \\% & --    \\\\\n",
       "\t \\textasciitilde{}\\textasciitilde{}\\textasciitilde{}Yes                                       & 18.71 \\% & 22.38 \\% & --    \\\\\n",
       "\t Money to meed needs \\%                        & ----    & ----    & 0.407 \\\\\n",
       "\t \\textasciitilde{}\\textasciitilde{}\\textasciitilde{}Completely                                & 7.56 \\%  & 9.27 \\%  & --    \\\\\n",
       "\t \\textasciitilde{}\\textasciitilde{}\\textasciitilde{}Mostly                                    & 13.7 \\%  & 17.74 \\% & --    \\\\\n",
       "\t \\textasciitilde{}\\textasciitilde{}\\textasciitilde{}Moderately                                & 47.78 \\% & 44.17 \\% & --    \\\\\n",
       "\t \\textasciitilde{}\\textasciitilde{}\\textasciitilde{}A little                                  & 22.6 \\%  & 21.87 \\% & --    \\\\\n",
       "\t \\textasciitilde{}\\textasciitilde{}\\textasciitilde{}None at all                               & 8.36 \\%  & 6.95 \\%  & --    \\\\\n",
       "\\end{tabular}\n"
      ],
      "text/markdown": [
       "\n",
       "A data.frame: 82 × 4\n",
       "\n",
       "| Name &lt;chr&gt; | Nonadhering &lt;chr&gt; | Adhering &lt;chr&gt; | Pvalue &lt;chr&gt; |\n",
       "|---|---|---|---|\n",
       "| Age in Years [mean (SD)]     | 58 (14) | 61 (12) | &lt;0.001 |\n",
       "| Age Group %                  | ----    | ----    | &lt;0.001 |\n",
       "| ~~~&lt;50                       | 20.49 % | 12.58 % | --     |\n",
       "| ~~~&gt;=50                      | 79.51 % | 87.42 % | --     |\n",
       "| Sex of the respondent %      | ----    | ----    | 0.477  |\n",
       "| ~~~Male                      | 43.87 % | 45.7 %  | --     |\n",
       "| ~~~Female                    | 56.13 % | 54.3 %  | --     |\n",
       "| 5 quantiles of wealthscore % | ----    | ----    | 0.003  |\n",
       "| ~~~1                         | 19.72 % | 13.4 %  | --     |\n",
       "| ~~~2                         | 19.57 % | 14.12 % | --     |\n",
       "| ~~~3                         | 16.21 % | 19.33 % | --     |\n",
       "| ~~~4                         | 23.7 %  | 22.03 % | --     |\n",
       "| ~~~5                         | 20.79 % | 31.11 % | --     |\n",
       "| Place of residence %         | ----    | ----    | &lt;0.001 |\n",
       "| ~~~Urban                     | 21.47 % | 36.09 % | --     |\n",
       "| ~~~Rural                     | 78.53 % | 63.91 % | --     |\n",
       "| Region %                     | ----    | ----    | &lt;0.001 |\n",
       "| ~~~ASSAM                     | 12.09 % | 4.64 %  | --     |\n",
       "| ~~~KARNATAKA                 | 8.24 %  | 16.4 %  | --     |\n",
       "| ~~~MAHARASHTRA               | 19.87 % | 17.41 % | --     |\n",
       "| ~~~RAJASTHAN                 | 20.36 % | 11.48 % | --     |\n",
       "| ~~~UTTAR PRADESH             | 22.27 % | 23.83 % | --     |\n",
       "| ~~~WEST BENGAL               | 17.18 % | 26.24 % | --     |\n",
       "| Current Marital Status %     | ----    | ----    | 0.432  |\n",
       "| ~~~Currently Married         | 74.34 % | 75.95 % | --     |\n",
       "| ~~~Not Currently Married     | 25.66 % | 24.05 % | --     |\n",
       "| Religion %                   | ----    | ----    | 0.683  |\n",
       "| ~~~Hinduism                  | 84.12 % | 84.61 % | --     |\n",
       "| ~~~Islam                     | 11.69 % | 12.06 % | --     |\n",
       "| ~~~Other / None              | 4.19 %  | 3.33 %  | --     |\n",
       "| ⋮ | ⋮ | ⋮ | ⋮ |\n",
       "| Currently working %                          | ----    | ----    | 0.004  |\n",
       "| ~~~Yes                                       | 66.81 % | 54.64 % | --     |\n",
       "| ~~~No                                        | 33.19 % | 45.36 % | --     |\n",
       "| Health care provider %                       | ----    | ----    | 0.093  |\n",
       "| ~~~Private                                   | 63.98 % | 67.63 % | --     |\n",
       "| ~~~Public                                    | 28.39 % | 23.42 % | --     |\n",
       "| ~~~Community                                 | 3.4 %   | 5.83 %  | --     |\n",
       "| ~~~Other                                     | 4.23 %  | 3.12 %  | --     |\n",
       "| Ever Been to School %                        | ----    | ----    | &lt;0.001 |\n",
       "| ~~~Yes                                       | 53.12 % | 65.3 %  | --     |\n",
       "| ~~~No                                        | 46.88 % | 34.7 %  | --     |\n",
       "| Level of Education %                         | ----    | ----    | 0.232  |\n",
       "| ~~~Less than primary school/don't know       | 23.11 % | 23.36 % | --     |\n",
       "| ~~~Secondary school and below                | 51.89 % | 45.74 % | --     |\n",
       "| ~~~Past secondary school                     | 25 %    | 30.9 %  | --     |\n",
       "| Feeling sad/low/depression %                 | ----    | ----    | 0.045  |\n",
       "| ~~~None/Mild                                 | 70.14 % | 75.41 % | --     |\n",
       "| ~~~Moderate or worse                         | 29.86 % | 24.59 % | --     |\n",
       "| Worry or anxiety %                           | ----    | ----    | 0.01   |\n",
       "| ~~~None/Mild                                 | 57.19 % | 65.28 % | --     |\n",
       "| ~~~Moderate or worse                         | 42.81 % | 34.72 % | --     |\n",
       "| Cataracts- New Sample (Chronic Conditions) % | ----    | ----    | 0.175  |\n",
       "| ~~~No                                        | 81.29 % | 77.62 % | --     |\n",
       "| ~~~Yes                                       | 18.71 % | 22.38 % | --     |\n",
       "| Money to meed needs %                        | ----    | ----    | 0.407  |\n",
       "| ~~~Completely                                | 7.56 %  | 9.27 %  | --     |\n",
       "| ~~~Mostly                                    | 13.7 %  | 17.74 % | --     |\n",
       "| ~~~Moderately                                | 47.78 % | 44.17 % | --     |\n",
       "| ~~~A little                                  | 22.6 %  | 21.87 % | --     |\n",
       "| ~~~None at all                               | 8.36 %  | 6.95 %  | --     |\n",
       "\n"
      ],
      "text/plain": [
       "   Name                                         Nonadhering Adhering Pvalue\n",
       "1  Age in Years [mean (SD)]                     58 (14)     61 (12)  <0.001\n",
       "2  Age Group %                                  ----        ----     <0.001\n",
       "3  ~~~<50                                       20.49 %     12.58 %  --    \n",
       "4  ~~~>=50                                      79.51 %     87.42 %  --    \n",
       "5  Sex of the respondent %                      ----        ----     0.477 \n",
       "6  ~~~Male                                      43.87 %     45.7 %   --    \n",
       "7  ~~~Female                                    56.13 %     54.3 %   --    \n",
       "8  5 quantiles of wealthscore %                 ----        ----     0.003 \n",
       "9  ~~~1                                         19.72 %     13.4 %   --    \n",
       "10 ~~~2                                         19.57 %     14.12 %  --    \n",
       "11 ~~~3                                         16.21 %     19.33 %  --    \n",
       "12 ~~~4                                         23.7 %      22.03 %  --    \n",
       "13 ~~~5                                         20.79 %     31.11 %  --    \n",
       "14 Place of residence %                         ----        ----     <0.001\n",
       "15 ~~~Urban                                     21.47 %     36.09 %  --    \n",
       "16 ~~~Rural                                     78.53 %     63.91 %  --    \n",
       "17 Region %                                     ----        ----     <0.001\n",
       "18 ~~~ASSAM                                     12.09 %     4.64 %   --    \n",
       "19 ~~~KARNATAKA                                 8.24 %      16.4 %   --    \n",
       "20 ~~~MAHARASHTRA                               19.87 %     17.41 %  --    \n",
       "21 ~~~RAJASTHAN                                 20.36 %     11.48 %  --    \n",
       "22 ~~~UTTAR PRADESH                             22.27 %     23.83 %  --    \n",
       "23 ~~~WEST BENGAL                               17.18 %     26.24 %  --    \n",
       "24 Current Marital Status %                     ----        ----     0.432 \n",
       "25 ~~~Currently Married                         74.34 %     75.95 %  --    \n",
       "26 ~~~Not Currently Married                     25.66 %     24.05 %  --    \n",
       "27 Religion %                                   ----        ----     0.683 \n",
       "28 ~~~Hinduism                                  84.12 %     84.61 %  --    \n",
       "29 ~~~Islam                                     11.69 %     12.06 %  --    \n",
       "30 ~~~Other / None                              4.19 %      3.33 %   --    \n",
       "⋮  ⋮                                            ⋮           ⋮        ⋮     \n",
       "53 Currently working %                          ----        ----     0.004 \n",
       "54 ~~~Yes                                       66.81 %     54.64 %  --    \n",
       "55 ~~~No                                        33.19 %     45.36 %  --    \n",
       "56 Health care provider %                       ----        ----     0.093 \n",
       "57 ~~~Private                                   63.98 %     67.63 %  --    \n",
       "58 ~~~Public                                    28.39 %     23.42 %  --    \n",
       "59 ~~~Community                                 3.4 %       5.83 %   --    \n",
       "60 ~~~Other                                     4.23 %      3.12 %   --    \n",
       "61 Ever Been to School %                        ----        ----     <0.001\n",
       "62 ~~~Yes                                       53.12 %     65.3 %   --    \n",
       "63 ~~~No                                        46.88 %     34.7 %   --    \n",
       "64 Level of Education %                         ----        ----     0.232 \n",
       "65 ~~~Less than primary school/don't know       23.11 %     23.36 %  --    \n",
       "66 ~~~Secondary school and below                51.89 %     45.74 %  --    \n",
       "67 ~~~Past secondary school                     25 %        30.9 %   --    \n",
       "68 Feeling sad/low/depression %                 ----        ----     0.045 \n",
       "69 ~~~None/Mild                                 70.14 %     75.41 %  --    \n",
       "70 ~~~Moderate or worse                         29.86 %     24.59 %  --    \n",
       "71 Worry or anxiety %                           ----        ----     0.01  \n",
       "72 ~~~None/Mild                                 57.19 %     65.28 %  --    \n",
       "73 ~~~Moderate or worse                         42.81 %     34.72 %  --    \n",
       "74 Cataracts- New Sample (Chronic Conditions) % ----        ----     0.175 \n",
       "75 ~~~No                                        81.29 %     77.62 %  --    \n",
       "76 ~~~Yes                                       18.71 %     22.38 %  --    \n",
       "77 Money to meed needs %                        ----        ----     0.407 \n",
       "78 ~~~Completely                                7.56 %      9.27 %   --    \n",
       "79 ~~~Mostly                                    13.7 %      17.74 %  --    \n",
       "80 ~~~Moderately                                47.78 %     44.17 %  --    \n",
       "81 ~~~A little                                  22.6 %      21.87 %  --    \n",
       "82 ~~~None at all                               8.36 %      6.95 %   --    "
      ]
     },
     "metadata": {},
     "output_type": "display_data"
    }
   ],
   "source": [
    "dfs <- apply(VariableList, 1, function(Var) {weightedBVCalc(Var, Unimorbid, 'complete_adherence')})\n",
    "uniMorbidityBV <- do.call(rbind, dfs)\n",
    "uniMorbidityBV\n",
    "write.csv(uniMorbidityBV,\"Supplementary2/uniMorbidityBVweighted.csv\")"
   ]
  },
  {
   "attachments": {},
   "cell_type": "markdown",
   "metadata": {},
   "source": [
    "## By Disease"
   ]
  },
  {
   "cell_type": "code",
   "execution_count": 745,
   "metadata": {
    "vscode": {
     "languageId": "r"
    }
   },
   "outputs": [],
   "source": [
    "# D, C for discrete vs continuous\n",
    "\n",
    "VariableList <- matrix(\n",
    "\n",
    "    c(  \"q1011\", \"C\", #age\n",
    "        \"age_category\", \"D\", #age category\n",
    "        \"q1009\",  \"D\", # gender\n",
    "        \"quintile\",\"D\", #wealth quintile     \n",
    "        #\"wealthscore\",\"C\", #wealth score          \n",
    "        \"q0104\",  \"D\", # rural/urban\n",
    "        \"q0105a\", \"D\", # state   \n",
    "        \"q1012\",  \"D\", # current marital status         \n",
    "        \"q1019_\", \"D\", # Religion        \n",
    "        \"q1018_\", \"D\", # Caste        \n",
    "        \"q3001\", \"D\", #tobacco        \n",
    "        \"q3008\", \"D\", #alcohol\n",
    "        \"q2000\", \"D\", #self reported health\n",
    "        \"q2010\", \"D\", #cognitive function\n",
    "        \"q2002\", \"D\", #physical function\n",
    "        \"q8062\", \"D\", #community support\n",
    "        \"q1503\", \"D\", #working\n",
    "        \"q5004\", \"D\", #PHC\n",
    "        \"q1015\",  \"D\", # schooling\n",
    "        \"q1016_\", \"D\", # Highest level of schooling\n",
    "        \"q2018\",  \"D\", # Depression, last 30 days\n",
    "        \"q2019\",  \"D\", # Anxiety\n",
    "        \"q4062\",  \"D\",  # Cataracts\n",
    "        \"q7002\", \"D\" #Subjective wealth\n",
    "), ncol = 2, byrow = TRUE\n",
    ")"
   ]
  },
  {
   "cell_type": "code",
   "execution_count": 746,
   "metadata": {
    "vscode": {
     "languageId": "r"
    }
   },
   "outputs": [],
   "source": [
    "dfs <- apply(VariableList, 1, function(Var) {weightedBVCalc(Var, Stroke, \"q4011a\")})\n",
    "DF <- do.call(rbind, dfs)\n",
    "write.csv(DF,\"Supplementary3/StrokeBVweighted.csv\")\n",
    "\n",
    "dfs <- apply(VariableList, 1, function(Var) {weightedBVCalc(Var, Angina , \"q4015a\")})\n",
    "DF <- do.call(rbind, dfs)\n",
    "write.csv(DF,\"Supplementary3/AnginaBVweighted.csv\")\n",
    " \n",
    "dfs <- apply(VariableList, 1, function(Var) {weightedBVCalc(Var, Diabetes, \"q4023a\")})\n",
    "DF <- do.call(rbind, dfs)\n",
    "write.csv(DF,\"Supplementary3/DiabetesBVweighted.csv\")\n",
    "\n",
    "dfs <- apply(VariableList, 1, function(Var) {weightedBVCalc(Var, LungDisease, \"q4026a\")})\n",
    "DF <- do.call(rbind, dfs)\n",
    "write.csv(DF,\"Supplementary3/LungDiseaseBVweighted.csv\")\n",
    "\n",
    "dfs <- apply(VariableList, 1, function(Var) {weightedBVCalc(Var, Asthma, \"q4034a\")})\n",
    "DF <- do.call(rbind, dfs)\n",
    "write.csv(DF,\"Supplementary3/AsthmaBVweighted.csv\")\n",
    "\n",
    "dfs <- apply(VariableList, 1, function(Var) {weightedBVCalc(Var, Depression, \"q4041a\")})\n",
    "DF <- do.call(rbind, dfs)\n",
    "write.csv(DF,\"Supplementary3/DepressionBVweighted.csv\")\n",
    "\n",
    "dfs <- apply(VariableList, 1, function(Var) {weightedBVCalc(Var, Hypertension, \"q4061a\")})\n",
    "DF <- do.call(rbind, dfs)\n",
    "write.csv(DF,\"Supplementary3/HypertensionBVweighted.csv\")"
   ]
  },
  {
   "cell_type": "markdown",
   "metadata": {},
   "source": [
    "This is to see if any specific diagnoses have an effect on the adherence rate.\n",
    "This asks, of the population who have one or more diseases, is the distribution of people with a specific disease, different between those who adhere to all there medication and those who do not."
   ]
  },
  {
   "cell_type": "code",
   "execution_count": 747,
   "metadata": {
    "vscode": {
     "languageId": "r"
    }
   },
   "outputs": [],
   "source": [
    "# D, C for discrete vs continuous\n",
    "VariableList <- matrix(\n",
    "\n",
    "    c(  # Chronic conditions\n",
    "        \"q4010\",  \"D\", # Stroke\n",
    "        \"q4014\",  \"D\", # Angina\n",
    "        \"q4022\",  \"D\", # Diabetes\n",
    "        \"q4025\",  \"D\", # Lung Disease\n",
    "        \"q4033\",  \"D\", # Asthma\n",
    "        \"q4040\",  \"D\", # Clinical Depression\n",
    "        \"q4060\",  \"D\" # Hypertension\n",
    "), ncol = 2, byrow = TRUE\n",
    ")"
   ]
  },
  {
   "cell_type": "code",
   "execution_count": 748,
   "metadata": {
    "vscode": {
     "languageId": "r"
    }
   },
   "outputs": [
    {
     "data": {
      "text/html": [
       "<table class=\"dataframe\">\n",
       "<caption>A data.frame: 21 × 4</caption>\n",
       "<thead>\n",
       "\t<tr><th scope=col>Name</th><th scope=col>Nonadhering</th><th scope=col>Adhering</th><th scope=col>Pvalue</th></tr>\n",
       "\t<tr><th scope=col>&lt;chr&gt;</th><th scope=col>&lt;chr&gt;</th><th scope=col>&lt;chr&gt;</th><th scope=col>&lt;chr&gt;</th></tr>\n",
       "</thead>\n",
       "<tbody>\n",
       "\t<tr><td><span style=white-space:pre-wrap>Self reported prevalence of stroke %               </span></td><td><span style=white-space:pre-wrap>----   </span></td><td><span style=white-space:pre-wrap>----   </span></td><td>&lt;0.001</td></tr>\n",
       "\t<tr><td>~~~Yes                                             </td><td>8.26 % </td><td>4.89 % </td><td>--    </td></tr>\n",
       "\t<tr><td>~~~No                                              </td><td>91.74 %</td><td>95.11 %</td><td>--    </td></tr>\n",
       "\t<tr><td>Angina (Self repoted prevalence of angina) %       </td><td>----   </td><td>----   </td><td>0.015 </td></tr>\n",
       "\t<tr><td>~~~Yes                                             </td><td>13 %   </td><td>8.86 % </td><td>--    </td></tr>\n",
       "\t<tr><td>~~~No                                              </td><td>87 %   </td><td>91.14 %</td><td>--    </td></tr>\n",
       "\t<tr><td>Diabetes-New Sample (Chronic Conditions) %         </td><td>----   </td><td>----   </td><td>0.987 </td></tr>\n",
       "\t<tr><td>~~~Yes                                             </td><td>28.68 %</td><td>28.72 %</td><td>--    </td></tr>\n",
       "\t<tr><td>~~~No                                              </td><td>71.32 %</td><td>71.28 %</td><td>--    </td></tr>\n",
       "\t<tr><td>Self reported prevalence of chronic lung diseases %</td><td><span style=white-space:pre-wrap>----   </span></td><td><span style=white-space:pre-wrap>----   </span></td><td>&lt;0.001</td></tr>\n",
       "\t<tr><td>~~~Yes                                             </td><td>8.55 % </td><td>3.7 %  </td><td>--    </td></tr>\n",
       "\t<tr><td>~~~No                                              </td><td>91.45 %</td><td>96.3 % </td><td>--    </td></tr>\n",
       "\t<tr><td>Asthama(Self reported prevalence of asthama) %     </td><td>----   </td><td>----   </td><td>0.036 </td></tr>\n",
       "\t<tr><td>~~~Yes                                             </td><td>16.18 %</td><td>12.81 %</td><td>--    </td></tr>\n",
       "\t<tr><td>~~~No                                              </td><td>83.82 %</td><td>87.19 %</td><td>--    </td></tr>\n",
       "\t<tr><td><span style=white-space:pre-wrap>Self reported prevalence of depression %           </span></td><td><span style=white-space:pre-wrap>----   </span></td><td><span style=white-space:pre-wrap>----   </span></td><td>&lt;0.001</td></tr>\n",
       "\t<tr><td>~~~No                                              </td><td>89.24 %</td><td>96.21 %</td><td>--    </td></tr>\n",
       "\t<tr><td>~~~Yes                                             </td><td>10.76 %</td><td>3.79 % </td><td>--    </td></tr>\n",
       "\t<tr><td>Self reported prevalence of hypertension %         </td><td>----   </td><td>----   </td><td>0.567 </td></tr>\n",
       "\t<tr><td>~~~Yes                                             </td><td>62.6 % </td><td>61.06 %</td><td>--    </td></tr>\n",
       "\t<tr><td>~~~No                                              </td><td>37.4 % </td><td>38.94 %</td><td>--    </td></tr>\n",
       "</tbody>\n",
       "</table>\n"
      ],
      "text/latex": [
       "A data.frame: 21 × 4\n",
       "\\begin{tabular}{llll}\n",
       " Name & Nonadhering & Adhering & Pvalue\\\\\n",
       " <chr> & <chr> & <chr> & <chr>\\\\\n",
       "\\hline\n",
       "\t Self reported prevalence of stroke \\%                & ----    & ----    & <0.001\\\\\n",
       "\t \\textasciitilde{}\\textasciitilde{}\\textasciitilde{}Yes                                              & 8.26 \\%  & 4.89 \\%  & --    \\\\\n",
       "\t \\textasciitilde{}\\textasciitilde{}\\textasciitilde{}No                                               & 91.74 \\% & 95.11 \\% & --    \\\\\n",
       "\t Angina (Self repoted prevalence of angina) \\%        & ----    & ----    & 0.015 \\\\\n",
       "\t \\textasciitilde{}\\textasciitilde{}\\textasciitilde{}Yes                                              & 13 \\%    & 8.86 \\%  & --    \\\\\n",
       "\t \\textasciitilde{}\\textasciitilde{}\\textasciitilde{}No                                               & 87 \\%    & 91.14 \\% & --    \\\\\n",
       "\t Diabetes-New Sample (Chronic Conditions) \\%          & ----    & ----    & 0.987 \\\\\n",
       "\t \\textasciitilde{}\\textasciitilde{}\\textasciitilde{}Yes                                              & 28.68 \\% & 28.72 \\% & --    \\\\\n",
       "\t \\textasciitilde{}\\textasciitilde{}\\textasciitilde{}No                                               & 71.32 \\% & 71.28 \\% & --    \\\\\n",
       "\t Self reported prevalence of chronic lung diseases \\% & ----    & ----    & <0.001\\\\\n",
       "\t \\textasciitilde{}\\textasciitilde{}\\textasciitilde{}Yes                                              & 8.55 \\%  & 3.7 \\%   & --    \\\\\n",
       "\t \\textasciitilde{}\\textasciitilde{}\\textasciitilde{}No                                               & 91.45 \\% & 96.3 \\%  & --    \\\\\n",
       "\t Asthama(Self reported prevalence of asthama) \\%      & ----    & ----    & 0.036 \\\\\n",
       "\t \\textasciitilde{}\\textasciitilde{}\\textasciitilde{}Yes                                              & 16.18 \\% & 12.81 \\% & --    \\\\\n",
       "\t \\textasciitilde{}\\textasciitilde{}\\textasciitilde{}No                                               & 83.82 \\% & 87.19 \\% & --    \\\\\n",
       "\t Self reported prevalence of depression \\%            & ----    & ----    & <0.001\\\\\n",
       "\t \\textasciitilde{}\\textasciitilde{}\\textasciitilde{}No                                               & 89.24 \\% & 96.21 \\% & --    \\\\\n",
       "\t \\textasciitilde{}\\textasciitilde{}\\textasciitilde{}Yes                                              & 10.76 \\% & 3.79 \\%  & --    \\\\\n",
       "\t Self reported prevalence of hypertension \\%          & ----    & ----    & 0.567 \\\\\n",
       "\t \\textasciitilde{}\\textasciitilde{}\\textasciitilde{}Yes                                              & 62.6 \\%  & 61.06 \\% & --    \\\\\n",
       "\t \\textasciitilde{}\\textasciitilde{}\\textasciitilde{}No                                               & 37.4 \\%  & 38.94 \\% & --    \\\\\n",
       "\\end{tabular}\n"
      ],
      "text/markdown": [
       "\n",
       "A data.frame: 21 × 4\n",
       "\n",
       "| Name &lt;chr&gt; | Nonadhering &lt;chr&gt; | Adhering &lt;chr&gt; | Pvalue &lt;chr&gt; |\n",
       "|---|---|---|---|\n",
       "| Self reported prevalence of stroke %                | ----    | ----    | &lt;0.001 |\n",
       "| ~~~Yes                                              | 8.26 %  | 4.89 %  | --     |\n",
       "| ~~~No                                               | 91.74 % | 95.11 % | --     |\n",
       "| Angina (Self repoted prevalence of angina) %        | ----    | ----    | 0.015  |\n",
       "| ~~~Yes                                              | 13 %    | 8.86 %  | --     |\n",
       "| ~~~No                                               | 87 %    | 91.14 % | --     |\n",
       "| Diabetes-New Sample (Chronic Conditions) %          | ----    | ----    | 0.987  |\n",
       "| ~~~Yes                                              | 28.68 % | 28.72 % | --     |\n",
       "| ~~~No                                               | 71.32 % | 71.28 % | --     |\n",
       "| Self reported prevalence of chronic lung diseases % | ----    | ----    | &lt;0.001 |\n",
       "| ~~~Yes                                              | 8.55 %  | 3.7 %   | --     |\n",
       "| ~~~No                                               | 91.45 % | 96.3 %  | --     |\n",
       "| Asthama(Self reported prevalence of asthama) %      | ----    | ----    | 0.036  |\n",
       "| ~~~Yes                                              | 16.18 % | 12.81 % | --     |\n",
       "| ~~~No                                               | 83.82 % | 87.19 % | --     |\n",
       "| Self reported prevalence of depression %            | ----    | ----    | &lt;0.001 |\n",
       "| ~~~No                                               | 89.24 % | 96.21 % | --     |\n",
       "| ~~~Yes                                              | 10.76 % | 3.79 %  | --     |\n",
       "| Self reported prevalence of hypertension %          | ----    | ----    | 0.567  |\n",
       "| ~~~Yes                                              | 62.6 %  | 61.06 % | --     |\n",
       "| ~~~No                                               | 37.4 %  | 38.94 % | --     |\n",
       "\n"
      ],
      "text/plain": [
       "   Name                                                Nonadhering Adhering\n",
       "1  Self reported prevalence of stroke %                ----        ----    \n",
       "2  ~~~Yes                                              8.26 %      4.89 %  \n",
       "3  ~~~No                                               91.74 %     95.11 % \n",
       "4  Angina (Self repoted prevalence of angina) %        ----        ----    \n",
       "5  ~~~Yes                                              13 %        8.86 %  \n",
       "6  ~~~No                                               87 %        91.14 % \n",
       "7  Diabetes-New Sample (Chronic Conditions) %          ----        ----    \n",
       "8  ~~~Yes                                              28.68 %     28.72 % \n",
       "9  ~~~No                                               71.32 %     71.28 % \n",
       "10 Self reported prevalence of chronic lung diseases % ----        ----    \n",
       "11 ~~~Yes                                              8.55 %      3.7 %   \n",
       "12 ~~~No                                               91.45 %     96.3 %  \n",
       "13 Asthama(Self reported prevalence of asthama) %      ----        ----    \n",
       "14 ~~~Yes                                              16.18 %     12.81 % \n",
       "15 ~~~No                                               83.82 %     87.19 % \n",
       "16 Self reported prevalence of depression %            ----        ----    \n",
       "17 ~~~No                                               89.24 %     96.21 % \n",
       "18 ~~~Yes                                              10.76 %     3.79 %  \n",
       "19 Self reported prevalence of hypertension %          ----        ----    \n",
       "20 ~~~Yes                                              62.6 %      61.06 % \n",
       "21 ~~~No                                               37.4 %      38.94 % \n",
       "   Pvalue\n",
       "1  <0.001\n",
       "2  --    \n",
       "3  --    \n",
       "4  0.015 \n",
       "5  --    \n",
       "6  --    \n",
       "7  0.987 \n",
       "8  --    \n",
       "9  --    \n",
       "10 <0.001\n",
       "11 --    \n",
       "12 --    \n",
       "13 0.036 \n",
       "14 --    \n",
       "15 --    \n",
       "16 <0.001\n",
       "17 --    \n",
       "18 --    \n",
       "19 0.567 \n",
       "20 --    \n",
       "21 --    "
      ]
     },
     "metadata": {},
     "output_type": "display_data"
    }
   ],
   "source": [
    "dfs <- apply(VariableList, 1, function(Var) {weightedBVCalc(Var, Morbidity, 'complete_adherence')})\n",
    "weightedDiseaseBV <- do.call(rbind, dfs)\n",
    "weightedDiseaseBV\n",
    "write.csv(weightedDiseaseBV,\"Supplementary3/weightedDiseaseBV.csv\")"
   ]
  },
  {
   "cell_type": "markdown",
   "metadata": {},
   "source": [
    "### Weighted prevalence of diseases"
   ]
  },
  {
   "cell_type": "code",
   "execution_count": 749,
   "metadata": {
    "vscode": {
     "languageId": "r"
    }
   },
   "outputs": [],
   "source": [
    "VariableList <- matrix(\n",
    "# disease and question\n",
    "    c(     'surveyDesign', 'anymorbidity',\n",
    "           'surveyDesign',  \"q4014\", # Angina\n",
    "         'surveyDesign',  \"q4022\", # Diabetes\n",
    "           'surveyDesign',  \"q4033\", # Asthma\n",
    "'surveyDesign',  \"q4060\", # Hypertension\n",
    "           'surveyDesign',  \"q4010\", # Stroke\n",
    "      'surveyDesign',  \"q4025\", # Lung Disease\n",
    "       'surveyDesign',  \"q4040\" # Clinical Depression\n",
    "\n",
    "), ncol = 2, byrow = TRUE\n",
    ")"
   ]
  },
  {
   "cell_type": "code",
   "execution_count": 750,
   "metadata": {
    "vscode": {
     "languageId": "r"
    }
   },
   "outputs": [
    {
     "data": {
      "text/html": [
       "'Any Morbidity'"
      ],
      "text/latex": [
       "'Any Morbidity'"
      ],
      "text/markdown": [
       "'Any Morbidity'"
      ],
      "text/plain": [
       "[1] \"Any Morbidity\""
      ]
     },
     "metadata": {},
     "output_type": "display_data"
    },
    {
     "data": {
      "text/html": [
       "<table class=\"dataframe\">\n",
       "<caption>A data.frame: 8 × 3</caption>\n",
       "<thead>\n",
       "\t<tr><th scope=col>Name</th><th scope=col>No</th><th scope=col>Yes</th></tr>\n",
       "\t<tr><th scope=col>&lt;chr[,1]&gt;</th><th scope=col>&lt;chr&gt;</th><th scope=col>&lt;chr&gt;</th></tr>\n",
       "</thead>\n",
       "<tbody>\n",
       "\t<tr><td>Any Morbidity                                    </td><td>72.47 %</td><td>27.53 %</td></tr>\n",
       "\t<tr><td>Angina (Self repoted prevalence of angina)       </td><td>96.99 %</td><td>3.01 % </td></tr>\n",
       "\t<tr><td>Diabetes-New Sample (Chronic Conditions)         </td><td>92.06 %</td><td>7.94 % </td></tr>\n",
       "\t<tr><td>Asthama(Self reported prevalence of asthama)     </td><td>96 %   </td><td>4 %    </td></tr>\n",
       "\t<tr><td>Self reported prevalence of hypertension         </td><td>82.89 %</td><td>17.11 %</td></tr>\n",
       "\t<tr><td>Self reported prevalence of stroke               </td><td>98.19 %</td><td>1.81 % </td></tr>\n",
       "\t<tr><td>Self reported prevalence of chronic lung diseases</td><td>98.33 %</td><td>1.67 % </td></tr>\n",
       "\t<tr><td>Self reported prevalence of depression           </td><td>98.01 %</td><td>1.99 % </td></tr>\n",
       "</tbody>\n",
       "</table>\n"
      ],
      "text/latex": [
       "A data.frame: 8 × 3\n",
       "\\begin{tabular}{lll}\n",
       " Name & No & Yes\\\\\n",
       " <chr{[},1{]}> & <chr> & <chr>\\\\\n",
       "\\hline\n",
       "\t Any Morbidity                                     & 72.47 \\% & 27.53 \\%\\\\\n",
       "\t Angina (Self repoted prevalence of angina)        & 96.99 \\% & 3.01 \\% \\\\\n",
       "\t Diabetes-New Sample (Chronic Conditions)          & 92.06 \\% & 7.94 \\% \\\\\n",
       "\t Asthama(Self reported prevalence of asthama)      & 96 \\%    & 4 \\%    \\\\\n",
       "\t Self reported prevalence of hypertension          & 82.89 \\% & 17.11 \\%\\\\\n",
       "\t Self reported prevalence of stroke                & 98.19 \\% & 1.81 \\% \\\\\n",
       "\t Self reported prevalence of chronic lung diseases & 98.33 \\% & 1.67 \\% \\\\\n",
       "\t Self reported prevalence of depression            & 98.01 \\% & 1.99 \\% \\\\\n",
       "\\end{tabular}\n"
      ],
      "text/markdown": [
       "\n",
       "A data.frame: 8 × 3\n",
       "\n",
       "| Name &lt;chr[,1]&gt; | No &lt;chr&gt; | Yes &lt;chr&gt; |\n",
       "|---|---|---|\n",
       "| Any Morbidity                                     | 72.47 % | 27.53 % |\n",
       "| Angina (Self repoted prevalence of angina)        | 96.99 % | 3.01 %  |\n",
       "| Diabetes-New Sample (Chronic Conditions)          | 92.06 % | 7.94 %  |\n",
       "| Asthama(Self reported prevalence of asthama)      | 96 %    | 4 %     |\n",
       "| Self reported prevalence of hypertension          | 82.89 % | 17.11 % |\n",
       "| Self reported prevalence of stroke                | 98.19 % | 1.81 %  |\n",
       "| Self reported prevalence of chronic lung diseases | 98.33 % | 1.67 %  |\n",
       "| Self reported prevalence of depression            | 98.01 % | 1.99 %  |\n",
       "\n"
      ],
      "text/plain": [
       "  Name                                              No      Yes    \n",
       "1 Any Morbidity                                     72.47 % 27.53 %\n",
       "2 Angina (Self repoted prevalence of angina)        96.99 % 3.01 % \n",
       "3 Diabetes-New Sample (Chronic Conditions)          92.06 % 7.94 % \n",
       "4 Asthama(Self reported prevalence of asthama)      96 %    4 %    \n",
       "5 Self reported prevalence of hypertension          82.89 % 17.11 %\n",
       "6 Self reported prevalence of stroke                98.19 % 1.81 % \n",
       "7 Self reported prevalence of chronic lung diseases 98.33 % 1.67 % \n",
       "8 Self reported prevalence of depression            98.01 % 1.99 % "
      ]
     },
     "metadata": {},
     "output_type": "display_data"
    }
   ],
   "source": [
    "dfs <- apply(VariableList, 1, function(Var) { weightedPropFunc(Var[1],  Var[2]) } )\n",
    "weightedDiseasePrev <- do.call(rbind, dfs)\n",
    "weightedDiseasePrev[,1] <- do.call(rbind,lapply(VariableList[,2], function(Var){attr(morbidity[ ,Var], \"label\")})) #\n",
    "attr(morbidity[ ,VariableList[,2][1]], \"label\")\n",
    "weightedDiseasePrev\n",
    "write.csv( weightedDiseasePrev,\"Misc/weightedPrevalence_by_Disease.csv\")"
   ]
  },
  {
   "attachments": {},
   "cell_type": "markdown",
   "metadata": {},
   "source": [
    "In over 50's (to check against paper results) [Cross check with fig 7.1, page 163 (pdf 165/291) (`addNA = F`)]"
   ]
  },
  {
   "cell_type": "code",
   "execution_count": 751,
   "metadata": {
    "vscode": {
     "languageId": "r"
    }
   },
   "outputs": [],
   "source": [
    "VariableList <- matrix(\n",
    "# disease and question\n",
    "    c(     'Check', 'anymorbidity',\n",
    "           'Check',  \"q4014\", # Angina\n",
    "           'Check',  \"q4022\", # Diabetes\n",
    "           'Check',  \"q4033\", # Asthma\n",
    "           'Check',  \"q4060\", # Hypertension\n",
    "           'Check',  \"q4010\", # Stroke\n",
    "           'Check',  \"q4025\", # Lung Disease\n",
    "           'Check',  \"q4040\" # Clinical Depression\n",
    "\n",
    "), ncol = 2, byrow = TRUE\n",
    ")\n"
   ]
  },
  {
   "cell_type": "code",
   "execution_count": 752,
   "metadata": {
    "vscode": {
     "languageId": "r"
    }
   },
   "outputs": [
    {
     "data": {
      "text/html": [
       "'Any Morbidity'"
      ],
      "text/latex": [
       "'Any Morbidity'"
      ],
      "text/markdown": [
       "'Any Morbidity'"
      ],
      "text/plain": [
       "[1] \"Any Morbidity\""
      ]
     },
     "metadata": {},
     "output_type": "display_data"
    },
    {
     "data": {
      "text/html": [
       "<table class=\"dataframe\">\n",
       "<caption>A data.frame: 8 × 3</caption>\n",
       "<thead>\n",
       "\t<tr><th scope=col>Name</th><th scope=col>No</th><th scope=col>Yes</th></tr>\n",
       "\t<tr><th scope=col>&lt;chr[,1]&gt;</th><th scope=col>&lt;chr&gt;</th><th scope=col>&lt;chr&gt;</th></tr>\n",
       "</thead>\n",
       "<tbody>\n",
       "\t<tr><td>Any Morbidity                                    </td><td>68.12 %</td><td>31.88 %</td></tr>\n",
       "\t<tr><td>Angina (Self repoted prevalence of angina)       </td><td>96.4 % </td><td>3.6 %  </td></tr>\n",
       "\t<tr><td>Diabetes-New Sample (Chronic Conditions)         </td><td>90.26 %</td><td>9.74 % </td></tr>\n",
       "\t<tr><td>Asthama(Self reported prevalence of asthama)     </td><td>95.16 %</td><td>4.84 % </td></tr>\n",
       "\t<tr><td>Self reported prevalence of hypertension         </td><td>80.07 %</td><td>19.93 %</td></tr>\n",
       "\t<tr><td>Self reported prevalence of stroke               </td><td>97.84 %</td><td>2.16 % </td></tr>\n",
       "\t<tr><td>Self reported prevalence of chronic lung diseases</td><td>97.92 %</td><td>2.08 % </td></tr>\n",
       "\t<tr><td>Self reported prevalence of depression           </td><td>98.15 %</td><td>1.85 % </td></tr>\n",
       "</tbody>\n",
       "</table>\n"
      ],
      "text/latex": [
       "A data.frame: 8 × 3\n",
       "\\begin{tabular}{lll}\n",
       " Name & No & Yes\\\\\n",
       " <chr{[},1{]}> & <chr> & <chr>\\\\\n",
       "\\hline\n",
       "\t Any Morbidity                                     & 68.12 \\% & 31.88 \\%\\\\\n",
       "\t Angina (Self repoted prevalence of angina)        & 96.4 \\%  & 3.6 \\%  \\\\\n",
       "\t Diabetes-New Sample (Chronic Conditions)          & 90.26 \\% & 9.74 \\% \\\\\n",
       "\t Asthama(Self reported prevalence of asthama)      & 95.16 \\% & 4.84 \\% \\\\\n",
       "\t Self reported prevalence of hypertension          & 80.07 \\% & 19.93 \\%\\\\\n",
       "\t Self reported prevalence of stroke                & 97.84 \\% & 2.16 \\% \\\\\n",
       "\t Self reported prevalence of chronic lung diseases & 97.92 \\% & 2.08 \\% \\\\\n",
       "\t Self reported prevalence of depression            & 98.15 \\% & 1.85 \\% \\\\\n",
       "\\end{tabular}\n"
      ],
      "text/markdown": [
       "\n",
       "A data.frame: 8 × 3\n",
       "\n",
       "| Name &lt;chr[,1]&gt; | No &lt;chr&gt; | Yes &lt;chr&gt; |\n",
       "|---|---|---|\n",
       "| Any Morbidity                                     | 68.12 % | 31.88 % |\n",
       "| Angina (Self repoted prevalence of angina)        | 96.4 %  | 3.6 %   |\n",
       "| Diabetes-New Sample (Chronic Conditions)          | 90.26 % | 9.74 %  |\n",
       "| Asthama(Self reported prevalence of asthama)      | 95.16 % | 4.84 %  |\n",
       "| Self reported prevalence of hypertension          | 80.07 % | 19.93 % |\n",
       "| Self reported prevalence of stroke                | 97.84 % | 2.16 %  |\n",
       "| Self reported prevalence of chronic lung diseases | 97.92 % | 2.08 %  |\n",
       "| Self reported prevalence of depression            | 98.15 % | 1.85 %  |\n",
       "\n"
      ],
      "text/plain": [
       "  Name                                              No      Yes    \n",
       "1 Any Morbidity                                     68.12 % 31.88 %\n",
       "2 Angina (Self repoted prevalence of angina)        96.4 %  3.6 %  \n",
       "3 Diabetes-New Sample (Chronic Conditions)          90.26 % 9.74 % \n",
       "4 Asthama(Self reported prevalence of asthama)      95.16 % 4.84 % \n",
       "5 Self reported prevalence of hypertension          80.07 % 19.93 %\n",
       "6 Self reported prevalence of stroke                97.84 % 2.16 % \n",
       "7 Self reported prevalence of chronic lung diseases 97.92 % 2.08 % \n",
       "8 Self reported prevalence of depression            98.15 % 1.85 % "
      ]
     },
     "metadata": {},
     "output_type": "display_data"
    }
   ],
   "source": [
    "dfs <- apply(VariableList, 1, function(Var) { weightedPropFunc(Var[1],  Var[2]) } )\n",
    "weightedDiseasePrev <- do.call(rbind, dfs)\n",
    "weightedDiseasePrev[,1] <- do.call(rbind,lapply(VariableList[,2], function(Var){attr(morbidity[ ,Var], \"label\")})) #\n",
    "attr(morbidity[ ,VariableList[,2][1]], \"label\")\n",
    "weightedDiseasePrev\n",
    "#write.csv( weightedDiseasePrev,\"weightedPrevalence_by_Disease.csv\")"
   ]
  },
  {
   "attachments": {},
   "cell_type": "markdown",
   "metadata": {},
   "source": [
    "## Adherence rates by disease\n",
    "\n",
    "This is the adherence rate by disease, for medications for that disease"
   ]
  },
  {
   "cell_type": "code",
   "execution_count": 753,
   "metadata": {
    "vscode": {
     "languageId": "r"
    }
   },
   "outputs": [],
   "source": [
    "VariableList <- matrix(\n",
    "# disease and question\n",
    "    c(     'morbidity', 'complete_adherence',\n",
    "        # Chronic conditions\n",
    "           'Angina',  \"q4015a\", # Angina\n",
    "         'Diabetes',  \"q4023a\", # Diabetes\n",
    "           'Asthma',  \"q4034a\", # Asthma\n",
    "'Hypertension',  \"q4061a\", # Hypertension\n",
    "           'Stroke',  \"q4011a\", # Stroke\n",
    "      'LungDisease',  \"q4026a\", # Lung Disease\n",
    "       'Depression',  \"q4041a\" # Clinical Depression\n",
    "\n",
    "), ncol = 2, byrow = TRUE\n",
    ")"
   ]
  },
  {
   "cell_type": "code",
   "execution_count": 754,
   "metadata": {
    "vscode": {
     "languageId": "r"
    }
   },
   "outputs": [
    {
     "data": {
      "text/html": [
       "<table class=\"dataframe\">\n",
       "<caption>A data.frame: 8 × 3</caption>\n",
       "<thead>\n",
       "\t<tr><th scope=col>Name</th><th scope=col>No</th><th scope=col>Yes</th></tr>\n",
       "\t<tr><th scope=col>&lt;chr&gt;</th><th scope=col>&lt;chr&gt;</th><th scope=col>&lt;chr&gt;</th></tr>\n",
       "</thead>\n",
       "<tbody>\n",
       "\t<tr><td>Morbidity   </td><td>48.62 %</td><td>51.38 %</td></tr>\n",
       "\t<tr><td>Angina      </td><td>36.94 %</td><td>63.06 %</td></tr>\n",
       "\t<tr><td>Diabetes    </td><td>35.89 %</td><td>64.11 %</td></tr>\n",
       "\t<tr><td>Asthma      </td><td>42.69 %</td><td>57.31 %</td></tr>\n",
       "\t<tr><td>Hypertension</td><td>42.37 %</td><td>57.63 %</td></tr>\n",
       "\t<tr><td>Stroke      </td><td>46.6 % </td><td>53.4 % </td></tr>\n",
       "\t<tr><td>LungDisease </td><td>56.77 %</td><td>43.23 %</td></tr>\n",
       "\t<tr><td>Depression  </td><td>66.81 %</td><td>33.19 %</td></tr>\n",
       "</tbody>\n",
       "</table>\n"
      ],
      "text/latex": [
       "A data.frame: 8 × 3\n",
       "\\begin{tabular}{lll}\n",
       " Name & No & Yes\\\\\n",
       " <chr> & <chr> & <chr>\\\\\n",
       "\\hline\n",
       "\t Morbidity    & 48.62 \\% & 51.38 \\%\\\\\n",
       "\t Angina       & 36.94 \\% & 63.06 \\%\\\\\n",
       "\t Diabetes     & 35.89 \\% & 64.11 \\%\\\\\n",
       "\t Asthma       & 42.69 \\% & 57.31 \\%\\\\\n",
       "\t Hypertension & 42.37 \\% & 57.63 \\%\\\\\n",
       "\t Stroke       & 46.6 \\%  & 53.4 \\% \\\\\n",
       "\t LungDisease  & 56.77 \\% & 43.23 \\%\\\\\n",
       "\t Depression   & 66.81 \\% & 33.19 \\%\\\\\n",
       "\\end{tabular}\n"
      ],
      "text/markdown": [
       "\n",
       "A data.frame: 8 × 3\n",
       "\n",
       "| Name &lt;chr&gt; | No &lt;chr&gt; | Yes &lt;chr&gt; |\n",
       "|---|---|---|\n",
       "| Morbidity    | 48.62 % | 51.38 % |\n",
       "| Angina       | 36.94 % | 63.06 % |\n",
       "| Diabetes     | 35.89 % | 64.11 % |\n",
       "| Asthma       | 42.69 % | 57.31 % |\n",
       "| Hypertension | 42.37 % | 57.63 % |\n",
       "| Stroke       | 46.6 %  | 53.4 %  |\n",
       "| LungDisease  | 56.77 % | 43.23 % |\n",
       "| Depression   | 66.81 % | 33.19 % |\n",
       "\n"
      ],
      "text/plain": [
       "  Name         No      Yes    \n",
       "1 Morbidity    48.62 % 51.38 %\n",
       "2 Angina       36.94 % 63.06 %\n",
       "3 Diabetes     35.89 % 64.11 %\n",
       "4 Asthma       42.69 % 57.31 %\n",
       "5 Hypertension 42.37 % 57.63 %\n",
       "6 Stroke       46.6 %  53.4 % \n",
       "7 LungDisease  56.77 % 43.23 %\n",
       "8 Depression   66.81 % 33.19 %"
      ]
     },
     "metadata": {},
     "output_type": "display_data"
    }
   ],
   "source": [
    "dfs <- apply(VariableList, 1, function(Var) { weightedPropFunc(Var[1],  Var[2]) } )\n",
    "weightedDiseaseAdh <- do.call(rbind, dfs)\n",
    "weightedDiseaseAdh\n",
    "write.csv(weightedDiseaseAdh,\"Misc/weightedAdherence_by_Disease.csv\")"
   ]
  },
  {
   "attachments": {},
   "cell_type": "markdown",
   "metadata": {},
   "source": [
    "## Multimorbidity Rates by disease"
   ]
  },
  {
   "cell_type": "code",
   "execution_count": 755,
   "metadata": {
    "vscode": {
     "languageId": "r"
    }
   },
   "outputs": [],
   "source": [
    "VariableList <- matrix(\n",
    "# disease and question\n",
    "    c(     'morbidity', 'multimorbidity',\n",
    "        # Chronic conditions\n",
    "           'Stroke',  'multimorbidity', # Stroke\n",
    "           'Angina',  'multimorbidity', # Angina\n",
    "         'Diabetes',  'multimorbidity', # Diabetes\n",
    "      'LungDisease',  'multimorbidity', # Lung Disease\n",
    "           'Asthma',  \"multimorbidity\", # Asthma   \n",
    "       'Depression',  'multimorbidity', # Clinical Depression\n",
    "'Hypertension',  'multimorbidity'  # Hypertension\n",
    "), ncol = 2, byrow = TRUE\n",
    ")"
   ]
  },
  {
   "cell_type": "code",
   "execution_count": 756,
   "metadata": {
    "vscode": {
     "languageId": "r"
    }
   },
   "outputs": [
    {
     "data": {
      "text/html": [
       "<table class=\"dataframe\">\n",
       "<caption>A data.frame: 8 × 3</caption>\n",
       "<thead>\n",
       "\t<tr><th scope=col>Name</th><th scope=col>No</th><th scope=col>Yes</th></tr>\n",
       "\t<tr><th scope=col>&lt;chr&gt;</th><th scope=col>&lt;chr&gt;</th><th scope=col>&lt;chr&gt;</th></tr>\n",
       "</thead>\n",
       "<tbody>\n",
       "\t<tr><td>Morbidity   </td><td>71.88 %</td><td>28.12 %</td></tr>\n",
       "\t<tr><td>Stroke      </td><td>31.56 %</td><td>68.44 %</td></tr>\n",
       "\t<tr><td>Angina      </td><td>33.75 %</td><td>66.25 %</td></tr>\n",
       "\t<tr><td>Diabetes    </td><td>45.45 %</td><td>54.55 %</td></tr>\n",
       "\t<tr><td>LungDisease </td><td>35.44 %</td><td>64.56 %</td></tr>\n",
       "\t<tr><td>Asthma      </td><td>56.48 %</td><td>43.52 %</td></tr>\n",
       "\t<tr><td>Depression  </td><td>56.7 % </td><td>43.3 % </td></tr>\n",
       "\t<tr><td>Hypertension</td><td>62.78 %</td><td>37.22 %</td></tr>\n",
       "</tbody>\n",
       "</table>\n"
      ],
      "text/latex": [
       "A data.frame: 8 × 3\n",
       "\\begin{tabular}{lll}\n",
       " Name & No & Yes\\\\\n",
       " <chr> & <chr> & <chr>\\\\\n",
       "\\hline\n",
       "\t Morbidity    & 71.88 \\% & 28.12 \\%\\\\\n",
       "\t Stroke       & 31.56 \\% & 68.44 \\%\\\\\n",
       "\t Angina       & 33.75 \\% & 66.25 \\%\\\\\n",
       "\t Diabetes     & 45.45 \\% & 54.55 \\%\\\\\n",
       "\t LungDisease  & 35.44 \\% & 64.56 \\%\\\\\n",
       "\t Asthma       & 56.48 \\% & 43.52 \\%\\\\\n",
       "\t Depression   & 56.7 \\%  & 43.3 \\% \\\\\n",
       "\t Hypertension & 62.78 \\% & 37.22 \\%\\\\\n",
       "\\end{tabular}\n"
      ],
      "text/markdown": [
       "\n",
       "A data.frame: 8 × 3\n",
       "\n",
       "| Name &lt;chr&gt; | No &lt;chr&gt; | Yes &lt;chr&gt; |\n",
       "|---|---|---|\n",
       "| Morbidity    | 71.88 % | 28.12 % |\n",
       "| Stroke       | 31.56 % | 68.44 % |\n",
       "| Angina       | 33.75 % | 66.25 % |\n",
       "| Diabetes     | 45.45 % | 54.55 % |\n",
       "| LungDisease  | 35.44 % | 64.56 % |\n",
       "| Asthma       | 56.48 % | 43.52 % |\n",
       "| Depression   | 56.7 %  | 43.3 %  |\n",
       "| Hypertension | 62.78 % | 37.22 % |\n",
       "\n"
      ],
      "text/plain": [
       "  Name         No      Yes    \n",
       "1 Morbidity    71.88 % 28.12 %\n",
       "2 Stroke       31.56 % 68.44 %\n",
       "3 Angina       33.75 % 66.25 %\n",
       "4 Diabetes     45.45 % 54.55 %\n",
       "5 LungDisease  35.44 % 64.56 %\n",
       "6 Asthma       56.48 % 43.52 %\n",
       "7 Depression   56.7 %  43.3 % \n",
       "8 Hypertension 62.78 % 37.22 %"
      ]
     },
     "metadata": {},
     "output_type": "display_data"
    }
   ],
   "source": [
    "dfs <- apply(VariableList, 1, function(Var) { weightedPropFunc(Var[1],  Var[2]) } )\n",
    "weightedDiseaseAdh <- do.call(rbind, dfs)\n",
    "weightedDiseaseAdh\n",
    "write.csv(weightedDiseaseAdh,\"Misc/weightedMultimorbidity_by_disease.csv\")"
   ]
  },
  {
   "cell_type": "code",
   "execution_count": 757,
   "metadata": {
    "vscode": {
     "languageId": "r"
    }
   },
   "outputs": [],
   "source": [
    "VariableList <- matrix(\n",
    "# disease and question\n",
    "    c(     'morbidity', 'complex_multimorbidity',\n",
    "        # Chronic conditions\n",
    "           'Stroke',  'complex_multimorbidity', # Stroke\n",
    "           'Angina',  'complex_multimorbidity', # Angina\n",
    "         'Diabetes',  'complex_multimorbidity', # Diabetes\n",
    "      'LungDisease',  'complex_multimorbidity', # Lung Disease\n",
    "           'Asthma',  \"complex_multimorbidity\", # Asthma   \n",
    "       'Depression',  'complex_multimorbidity', # Clinical Depression\n",
    "'Hypertension',  'complex_multimorbidity'  # Hypertension\n",
    "), ncol = 2, byrow = TRUE\n",
    ")"
   ]
  },
  {
   "cell_type": "code",
   "execution_count": 758,
   "metadata": {
    "vscode": {
     "languageId": "r"
    }
   },
   "outputs": [
    {
     "data": {
      "text/html": [
       "<table class=\"dataframe\">\n",
       "<caption>A data.frame: 8 × 3</caption>\n",
       "<thead>\n",
       "\t<tr><th scope=col>Name</th><th scope=col>No</th><th scope=col>Yes</th></tr>\n",
       "\t<tr><th scope=col>&lt;chr&gt;</th><th scope=col>&lt;chr&gt;</th><th scope=col>&lt;chr&gt;</th></tr>\n",
       "</thead>\n",
       "<tbody>\n",
       "\t<tr><td>Morbidity   </td><td>94.07 %</td><td>5.93 % </td></tr>\n",
       "\t<tr><td>Stroke      </td><td>74.49 %</td><td>25.51 %</td></tr>\n",
       "\t<tr><td>Angina      </td><td>70.67 %</td><td>29.33 %</td></tr>\n",
       "\t<tr><td>Diabetes    </td><td>85.79 %</td><td>14.21 %</td></tr>\n",
       "\t<tr><td>LungDisease </td><td>73.73 %</td><td>26.27 %</td></tr>\n",
       "\t<tr><td>Asthma      </td><td>84.3 % </td><td>15.7 % </td></tr>\n",
       "\t<tr><td>Depression  </td><td>83.9 % </td><td>16.1 % </td></tr>\n",
       "\t<tr><td>Hypertension</td><td>91.47 %</td><td>8.53 % </td></tr>\n",
       "</tbody>\n",
       "</table>\n"
      ],
      "text/latex": [
       "A data.frame: 8 × 3\n",
       "\\begin{tabular}{lll}\n",
       " Name & No & Yes\\\\\n",
       " <chr> & <chr> & <chr>\\\\\n",
       "\\hline\n",
       "\t Morbidity    & 94.07 \\% & 5.93 \\% \\\\\n",
       "\t Stroke       & 74.49 \\% & 25.51 \\%\\\\\n",
       "\t Angina       & 70.67 \\% & 29.33 \\%\\\\\n",
       "\t Diabetes     & 85.79 \\% & 14.21 \\%\\\\\n",
       "\t LungDisease  & 73.73 \\% & 26.27 \\%\\\\\n",
       "\t Asthma       & 84.3 \\%  & 15.7 \\% \\\\\n",
       "\t Depression   & 83.9 \\%  & 16.1 \\% \\\\\n",
       "\t Hypertension & 91.47 \\% & 8.53 \\% \\\\\n",
       "\\end{tabular}\n"
      ],
      "text/markdown": [
       "\n",
       "A data.frame: 8 × 3\n",
       "\n",
       "| Name &lt;chr&gt; | No &lt;chr&gt; | Yes &lt;chr&gt; |\n",
       "|---|---|---|\n",
       "| Morbidity    | 94.07 % | 5.93 %  |\n",
       "| Stroke       | 74.49 % | 25.51 % |\n",
       "| Angina       | 70.67 % | 29.33 % |\n",
       "| Diabetes     | 85.79 % | 14.21 % |\n",
       "| LungDisease  | 73.73 % | 26.27 % |\n",
       "| Asthma       | 84.3 %  | 15.7 %  |\n",
       "| Depression   | 83.9 %  | 16.1 %  |\n",
       "| Hypertension | 91.47 % | 8.53 %  |\n",
       "\n"
      ],
      "text/plain": [
       "  Name         No      Yes    \n",
       "1 Morbidity    94.07 % 5.93 % \n",
       "2 Stroke       74.49 % 25.51 %\n",
       "3 Angina       70.67 % 29.33 %\n",
       "4 Diabetes     85.79 % 14.21 %\n",
       "5 LungDisease  73.73 % 26.27 %\n",
       "6 Asthma       84.3 %  15.7 % \n",
       "7 Depression   83.9 %  16.1 % \n",
       "8 Hypertension 91.47 % 8.53 % "
      ]
     },
     "metadata": {},
     "output_type": "display_data"
    }
   ],
   "source": [
    "dfs <- apply(VariableList, 1, function(Var) { weightedPropFunc(Var[1],  Var[2]) } )\n",
    "weightedDiseaseAdh <- do.call(rbind, dfs)\n",
    "weightedDiseaseAdh\n",
    "write.csv(weightedDiseaseAdh,\"Misc/weightedcomplex_Multimorbidity_by_disease.csv\")"
   ]
  },
  {
   "cell_type": "markdown",
   "metadata": {},
   "source": [
    "# Restrict Variables\n",
    "\n",
    "Restrict the variables to only those considered for the logistic regression. These are those which are statistically significant (p < 0.05). When multiple similar categories are possible (eg age and age group), only one is selected. "
   ]
  },
  {
   "cell_type": "code",
   "execution_count": 759,
   "metadata": {
    "vscode": {
     "languageId": "r"
    }
   },
   "outputs": [],
   "source": [
    "# D, C for discrete vs continuous\n",
    "\n",
    "VariableList <- matrix(\n",
    "\n",
    "    c(  \"age_category\", \"D\", #age category\n",
    "        \"quintile\",\"D\", #wealth        \n",
    "        \"count_diseases\", \"C\", #Number of Morbidities        \n",
    "        \"q0104\",  \"D\", # rural/urban\n",
    "        \"q0105a\", \"D\", # state             \n",
    "        \"q1018_\", \"D\", # Caste        \n",
    "        \"q3001\", \"D\", #tobacco        \n",
    "        \"q2010\", \"D\", #cognitive function\n",
    "        \"q1503\", \"D\", #working\n",
    "        \"q1015\",  \"D\", # schooling\n",
    "        \"q2018\",  \"D\", # Depression, last 30 days\n",
    "        \"q4040\",  \"D\", # Clinical Depression\n",
    "        \"q2019\",  \"D\", # Anxiety\n",
    "        \"q4062\",  \"D\"  # Cataracts\n",
    "), ncol = 2, byrow = TRUE\n",
    ")"
   ]
  },
  {
   "cell_type": "markdown",
   "metadata": {},
   "source": [
    "## Restricted Bivariate Analysis"
   ]
  },
  {
   "cell_type": "code",
   "execution_count": 760,
   "metadata": {
    "vscode": {
     "languageId": "r"
    }
   },
   "outputs": [
    {
     "data": {
      "text/html": [
       "<table class=\"dataframe\">\n",
       "<caption>A data.frame: 48 × 4</caption>\n",
       "<thead>\n",
       "\t<tr><th scope=col>Name</th><th scope=col>Nonadhering</th><th scope=col>Adhering</th><th scope=col>Pvalue</th></tr>\n",
       "\t<tr><th scope=col>&lt;chr&gt;</th><th scope=col>&lt;chr&gt;</th><th scope=col>&lt;chr&gt;</th><th scope=col>&lt;chr&gt;</th></tr>\n",
       "</thead>\n",
       "<tbody>\n",
       "\t<tr><td><span style=white-space:pre-wrap>Age Group %                                                    </span></td><td><span style=white-space:pre-wrap>----      </span></td><td><span style=white-space:pre-wrap>----     </span></td><td>&lt;0.001</td></tr>\n",
       "\t<tr><td><span style=white-space:pre-wrap>~~~&lt;50                                                         </span></td><td><span style=white-space:pre-wrap>16.62 %   </span></td><td><span style=white-space:pre-wrap>10.53 %  </span></td><td><span style=white-space:pre-wrap>--    </span></td></tr>\n",
       "\t<tr><td><span style=white-space:pre-wrap>~~~&gt;=50                                                        </span></td><td><span style=white-space:pre-wrap>83.38 %   </span></td><td><span style=white-space:pre-wrap>89.47 %  </span></td><td><span style=white-space:pre-wrap>--    </span></td></tr>\n",
       "\t<tr><td>5 quantiles of wealthscore %                                   </td><td>----      </td><td>----     </td><td>0.008 </td></tr>\n",
       "\t<tr><td>~~~1                                                           </td><td>17.59 %   </td><td>12.48 %  </td><td>--    </td></tr>\n",
       "\t<tr><td>~~~2                                                           </td><td>17.54 %   </td><td>13.92 %  </td><td>--    </td></tr>\n",
       "\t<tr><td>~~~3                                                           </td><td>15.73 %   </td><td>18.9 %   </td><td>--    </td></tr>\n",
       "\t<tr><td>~~~4                                                           </td><td>21.53 %   </td><td>21.72 %  </td><td>--    </td></tr>\n",
       "\t<tr><td>~~~5                                                           </td><td>27.61 %   </td><td>32.99 %  </td><td>--    </td></tr>\n",
       "\t<tr><td><span style=white-space:pre-wrap>Number of Chronic Conditions [mean (SD)]                       </span></td><td>1.5 (0.74)</td><td>1.2 (0.5)</td><td>&lt;0.001</td></tr>\n",
       "\t<tr><td>Place of residence %                                           </td><td>----      </td><td>----     </td><td>0.006 </td></tr>\n",
       "\t<tr><td>~~~Urban                                                       </td><td>27.02 %   </td><td>37.1 %   </td><td>--    </td></tr>\n",
       "\t<tr><td>~~~Rural                                                       </td><td>72.98 %   </td><td>62.9 %   </td><td>--    </td></tr>\n",
       "\t<tr><td><span style=white-space:pre-wrap>Region %                                                       </span></td><td><span style=white-space:pre-wrap>----      </span></td><td><span style=white-space:pre-wrap>----     </span></td><td>&lt;0.001</td></tr>\n",
       "\t<tr><td>~~~ASSAM                                                       </td><td>11.71 %   </td><td>4.1 %    </td><td>--    </td></tr>\n",
       "\t<tr><td>~~~KARNATAKA                                                   </td><td>9.15 %    </td><td>17.36 %  </td><td>--    </td></tr>\n",
       "\t<tr><td>~~~MAHARASHTRA                                                 </td><td>19.21 %   </td><td>17.72 %  </td><td>--    </td></tr>\n",
       "\t<tr><td>~~~RAJASTHAN                                                   </td><td>19.85 %   </td><td>12.04 %  </td><td>--    </td></tr>\n",
       "\t<tr><td>~~~UTTAR PRADESH                                               </td><td>21.59 %   </td><td>21.65 %  </td><td>--    </td></tr>\n",
       "\t<tr><td>~~~WEST BENGAL                                                 </td><td>18.49 %   </td><td>27.14 %  </td><td>--    </td></tr>\n",
       "\t<tr><td>Ethnic Group %                                                 </td><td>----      </td><td>----     </td><td>0.002 </td></tr>\n",
       "\t<tr><td>~~~Schedule Tribe                                              </td><td>6.33 %    </td><td>4.07 %   </td><td>--    </td></tr>\n",
       "\t<tr><td>~~~Schedule Caste                                              </td><td>16.42 %   </td><td>12.5 %   </td><td>--    </td></tr>\n",
       "\t<tr><td>~~~Others                                                      </td><td>77.25 %   </td><td>83.43 %  </td><td>--    </td></tr>\n",
       "\t<tr><td>Ever smoked %                                                  </td><td>----      </td><td>----     </td><td>0.021 </td></tr>\n",
       "\t<tr><td>~~~No                                                          </td><td>62.4 %    </td><td>68.79 %  </td><td>--    </td></tr>\n",
       "\t<tr><td>~~~Yes                                                         </td><td>37.6 %    </td><td>31.21 %  </td><td>--    </td></tr>\n",
       "\t<tr><td>Difficulty in cognition with concentrating/remembering things %</td><td>----      </td><td>----     </td><td>0.036 </td></tr>\n",
       "\t<tr><td>~~~Moderate or worse                                           </td><td>38.42 %   </td><td>32.84 %  </td><td>--    </td></tr>\n",
       "\t<tr><td>~~~None/Mild                                                   </td><td>61.58 %   </td><td>67.16 %  </td><td>--    </td></tr>\n",
       "\t<tr><td>Currently working %                                            </td><td>----      </td><td>----     </td><td>0.008 </td></tr>\n",
       "\t<tr><td>~~~Yes                                                         </td><td>60.63 %   </td><td>50.5 %   </td><td>--    </td></tr>\n",
       "\t<tr><td>~~~No                                                          </td><td>39.37 %   </td><td>49.5 %   </td><td>--    </td></tr>\n",
       "\t<tr><td><span style=white-space:pre-wrap>Ever Been to School %                                          </span></td><td><span style=white-space:pre-wrap>----      </span></td><td><span style=white-space:pre-wrap>----     </span></td><td>&lt;0.001</td></tr>\n",
       "\t<tr><td>~~~Yes                                                         </td><td>58.65 %   </td><td>66.27 %  </td><td>--    </td></tr>\n",
       "\t<tr><td>~~~No                                                          </td><td>41.35 %   </td><td>33.73 %  </td><td>--    </td></tr>\n",
       "\t<tr><td>Feeling sad/low/depression %                                   </td><td>----      </td><td>----     </td><td>0.012 </td></tr>\n",
       "\t<tr><td>~~~None/Mild                                                   </td><td>69.97 %   </td><td>75.24 %  </td><td>--    </td></tr>\n",
       "\t<tr><td>~~~Moderate or worse                                           </td><td>30.03 %   </td><td>24.76 %  </td><td>--    </td></tr>\n",
       "\t<tr><td><span style=white-space:pre-wrap>Self reported prevalence of depression %                       </span></td><td><span style=white-space:pre-wrap>----      </span></td><td><span style=white-space:pre-wrap>----     </span></td><td>&lt;0.001</td></tr>\n",
       "\t<tr><td>~~~No                                                          </td><td>89.24 %   </td><td>96.21 %  </td><td>--    </td></tr>\n",
       "\t<tr><td>~~~Yes                                                         </td><td>10.76 %   </td><td>3.79 %   </td><td>--    </td></tr>\n",
       "\t<tr><td>Worry or anxiety %                                             </td><td>----      </td><td>----     </td><td>0.005 </td></tr>\n",
       "\t<tr><td>~~~None/Mild                                                   </td><td>57.03 %   </td><td>64.53 %  </td><td>--    </td></tr>\n",
       "\t<tr><td>~~~Moderate or worse                                           </td><td>42.97 %   </td><td>35.47 %  </td><td>--    </td></tr>\n",
       "\t<tr><td>Cataracts- New Sample (Chronic Conditions) %                   </td><td>----      </td><td>----     </td><td>0.831 </td></tr>\n",
       "\t<tr><td>~~~No                                                          </td><td>76.05 %   </td><td>75.53 %  </td><td>--    </td></tr>\n",
       "\t<tr><td>~~~Yes                                                         </td><td>23.95 %   </td><td>24.47 %  </td><td>--    </td></tr>\n",
       "</tbody>\n",
       "</table>\n"
      ],
      "text/latex": [
       "A data.frame: 48 × 4\n",
       "\\begin{tabular}{llll}\n",
       " Name & Nonadhering & Adhering & Pvalue\\\\\n",
       " <chr> & <chr> & <chr> & <chr>\\\\\n",
       "\\hline\n",
       "\t Age Group \\%                                                     & ----       & ----      & <0.001\\\\\n",
       "\t \\textasciitilde{}\\textasciitilde{}\\textasciitilde{}<50                                                          & 16.62 \\%    & 10.53 \\%   & --    \\\\\n",
       "\t \\textasciitilde{}\\textasciitilde{}\\textasciitilde{}>=50                                                         & 83.38 \\%    & 89.47 \\%   & --    \\\\\n",
       "\t 5 quantiles of wealthscore \\%                                    & ----       & ----      & 0.008 \\\\\n",
       "\t \\textasciitilde{}\\textasciitilde{}\\textasciitilde{}1                                                            & 17.59 \\%    & 12.48 \\%   & --    \\\\\n",
       "\t \\textasciitilde{}\\textasciitilde{}\\textasciitilde{}2                                                            & 17.54 \\%    & 13.92 \\%   & --    \\\\\n",
       "\t \\textasciitilde{}\\textasciitilde{}\\textasciitilde{}3                                                            & 15.73 \\%    & 18.9 \\%    & --    \\\\\n",
       "\t \\textasciitilde{}\\textasciitilde{}\\textasciitilde{}4                                                            & 21.53 \\%    & 21.72 \\%   & --    \\\\\n",
       "\t \\textasciitilde{}\\textasciitilde{}\\textasciitilde{}5                                                            & 27.61 \\%    & 32.99 \\%   & --    \\\\\n",
       "\t Number of Chronic Conditions {[}mean (SD){]}                        & 1.5 (0.74) & 1.2 (0.5) & <0.001\\\\\n",
       "\t Place of residence \\%                                            & ----       & ----      & 0.006 \\\\\n",
       "\t \\textasciitilde{}\\textasciitilde{}\\textasciitilde{}Urban                                                        & 27.02 \\%    & 37.1 \\%    & --    \\\\\n",
       "\t \\textasciitilde{}\\textasciitilde{}\\textasciitilde{}Rural                                                        & 72.98 \\%    & 62.9 \\%    & --    \\\\\n",
       "\t Region \\%                                                        & ----       & ----      & <0.001\\\\\n",
       "\t \\textasciitilde{}\\textasciitilde{}\\textasciitilde{}ASSAM                                                        & 11.71 \\%    & 4.1 \\%     & --    \\\\\n",
       "\t \\textasciitilde{}\\textasciitilde{}\\textasciitilde{}KARNATAKA                                                    & 9.15 \\%     & 17.36 \\%   & --    \\\\\n",
       "\t \\textasciitilde{}\\textasciitilde{}\\textasciitilde{}MAHARASHTRA                                                  & 19.21 \\%    & 17.72 \\%   & --    \\\\\n",
       "\t \\textasciitilde{}\\textasciitilde{}\\textasciitilde{}RAJASTHAN                                                    & 19.85 \\%    & 12.04 \\%   & --    \\\\\n",
       "\t \\textasciitilde{}\\textasciitilde{}\\textasciitilde{}UTTAR PRADESH                                                & 21.59 \\%    & 21.65 \\%   & --    \\\\\n",
       "\t \\textasciitilde{}\\textasciitilde{}\\textasciitilde{}WEST BENGAL                                                  & 18.49 \\%    & 27.14 \\%   & --    \\\\\n",
       "\t Ethnic Group \\%                                                  & ----       & ----      & 0.002 \\\\\n",
       "\t \\textasciitilde{}\\textasciitilde{}\\textasciitilde{}Schedule Tribe                                               & 6.33 \\%     & 4.07 \\%    & --    \\\\\n",
       "\t \\textasciitilde{}\\textasciitilde{}\\textasciitilde{}Schedule Caste                                               & 16.42 \\%    & 12.5 \\%    & --    \\\\\n",
       "\t \\textasciitilde{}\\textasciitilde{}\\textasciitilde{}Others                                                       & 77.25 \\%    & 83.43 \\%   & --    \\\\\n",
       "\t Ever smoked \\%                                                   & ----       & ----      & 0.021 \\\\\n",
       "\t \\textasciitilde{}\\textasciitilde{}\\textasciitilde{}No                                                           & 62.4 \\%     & 68.79 \\%   & --    \\\\\n",
       "\t \\textasciitilde{}\\textasciitilde{}\\textasciitilde{}Yes                                                          & 37.6 \\%     & 31.21 \\%   & --    \\\\\n",
       "\t Difficulty in cognition with concentrating/remembering things \\% & ----       & ----      & 0.036 \\\\\n",
       "\t \\textasciitilde{}\\textasciitilde{}\\textasciitilde{}Moderate or worse                                            & 38.42 \\%    & 32.84 \\%   & --    \\\\\n",
       "\t \\textasciitilde{}\\textasciitilde{}\\textasciitilde{}None/Mild                                                    & 61.58 \\%    & 67.16 \\%   & --    \\\\\n",
       "\t Currently working \\%                                             & ----       & ----      & 0.008 \\\\\n",
       "\t \\textasciitilde{}\\textasciitilde{}\\textasciitilde{}Yes                                                          & 60.63 \\%    & 50.5 \\%    & --    \\\\\n",
       "\t \\textasciitilde{}\\textasciitilde{}\\textasciitilde{}No                                                           & 39.37 \\%    & 49.5 \\%    & --    \\\\\n",
       "\t Ever Been to School \\%                                           & ----       & ----      & <0.001\\\\\n",
       "\t \\textasciitilde{}\\textasciitilde{}\\textasciitilde{}Yes                                                          & 58.65 \\%    & 66.27 \\%   & --    \\\\\n",
       "\t \\textasciitilde{}\\textasciitilde{}\\textasciitilde{}No                                                           & 41.35 \\%    & 33.73 \\%   & --    \\\\\n",
       "\t Feeling sad/low/depression \\%                                    & ----       & ----      & 0.012 \\\\\n",
       "\t \\textasciitilde{}\\textasciitilde{}\\textasciitilde{}None/Mild                                                    & 69.97 \\%    & 75.24 \\%   & --    \\\\\n",
       "\t \\textasciitilde{}\\textasciitilde{}\\textasciitilde{}Moderate or worse                                            & 30.03 \\%    & 24.76 \\%   & --    \\\\\n",
       "\t Self reported prevalence of depression \\%                        & ----       & ----      & <0.001\\\\\n",
       "\t \\textasciitilde{}\\textasciitilde{}\\textasciitilde{}No                                                           & 89.24 \\%    & 96.21 \\%   & --    \\\\\n",
       "\t \\textasciitilde{}\\textasciitilde{}\\textasciitilde{}Yes                                                          & 10.76 \\%    & 3.79 \\%    & --    \\\\\n",
       "\t Worry or anxiety \\%                                              & ----       & ----      & 0.005 \\\\\n",
       "\t \\textasciitilde{}\\textasciitilde{}\\textasciitilde{}None/Mild                                                    & 57.03 \\%    & 64.53 \\%   & --    \\\\\n",
       "\t \\textasciitilde{}\\textasciitilde{}\\textasciitilde{}Moderate or worse                                            & 42.97 \\%    & 35.47 \\%   & --    \\\\\n",
       "\t Cataracts- New Sample (Chronic Conditions) \\%                    & ----       & ----      & 0.831 \\\\\n",
       "\t \\textasciitilde{}\\textasciitilde{}\\textasciitilde{}No                                                           & 76.05 \\%    & 75.53 \\%   & --    \\\\\n",
       "\t \\textasciitilde{}\\textasciitilde{}\\textasciitilde{}Yes                                                          & 23.95 \\%    & 24.47 \\%   & --    \\\\\n",
       "\\end{tabular}\n"
      ],
      "text/markdown": [
       "\n",
       "A data.frame: 48 × 4\n",
       "\n",
       "| Name &lt;chr&gt; | Nonadhering &lt;chr&gt; | Adhering &lt;chr&gt; | Pvalue &lt;chr&gt; |\n",
       "|---|---|---|---|\n",
       "| Age Group %                                                     | ----       | ----      | &lt;0.001 |\n",
       "| ~~~&lt;50                                                          | 16.62 %    | 10.53 %   | --     |\n",
       "| ~~~&gt;=50                                                         | 83.38 %    | 89.47 %   | --     |\n",
       "| 5 quantiles of wealthscore %                                    | ----       | ----      | 0.008  |\n",
       "| ~~~1                                                            | 17.59 %    | 12.48 %   | --     |\n",
       "| ~~~2                                                            | 17.54 %    | 13.92 %   | --     |\n",
       "| ~~~3                                                            | 15.73 %    | 18.9 %    | --     |\n",
       "| ~~~4                                                            | 21.53 %    | 21.72 %   | --     |\n",
       "| ~~~5                                                            | 27.61 %    | 32.99 %   | --     |\n",
       "| Number of Chronic Conditions [mean (SD)]                        | 1.5 (0.74) | 1.2 (0.5) | &lt;0.001 |\n",
       "| Place of residence %                                            | ----       | ----      | 0.006  |\n",
       "| ~~~Urban                                                        | 27.02 %    | 37.1 %    | --     |\n",
       "| ~~~Rural                                                        | 72.98 %    | 62.9 %    | --     |\n",
       "| Region %                                                        | ----       | ----      | &lt;0.001 |\n",
       "| ~~~ASSAM                                                        | 11.71 %    | 4.1 %     | --     |\n",
       "| ~~~KARNATAKA                                                    | 9.15 %     | 17.36 %   | --     |\n",
       "| ~~~MAHARASHTRA                                                  | 19.21 %    | 17.72 %   | --     |\n",
       "| ~~~RAJASTHAN                                                    | 19.85 %    | 12.04 %   | --     |\n",
       "| ~~~UTTAR PRADESH                                                | 21.59 %    | 21.65 %   | --     |\n",
       "| ~~~WEST BENGAL                                                  | 18.49 %    | 27.14 %   | --     |\n",
       "| Ethnic Group %                                                  | ----       | ----      | 0.002  |\n",
       "| ~~~Schedule Tribe                                               | 6.33 %     | 4.07 %    | --     |\n",
       "| ~~~Schedule Caste                                               | 16.42 %    | 12.5 %    | --     |\n",
       "| ~~~Others                                                       | 77.25 %    | 83.43 %   | --     |\n",
       "| Ever smoked %                                                   | ----       | ----      | 0.021  |\n",
       "| ~~~No                                                           | 62.4 %     | 68.79 %   | --     |\n",
       "| ~~~Yes                                                          | 37.6 %     | 31.21 %   | --     |\n",
       "| Difficulty in cognition with concentrating/remembering things % | ----       | ----      | 0.036  |\n",
       "| ~~~Moderate or worse                                            | 38.42 %    | 32.84 %   | --     |\n",
       "| ~~~None/Mild                                                    | 61.58 %    | 67.16 %   | --     |\n",
       "| Currently working %                                             | ----       | ----      | 0.008  |\n",
       "| ~~~Yes                                                          | 60.63 %    | 50.5 %    | --     |\n",
       "| ~~~No                                                           | 39.37 %    | 49.5 %    | --     |\n",
       "| Ever Been to School %                                           | ----       | ----      | &lt;0.001 |\n",
       "| ~~~Yes                                                          | 58.65 %    | 66.27 %   | --     |\n",
       "| ~~~No                                                           | 41.35 %    | 33.73 %   | --     |\n",
       "| Feeling sad/low/depression %                                    | ----       | ----      | 0.012  |\n",
       "| ~~~None/Mild                                                    | 69.97 %    | 75.24 %   | --     |\n",
       "| ~~~Moderate or worse                                            | 30.03 %    | 24.76 %   | --     |\n",
       "| Self reported prevalence of depression %                        | ----       | ----      | &lt;0.001 |\n",
       "| ~~~No                                                           | 89.24 %    | 96.21 %   | --     |\n",
       "| ~~~Yes                                                          | 10.76 %    | 3.79 %    | --     |\n",
       "| Worry or anxiety %                                              | ----       | ----      | 0.005  |\n",
       "| ~~~None/Mild                                                    | 57.03 %    | 64.53 %   | --     |\n",
       "| ~~~Moderate or worse                                            | 42.97 %    | 35.47 %   | --     |\n",
       "| Cataracts- New Sample (Chronic Conditions) %                    | ----       | ----      | 0.831  |\n",
       "| ~~~No                                                           | 76.05 %    | 75.53 %   | --     |\n",
       "| ~~~Yes                                                          | 23.95 %    | 24.47 %   | --     |\n",
       "\n"
      ],
      "text/plain": [
       "   Name                                                            Nonadhering\n",
       "1  Age Group %                                                     ----       \n",
       "2  ~~~<50                                                          16.62 %    \n",
       "3  ~~~>=50                                                         83.38 %    \n",
       "4  5 quantiles of wealthscore %                                    ----       \n",
       "5  ~~~1                                                            17.59 %    \n",
       "6  ~~~2                                                            17.54 %    \n",
       "7  ~~~3                                                            15.73 %    \n",
       "8  ~~~4                                                            21.53 %    \n",
       "9  ~~~5                                                            27.61 %    \n",
       "10 Number of Chronic Conditions [mean (SD)]                        1.5 (0.74) \n",
       "11 Place of residence %                                            ----       \n",
       "12 ~~~Urban                                                        27.02 %    \n",
       "13 ~~~Rural                                                        72.98 %    \n",
       "14 Region %                                                        ----       \n",
       "15 ~~~ASSAM                                                        11.71 %    \n",
       "16 ~~~KARNATAKA                                                    9.15 %     \n",
       "17 ~~~MAHARASHTRA                                                  19.21 %    \n",
       "18 ~~~RAJASTHAN                                                    19.85 %    \n",
       "19 ~~~UTTAR PRADESH                                                21.59 %    \n",
       "20 ~~~WEST BENGAL                                                  18.49 %    \n",
       "21 Ethnic Group %                                                  ----       \n",
       "22 ~~~Schedule Tribe                                               6.33 %     \n",
       "23 ~~~Schedule Caste                                               16.42 %    \n",
       "24 ~~~Others                                                       77.25 %    \n",
       "25 Ever smoked %                                                   ----       \n",
       "26 ~~~No                                                           62.4 %     \n",
       "27 ~~~Yes                                                          37.6 %     \n",
       "28 Difficulty in cognition with concentrating/remembering things % ----       \n",
       "29 ~~~Moderate or worse                                            38.42 %    \n",
       "30 ~~~None/Mild                                                    61.58 %    \n",
       "31 Currently working %                                             ----       \n",
       "32 ~~~Yes                                                          60.63 %    \n",
       "33 ~~~No                                                           39.37 %    \n",
       "34 Ever Been to School %                                           ----       \n",
       "35 ~~~Yes                                                          58.65 %    \n",
       "36 ~~~No                                                           41.35 %    \n",
       "37 Feeling sad/low/depression %                                    ----       \n",
       "38 ~~~None/Mild                                                    69.97 %    \n",
       "39 ~~~Moderate or worse                                            30.03 %    \n",
       "40 Self reported prevalence of depression %                        ----       \n",
       "41 ~~~No                                                           89.24 %    \n",
       "42 ~~~Yes                                                          10.76 %    \n",
       "43 Worry or anxiety %                                              ----       \n",
       "44 ~~~None/Mild                                                    57.03 %    \n",
       "45 ~~~Moderate or worse                                            42.97 %    \n",
       "46 Cataracts- New Sample (Chronic Conditions) %                    ----       \n",
       "47 ~~~No                                                           76.05 %    \n",
       "48 ~~~Yes                                                          23.95 %    \n",
       "   Adhering  Pvalue\n",
       "1  ----      <0.001\n",
       "2  10.53 %   --    \n",
       "3  89.47 %   --    \n",
       "4  ----      0.008 \n",
       "5  12.48 %   --    \n",
       "6  13.92 %   --    \n",
       "7  18.9 %    --    \n",
       "8  21.72 %   --    \n",
       "9  32.99 %   --    \n",
       "10 1.2 (0.5) <0.001\n",
       "11 ----      0.006 \n",
       "12 37.1 %    --    \n",
       "13 62.9 %    --    \n",
       "14 ----      <0.001\n",
       "15 4.1 %     --    \n",
       "16 17.36 %   --    \n",
       "17 17.72 %   --    \n",
       "18 12.04 %   --    \n",
       "19 21.65 %   --    \n",
       "20 27.14 %   --    \n",
       "21 ----      0.002 \n",
       "22 4.07 %    --    \n",
       "23 12.5 %    --    \n",
       "24 83.43 %   --    \n",
       "25 ----      0.021 \n",
       "26 68.79 %   --    \n",
       "27 31.21 %   --    \n",
       "28 ----      0.036 \n",
       "29 32.84 %   --    \n",
       "30 67.16 %   --    \n",
       "31 ----      0.008 \n",
       "32 50.5 %    --    \n",
       "33 49.5 %    --    \n",
       "34 ----      <0.001\n",
       "35 66.27 %   --    \n",
       "36 33.73 %   --    \n",
       "37 ----      0.012 \n",
       "38 75.24 %   --    \n",
       "39 24.76 %   --    \n",
       "40 ----      <0.001\n",
       "41 96.21 %   --    \n",
       "42 3.79 %    --    \n",
       "43 ----      0.005 \n",
       "44 64.53 %   --    \n",
       "45 35.47 %   --    \n",
       "46 ----      0.831 \n",
       "47 75.53 %   --    \n",
       "48 24.47 %   --    "
      ]
     },
     "metadata": {},
     "output_type": "display_data"
    }
   ],
   "source": [
    "dfs <- apply(VariableList, 1, function(Var) {weightedBVCalc(Var, Morbidity, 'complete_adherence')})\n",
    "MorbidityBV <- do.call(rbind, dfs)\n",
    "MorbidityBV\n",
    "write.csv(MorbidityBV,\"Supplementary2/MorbidityBVrestricted.csv\")"
   ]
  },
  {
   "attachments": {},
   "cell_type": "markdown",
   "metadata": {},
   "source": [
    "# Logistic Regression Model"
   ]
  },
  {
   "attachments": {},
   "cell_type": "markdown",
   "metadata": {},
   "source": [
    "State and caste are not included in the logistic regression"
   ]
  },
  {
   "cell_type": "code",
   "execution_count": 761,
   "metadata": {
    "vscode": {
     "languageId": "r"
    }
   },
   "outputs": [],
   "source": [
    "VariableList <- matrix(\n",
    "\n",
    "    c(  \"age_category\", \"D\", #age category\n",
    "        \"wealthscore\", \"C\", #wealthscore\n",
    "        \"quintile\",\"D\", #wealth        \n",
    "        \"count_diseases\", \"C\", #Number of Morbidities        \n",
    "        \"q0104\",  \"D\", # rural/urban        \n",
    "        \"q3001\", \"D\", #tobacco        \n",
    "        \"q2010\", \"D\", #cognitive function\n",
    "        \"q1503\", \"D\", #working\n",
    "        \"q1015\",  \"D\", # schooling\n",
    "        \"q2018\",  \"D\", # Depression, last 30 days\n",
    "        \"q4040\",  \"D\", # Clinical Depression\n",
    "        \"q2019\",  \"D\" # Anxiety\n",
    "        #\"q4062\",  \"D\"  # Cataracts\n",
    "), ncol = 2, byrow = TRUE\n",
    ")"
   ]
  },
  {
   "cell_type": "code",
   "execution_count": 762,
   "metadata": {
    "vscode": {
     "languageId": "r"
    }
   },
   "outputs": [],
   "source": [
    "AnalysisData <- dplyr::select(morbidity, c(VariableList[,1],'complete_adherence', 'partial_adherence'))"
   ]
  },
  {
   "attachments": {},
   "cell_type": "markdown",
   "metadata": {},
   "source": [
    "The logistic regression needs Yes encoded as 1, and No as 0"
   ]
  },
  {
   "cell_type": "code",
   "execution_count": 763,
   "metadata": {
    "vscode": {
     "languageId": "r"
    }
   },
   "outputs": [],
   "source": [
    "AnalysisData$complete_adherence <- dplyr::recode(AnalysisData$complete_adherence, 'Yes' = 1, 'No' = 0)\n",
    "AnalysisData$partial_adherence <- dplyr::recode(AnalysisData$partial_adherence, 'Yes' = 1, 'No' = 0)"
   ]
  },
  {
   "attachments": {},
   "cell_type": "markdown",
   "metadata": {},
   "source": [
    "## Remove NAs\n",
    "Ensure any column with more than 10% NA values is removed"
   ]
  },
  {
   "cell_type": "code",
   "execution_count": 764,
   "metadata": {
    "vscode": {
     "languageId": "r"
    }
   },
   "outputs": [
    {
     "data": {
      "text/html": [
       "<table class=\"dataframe\">\n",
       "<caption>A data.frame: 1 × 14</caption>\n",
       "<thead>\n",
       "\t<tr><th scope=col>age_category</th><th scope=col>wealthscore</th><th scope=col>quintile</th><th scope=col>count_diseases</th><th scope=col>q0104</th><th scope=col>q3001</th><th scope=col>q2010</th><th scope=col>q1503</th><th scope=col>q1015</th><th scope=col>q2018</th><th scope=col>q4040</th><th scope=col>q2019</th><th scope=col>complete_adherence</th><th scope=col>partial_adherence</th></tr>\n",
       "\t<tr><th scope=col>&lt;dbl&gt;</th><th scope=col>&lt;dbl&gt;</th><th scope=col>&lt;dbl&gt;</th><th scope=col>&lt;dbl&gt;</th><th scope=col>&lt;dbl&gt;</th><th scope=col>&lt;dbl&gt;</th><th scope=col>&lt;dbl&gt;</th><th scope=col>&lt;dbl&gt;</th><th scope=col>&lt;dbl&gt;</th><th scope=col>&lt;dbl&gt;</th><th scope=col>&lt;dbl&gt;</th><th scope=col>&lt;dbl&gt;</th><th scope=col>&lt;dbl&gt;</th><th scope=col>&lt;dbl&gt;</th></tr>\n",
       "</thead>\n",
       "<tbody>\n",
       "\t<tr><td>0</td><td>0.01091549</td><td>0</td><td>0</td><td>0</td><td>0</td><td>0</td><td>0.4978873</td><td>0</td><td>0</td><td>0.0003521127</td><td>0</td><td>0</td><td>0</td></tr>\n",
       "</tbody>\n",
       "</table>\n"
      ],
      "text/latex": [
       "A data.frame: 1 × 14\n",
       "\\begin{tabular}{llllllllllllll}\n",
       " age\\_category & wealthscore & quintile & count\\_diseases & q0104 & q3001 & q2010 & q1503 & q1015 & q2018 & q4040 & q2019 & complete\\_adherence & partial\\_adherence\\\\\n",
       " <dbl> & <dbl> & <dbl> & <dbl> & <dbl> & <dbl> & <dbl> & <dbl> & <dbl> & <dbl> & <dbl> & <dbl> & <dbl> & <dbl>\\\\\n",
       "\\hline\n",
       "\t 0 & 0.01091549 & 0 & 0 & 0 & 0 & 0 & 0.4978873 & 0 & 0 & 0.0003521127 & 0 & 0 & 0\\\\\n",
       "\\end{tabular}\n"
      ],
      "text/markdown": [
       "\n",
       "A data.frame: 1 × 14\n",
       "\n",
       "| age_category &lt;dbl&gt; | wealthscore &lt;dbl&gt; | quintile &lt;dbl&gt; | count_diseases &lt;dbl&gt; | q0104 &lt;dbl&gt; | q3001 &lt;dbl&gt; | q2010 &lt;dbl&gt; | q1503 &lt;dbl&gt; | q1015 &lt;dbl&gt; | q2018 &lt;dbl&gt; | q4040 &lt;dbl&gt; | q2019 &lt;dbl&gt; | complete_adherence &lt;dbl&gt; | partial_adherence &lt;dbl&gt; |\n",
       "|---|---|---|---|---|---|---|---|---|---|---|---|---|---|\n",
       "| 0 | 0.01091549 | 0 | 0 | 0 | 0 | 0 | 0.4978873 | 0 | 0 | 0.0003521127 | 0 | 0 | 0 |\n",
       "\n"
      ],
      "text/plain": [
       "  age_category wealthscore quintile count_diseases q0104 q3001 q2010 q1503    \n",
       "1 0            0.01091549  0        0              0     0     0     0.4978873\n",
       "  q1015 q2018 q4040        q2019 complete_adherence partial_adherence\n",
       "1 0     0     0.0003521127 0     0                  0                "
      ]
     },
     "metadata": {},
     "output_type": "display_data"
    }
   ],
   "source": [
    "AnalysisData %>% summarize_all(funs(sum(is.na(.)) / length(.)))\n",
    "original_cols <- colnames(AnalysisData)"
   ]
  },
  {
   "cell_type": "code",
   "execution_count": 765,
   "metadata": {
    "vscode": {
     "languageId": "r"
    }
   },
   "outputs": [
    {
     "data": {
      "text/html": [
       "<table class=\"dataframe\">\n",
       "<caption>A data.frame: 1 × 13</caption>\n",
       "<thead>\n",
       "\t<tr><th scope=col>age_category</th><th scope=col>wealthscore</th><th scope=col>quintile</th><th scope=col>count_diseases</th><th scope=col>q0104</th><th scope=col>q3001</th><th scope=col>q2010</th><th scope=col>q1015</th><th scope=col>q2018</th><th scope=col>q4040</th><th scope=col>q2019</th><th scope=col>complete_adherence</th><th scope=col>partial_adherence</th></tr>\n",
       "\t<tr><th scope=col>&lt;dbl&gt;</th><th scope=col>&lt;dbl&gt;</th><th scope=col>&lt;dbl&gt;</th><th scope=col>&lt;dbl&gt;</th><th scope=col>&lt;dbl&gt;</th><th scope=col>&lt;dbl&gt;</th><th scope=col>&lt;dbl&gt;</th><th scope=col>&lt;dbl&gt;</th><th scope=col>&lt;dbl&gt;</th><th scope=col>&lt;dbl&gt;</th><th scope=col>&lt;dbl&gt;</th><th scope=col>&lt;dbl&gt;</th><th scope=col>&lt;dbl&gt;</th></tr>\n",
       "</thead>\n",
       "<tbody>\n",
       "\t<tr><td>0</td><td>0.01091549</td><td>0</td><td>0</td><td>0</td><td>0</td><td>0</td><td>0</td><td>0</td><td>0.0003521127</td><td>0</td><td>0</td><td>0</td></tr>\n",
       "</tbody>\n",
       "</table>\n"
      ],
      "text/latex": [
       "A data.frame: 1 × 13\n",
       "\\begin{tabular}{lllllllllllll}\n",
       " age\\_category & wealthscore & quintile & count\\_diseases & q0104 & q3001 & q2010 & q1015 & q2018 & q4040 & q2019 & complete\\_adherence & partial\\_adherence\\\\\n",
       " <dbl> & <dbl> & <dbl> & <dbl> & <dbl> & <dbl> & <dbl> & <dbl> & <dbl> & <dbl> & <dbl> & <dbl> & <dbl>\\\\\n",
       "\\hline\n",
       "\t 0 & 0.01091549 & 0 & 0 & 0 & 0 & 0 & 0 & 0 & 0.0003521127 & 0 & 0 & 0\\\\\n",
       "\\end{tabular}\n"
      ],
      "text/markdown": [
       "\n",
       "A data.frame: 1 × 13\n",
       "\n",
       "| age_category &lt;dbl&gt; | wealthscore &lt;dbl&gt; | quintile &lt;dbl&gt; | count_diseases &lt;dbl&gt; | q0104 &lt;dbl&gt; | q3001 &lt;dbl&gt; | q2010 &lt;dbl&gt; | q1015 &lt;dbl&gt; | q2018 &lt;dbl&gt; | q4040 &lt;dbl&gt; | q2019 &lt;dbl&gt; | complete_adherence &lt;dbl&gt; | partial_adherence &lt;dbl&gt; |\n",
       "|---|---|---|---|---|---|---|---|---|---|---|---|---|\n",
       "| 0 | 0.01091549 | 0 | 0 | 0 | 0 | 0 | 0 | 0 | 0.0003521127 | 0 | 0 | 0 |\n",
       "\n"
      ],
      "text/plain": [
       "  age_category wealthscore quintile count_diseases q0104 q3001 q2010 q1015\n",
       "1 0            0.01091549  0        0              0     0     0     0    \n",
       "  q2018 q4040        q2019 complete_adherence partial_adherence\n",
       "1 0     0.0003521127 0     0                  0                "
      ]
     },
     "metadata": {},
     "output_type": "display_data"
    },
    {
     "data": {
      "text/html": [
       "'Removed :q1503'"
      ],
      "text/latex": [
       "'Removed :q1503'"
      ],
      "text/markdown": [
       "'Removed :q1503'"
      ],
      "text/plain": [
       "[1] \"Removed :q1503\""
      ]
     },
     "metadata": {},
     "output_type": "display_data"
    }
   ],
   "source": [
    "AnalysisData <- AnalysisData[lapply(AnalysisData, function(x) mean(is.na(x))) < 0.1]\n",
    "AnalysisData %>% summarize_all(funs(sum(is.na(.)) / length(.)))\n",
    "final_cols <- colnames(AnalysisData)\n",
    "paste('Removed :', setdiff(original_cols, final_cols), sep = '')"
   ]
  },
  {
   "cell_type": "markdown",
   "metadata": {},
   "source": [
    "## Set reference categories"
   ]
  },
  {
   "cell_type": "code",
   "execution_count": 766,
   "metadata": {
    "vscode": {
     "languageId": "r"
    }
   },
   "outputs": [],
   "source": [
    "AnalysisData <- within(AnalysisData, q4040 <- relevel(q4040, ref = 'No'))\n",
    "#AnalysisData <- within(AnalysisData, q4062 <- relevel(q4062, ref = 'No'))\n",
    "AnalysisData <- within(AnalysisData, q3001 <- relevel(q3001, ref = 'No'))\n",
    "AnalysisData <- within(AnalysisData, q2018 <- relevel(q2018, ref = 'None/Mild'))\n",
    "AnalysisData <- within(AnalysisData, q2019 <- relevel(q2019, ref = 'None/Mild'))"
   ]
  },
  {
   "attachments": {},
   "cell_type": "markdown",
   "metadata": {},
   "source": [
    "## Set Wealth Quantiles as Discrete\n",
    "The wealth quintiles should be treated as a categorical variable instead of a continuous variable"
   ]
  },
  {
   "cell_type": "code",
   "execution_count": 767,
   "metadata": {
    "vscode": {
     "languageId": "r"
    }
   },
   "outputs": [],
   "source": [
    "AnalysisData$quintile <- as.factor(AnalysisData$quintile)"
   ]
  },
  {
   "attachments": {},
   "cell_type": "markdown",
   "metadata": {},
   "source": [
    "## Create Logistic regression"
   ]
  },
  {
   "cell_type": "code",
   "execution_count": 768,
   "metadata": {
    "vscode": {
     "languageId": "r"
    }
   },
   "outputs": [
    {
     "name": "stdout",
     "output_type": "stream",
     "text": [
      "\n",
      "==================================================\n",
      "                           Dependent variable:    \n",
      "                       ---------------------------\n",
      "                           complete_adherence     \n",
      "--------------------------------------------------\n",
      "age_category> =50               1.880***          \n",
      "                             (1.394, 2.537)       \n",
      "                                                  \n",
      "count_diseases                  0.494***          \n",
      "                             (0.410, 0.594)       \n",
      "                                                  \n",
      "q0104Rural                       0.698*           \n",
      "                             (0.484, 1.008)       \n",
      "                                                  \n",
      "q3001Yes                         0.746**          \n",
      "                             (0.572, 0.973)       \n",
      "                                                  \n",
      "q2019Moderate or worse           0.823*           \n",
      "                             (0.661, 1.024)       \n",
      "                                                  \n",
      "q1015No                         0.728***          \n",
      "                             (0.600, 0.884)       \n",
      "                                                  \n",
      "q4040Yes                        0.467***          \n",
      "                             (0.319, 0.684)       \n",
      "                                                  \n",
      "Constant                        2.846***          \n",
      "                             (1.735, 4.668)       \n",
      "                                                  \n",
      "--------------------------------------------------\n",
      "Observations                      2,839           \n",
      "Log Likelihood                 -1,981.993         \n",
      "Akaike Inf. Crit.               3,979.987         \n",
      "==================================================\n",
      "Note:                  *p<0.1; **p<0.05; ***p<0.01\n"
     ]
    }
   ],
   "source": [
    "logit1 <- (svyglm(complete_adherence~age_category+count_diseases+q0104+q3001+q2019+q1015+q4040, family=binomial, design=Morbidity, na.action = na.omit))\n",
    "#summary(logit1)\n",
    "OR <- exp(coef(logit1))\n",
    "CI.OR.logit1<- as.matrix(exp(confint.default(logit1)))\n",
    "stargazer(logit1, coef=list(OR), ci.custom = list(CI.OR.logit1), t.auto=F, p.auto=F, ci = T, type = \"text\")"
   ]
  },
  {
   "attachments": {},
   "cell_type": "markdown",
   "metadata": {},
   "source": [
    "## Assess multicolinearity\n",
    "\n",
    "Multicolinearity is assesed using generalised variance inflation factors. For generalised inflation factors, the `GVIF^(1/(2*Df))` is comparable to VIF^(1/2) for standard continuous variables ([source](https://www.tandfonline.com/doi/abs/10.1080/01621459.1992.10475190#.U2jkTFdMzTo), [explanation](https://stats.stackexchange.com/a/96593)) and so a cutoff of 1.6 (2^(1/2)) can be applied:  [*VIFs of 2.5 or greater are generally considered indicative of considerable collinearity*](https://link.springer.com/article/10.1007/s11135-017-0584-6)"
   ]
  },
  {
   "attachments": {},
   "cell_type": "markdown",
   "metadata": {},
   "source": [
    "It can be seen that all the factors are sufficiently independent"
   ]
  },
  {
   "cell_type": "code",
   "execution_count": 769,
   "metadata": {
    "vscode": {
     "languageId": "r"
    }
   },
   "outputs": [
    {
     "data": {
      "text/html": [
       "<style>\n",
       ".dl-inline {width: auto; margin:0; padding: 0}\n",
       ".dl-inline>dt, .dl-inline>dd {float: none; width: auto; display: inline-block}\n",
       ".dl-inline>dt::after {content: \":\\0020\"; padding-right: .5ex}\n",
       ".dl-inline>dt:not(:first-of-type) {padding-left: .5ex}\n",
       "</style><dl class=dl-inline><dt>age_category</dt><dd>1.08943064340466</dd><dt>count_diseases</dt><dd>1.18230101478646</dd><dt>q0104</dt><dd>1.30370024765185</dd><dt>q3001</dt><dd>1.26808524221303</dd><dt>q2019</dt><dd>1.14144022676891</dd><dt>q1015</dt><dd>1.0798038876301</dd><dt>q4040</dt><dd>1.16684661725562</dd></dl>\n"
      ],
      "text/latex": [
       "\\begin{description*}\n",
       "\\item[age\\textbackslash{}\\_category] 1.08943064340466\n",
       "\\item[count\\textbackslash{}\\_diseases] 1.18230101478646\n",
       "\\item[q0104] 1.30370024765185\n",
       "\\item[q3001] 1.26808524221303\n",
       "\\item[q2019] 1.14144022676891\n",
       "\\item[q1015] 1.0798038876301\n",
       "\\item[q4040] 1.16684661725562\n",
       "\\end{description*}\n"
      ],
      "text/markdown": [
       "age_category\n",
       ":   1.08943064340466count_diseases\n",
       ":   1.18230101478646q0104\n",
       ":   1.30370024765185q3001\n",
       ":   1.26808524221303q2019\n",
       ":   1.14144022676891q1015\n",
       ":   1.0798038876301q4040\n",
       ":   1.16684661725562\n",
       "\n"
      ],
      "text/plain": [
       "  age_category count_diseases          q0104          q3001          q2019 \n",
       "      1.089431       1.182301       1.303700       1.268085       1.141440 \n",
       "         q1015          q4040 \n",
       "      1.079804       1.166847 "
      ]
     },
     "metadata": {},
     "output_type": "display_data"
    }
   ],
   "source": [
    "car::vif(logit1)"
   ]
  },
  {
   "attachments": {},
   "cell_type": "markdown",
   "metadata": {},
   "source": [
    "## Generate forest plot"
   ]
  },
  {
   "cell_type": "code",
   "execution_count": 770,
   "metadata": {
    "vscode": {
     "languageId": "r"
    }
   },
   "outputs": [],
   "source": [
    "#colnames(CI.OR)\n",
    "OR <- exp(coef(logit1)[2:length(coef(logit1))])\n",
    "LL<-CI.OR.logit1[,'2.5 %'][2:length(coef(logit1))]\n",
    "UL<-CI.OR.logit1[,'97.5 %'][2:length(coef(logit1))]"
   ]
  },
  {
   "cell_type": "code",
   "execution_count": 771,
   "metadata": {
    "vscode": {
     "languageId": "r"
    }
   },
   "outputs": [],
   "source": [
    "dat <- data.frame(\n",
    "  Index = 1:length(OR), ## This provides an order to the data\n",
    "  label = c(\"Age 50+ (ref. <50)\", \n",
    "  \"Number of Chronic Conditions\", \"Rural (ref. Urban)\",  \"Uses Tobacco (ref. None)\",\n",
    "   \"Feelings of anxiety: (moderate or worse) (ref. None/mild)\", \"Schooling: No (ref. Yes)\",\n",
    "   \"Depression (ref. None)\"),#, \"Age\"\n",
    "  OR = OR,\n",
    "  LL = LL,\n",
    "  UL = UL\n",
    ")"
   ]
  },
  {
   "cell_type": "code",
   "execution_count": 772,
   "metadata": {
    "vscode": {
     "languageId": "r"
    }
   },
   "outputs": [
    {
     "data": {
      "image/png": "[encoded data removed]",
      "text/plain": [
       "plot without title"
      ]
     },
     "metadata": {
      "image/png": {
       "height": 240,
       "width": 720
      }
     },
     "output_type": "display_data"
    }
   ],
   "source": [
    "plot1 <- ggplot(dat, aes(y = Index, x = OR)) +\n",
    "  theme(aspect.ratio = 10) +\n",
    "  geom_point(shape = 18, size = 5) +  \n",
    "  geom_errorbarh(aes(xmin = LL, xmax = UL), height = 0.25) +\n",
    "  geom_vline(xintercept = 1, color = \"red\", linetype = \"dashed\", cex = 1, alpha = 0.5) +\n",
    "  scale_y_continuous(name = \"\", breaks=1:length(OR), labels = dat$label, trans = \"reverse\", \n",
    "        sec.axis = sec_axis(~.,\n",
    "                    breaks = 1:length(OR),\n",
    "                    labels = paste(round(OR, 2), \n",
    "                        ' (',round(LL, 2), \n",
    "                         ', ', round(UL,2), ')', sep = ''  ))) +\n",
    "  xlab(\"Odds Ratio (95% CI)\") + \n",
    "  ylab(\" \") + \n",
    "  ggtitle(\"Factor Associated With Adherence\") +\n",
    "  labs(tag = \"Figure 1a\") +\n",
    "  theme_bw() +\n",
    "  theme(plot.title = element_text(hjust = -1),\n",
    "        plot.tag.position = \"bottom\",\n",
    "        plot.tag = element_text(face = \"bold\", size = 13), \n",
    "        panel.border = element_blank(),\n",
    "        panel.background = element_blank(),\n",
    "        panel.grid.major = element_blank(), \n",
    "        panel.grid.minor = element_blank(), \n",
    "        axis.line = element_line(colour = \"black\"),\n",
    "        axis.text.y = element_text(size = 12, colour = \"black\"),\n",
    "        axis.text.x.bottom = element_text(size = 12, colour = \"black\"),\n",
    "        axis.title.x = element_text(size = 12, colour = \"black\"))\n",
    "plot1\n",
    "ggsave(file=\"Figures/ForestPlotWeighted.png\", width=12, height=4, dpi=600)"
   ]
  },
  {
   "attachments": {},
   "cell_type": "markdown",
   "metadata": {},
   "source": [
    "## Alternative Model"
   ]
  },
  {
   "cell_type": "code",
   "execution_count": 773,
   "metadata": {
    "vscode": {
     "languageId": "r"
    }
   },
   "outputs": [
    {
     "name": "stdout",
     "output_type": "stream",
     "text": [
      "\n",
      "==================================================\n",
      "                           Dependent variable:    \n",
      "                       ---------------------------\n",
      "                           complete_adherence     \n",
      "--------------------------------------------------\n",
      "quintile2                         1.066           \n",
      "                             (0.771, 1.473)       \n",
      "                                                  \n",
      "quintile3                        1.540**          \n",
      "                             (1.090, 2.176)       \n",
      "                                                  \n",
      "quintile4                         1.097           \n",
      "                             (0.774, 1.556)       \n",
      "                                                  \n",
      "quintile5                         1.245           \n",
      "                             (0.813, 1.906)       \n",
      "                                                  \n",
      "age_category> =50               1.889***          \n",
      "                             (1.398, 2.552)       \n",
      "                                                  \n",
      "count_diseases                  0.488***          \n",
      "                             (0.407, 0.584)       \n",
      "                                                  \n",
      "q0104Rural                       0.713*           \n",
      "                             (0.484, 1.050)       \n",
      "                                                  \n",
      "q3001Yes                         0.752**          \n",
      "                             (0.581, 0.973)       \n",
      "                                                  \n",
      "q2019Moderate or worse           0.828*           \n",
      "                             (0.675, 1.016)       \n",
      "                                                  \n",
      "q1015No                         0.755***          \n",
      "                             (0.620, 0.919)       \n",
      "                                                  \n",
      "q4040Yes                        0.476***          \n",
      "                             (0.322, 0.704)       \n",
      "                                                  \n",
      "Constant                         2.346**          \n",
      "                             (1.223, 4.502)       \n",
      "                                                  \n",
      "--------------------------------------------------\n",
      "Observations                      2,839           \n",
      "Log Likelihood                 -1,974.534         \n",
      "Akaike Inf. Crit.               3,973.068         \n",
      "==================================================\n",
      "Note:                  *p<0.1; **p<0.05; ***p<0.01\n"
     ]
    }
   ],
   "source": [
    "logit2 <- (svyglm(complete_adherence~quintile+age_category+count_diseases+q0104+q3001+q2019+q1015+q4040, family=binomial, design=Morbidity, na.action = na.omit))\n",
    "#summary(logit1)\n",
    "OR <- exp(coef(logit2))\n",
    "CI.OR.logit2<- as.matrix(exp(confint.default(logit2)))\n",
    "stargazer(logit2, coef=list(OR), ci.custom = list(CI.OR.logit2), t.auto=F, p.auto=F, ci = T, type = \"text\")"
   ]
  },
  {
   "cell_type": "code",
   "execution_count": 774,
   "metadata": {
    "vscode": {
     "languageId": "r"
    }
   },
   "outputs": [],
   "source": [
    "#colnames(CI.OR)\n",
    "OR <- exp(coef(logit2)[2:length(coef(logit2))])\n",
    "LL<-CI.OR.logit2[,'2.5 %'][2:length(coef(logit2))]\n",
    "UL<-CI.OR.logit2[,'97.5 %'][2:length(coef(logit2))]"
   ]
  },
  {
   "cell_type": "code",
   "execution_count": 775,
   "metadata": {
    "vscode": {
     "languageId": "r"
    }
   },
   "outputs": [],
   "source": [
    "dat <- data.frame(\n",
    "  Index = 1:length(OR), ## This provides an order to the data\n",
    "  label = c(\"Quintile: 2 (ref. 1)\", \"Quintile: 3 (ref. 1)\", \"Quintile: 4 (ref. 1)\", \"Quintile: 5 (ref. 1)\", \"Age 50+ (ref. <50)\", \n",
    "  \"Number of Chronic Conditions\", \"Rural (ref. Urban)\",  \"Uses Tobacco (ref. None)\",\n",
    "   \"Feelings of anxiety: (moderate or worse) (ref. None/mild)\", \"Schooling: No (ref. Yes)\",\n",
    "   \"Depression (ref. None)\"),#, \"Age\"\n",
    "  OR = OR,\n",
    "  LL = LL,\n",
    "  UL = UL\n",
    ")"
   ]
  },
  {
   "cell_type": "code",
   "execution_count": 776,
   "metadata": {
    "vscode": {
     "languageId": "r"
    }
   },
   "outputs": [
    {
     "data": {
      "image/png": "[encoded data removed]",
      "text/plain": [
       "plot without title"
      ]
     },
     "metadata": {
      "image/png": {
       "height": 240,
       "width": 720
      }
     },
     "output_type": "display_data"
    }
   ],
   "source": [
    "plot2 <- ggplot(dat, aes(y = Index, x = OR)) +\n",
    "  theme(aspect.ratio = 10) +\n",
    "  geom_point(shape = 18, size = 5) +  \n",
    "  geom_errorbarh(aes(xmin = LL, xmax = UL), height = 0.25) +\n",
    "  geom_vline(xintercept = 1, color = \"red\", linetype = \"dashed\", cex = 1, alpha = 0.5) +\n",
    "  scale_y_continuous(name = \" \", breaks=1:length(OR), labels = dat$label, trans = \"reverse\", \n",
    "        sec.axis = sec_axis(~.,\n",
    "                    breaks = 1:length(OR),\n",
    "                    labels = paste(round(OR, 2), \n",
    "                        ' (',round(LL, 2), \n",
    "                         ', ', round(UL,2), ')', sep = ''  ))) +\n",
    "  xlab(\"Odds Ratio (95% CI)\") + \n",
    "  ylab(\" \") + \n",
    "  ggtitle(\"Factor Associated With Adherence\") +\n",
    "  labs(tag = \"Figure 1b\") +\n",
    "  theme_bw() +\n",
    "  theme(plot.title = element_text(hjust = -1),\n",
    "        plot.tag.position = \"bottom\",\n",
    "        plot.tag = element_text(face = \"bold\", size = 13), \n",
    "        panel.border = element_blank(),\n",
    "        panel.background = element_blank(),\n",
    "        panel.grid.major = element_blank(), \n",
    "        panel.grid.minor = element_blank(), \n",
    "        axis.line = element_line(colour = \"black\"),\n",
    "        axis.text.y = element_text(size = 12, colour = \"black\"),\n",
    "        axis.text.x.bottom = element_text(size = 12, colour = \"black\"),\n",
    "        axis.title.x = element_text(size = 12, colour = \"black\"))\n",
    "plot2\n",
    "ggsave(file=\"Figures/ForestPlotWeighted2.png\", width=12, height=4, dpi=600)"
   ]
  },
  {
   "cell_type": "code",
   "execution_count": 777,
   "metadata": {
    "vscode": {
     "languageId": "r"
    }
   },
   "outputs": [
    {
     "data": {
      "text/html": [
       "<table class=\"dataframe\">\n",
       "<caption>A matrix: 8 × 3 of type dbl</caption>\n",
       "<thead>\n",
       "\t<tr><th></th><th scope=col>GVIF</th><th scope=col>Df</th><th scope=col>GVIF^(1/(2*Df))</th></tr>\n",
       "</thead>\n",
       "<tbody>\n",
       "\t<tr><th scope=row>quintile</th><td>2.012517</td><td>4</td><td>1.091359</td></tr>\n",
       "\t<tr><th scope=row>age_category</th><td>1.102160</td><td>1</td><td>1.049838</td></tr>\n",
       "\t<tr><th scope=row>count_diseases</th><td>1.199339</td><td>1</td><td>1.095143</td></tr>\n",
       "\t<tr><th scope=row>q0104</th><td>1.587590</td><td>1</td><td>1.259996</td></tr>\n",
       "\t<tr><th scope=row>q3001</th><td>1.253354</td><td>1</td><td>1.119533</td></tr>\n",
       "\t<tr><th scope=row>q2019</th><td>1.167829</td><td>1</td><td>1.080661</td></tr>\n",
       "\t<tr><th scope=row>q1015</th><td>1.197270</td><td>1</td><td>1.094198</td></tr>\n",
       "\t<tr><th scope=row>q4040</th><td>1.260741</td><td>1</td><td>1.122827</td></tr>\n",
       "</tbody>\n",
       "</table>\n"
      ],
      "text/latex": [
       "A matrix: 8 × 3 of type dbl\n",
       "\\begin{tabular}{r|lll}\n",
       "  & GVIF & Df & GVIF\\textasciicircum{}(1/(2*Df))\\\\\n",
       "\\hline\n",
       "\tquintile & 2.012517 & 4 & 1.091359\\\\\n",
       "\tage\\_category & 1.102160 & 1 & 1.049838\\\\\n",
       "\tcount\\_diseases & 1.199339 & 1 & 1.095143\\\\\n",
       "\tq0104 & 1.587590 & 1 & 1.259996\\\\\n",
       "\tq3001 & 1.253354 & 1 & 1.119533\\\\\n",
       "\tq2019 & 1.167829 & 1 & 1.080661\\\\\n",
       "\tq1015 & 1.197270 & 1 & 1.094198\\\\\n",
       "\tq4040 & 1.260741 & 1 & 1.122827\\\\\n",
       "\\end{tabular}\n"
      ],
      "text/markdown": [
       "\n",
       "A matrix: 8 × 3 of type dbl\n",
       "\n",
       "| <!--/--> | GVIF | Df | GVIF^(1/(2*Df)) |\n",
       "|---|---|---|---|\n",
       "| quintile | 2.012517 | 4 | 1.091359 |\n",
       "| age_category | 1.102160 | 1 | 1.049838 |\n",
       "| count_diseases | 1.199339 | 1 | 1.095143 |\n",
       "| q0104 | 1.587590 | 1 | 1.259996 |\n",
       "| q3001 | 1.253354 | 1 | 1.119533 |\n",
       "| q2019 | 1.167829 | 1 | 1.080661 |\n",
       "| q1015 | 1.197270 | 1 | 1.094198 |\n",
       "| q4040 | 1.260741 | 1 | 1.122827 |\n",
       "\n"
      ],
      "text/plain": [
       "               GVIF     Df GVIF^(1/(2*Df))\n",
       "quintile       2.012517 4  1.091359       \n",
       "age_category   1.102160 1  1.049838       \n",
       "count_diseases 1.199339 1  1.095143       \n",
       "q0104          1.587590 1  1.259996       \n",
       "q3001          1.253354 1  1.119533       \n",
       "q2019          1.167829 1  1.080661       \n",
       "q1015          1.197270 1  1.094198       \n",
       "q4040          1.260741 1  1.122827       "
      ]
     },
     "metadata": {},
     "output_type": "display_data"
    }
   ],
   "source": [
    "car::vif(logit2)"
   ]
  },
  {
   "cell_type": "code",
   "execution_count": 778,
   "metadata": {
    "vscode": {
     "languageId": "r"
    }
   },
   "outputs": [],
   "source": [
    "options(repr.plot.width = 12, repr.plot.height = 8)"
   ]
  },
  {
   "cell_type": "code",
   "execution_count": 779,
   "metadata": {
    "vscode": {
     "languageId": "r"
    }
   },
   "outputs": [
    {
     "data": {
      "image/png": "[encoded data removed]",
      "text/plain": [
       "plot without title"
      ]
     },
     "metadata": {
      "image/png": {
       "height": 480,
       "width": 720
      }
     },
     "output_type": "display_data"
    }
   ],
   "source": [
    "combined_plot <- ggarrange(plot1,\n",
    "                           plot2,\n",
    "                           nrow = 2,\n",
    "                           ncol = 1) \n",
    "combined_plot\n",
    "ggsave(file=\"Figures/ForestPlotWeightedCombined.png\", width=12, height=8, dpi=600)"
   ]
  }
 ],
 "metadata": {
  "kernelspec": {
   "display_name": "R",
   "language": "R",
   "name": "ir"
  },
  "language_info": {
   "codemirror_mode": "r",
   "file_extension": ".r",
   "mimetype": "text/x-r-source",
   "name": "R",
   "pygments_lexer": "r",
   "version": "4.2.2"
  },
  "orig_nbformat": 4
 },
 "nbformat": 4,
 "nbformat_minor": 2
}
