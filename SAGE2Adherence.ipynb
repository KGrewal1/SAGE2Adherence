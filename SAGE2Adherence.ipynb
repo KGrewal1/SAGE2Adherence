{
 "cells": [
  {
   "attachments": {},
   "cell_type": "markdown",
   "metadata": {},
   "source": [
    "# Effect of socioeconomic and health-related factors on adherence to chronic disease medication in India: analysis of cross sectional data from WHO - SAGE2 \n",
    "\n",
    "Complete Code for analysis"
   ]
  },
  {
   "attachments": {},
   "cell_type": "markdown",
   "metadata": {},
   "source": [
    "# Import Packages"
   ]
  },
  {
   "cell_type": "code",
   "execution_count": 1,
   "metadata": {
    "vscode": {
     "languageId": "r"
    }
   },
   "outputs": [],
   "source": [
    "## Language = \"R\"\n",
    "#The following install commands only need to be run once and then commented out\n",
    "# install.packages(\"ggthemes\")\n",
    "# install.packages(\"RColorBrewer\")\n",
    "# install.packages(\"scatterplot3d\")\n",
    "# install.packages(\"effsize\")\n",
    "# install.packages(\"lsr\")\n",
    "# install.packages(\"AMR\")\n",
    "# install.packages(\"oddsratio\")\n",
    "# install.packages(\"dplyr\")  \n",
    "# install.packages(\"epitools\")\n",
    "# install.packages(\"questionr\")\n",
    "# install.packages(\"forcats\")\n",
    "# install.packages(\"plyr\")\n",
    "# install.packages(\"stargazer\") \n",
    "# install.packages(\"caret\") \n",
    "# install.packages(\"leaps\") \n",
    "# install.packages(\"MASS\") \n",
    "# install.packages(\"car\") \n",
    "# install.packages(\"survey\")\n",
    "# install.packages(\"magrittr\")\n",
    "# install.packages(\"jtools\")\n",
    "# install.packages(\"ggpubr\")"
   ]
  },
  {
   "cell_type": "code",
   "execution_count": 2,
   "metadata": {
    "vscode": {
     "languageId": "r"
    }
   },
   "outputs": [],
   "source": [
    "# Activating packages\n",
    "suppressWarnings(suppressMessages({\n",
    "library(tidyverse)  # Modern data science workflow\n",
    "library(ggplot2) # Modern visualization tools\n",
    "library(ggpubr) # for combining figures\n",
    "library(ggrepel) ## For displaying label on ggplot2 object\n",
    "library(haven) # for reading .dta files\n",
    "library(dplyr)\n",
    "library(stargazer) #for regression results\n",
    "library(epitools) #for odds_ratio\n",
    "library(car) #for VIF\n",
    "library(survey) #for survey weighting\n",
    "}))\n"
   ]
  },
  {
   "cell_type": "code",
   "execution_count": 3,
   "metadata": {
    "vscode": {
     "languageId": "r"
    }
   },
   "outputs": [],
   "source": [
    "# Adjustments\n",
    "#knitr::opts_chunk$set(fig.align = \"center\")\n",
    "knitr::opts_chunk$set(echo = TRUE)\n",
    "options(warn = -1)\n",
    "options(scipen = 10000)\n",
    "options(repr.plot.width = 12, repr.plot.height = 4)"
   ]
  },
  {
   "cell_type": "code",
   "execution_count": 4,
   "metadata": {
    "vscode": {
     "languageId": "r"
    }
   },
   "outputs": [
    {
     "data": {
      "text/plain": [
       "\n",
       "To cite R in publications use:\n",
       "\n",
       "  R Core Team (2022). R: A language and environment for statistical\n",
       "  computing. R Foundation for Statistical Computing, Vienna, Austria.\n",
       "  URL https://www.R-project.org/.\n",
       "\n",
       "A BibTeX entry for LaTeX users is\n",
       "\n",
       "  @Manual{,\n",
       "    title = {R: A Language and Environment for Statistical Computing},\n",
       "    author = {{R Core Team}},\n",
       "    organization = {R Foundation for Statistical Computing},\n",
       "    address = {Vienna, Austria},\n",
       "    year = {2022},\n",
       "    url = {https://www.R-project.org/},\n",
       "  }\n",
       "\n",
       "We have invested a lot of time and effort in creating R, please cite it\n",
       "when using it for data analysis. See also 'citation(\"pkgname\")' for\n",
       "citing R packages.\n"
      ]
     },
     "metadata": {},
     "output_type": "display_data"
    }
   ],
   "source": [
    "citation()\n",
    "# citation(\"tidyverse\")  # Modern data science workflow\n",
    "# citation(\"ggplot2\") # Modern visualization tools\n",
    "# citation(\"ggpubr\") # for combining figures\n",
    "# citation(\"ggrepel\") ## For displaying label on ggplot2 object\n",
    "# citation(\"haven\") # for reading .dta files\n",
    "# citation(\"dplyr\")\n",
    "# citation(\"stargazer\") #for regression results\n",
    "# citation(\"epitools\") #for odds_ratio\n",
    "# citation(\"car\") #for VIF\n",
    "# citation(\"survey\") #for survey weighting\n",
    "# toBibtex(citation(\"survey\"))"
   ]
  },
  {
   "attachments": {},
   "cell_type": "markdown",
   "metadata": {},
   "source": [
    "Package and base r versions"
   ]
  },
  {
   "cell_type": "code",
   "execution_count": 5,
   "metadata": {
    "vscode": {
     "languageId": "r"
    }
   },
   "outputs": [
    {
     "data": {
      "text/html": [
       "'R version 4.2.2 (2022-10-31 ucrt)'"
      ],
      "text/latex": [
       "'R version 4.2.2 (2022-10-31 ucrt)'"
      ],
      "text/markdown": [
       "'R version 4.2.2 (2022-10-31 ucrt)'"
      ],
      "text/plain": [
       "[1] \"R version 4.2.2 (2022-10-31 ucrt)\""
      ]
     },
     "metadata": {},
     "output_type": "display_data"
    },
    {
     "data": {
      "text/plain": [
       "[1] '1.3.2'"
      ]
     },
     "metadata": {},
     "output_type": "display_data"
    },
    {
     "data": {
      "text/plain": [
       "[1] '3.3.6'"
      ]
     },
     "metadata": {},
     "output_type": "display_data"
    },
    {
     "data": {
      "text/plain": [
       "[1] '0.4.0'"
      ]
     },
     "metadata": {},
     "output_type": "display_data"
    },
    {
     "data": {
      "text/plain": [
       "[1] '0.9.1'"
      ]
     },
     "metadata": {},
     "output_type": "display_data"
    },
    {
     "data": {
      "text/plain": [
       "[1] '2.5.1'"
      ]
     },
     "metadata": {},
     "output_type": "display_data"
    },
    {
     "data": {
      "text/plain": [
       "[1] '1.0.10'"
      ]
     },
     "metadata": {},
     "output_type": "display_data"
    },
    {
     "data": {
      "text/plain": [
       "[1] '5.2.3'"
      ]
     },
     "metadata": {},
     "output_type": "display_data"
    },
    {
     "data": {
      "text/plain": [
       "[1] '0.5.10.1'"
      ]
     },
     "metadata": {},
     "output_type": "display_data"
    },
    {
     "data": {
      "text/plain": [
       "[1] '3.1.1'"
      ]
     },
     "metadata": {},
     "output_type": "display_data"
    },
    {
     "data": {
      "text/plain": [
       "[1] '4.1.1'"
      ]
     },
     "metadata": {},
     "output_type": "display_data"
    }
   ],
   "source": [
    "R.Version()$version.string\n",
    "packageVersion(\"tidyverse\")  # Modern data science workflow\n",
    "packageVersion(\"ggplot2\") # Modern visualization tools\n",
    "packageVersion(\"ggpubr\") # for combining figures\n",
    "packageVersion(\"ggrepel\") ## For displaying label on ggplot2 object\n",
    "packageVersion(\"haven\") # for reading .dta files\n",
    "packageVersion(\"dplyr\")\n",
    "packageVersion(\"stargazer\") #for regression results\n",
    "packageVersion(\"epitools\") #for odds_ratio\n",
    "packageVersion(\"car\") #for VIF\n",
    "packageVersion(\"survey\") #for survey weighting"
   ]
  },
  {
   "attachments": {},
   "cell_type": "markdown",
   "metadata": {},
   "source": [
    "# Initialisation\n",
    "Importing data if necessary"
   ]
  },
  {
   "cell_type": "code",
   "execution_count": 6,
   "metadata": {
    "vscode": {
     "languageId": "r"
    }
   },
   "outputs": [],
   "source": [
    "# clear variables and read data from dta\n",
    "rm(list=ls())\n",
    "\n",
    "# we are using haven from the Tidyverse library to import a stata file\n",
    "# this has both advantages (data fidelty) but also some complexity\n",
    "# stata (and SPSS / SAS) have labelled values\n",
    "# so we have to deal with that\n",
    "Setup = \"Y\"\n",
    "\n",
    "if (Setup == \"Y\"){\n",
    "    dta_raw <- read_dta(\"SAGE_India_W2_IND_Data.dta\")\n",
    "}\n",
    "\n"
   ]
  },
  {
   "attachments": {},
   "cell_type": "markdown",
   "metadata": {},
   "source": [
    "## Create subdirectories\n",
    "These are used to organise outputted csv\"s and figures"
   ]
  },
  {
   "cell_type": "code",
   "execution_count": 7,
   "metadata": {
    "vscode": {
     "languageId": "r"
    }
   },
   "outputs": [],
   "source": [
    "dir.create(file.path(getwd(), \"Supplementary2\"), recursive = TRUE)\n",
    "dir.create(file.path(getwd(), \"Supplementary3\"), recursive = TRUE)\n",
    "dir.create(file.path(getwd(), \"Figures\"), recursive = TRUE)\n",
    "dir.create(file.path(getwd(), \"Misc\"), recursive = TRUE)"
   ]
  },
  {
   "attachments": {},
   "cell_type": "markdown",
   "metadata": {},
   "source": [
    "# Data Cleanup\n",
    "\n",
    "Cleaning up values"
   ]
  },
  {
   "attachments": {},
   "cell_type": "markdown",
   "metadata": {},
   "source": [
    "## Deal with zero values vs \"no value\"\n",
    "5 columns have 0 as the \"No\" value as opposed to 2: 4001, 4014, 4033, 4040 and 4060.\n",
    "So we change the 0 value to 2 - makes subsequent analysis easier."
   ]
  },
  {
   "cell_type": "code",
   "execution_count": 8,
   "metadata": {
    "vscode": {
     "languageId": "r"
    }
   },
   "outputs": [],
   "source": [
    "if (Setup == \"Y\"){\n",
    "    dta_raw$q4001 <- replace(dta_raw$q4001, dta_raw$q4001==0, 2)\n",
    "    dta_raw$q4014 <- replace(dta_raw$q4014, dta_raw$q4014==0, 2)\n",
    "    dta_raw$q4033 <- replace(dta_raw$q4033, dta_raw$q4033==0, 2)\n",
    "    dta_raw$q4040 <- replace(dta_raw$q4040, dta_raw$q4040==0, 2)\n",
    "    dta_raw$q4060 <- replace(dta_raw$q4060, dta_raw$q4060==0, 2)\n",
    "}"
   ]
  },
  {
   "attachments": {},
   "cell_type": "markdown",
   "metadata": {},
   "source": [
    "## Correct questions missing labels\n",
    "q1016 and q4033 had no labels attatched: copying from columns with the same labels (as per questionnaire)"
   ]
  },
  {
   "cell_type": "code",
   "execution_count": 9,
   "metadata": {
    "vscode": {
     "languageId": "r"
    }
   },
   "outputs": [],
   "source": [
    "if (Setup == \"Y\"){  \n",
    "    attr(dta_raw$q4033, \"class\") <- attr(dta_raw$q4022, \"class\") \n",
    "    attr(dta_raw$q4033, \"format.stata\") <- attr(dta_raw$q4022, \"format.stata\") \n",
    "    attr(dta_raw$q4033, \"labels\") <- attr(dta_raw$q4022, \"labels\") \n",
    "}\n",
    "\n",
    "if (Setup == \"Y\"){\n",
    "    attributes(dta_raw$q1016_) <- attributes(dta_raw$q1028)\n",
    "    attr(dta_raw$q1016_, \"label\") <- \"Level of Education\"\n",
    "}"
   ]
  },
  {
   "attachments": {},
   "cell_type": "markdown",
   "metadata": {},
   "source": [
    "## Correct question 5053\n",
    "q5053 has 2 associated columns, the correct one being q5053_new, as the labels on 5053 are incorrect"
   ]
  },
  {
   "cell_type": "code",
   "execution_count": 10,
   "metadata": {
    "vscode": {
     "languageId": "r"
    }
   },
   "outputs": [],
   "source": [
    "if (Setup == \"Y\"){\n",
    "    dta_raw$q5053<-dta_raw$q5053_new\n",
    "    dta_raw <- subset(dta_raw , select = -c(q5053_new))\n",
    "}"
   ]
  },
  {
   "attachments": {},
   "cell_type": "markdown",
   "metadata": {},
   "source": [
    "## Correct question 7010\n",
    "q7010 has 68 labelled as \"Don\"t know\" value as opposed to 8: as such all values 8 are replaced by 68"
   ]
  },
  {
   "cell_type": "code",
   "execution_count": 11,
   "metadata": {
    "vscode": {
     "languageId": "r"
    }
   },
   "outputs": [],
   "source": [
    "if (Setup == \"Y\"){\n",
    "    dta_raw$q7010 <- replace(dta_raw$q7010, dta_raw$q7010==8, 68)\n",
    "}"
   ]
  },
  {
   "attachments": {},
   "cell_type": "markdown",
   "metadata": {},
   "source": [
    "## Rename Columns\n",
    "Some questions do not have meaningful names associated with them"
   ]
  },
  {
   "cell_type": "code",
   "execution_count": 12,
   "metadata": {
    "vscode": {
     "languageId": "r"
    }
   },
   "outputs": [],
   "source": [
    "if (Setup == \"Y\"){\n",
    "    attr(dta_raw$q8062, \"label\") <- \"Community Support\"\n",
    "    attr(dta_raw$q0105a, \"label\")<- \"Region\"\n",
    "}"
   ]
  },
  {
   "attachments": {},
   "cell_type": "markdown",
   "metadata": {},
   "source": [
    "## Rename Factors\n",
    "Some factors are misspelt / formatted"
   ]
  },
  {
   "cell_type": "code",
   "execution_count": 13,
   "metadata": {
    "vscode": {
     "languageId": "r"
    }
   },
   "outputs": [],
   "source": [
    "if (Setup == \"Y\"){\n",
    "    levels(dta_raw$q0105a)<-list(\"Assam\"=c(\"ASSAM\"),\"Karnataka\"=c(\"KARNATAKA\"), \"Maharashtra\"=c(\"MAHARASHTRA\"), \"Rajasthan\"=c(\"RAJASTHAN\"), \"Uttar Pradesh\"=c(\"UTTAR PRADESH\"), \"West Bengal\"=c(\"WEST BENGAL\"))\n",
    "}"
   ]
  },
  {
   "attachments": {},
   "cell_type": "markdown",
   "metadata": {},
   "source": [
    "## Save edited dta"
   ]
  },
  {
   "cell_type": "code",
   "execution_count": 14,
   "metadata": {
    "vscode": {
     "languageId": "r"
    }
   },
   "outputs": [],
   "source": [
    "if (Setup == \"Y\"){\n",
    "    write_dta(\n",
    "    dta_raw,\n",
    "    \"dta_edit.dta\"\n",
    "    )\n",
    "} else {\n",
    "    dta_raw <- read_dta(\"dta_edit.dta\")\n",
    "}"
   ]
  },
  {
   "attachments": {},
   "cell_type": "markdown",
   "metadata": {},
   "source": [
    "## Data refactoring\n",
    "\n",
    "As the data is in a haven structure we can \"zap\" the labels to obtain the values per se"
   ]
  },
  {
   "cell_type": "code",
   "execution_count": 15,
   "metadata": {
    "vscode": {
     "languageId": "r"
    }
   },
   "outputs": [],
   "source": [
    "data <- haven::as_factor(dta_raw, levels = \"default\")\n",
    "write.csv(data,\"SAGE_India_W2_IND_Data_Cleaned.csv\")"
   ]
  },
  {
   "attachments": {},
   "cell_type": "markdown",
   "metadata": {},
   "source": [
    "# Preparing data for analysis\n",
    "The creation of morbidity and multiadherence metrics, and regrouping of other factors"
   ]
  },
  {
   "attachments": {},
   "cell_type": "markdown",
   "metadata": {},
   "source": [
    "## Creating Morbidity and Adherence Metrics"
   ]
  },
  {
   "attachments": {},
   "cell_type": "markdown",
   "metadata": {},
   "source": [
    "Creation of an alternative string count function to ignore NA values"
   ]
  },
  {
   "cell_type": "code",
   "execution_count": 16,
   "metadata": {
    "vscode": {
     "languageId": "r"
    }
   },
   "outputs": [],
   "source": [
    "string_count <- function(string, search){\n",
    "    count = str_count(string, search)\n",
    "    count <- ifelse(is.na(count), 0, count)\n",
    "    return(count)\n",
    "}"
   ]
  },
  {
   "attachments": {},
   "cell_type": "markdown",
   "metadata": {},
   "source": [
    "### Calculation of Morbidity and Multimorbidity statistics\n",
    "\n",
    "This counts the number of chronic diseases of each respondent (`count_diseases`). If this is 1 or greater, the respondent is classed as having any morbidity. If this is 2 or greater, they are counted as having multimorbidity, and if it is 3 or greater, classed as having complex multimorbidity."
   ]
  },
  {
   "cell_type": "code",
   "execution_count": 17,
   "metadata": {
    "vscode": {
     "languageId": "r"
    }
   },
   "outputs": [],
   "source": [
    "#disease\n",
    "data <- data %>%\n",
    " mutate(count_diseases = string_count(q4010, \"Yes\") + string_count(q4014, \"Yes\")+ string_count(q4022, \"Yes\")+string_count(q4033, \"Yes\")+string_count(q4025, \"Yes\")+string_count(q4040, \"Yes\")+string_count(q4060, \"Yes\")) %>% \n",
    " mutate(anymorbidity = case_when (count_diseases >= 1 ~ \"Yes\", count_diseases < 1 ~ \"No\")) %>%\n",
    " mutate(multimorbidity = case_when (count_diseases >= 2 ~ \"Yes\", count_diseases < 2 ~ \"No\")) %>%\n",
    " mutate(complex_multimorbidity = case_when (count_diseases > 2 ~ \"Yes\", count_diseases <= 2 ~ \"No\"))\n",
    " \n",
    "\n",
    "attr(data$count_diseases, \"label\") <- \"Number of Chronic Conditions\"\n",
    "attr(data$anymorbidity, \"label\") <- \"Any Morbidity\"\n",
    "attr(data$complex_multimorbidity, \"label\") <- \"Complex Multimorbidity\"\n",
    "attr(data$multimorbidity, \"label\") <- \"Multimorbidity\""
   ]
  },
  {
   "attachments": {},
   "cell_type": "markdown",
   "metadata": {},
   "source": [
    "### Calculation of Partial and Complete Adherence statistics\n",
    "This counts the number of chronic diseases to which the respondent said they had taken medication for over the past two weeks (`count_adh`). If this is greater than 0, the respondent is classed as having any partial adherence. If this is equal to the number of chronic conditions with which they are diagnosed (`count_diseases`), they are counted as having complete adherence."
   ]
  },
  {
   "cell_type": "code",
   "execution_count": 18,
   "metadata": {
    "vscode": {
     "languageId": "r"
    }
   },
   "outputs": [],
   "source": [
    "data <- data %>%\n",
    " mutate(count_adh = string_count(q4011a, \"Yes\") + string_count(q4015a, \"Yes\")+ string_count(q4023a, \"Yes\")+string_count(q4034a, \"Yes\")+string_count(q4026a, \"Yes\")+string_count(q4041a, \"Yes\")+string_count(q4061a, \"Yes\")) %>%\n",
    " mutate(count_treat_last12 = string_count(q4011b, \"Yes\") + string_count(q4015b, \"Yes\")+ string_count(q4023b, \"Yes\")+string_count(q4034b, \"Yes\")+string_count(q4026b, \"Yes\")+string_count(q4041b, \"Yes\")+string_count(q4061b, \"Yes\")) %>%\n",
    " mutate(adherence = case_when (count_diseases == count_adh ~ \"Yes\", count_diseases != count_adh  ~ \"No\")) %>%\n",
    " mutate(twelve_adherence = case_when (count_diseases == count_treat_last12 ~ \"Yes\", count_diseases != count_treat_last12  ~ \"No\")) %>%\n",
    " mutate(partial_adherence = case_when (count_adh > 0 ~ \"Yes\", count_adh <= 0 ~ \"No\"))%>%\n",
    " mutate(discordant_adherence = case_when (count_treat_last12 > count_adh ~ \"Yes\", count_treat_last12 <= count_adh ~ \"No\"))\n",
    "\n",
    "attr(data$adherence, \"label\") <- \"Complete Adherence\"\n",
    "attr(data$partial_adherence, \"label\") <- \"Partial Adherence\"\n",
    "attr(data$discordant_adherence, \"label\") <- \"Discordant Adherence\""
   ]
  },
  {
   "cell_type": "code",
   "execution_count": 19,
   "metadata": {
    "vscode": {
     "languageId": "r"
    }
   },
   "outputs": [],
   "source": [
    "attr(data$adherence, \"levels\") <- attr(data$q4011a, \"levels\")\n",
    "data$adherence  <- factor(data$adherence )\n",
    "attr(data$adherence, \"label\") <- \"Complete Adherence\"\n",
    "attr(data$twelve_adherence, \"levels\") <- attr(data$q4011a, \"levels\")\n",
    "data$twelve_adherence  <- factor(data$twelve_adherence )\n",
    "attr(data$twelve_adherence, \"label\") <- \"12M Adherence\""
   ]
  },
  {
   "attachments": {},
   "cell_type": "markdown",
   "metadata": {},
   "source": [
    "## Create Age Categories\n",
    "\n",
    "Thse age categories are the same as those used in the [original SAGE2 paper](https://iipsindia.ac.in/sites/default/files/other_files/WHO-SAGE_Wave-2_India_Report.pdf)\n",
    "\n",
    "* < 50 (classed as younger adults)\n",
    "\n",
    "* \\>=50 (classed as older adults)"
   ]
  },
  {
   "cell_type": "code",
   "execution_count": 20,
   "metadata": {
    "vscode": {
     "languageId": "r"
    }
   },
   "outputs": [],
   "source": [
    "data <- data %>% mutate(age_category = case_when(q1011 < 50 ~ \"<50\",\n",
    "                                             q1011 >= 50   ~ \">=50\"\n",
    "                                             ))\n",
    "\n",
    "\n",
    "data$age_category  <- factor(data$age_category)\n",
    "attr(data$age_category, \"label\") <- \"Age Group\""
   ]
  },
  {
   "attachments": {},
   "cell_type": "markdown",
   "metadata": {},
   "source": [
    "## Regroup Variables"
   ]
  },
  {
   "cell_type": "code",
   "execution_count": 21,
   "metadata": {
    "vscode": {
     "languageId": "r"
    }
   },
   "outputs": [],
   "source": [
    "levels(data$q1016_)<- list(\"Less than primary school/don't know\"=c(\"No formal education\",\"Less than primary school\",\"Don't know\"), \"Secondary school and below\"=c(\"Primary school completed\",\"Secondary school completed\"), \"Past secondary school\"=c(\"High school(or equivalent) completed\",\"College/pre-university/uiversity completed\",\"Post-graduate completed\"))\n",
    "levels(data$q1019_)<-list(\"Hinduism\"=c(\"Hinduism\"),\"Islam\"=c(\"Islam\"),\"Other / None\"=c(\"Buddhism\",\"Chinese traditional religion\",\"Christianoty\",\"Jainism\",\"Judaism\",\"Primal Indigenous\",\"Sikhism\",\"Others\", \"No/None\", \"Refused\"))\n",
    "levels(data$q5004)<-list(\"Private\"=c(\"Private doctor\\\"s office\",\"Private clinic/Health care facility\",\"Private hospitals\"), \"Public\"=c(\"Public clinic/Health care facility\",\"Public hospital\"),\"Community\"=c(\"Charity/Church run clinic\",\"Charity/Church run hospital\",\"Traditional healer\", \"Pharmacy/Dispensary\"),\"Other\"=c(\"Others\"))\n",
    "levels(data$q1012)<-list(\"Currently Married\"=c(\"Currently Married\"), \"Not Currently Married\"=c(\"Never Married\",\"Cohabiting\",\"Separated/Divorced\",\"Widowed\"))\n",
    "levels(data$q1018_)<- list(\"Schedule Tribe\"=c(\"Schedule Tribe\"), \"Schedule Caste\"=c(\"Schedule Caste\"), \"Others\"=c(\"Other Backward Caste\",\"None of the Above\",\"Others\", \"Dont Know\"))"
   ]
  },
  {
   "attachments": {},
   "cell_type": "markdown",
   "metadata": {},
   "source": [
    "### Futher Regrouping\n",
    "\n",
    "For the following questions, the extreme categories tend to have very few respondants. As such, these categories are regrouped into Bad, encompassing moderate severe and extreme, and None/Mild for none/mild "
   ]
  },
  {
   "cell_type": "code",
   "execution_count": 22,
   "metadata": {
    "vscode": {
     "languageId": "r"
    }
   },
   "outputs": [],
   "source": [
    "levels(data$q2002) <- list(\"Moderate or worse\"=c(\"Moderate\", \"Severe\", \"Extreme/Cannot do\"),\"None/Mild\"=c(\"None\",\"Mild\")) \n",
    "levels(data$q2018) <- list(\"Moderate or worse\"=c(\"Moderate\", \"Severe\", \"Extreme/Cannot do\"),\"None/Mild\"=c(\"None\",\"Mild\")) \n",
    "levels(data$q2019) <- list(\"Moderate or worse\"=c(\"Moderate\", \"Severe\", \"Extreme/Cannot do\"),\"None/Mild\"=c(\"None\",\"Mild\")) \n",
    "levels(data$q2010) <- list(\"Moderate or worse\"=c(\"Moderate\", \"Severe\", \"Extreme/Cannot do\"),\"None/Mild\"=c(\"None\",\"Mild\")) "
   ]
  },
  {
   "attachments": {},
   "cell_type": "markdown",
   "metadata": {},
   "source": [
    "For the following questions, the extreme categories tend to have very few respondents. As such, these categories are regrouped into Poor, encompassing moderate, bad and very bad, and Good for Very good and Good"
   ]
  },
  {
   "cell_type": "code",
   "execution_count": 23,
   "metadata": {
    "vscode": {
     "languageId": "r"
    }
   },
   "outputs": [],
   "source": [
    "levels(data$q2000)<- list(\"Poor\"=c(\"Bad\", \"Very Bad\", \"Moderate\"),\"Good\"=c(\"Good\",\"Very good\"))"
   ]
  },
  {
   "attachments": {},
   "cell_type": "markdown",
   "metadata": {},
   "source": [
    "## Set reference levels"
   ]
  },
  {
   "cell_type": "code",
   "execution_count": 24,
   "metadata": {
    "vscode": {
     "languageId": "r"
    }
   },
   "outputs": [],
   "source": [
    "label.4040 <- attr(data$q4040, \"label\") \n",
    "label.4062 <- attr(data$q4062, \"label\") \n",
    "label.3001 <- attr(data$q3001, \"label\") \n",
    "label.2018 <- attr(data$q2018, \"label\") \n",
    "label.2019 <- attr(data$q2019, \"label\") \n",
    "label.quintile <- attr(data$quintile, \"label\") "
   ]
  },
  {
   "cell_type": "code",
   "execution_count": 25,
   "metadata": {
    "vscode": {
     "languageId": "r"
    }
   },
   "outputs": [],
   "source": [
    "data <- within(data, q4040 <- relevel(q4040, ref = \"No\"))\n",
    "data <- within(data, q4062 <- relevel(q4062, ref = \"No\"))\n",
    "data <- within(data, q3001 <- relevel(q3001, ref = \"No\"))\n",
    "data <- within(data, q2018 <- relevel(q2018, ref = \"None/Mild\"))\n",
    "data <- within(data, q2019 <- relevel(q2019, ref = \"None/Mild\"))\n",
    "data$quintile <- as.factor(data$quintile)"
   ]
  },
  {
   "cell_type": "code",
   "execution_count": 26,
   "metadata": {
    "vscode": {
     "languageId": "r"
    }
   },
   "outputs": [],
   "source": [
    "attr(data$q4040, \"label\") <- label.4040\n",
    "attr(data$q4062, \"label\") <-  label.4062\n",
    "attr(data$q3001, \"label\")  <- label.3001\n",
    "attr(data$q2018, \"label\")  <- label.2018\n",
    "attr(data$q2019, \"label\")  <- label.2019\n",
    "attr(data$quintile, \"label\")  <- label.quintile"
   ]
  },
  {
   "attachments": {},
   "cell_type": "markdown",
   "metadata": {},
   "source": [
    "# Restrict Data\n",
    "\n",
    "Include only those people who answered the survey"
   ]
  },
  {
   "cell_type": "code",
   "execution_count": 27,
   "metadata": {
    "vscode": {
     "languageId": "r"
    }
   },
   "outputs": [],
   "source": [
    "data <- data[!is.na(data$pweight),]"
   ]
  },
  {
   "attachments": {},
   "cell_type": "markdown",
   "metadata": {},
   "source": [
    "### proportions for each adherence metric"
   ]
  },
  {
   "cell_type": "code",
   "execution_count": 28,
   "metadata": {
    "vscode": {
     "languageId": "r"
    }
   },
   "outputs": [
    {
     "name": "stdout",
     "output_type": "stream",
     "text": [
      "[1] \"complete adherence\"\n",
      "[1] 1418\n",
      "[1] 1422\n",
      "[1] \"partial adherence\"\n",
      "[1] 1728\n",
      "[1] 1112\n",
      "[1] \"discordant adherence\"\n",
      "[1] 405\n",
      "[1] 2435\n"
     ]
    }
   ],
   "source": [
    "print(\"complete adherence\")\n",
    "print(length(which((data$adherence == \"Yes\") & (data$anymorbidity == \"Yes\"))))\n",
    "print(length(which((data$adherence == \"No\") & (data$anymorbidity == \"Yes\"))))\n",
    "\n",
    "print(\"partial adherence\")\n",
    "print(length(which((data$partial_adherence == \"Yes\") & (data$anymorbidity == \"Yes\"))))\n",
    "print(length(which((data$partial_adherence == \"No\") & (data$anymorbidity == \"Yes\"))))\n",
    "\n",
    "print('discordant adherence')\n",
    "print(length(which((data$discordant_adherence == \"Yes\") & (data$anymorbidity == \"Yes\"))))\n",
    "print(length(which((data$discordant_adherence == \"No\") & (data$anymorbidity == \"Yes\"))))\n"
   ]
  },
  {
   "cell_type": "code",
   "execution_count": 29,
   "metadata": {
    "vscode": {
     "languageId": "r"
    }
   },
   "outputs": [
    {
     "name": "stdout",
     "output_type": "stream",
     "text": [
      "[1] \"discordant adherence\"\n",
      "[1] 2151\n",
      "[1] 284\n",
      "[1] 405\n"
     ]
    }
   ],
   "source": [
    "\n",
    "print('discordant adherence')\n",
    "print(length(which((data$count_adh == data$count_treat_last12) & (data$anymorbidity == \"Yes\"))))\n",
    "print(length(which((data$count_adh > data$count_treat_last12) & (data$anymorbidity == \"Yes\"))))\n",
    "print(length(which((data$count_adh < data$count_treat_last12) & (data$anymorbidity == \"Yes\"))))"
   ]
  },
  {
   "cell_type": "code",
   "execution_count": 30,
   "metadata": {
    "vscode": {
     "languageId": "r"
    }
   },
   "outputs": [
    {
     "name": "stdout",
     "output_type": "stream",
     "text": [
      "[1] \"12M vs 2W adherence\"\n",
      "[1] 1184\n",
      "[1] 234\n",
      "[1] 343\n",
      "[1] 1079\n"
     ]
    }
   ],
   "source": [
    "print('12M vs 2W adherence')\n",
    "print(length(which((data$adherence == \"Yes\") & (data$twelve_adherence == \"Yes\") & (data$anymorbidity == \"Yes\"))))\n",
    "print(length(which((data$adherence == \"Yes\") & (data$twelve_adherence == \"No\") & (data$anymorbidity == \"Yes\"))))\n",
    "print(length(which((data$adherence == \"No\") & (data$twelve_adherence == \"Yes\") & (data$anymorbidity == \"Yes\"))))\n",
    "print(length(which((data$adherence == \"No\") & (data$twelve_adherence == \"No\") & (data$anymorbidity == \"Yes\"))))"
   ]
  },
  {
   "cell_type": "code",
   "execution_count": 31,
   "metadata": {
    "vscode": {
     "languageId": "r"
    }
   },
   "outputs": [],
   "source": [
    "write.csv(data,\"SAGE_India_W2_IND_Data_Cleaned_Modified.csv\")"
   ]
  },
  {
   "attachments": {},
   "cell_type": "markdown",
   "metadata": {},
   "source": [
    "# Create Survey Design\n",
    "Create survey design object encoding weights and PSU\"s"
   ]
  },
  {
   "cell_type": "code",
   "execution_count": 32,
   "metadata": {
    "vscode": {
     "languageId": "r"
    }
   },
   "outputs": [],
   "source": [
    "surveyDesign <- svydesign(ids=~q0101b, weights=~pweight, data=data)\n",
    "SurveyDesign <- surveyDesign"
   ]
  },
  {
   "attachments": {},
   "cell_type": "markdown",
   "metadata": {},
   "source": [
    "## Subset of survey design\n",
    "Create a survey design object that is a subset of those with any chronic condition. When both exists, survey design objects will be `PascalCase` whilst their corresponding dataframes will be `camelCase`"
   ]
  },
  {
   "cell_type": "code",
   "execution_count": 33,
   "metadata": {
    "vscode": {
     "languageId": "r"
    }
   },
   "outputs": [],
   "source": [
    "Morbidity         <- subset(surveyDesign, anymorbidity == \"Yes\") #survey design object\n",
    "morbidity         <- as.data.frame(subset(data, data$anymorbidity==\"Yes\")) # dataframe\n",
    "\n",
    "Multimorbid       <- subset(Morbidity, multimorbidity== \"Yes\")\n",
    "multimorbid       <- as.data.frame(subset(morbidity, morbidity$multimorbidity==\"Yes\"))\n",
    "\n",
    "Unimorbid         <- subset(Morbidity, multimorbidity== \"No\")\n",
    "unimorbid         <- as.data.frame(subset(morbidity, morbidity$multimorbidity==\"No\"))\n",
    "\n",
    "Check             <- subset(surveyDesign, q1011 >= 50) # this exists to be able to compare specific results with those in the SAGE2 India paper, to confirm the analysis done in this code\n",
    "\n",
    "Stroke            <- subset(surveyDesign, q4010== \"Yes\")\n",
    "Angina            <- subset(surveyDesign, q4014== \"Yes\")\n",
    "Diabetes          <- subset(surveyDesign, q4022== \"Yes\")\n",
    "LungDisease       <- subset(surveyDesign, q4025== \"Yes\")\n",
    "Asthma            <- subset(surveyDesign, q4033== \"Yes\")\n",
    "Depression        <- subset(surveyDesign, q4040== \"Yes\")\n",
    "Hypertension      <- subset(surveyDesign, q4060== \"Yes\")\n",
    "\n",
    "stroke            <- as.data.frame(subset(data, data$q4010==\"Yes\"))\n",
    "angina            <- as.data.frame(subset(data, data$q4014==\"Yes\"))\n",
    "diabetes          <- as.data.frame(subset(data, data$q4022==\"Yes\"))\n",
    "lungDisease       <- as.data.frame(subset(data, data$q4025==\"Yes\"))\n",
    "asthma            <- as.data.frame(subset(data, data$q4033==\"Yes\"))\n",
    "depression        <- as.data.frame(subset(data, data$q4040==\"Yes\"))\n",
    "hypertension      <- as.data.frame(subset(data, data$q4060==\"Yes\"))\n",
    "\n",
    "Adherent          <- subset(surveyDesign, adherence == \"Yes\") #survey design object\n",
    "adherent        <- as.data.frame(subset(data, data$adherence==\"Yes\")) # dataframe\n",
    "\n",
    "Nonadherent          <- subset(surveyDesign, adherence == \"No\") #survey design object\n",
    "nonadherent        <- as.data.frame(subset(data, data$adherence==\"No\")) # dataframe"
   ]
  },
  {
   "attachments": {},
   "cell_type": "markdown",
   "metadata": {},
   "source": [
    "There are 2840 respondants with any morbidity of which 2037 have only one morbidity and 803 have 2 or more morbidities"
   ]
  },
  {
   "cell_type": "code",
   "execution_count": 34,
   "metadata": {
    "vscode": {
     "languageId": "r"
    }
   },
   "outputs": [
    {
     "data": {
      "text/html": [
       "2840"
      ],
      "text/latex": [
       "2840"
      ],
      "text/markdown": [
       "2840"
      ],
      "text/plain": [
       "[1] 2840"
      ]
     },
     "metadata": {},
     "output_type": "display_data"
    },
    {
     "data": {
      "text/html": [
       "803"
      ],
      "text/latex": [
       "803"
      ],
      "text/markdown": [
       "803"
      ],
      "text/plain": [
       "[1] 803"
      ]
     },
     "metadata": {},
     "output_type": "display_data"
    },
    {
     "data": {
      "text/html": [
       "2037"
      ],
      "text/latex": [
       "2037"
      ],
      "text/markdown": [
       "2037"
      ],
      "text/plain": [
       "[1] 2037"
      ]
     },
     "metadata": {},
     "output_type": "display_data"
    }
   ],
   "source": [
    "nrow(morbidity)\n",
    "nrow(multimorbid)\n",
    "nrow(unimorbid)"
   ]
  },
  {
   "attachments": {},
   "cell_type": "markdown",
   "metadata": {},
   "source": [
    "# Functions for analysis"
   ]
  },
  {
   "attachments": {},
   "cell_type": "markdown",
   "metadata": {},
   "source": [
    "The function `weightedBVCalc` shows the distribution of characteristics for both the adherent and non adherent group and calculates the significance level. For continuous variables the significance level is calculated using the **Welch Two Sample t-test**, whilst for discrete variables this is calculated using the **chi-square test**. It also removes empty categories from the final display. It utilises the survey weights in this analysis"
   ]
  },
  {
   "cell_type": "code",
   "execution_count": 35,
   "metadata": {
    "vscode": {
     "languageId": "r"
    }
   },
   "outputs": [],
   "source": [
    "weightedBVCalc <- function(variable, disease, adherenceQ){\n",
    "    Name <- attr(morbidity[ ,variable[1]], \"label\")\n",
    "   # print(Name)\n",
    "\n",
    "    \n",
    "    if (variable[2] == \"D\"){\n",
    "        #print(\"Here\")\n",
    "        tableText <- paste0(\"svytable(~\", variable[1], \"+\", adherenceQ, \", design = disease )\")\n",
    "        #print(tableText)\n",
    "        AnalysisTable <- eval(parse(text=tableText))\n",
    "        #print(AnalysisTable)\n",
    "        AnalysisTable <- AnalysisTable[,c(\"No\", \"Yes\")]\n",
    "        AnalysisTable <- AnalysisTable[rowSums(AnalysisTable[])>0,] # remove empty rows\n",
    "        PropTable <- 100*prop.table(AnalysisTable, margin = 2)\n",
    "        pText <- paste0(\"svychisq(~\",variable[1], \"+\", adherenceQ, \", disease, statistic = 'adjWald')$p.value\")\n",
    "       # print(pText)\n",
    "        p.value <- eval(parse(text=pText))\n",
    "        #print(p.value)\n",
    "        if (p.value < 0.001){\n",
    "            p.value <- paste(\"<0.001\")\n",
    "        } else {\n",
    "            p.value <- paste(round(p.value, 3))\n",
    "        }\n",
    "        RowNames <- row.names(PropTable)\n",
    "        Title <- c(paste(Name, \" %\", sep = \"\" ), \"----\", \"----\", p.value)\n",
    "        fx <- lapply(RowNames, function(x) {\n",
    "            name <- paste0(\"~~~\", x, sep = \"\")\n",
    "            nonAdhering <- paste(round(PropTable[x, \"No\"], 2), \" %\", sep = \"\")\n",
    "            adhering <- paste(round(PropTable[x, \"Yes\"], 2), \" %\", sep = \"\")\n",
    "            pval = paste(\"--\")\n",
    "            data.frame(\n",
    "                Name = name,\n",
    "                Nonadhering = nonAdhering,\n",
    "                Adhering = adhering,\n",
    "                Pvalue = pval,\n",
    "                stringsAsFactors=FALSE\n",
    "        )\n",
    "        })\n",
    "        output_dataframe <- do.call(rbind, fx)\n",
    "        output_dataframe <- rbind(Title, output_dataframe)        \n",
    "    }\n",
    "    if (variable[2] == \"C\"){ #t-test is applicable here https://thestatsgeek.com/2013/09/28/the-t-test-and-robustness-to-non-normality/\n",
    "        nonAdhering <- paste(signif(svyby(~eval(parse(text = variable[1])), ~eval(parse(text = adherenceQ)), disease, svymean, na = TRUE)[\"No\",2],2), \n",
    "        \" (\",signif(sqrt(svyby(~eval(parse(text = variable[1])), ~eval(parse(text = adherenceQ)), disease, svyvar, na = TRUE)[\"No\",2]),2) , \")\", sep = \"\")\n",
    "        adhering <- paste(signif(svyby(~eval(parse(text = variable[1])), ~eval(parse(text = adherenceQ)), disease, svymean, na = TRUE)[\"Yes\",2],2), \n",
    "        \" (\",signif(sqrt(svyby(~eval(parse(text = variable[1])), ~eval(parse(text = adherenceQ)), disease, svyvar, na = TRUE)[\"Yes\",2]),2) , \")\", sep = \"\")\n",
    "       # print(variable[1])\n",
    "       # print(adherenceQ)\n",
    "        ttext <- paste0(\"svyttest(\", variable[1],\"~\", adherenceQ, \", disease, var.equal = FALSE)$p.value\")\n",
    "       # print(ttext)\n",
    "        p.value <- eval(parse(text = ttext))\n",
    "        if (p.value < 0.001){\n",
    "            p.value <- paste(\"<0.001\")\n",
    "        } else {\n",
    "            p.value <- paste(round(p.value, 3))\n",
    "        }\n",
    "        Title <- data.frame(\n",
    "                Name = paste(Name, \" [mean (SD)]\", sep = \"\" ),\n",
    "                Nonadhering = nonAdhering,\n",
    "                Adhering = adhering,\n",
    "                Pvalue = p.value,\n",
    "                stringsAsFactors=FALSE\n",
    "        )\n",
    "        output_dataframe <- Title   \n",
    "    }\n",
    "\n",
    "    \n",
    "\n",
    "    output_dataframe           \n",
    "\n",
    "}"
   ]
  },
  {
   "attachments": {},
   "cell_type": "markdown",
   "metadata": {},
   "source": [
    "The function `weightedPropFunc` shows the distribution of answers for a Yes or No question, in a subset of the data, using survey weights"
   ]
  },
  {
   "cell_type": "code",
   "execution_count": 36,
   "metadata": {
    "vscode": {
     "languageId": "r"
    }
   },
   "outputs": [],
   "source": [
    "weightedPropFunc <- function(diseaseStr, question){\n",
    "    #diseaseStr <- str_to_title(diseaseStr)\n",
    "    diseaseStr <-  paste0(toupper(substr(diseaseStr, 1, 1)), substr(diseaseStr, 2, nchar(diseaseStr)))\n",
    "    # disease <- eval(parse(text = diseaseStr))\n",
    "    name <- diseaseStr\n",
    "    tableText <- paste0(\"svytable(~\", question,  \", design =\", diseaseStr, \", addNA = F)\")\n",
    "    #print(tableText)\n",
    "    AnalysisTable <- eval(parse(text = tableText))\n",
    "    #AnalysisTable <- AnalysisTable[c(\"No\", \"Yes\")]\n",
    "    PropTable <- prop.table(AnalysisTable)\n",
    "    #print(PropTable)\n",
    "\n",
    "    \n",
    "    output_dataframe <- data.frame(\n",
    "                Name = name,\n",
    "                No = paste(round(100*PropTable[\"No\"],2), \" %\", sep = \"\"),\n",
    "                Yes = paste(round(100*PropTable[\"Yes\"],2), \" %\", sep = \"\"),\n",
    "                stringsAsFactors=FALSE\n",
    "        )\n",
    "    \n",
    "\n",
    "    output_dataframe           \n",
    "\n",
    "}"
   ]
  },
  {
   "attachments": {},
   "cell_type": "markdown",
   "metadata": {},
   "source": [
    "# Initial Variables for Analysis\n",
    "\n",
    "These are the factors which we are initially investigating"
   ]
  },
  {
   "cell_type": "code",
   "execution_count": 37,
   "metadata": {
    "vscode": {
     "languageId": "r"
    }
   },
   "outputs": [],
   "source": [
    "# D, C for discrete vs continuous\n",
    "\n",
    "VariableList <- matrix(\n",
    "\n",
    "    c(  #\"q1011\", \"C\", # age\n",
    "        \"age_category\", \"D\", # age category\n",
    "        \"q1009\",  \"D\", # gender\n",
    "        \"quintile\",\"D\", # wealth quintile     \n",
    "        #\"wealthscore\",\"C\", # wealth score    \n",
    "        \"count_diseases\", \"C\", # Number of Morbidities        \n",
    "        \"q0104\",  \"D\", # rural/urban\n",
    "        \"q0105a\", \"D\", # state   \n",
    "        \"q1012\",  \"D\", # current marital status         \n",
    "        \"q1019_\", \"D\", # Religion        \n",
    "        \"q1018_\", \"D\", # Caste        \n",
    "        \"q3001\", \"D\", # tobacco        \n",
    "        \"q3008\", \"D\", # alcohol\n",
    "        \"q2000\", \"D\", # self reported health\n",
    "        \"q2010\", \"D\", # cognitive function\n",
    "        \"q2002\", \"D\", # physical function\n",
    "        \"q8062\", \"D\", # community support\n",
    "        \"q1503\", \"D\", # working\n",
    "        \"q5004\", \"D\", # PHC\n",
    "        \"q1015\",  \"D\", # schooling\n",
    "        \"q1016_\", \"D\", # Highest level of schooling\n",
    "        \"q2018\",  \"D\", # Depression, last 30 days\n",
    "        #\"q4040\",  \"D\", # Clinical Depression\n",
    "        \"q2019\",  \"D\", # Anxiety\n",
    "        \"q4062\",  \"D\", # Cataracts\n",
    "        \"q7002\", \"D\" # Subjective wealth\n",
    "), ncol = 2, byrow = TRUE\n",
    ")"
   ]
  },
  {
   "attachments": {},
   "cell_type": "markdown",
   "metadata": {},
   "source": [
    "# Analysis"
   ]
  },
  {
   "attachments": {},
   "cell_type": "markdown",
   "metadata": {},
   "source": [
    "These are the raw response rates for each question"
   ]
  },
  {
   "cell_type": "code",
   "execution_count": 38,
   "metadata": {
    "vscode": {
     "languageId": "r"
    }
   },
   "outputs": [
    {
     "data": {
      "text/html": [
       "<table class=\"dataframe\">\n",
       "<caption>A data.frame: 1 × 23</caption>\n",
       "<thead>\n",
       "\t<tr><th scope=col>age_category</th><th scope=col>q1009</th><th scope=col>quintile</th><th scope=col>count_diseases</th><th scope=col>q0104</th><th scope=col>q0105a</th><th scope=col>q1012</th><th scope=col>q1019_</th><th scope=col>q1018_</th><th scope=col>q3001</th><th scope=col>⋯</th><th scope=col>q2002</th><th scope=col>q8062</th><th scope=col>q1503</th><th scope=col>q5004</th><th scope=col>q1015</th><th scope=col>q1016_</th><th scope=col>q2018</th><th scope=col>q2019</th><th scope=col>q4062</th><th scope=col>q7002</th></tr>\n",
       "\t<tr><th scope=col>&lt;dbl&gt;</th><th scope=col>&lt;dbl&gt;</th><th scope=col>&lt;dbl&gt;</th><th scope=col>&lt;dbl&gt;</th><th scope=col>&lt;dbl&gt;</th><th scope=col>&lt;dbl&gt;</th><th scope=col>&lt;dbl&gt;</th><th scope=col>&lt;dbl&gt;</th><th scope=col>&lt;dbl&gt;</th><th scope=col>&lt;dbl&gt;</th><th scope=col>⋯</th><th scope=col>&lt;dbl&gt;</th><th scope=col>&lt;dbl&gt;</th><th scope=col>&lt;dbl&gt;</th><th scope=col>&lt;dbl&gt;</th><th scope=col>&lt;dbl&gt;</th><th scope=col>&lt;dbl&gt;</th><th scope=col>&lt;dbl&gt;</th><th scope=col>&lt;dbl&gt;</th><th scope=col>&lt;dbl&gt;</th><th scope=col>&lt;dbl&gt;</th></tr>\n",
       "</thead>\n",
       "<tbody>\n",
       "\t<tr><td>100</td><td>100</td><td>100</td><td>100</td><td>100</td><td>100</td><td>100</td><td>100</td><td>100</td><td>100</td><td>⋯</td><td>99.82394</td><td>15.38732</td><td>50.21127</td><td>57.1831</td><td>100</td><td>58.69718</td><td>100</td><td>100</td><td>99.89437</td><td>99.89437</td></tr>\n",
       "</tbody>\n",
       "</table>\n"
      ],
      "text/latex": [
       "A data.frame: 1 × 23\n",
       "\\begin{tabular}{lllllllllllllllllllll}\n",
       " age\\_category & q1009 & quintile & count\\_diseases & q0104 & q0105a & q1012 & q1019\\_ & q1018\\_ & q3001 & ⋯ & q2002 & q8062 & q1503 & q5004 & q1015 & q1016\\_ & q2018 & q2019 & q4062 & q7002\\\\\n",
       " <dbl> & <dbl> & <dbl> & <dbl> & <dbl> & <dbl> & <dbl> & <dbl> & <dbl> & <dbl> & ⋯ & <dbl> & <dbl> & <dbl> & <dbl> & <dbl> & <dbl> & <dbl> & <dbl> & <dbl> & <dbl>\\\\\n",
       "\\hline\n",
       "\t 100 & 100 & 100 & 100 & 100 & 100 & 100 & 100 & 100 & 100 & ⋯ & 99.82394 & 15.38732 & 50.21127 & 57.1831 & 100 & 58.69718 & 100 & 100 & 99.89437 & 99.89437\\\\\n",
       "\\end{tabular}\n"
      ],
      "text/markdown": [
       "\n",
       "A data.frame: 1 × 23\n",
       "\n",
       "| age_category &lt;dbl&gt; | q1009 &lt;dbl&gt; | quintile &lt;dbl&gt; | count_diseases &lt;dbl&gt; | q0104 &lt;dbl&gt; | q0105a &lt;dbl&gt; | q1012 &lt;dbl&gt; | q1019_ &lt;dbl&gt; | q1018_ &lt;dbl&gt; | q3001 &lt;dbl&gt; | ⋯ ⋯ | q2002 &lt;dbl&gt; | q8062 &lt;dbl&gt; | q1503 &lt;dbl&gt; | q5004 &lt;dbl&gt; | q1015 &lt;dbl&gt; | q1016_ &lt;dbl&gt; | q2018 &lt;dbl&gt; | q2019 &lt;dbl&gt; | q4062 &lt;dbl&gt; | q7002 &lt;dbl&gt; |\n",
       "|---|---|---|---|---|---|---|---|---|---|---|---|---|---|---|---|---|---|---|---|---|\n",
       "| 100 | 100 | 100 | 100 | 100 | 100 | 100 | 100 | 100 | 100 | ⋯ | 99.82394 | 15.38732 | 50.21127 | 57.1831 | 100 | 58.69718 | 100 | 100 | 99.89437 | 99.89437 |\n",
       "\n"
      ],
      "text/plain": [
       "  age_category q1009 quintile count_diseases q0104 q0105a q1012 q1019_ q1018_\n",
       "1 100          100   100      100            100   100    100   100    100   \n",
       "  q3001 ⋯ q2002    q8062    q1503    q5004   q1015 q1016_   q2018 q2019\n",
       "1 100   ⋯ 99.82394 15.38732 50.21127 57.1831 100   58.69718 100   100  \n",
       "  q4062    q7002   \n",
       "1 99.89437 99.89437"
      ]
     },
     "metadata": {},
     "output_type": "display_data"
    }
   ],
   "source": [
    "AnalysisData <- dplyr::select(morbidity, c(VariableList[,1]))\n",
    "ResponseRates <- AnalysisData %>% summarize_all(funs(100*(1-(sum(is.na(.)) / length(.)))))\n",
    "ResponseRates \n",
    "write.csv(ResponseRates ,\"Misc/ResponseRates.csv\")"
   ]
  },
  {
   "attachments": {},
   "cell_type": "markdown",
   "metadata": {},
   "source": [
    "## Initial bivariate analysis\n",
    "Select the portion of the survey population who are diagnosed with one or more chronic diseases"
   ]
  },
  {
   "cell_type": "code",
   "execution_count": 39,
   "metadata": {
    "vscode": {
     "languageId": "r"
    }
   },
   "outputs": [
    {
     "data": {
      "text/html": [
       "<table class=\"dataframe\">\n",
       "<caption>A data.frame: 82 × 4</caption>\n",
       "<thead>\n",
       "\t<tr><th scope=col>Name</th><th scope=col>Nonadhering</th><th scope=col>Adhering</th><th scope=col>Pvalue</th></tr>\n",
       "\t<tr><th scope=col>&lt;chr&gt;</th><th scope=col>&lt;chr&gt;</th><th scope=col>&lt;chr&gt;</th><th scope=col>&lt;chr&gt;</th></tr>\n",
       "</thead>\n",
       "<tbody>\n",
       "\t<tr><td><span style=white-space:pre-wrap>Age Group %                             </span></td><td><span style=white-space:pre-wrap>----      </span></td><td><span style=white-space:pre-wrap>----     </span></td><td>&lt;0.001</td></tr>\n",
       "\t<tr><td><span style=white-space:pre-wrap>~~~&lt;50                                  </span></td><td><span style=white-space:pre-wrap>16.62 %   </span></td><td><span style=white-space:pre-wrap>10.53 %  </span></td><td><span style=white-space:pre-wrap>--    </span></td></tr>\n",
       "\t<tr><td><span style=white-space:pre-wrap>~~~&gt;=50                                 </span></td><td><span style=white-space:pre-wrap>83.38 %   </span></td><td><span style=white-space:pre-wrap>89.47 %  </span></td><td><span style=white-space:pre-wrap>--    </span></td></tr>\n",
       "\t<tr><td>Sex of the respondent %                 </td><td>----      </td><td>----     </td><td>0.426 </td></tr>\n",
       "\t<tr><td>~~~Male                                 </td><td>45.68 %   </td><td>47.44 %  </td><td>--    </td></tr>\n",
       "\t<tr><td>~~~Female                               </td><td>54.32 %   </td><td>52.56 %  </td><td>--    </td></tr>\n",
       "\t<tr><td>5 quantiles of wealthscore %            </td><td>----      </td><td>----     </td><td>0.008 </td></tr>\n",
       "\t<tr><td>~~~1                                    </td><td>17.59 %   </td><td>12.48 %  </td><td>--    </td></tr>\n",
       "\t<tr><td>~~~2                                    </td><td>17.54 %   </td><td>13.92 %  </td><td>--    </td></tr>\n",
       "\t<tr><td>~~~3                                    </td><td>15.73 %   </td><td>18.9 %   </td><td>--    </td></tr>\n",
       "\t<tr><td>~~~4                                    </td><td>21.53 %   </td><td>21.72 %  </td><td>--    </td></tr>\n",
       "\t<tr><td>~~~5                                    </td><td>27.61 %   </td><td>32.99 %  </td><td>--    </td></tr>\n",
       "\t<tr><td>Number of Chronic Conditions [mean (SD)]</td><td>1.5 (0.74)</td><td>1.2 (0.5)</td><td>&lt;0.001</td></tr>\n",
       "\t<tr><td>Place of residence %                    </td><td>----      </td><td>----     </td><td>0.006 </td></tr>\n",
       "\t<tr><td>~~~Urban                                </td><td>27.02 %   </td><td>37.1 %   </td><td>--    </td></tr>\n",
       "\t<tr><td>~~~Rural                                </td><td>72.98 %   </td><td>62.9 %   </td><td>--    </td></tr>\n",
       "\t<tr><td><span style=white-space:pre-wrap>Region %                                </span></td><td><span style=white-space:pre-wrap>----      </span></td><td><span style=white-space:pre-wrap>----     </span></td><td>&lt;0.001</td></tr>\n",
       "\t<tr><td>~~~ASSAM                                </td><td>11.71 %   </td><td>4.1 %    </td><td>--    </td></tr>\n",
       "\t<tr><td>~~~KARNATAKA                            </td><td>9.15 %    </td><td>17.36 %  </td><td>--    </td></tr>\n",
       "\t<tr><td>~~~MAHARASHTRA                          </td><td>19.21 %   </td><td>17.72 %  </td><td>--    </td></tr>\n",
       "\t<tr><td>~~~RAJASTHAN                            </td><td>19.85 %   </td><td>12.04 %  </td><td>--    </td></tr>\n",
       "\t<tr><td>~~~UTTAR PRADESH                        </td><td>21.59 %   </td><td>21.65 %  </td><td>--    </td></tr>\n",
       "\t<tr><td>~~~WEST BENGAL                          </td><td>18.49 %   </td><td>27.14 %  </td><td>--    </td></tr>\n",
       "\t<tr><td>Current Marital Status %                </td><td>----      </td><td>----     </td><td>0.404 </td></tr>\n",
       "\t<tr><td>~~~Currently Married                    </td><td>74.24 %   </td><td>75.87 %  </td><td>--    </td></tr>\n",
       "\t<tr><td>~~~Not Currently Married                </td><td>25.76 %   </td><td>24.13 %  </td><td>--    </td></tr>\n",
       "\t<tr><td>Religion %                              </td><td>----      </td><td>----     </td><td>0.231 </td></tr>\n",
       "\t<tr><td>~~~Hinduism                             </td><td>82.31 %   </td><td>84.43 %  </td><td>--    </td></tr>\n",
       "\t<tr><td>~~~Islam                                </td><td>12.96 %   </td><td>12.49 %  </td><td>--    </td></tr>\n",
       "\t<tr><td>~~~Other / None                         </td><td>4.73 %    </td><td>3.07 %   </td><td>--    </td></tr>\n",
       "\t<tr><td>⋮</td><td>⋮</td><td>⋮</td><td>⋮</td></tr>\n",
       "\t<tr><td>Currently working %                         </td><td>----   </td><td>----   </td><td>0.008 </td></tr>\n",
       "\t<tr><td>~~~Yes                                      </td><td>60.63 %</td><td>50.5 % </td><td>--    </td></tr>\n",
       "\t<tr><td>~~~No                                       </td><td>39.37 %</td><td>49.5 % </td><td>--    </td></tr>\n",
       "\t<tr><td>Health care provider %                      </td><td>----   </td><td>----   </td><td>0.482 </td></tr>\n",
       "\t<tr><td>~~~Private                                  </td><td>60.47 %</td><td>61.15 %</td><td>--    </td></tr>\n",
       "\t<tr><td>~~~Public                                   </td><td>31.04 %</td><td>28.98 %</td><td>--    </td></tr>\n",
       "\t<tr><td>~~~Community                                </td><td>4.62 % </td><td>6.72 % </td><td>--    </td></tr>\n",
       "\t<tr><td>~~~Other                                    </td><td>3.87 % </td><td>3.14 % </td><td>--    </td></tr>\n",
       "\t<tr><td><span style=white-space:pre-wrap>Ever Been to School %                       </span></td><td><span style=white-space:pre-wrap>----   </span></td><td><span style=white-space:pre-wrap>----   </span></td><td>&lt;0.001</td></tr>\n",
       "\t<tr><td>~~~Yes                                      </td><td>58.65 %</td><td>66.27 %</td><td>--    </td></tr>\n",
       "\t<tr><td>~~~No                                       </td><td>41.35 %</td><td>33.73 %</td><td>--    </td></tr>\n",
       "\t<tr><td>Level of Education %                        </td><td>----   </td><td>----   </td><td>0.315 </td></tr>\n",
       "\t<tr><td>~~~Less than primary school/don't know      </td><td>23.16 %</td><td>23.72 %</td><td>--    </td></tr>\n",
       "\t<tr><td>~~~Secondary school and below               </td><td>48.12 %</td><td>43.45 %</td><td>--    </td></tr>\n",
       "\t<tr><td>~~~Past secondary school                    </td><td>28.73 %</td><td>32.83 %</td><td>--    </td></tr>\n",
       "\t<tr><td>Feeling sad/low/depression %                </td><td>----   </td><td>----   </td><td>0.012 </td></tr>\n",
       "\t<tr><td>~~~None/Mild                                </td><td>69.97 %</td><td>75.24 %</td><td>--    </td></tr>\n",
       "\t<tr><td>~~~Moderate or worse                        </td><td>30.03 %</td><td>24.76 %</td><td>--    </td></tr>\n",
       "\t<tr><td>Worry or anxiety %                          </td><td>----   </td><td>----   </td><td>0.005 </td></tr>\n",
       "\t<tr><td>~~~None/Mild                                </td><td>57.03 %</td><td>64.53 %</td><td>--    </td></tr>\n",
       "\t<tr><td>~~~Moderate or worse                        </td><td>42.97 %</td><td>35.47 %</td><td>--    </td></tr>\n",
       "\t<tr><td>Cataracts- New Sample (Chronic Conditions) %</td><td>----   </td><td>----   </td><td>0.831 </td></tr>\n",
       "\t<tr><td>~~~No                                       </td><td>76.05 %</td><td>75.53 %</td><td>--    </td></tr>\n",
       "\t<tr><td>~~~Yes                                      </td><td>23.95 %</td><td>24.47 %</td><td>--    </td></tr>\n",
       "\t<tr><td>Money to meed needs %                       </td><td>----   </td><td>----   </td><td>0.795 </td></tr>\n",
       "\t<tr><td>~~~Completely                               </td><td>8.51 % </td><td>9.53 % </td><td>--    </td></tr>\n",
       "\t<tr><td>~~~Mostly                                   </td><td>15.64 %</td><td>17.61 %</td><td>--    </td></tr>\n",
       "\t<tr><td>~~~Moderately                               </td><td>45.56 %</td><td>44.17 %</td><td>--    </td></tr>\n",
       "\t<tr><td>~~~A little                                 </td><td>22.91 %</td><td>21.83 %</td><td>--    </td></tr>\n",
       "\t<tr><td>~~~None at all                              </td><td>7.39 % </td><td>6.86 % </td><td>--    </td></tr>\n",
       "</tbody>\n",
       "</table>\n"
      ],
      "text/latex": [
       "A data.frame: 82 × 4\n",
       "\\begin{tabular}{llll}\n",
       " Name & Nonadhering & Adhering & Pvalue\\\\\n",
       " <chr> & <chr> & <chr> & <chr>\\\\\n",
       "\\hline\n",
       "\t Age Group \\%                              & ----       & ----      & <0.001\\\\\n",
       "\t \\textasciitilde{}\\textasciitilde{}\\textasciitilde{}<50                                   & 16.62 \\%    & 10.53 \\%   & --    \\\\\n",
       "\t \\textasciitilde{}\\textasciitilde{}\\textasciitilde{}>=50                                  & 83.38 \\%    & 89.47 \\%   & --    \\\\\n",
       "\t Sex of the respondent \\%                  & ----       & ----      & 0.426 \\\\\n",
       "\t \\textasciitilde{}\\textasciitilde{}\\textasciitilde{}Male                                  & 45.68 \\%    & 47.44 \\%   & --    \\\\\n",
       "\t \\textasciitilde{}\\textasciitilde{}\\textasciitilde{}Female                                & 54.32 \\%    & 52.56 \\%   & --    \\\\\n",
       "\t 5 quantiles of wealthscore \\%             & ----       & ----      & 0.008 \\\\\n",
       "\t \\textasciitilde{}\\textasciitilde{}\\textasciitilde{}1                                     & 17.59 \\%    & 12.48 \\%   & --    \\\\\n",
       "\t \\textasciitilde{}\\textasciitilde{}\\textasciitilde{}2                                     & 17.54 \\%    & 13.92 \\%   & --    \\\\\n",
       "\t \\textasciitilde{}\\textasciitilde{}\\textasciitilde{}3                                     & 15.73 \\%    & 18.9 \\%    & --    \\\\\n",
       "\t \\textasciitilde{}\\textasciitilde{}\\textasciitilde{}4                                     & 21.53 \\%    & 21.72 \\%   & --    \\\\\n",
       "\t \\textasciitilde{}\\textasciitilde{}\\textasciitilde{}5                                     & 27.61 \\%    & 32.99 \\%   & --    \\\\\n",
       "\t Number of Chronic Conditions {[}mean (SD){]} & 1.5 (0.74) & 1.2 (0.5) & <0.001\\\\\n",
       "\t Place of residence \\%                     & ----       & ----      & 0.006 \\\\\n",
       "\t \\textasciitilde{}\\textasciitilde{}\\textasciitilde{}Urban                                 & 27.02 \\%    & 37.1 \\%    & --    \\\\\n",
       "\t \\textasciitilde{}\\textasciitilde{}\\textasciitilde{}Rural                                 & 72.98 \\%    & 62.9 \\%    & --    \\\\\n",
       "\t Region \\%                                 & ----       & ----      & <0.001\\\\\n",
       "\t \\textasciitilde{}\\textasciitilde{}\\textasciitilde{}ASSAM                                 & 11.71 \\%    & 4.1 \\%     & --    \\\\\n",
       "\t \\textasciitilde{}\\textasciitilde{}\\textasciitilde{}KARNATAKA                             & 9.15 \\%     & 17.36 \\%   & --    \\\\\n",
       "\t \\textasciitilde{}\\textasciitilde{}\\textasciitilde{}MAHARASHTRA                           & 19.21 \\%    & 17.72 \\%   & --    \\\\\n",
       "\t \\textasciitilde{}\\textasciitilde{}\\textasciitilde{}RAJASTHAN                             & 19.85 \\%    & 12.04 \\%   & --    \\\\\n",
       "\t \\textasciitilde{}\\textasciitilde{}\\textasciitilde{}UTTAR PRADESH                         & 21.59 \\%    & 21.65 \\%   & --    \\\\\n",
       "\t \\textasciitilde{}\\textasciitilde{}\\textasciitilde{}WEST BENGAL                           & 18.49 \\%    & 27.14 \\%   & --    \\\\\n",
       "\t Current Marital Status \\%                 & ----       & ----      & 0.404 \\\\\n",
       "\t \\textasciitilde{}\\textasciitilde{}\\textasciitilde{}Currently Married                     & 74.24 \\%    & 75.87 \\%   & --    \\\\\n",
       "\t \\textasciitilde{}\\textasciitilde{}\\textasciitilde{}Not Currently Married                 & 25.76 \\%    & 24.13 \\%   & --    \\\\\n",
       "\t Religion \\%                               & ----       & ----      & 0.231 \\\\\n",
       "\t \\textasciitilde{}\\textasciitilde{}\\textasciitilde{}Hinduism                              & 82.31 \\%    & 84.43 \\%   & --    \\\\\n",
       "\t \\textasciitilde{}\\textasciitilde{}\\textasciitilde{}Islam                                 & 12.96 \\%    & 12.49 \\%   & --    \\\\\n",
       "\t \\textasciitilde{}\\textasciitilde{}\\textasciitilde{}Other / None                          & 4.73 \\%     & 3.07 \\%    & --    \\\\\n",
       "\t ⋮ & ⋮ & ⋮ & ⋮\\\\\n",
       "\t Currently working \\%                          & ----    & ----    & 0.008 \\\\\n",
       "\t \\textasciitilde{}\\textasciitilde{}\\textasciitilde{}Yes                                       & 60.63 \\% & 50.5 \\%  & --    \\\\\n",
       "\t \\textasciitilde{}\\textasciitilde{}\\textasciitilde{}No                                        & 39.37 \\% & 49.5 \\%  & --    \\\\\n",
       "\t Health care provider \\%                       & ----    & ----    & 0.482 \\\\\n",
       "\t \\textasciitilde{}\\textasciitilde{}\\textasciitilde{}Private                                   & 60.47 \\% & 61.15 \\% & --    \\\\\n",
       "\t \\textasciitilde{}\\textasciitilde{}\\textasciitilde{}Public                                    & 31.04 \\% & 28.98 \\% & --    \\\\\n",
       "\t \\textasciitilde{}\\textasciitilde{}\\textasciitilde{}Community                                 & 4.62 \\%  & 6.72 \\%  & --    \\\\\n",
       "\t \\textasciitilde{}\\textasciitilde{}\\textasciitilde{}Other                                     & 3.87 \\%  & 3.14 \\%  & --    \\\\\n",
       "\t Ever Been to School \\%                        & ----    & ----    & <0.001\\\\\n",
       "\t \\textasciitilde{}\\textasciitilde{}\\textasciitilde{}Yes                                       & 58.65 \\% & 66.27 \\% & --    \\\\\n",
       "\t \\textasciitilde{}\\textasciitilde{}\\textasciitilde{}No                                        & 41.35 \\% & 33.73 \\% & --    \\\\\n",
       "\t Level of Education \\%                         & ----    & ----    & 0.315 \\\\\n",
       "\t \\textasciitilde{}\\textasciitilde{}\\textasciitilde{}Less than primary school/don't know       & 23.16 \\% & 23.72 \\% & --    \\\\\n",
       "\t \\textasciitilde{}\\textasciitilde{}\\textasciitilde{}Secondary school and below                & 48.12 \\% & 43.45 \\% & --    \\\\\n",
       "\t \\textasciitilde{}\\textasciitilde{}\\textasciitilde{}Past secondary school                     & 28.73 \\% & 32.83 \\% & --    \\\\\n",
       "\t Feeling sad/low/depression \\%                 & ----    & ----    & 0.012 \\\\\n",
       "\t \\textasciitilde{}\\textasciitilde{}\\textasciitilde{}None/Mild                                 & 69.97 \\% & 75.24 \\% & --    \\\\\n",
       "\t \\textasciitilde{}\\textasciitilde{}\\textasciitilde{}Moderate or worse                         & 30.03 \\% & 24.76 \\% & --    \\\\\n",
       "\t Worry or anxiety \\%                           & ----    & ----    & 0.005 \\\\\n",
       "\t \\textasciitilde{}\\textasciitilde{}\\textasciitilde{}None/Mild                                 & 57.03 \\% & 64.53 \\% & --    \\\\\n",
       "\t \\textasciitilde{}\\textasciitilde{}\\textasciitilde{}Moderate or worse                         & 42.97 \\% & 35.47 \\% & --    \\\\\n",
       "\t Cataracts- New Sample (Chronic Conditions) \\% & ----    & ----    & 0.831 \\\\\n",
       "\t \\textasciitilde{}\\textasciitilde{}\\textasciitilde{}No                                        & 76.05 \\% & 75.53 \\% & --    \\\\\n",
       "\t \\textasciitilde{}\\textasciitilde{}\\textasciitilde{}Yes                                       & 23.95 \\% & 24.47 \\% & --    \\\\\n",
       "\t Money to meed needs \\%                        & ----    & ----    & 0.795 \\\\\n",
       "\t \\textasciitilde{}\\textasciitilde{}\\textasciitilde{}Completely                                & 8.51 \\%  & 9.53 \\%  & --    \\\\\n",
       "\t \\textasciitilde{}\\textasciitilde{}\\textasciitilde{}Mostly                                    & 15.64 \\% & 17.61 \\% & --    \\\\\n",
       "\t \\textasciitilde{}\\textasciitilde{}\\textasciitilde{}Moderately                                & 45.56 \\% & 44.17 \\% & --    \\\\\n",
       "\t \\textasciitilde{}\\textasciitilde{}\\textasciitilde{}A little                                  & 22.91 \\% & 21.83 \\% & --    \\\\\n",
       "\t \\textasciitilde{}\\textasciitilde{}\\textasciitilde{}None at all                               & 7.39 \\%  & 6.86 \\%  & --    \\\\\n",
       "\\end{tabular}\n"
      ],
      "text/markdown": [
       "\n",
       "A data.frame: 82 × 4\n",
       "\n",
       "| Name &lt;chr&gt; | Nonadhering &lt;chr&gt; | Adhering &lt;chr&gt; | Pvalue &lt;chr&gt; |\n",
       "|---|---|---|---|\n",
       "| Age Group %                              | ----       | ----      | &lt;0.001 |\n",
       "| ~~~&lt;50                                   | 16.62 %    | 10.53 %   | --     |\n",
       "| ~~~&gt;=50                                  | 83.38 %    | 89.47 %   | --     |\n",
       "| Sex of the respondent %                  | ----       | ----      | 0.426  |\n",
       "| ~~~Male                                  | 45.68 %    | 47.44 %   | --     |\n",
       "| ~~~Female                                | 54.32 %    | 52.56 %   | --     |\n",
       "| 5 quantiles of wealthscore %             | ----       | ----      | 0.008  |\n",
       "| ~~~1                                     | 17.59 %    | 12.48 %   | --     |\n",
       "| ~~~2                                     | 17.54 %    | 13.92 %   | --     |\n",
       "| ~~~3                                     | 15.73 %    | 18.9 %    | --     |\n",
       "| ~~~4                                     | 21.53 %    | 21.72 %   | --     |\n",
       "| ~~~5                                     | 27.61 %    | 32.99 %   | --     |\n",
       "| Number of Chronic Conditions [mean (SD)] | 1.5 (0.74) | 1.2 (0.5) | &lt;0.001 |\n",
       "| Place of residence %                     | ----       | ----      | 0.006  |\n",
       "| ~~~Urban                                 | 27.02 %    | 37.1 %    | --     |\n",
       "| ~~~Rural                                 | 72.98 %    | 62.9 %    | --     |\n",
       "| Region %                                 | ----       | ----      | &lt;0.001 |\n",
       "| ~~~ASSAM                                 | 11.71 %    | 4.1 %     | --     |\n",
       "| ~~~KARNATAKA                             | 9.15 %     | 17.36 %   | --     |\n",
       "| ~~~MAHARASHTRA                           | 19.21 %    | 17.72 %   | --     |\n",
       "| ~~~RAJASTHAN                             | 19.85 %    | 12.04 %   | --     |\n",
       "| ~~~UTTAR PRADESH                         | 21.59 %    | 21.65 %   | --     |\n",
       "| ~~~WEST BENGAL                           | 18.49 %    | 27.14 %   | --     |\n",
       "| Current Marital Status %                 | ----       | ----      | 0.404  |\n",
       "| ~~~Currently Married                     | 74.24 %    | 75.87 %   | --     |\n",
       "| ~~~Not Currently Married                 | 25.76 %    | 24.13 %   | --     |\n",
       "| Religion %                               | ----       | ----      | 0.231  |\n",
       "| ~~~Hinduism                              | 82.31 %    | 84.43 %   | --     |\n",
       "| ~~~Islam                                 | 12.96 %    | 12.49 %   | --     |\n",
       "| ~~~Other / None                          | 4.73 %     | 3.07 %    | --     |\n",
       "| ⋮ | ⋮ | ⋮ | ⋮ |\n",
       "| Currently working %                          | ----    | ----    | 0.008  |\n",
       "| ~~~Yes                                       | 60.63 % | 50.5 %  | --     |\n",
       "| ~~~No                                        | 39.37 % | 49.5 %  | --     |\n",
       "| Health care provider %                       | ----    | ----    | 0.482  |\n",
       "| ~~~Private                                   | 60.47 % | 61.15 % | --     |\n",
       "| ~~~Public                                    | 31.04 % | 28.98 % | --     |\n",
       "| ~~~Community                                 | 4.62 %  | 6.72 %  | --     |\n",
       "| ~~~Other                                     | 3.87 %  | 3.14 %  | --     |\n",
       "| Ever Been to School %                        | ----    | ----    | &lt;0.001 |\n",
       "| ~~~Yes                                       | 58.65 % | 66.27 % | --     |\n",
       "| ~~~No                                        | 41.35 % | 33.73 % | --     |\n",
       "| Level of Education %                         | ----    | ----    | 0.315  |\n",
       "| ~~~Less than primary school/don't know       | 23.16 % | 23.72 % | --     |\n",
       "| ~~~Secondary school and below                | 48.12 % | 43.45 % | --     |\n",
       "| ~~~Past secondary school                     | 28.73 % | 32.83 % | --     |\n",
       "| Feeling sad/low/depression %                 | ----    | ----    | 0.012  |\n",
       "| ~~~None/Mild                                 | 69.97 % | 75.24 % | --     |\n",
       "| ~~~Moderate or worse                         | 30.03 % | 24.76 % | --     |\n",
       "| Worry or anxiety %                           | ----    | ----    | 0.005  |\n",
       "| ~~~None/Mild                                 | 57.03 % | 64.53 % | --     |\n",
       "| ~~~Moderate or worse                         | 42.97 % | 35.47 % | --     |\n",
       "| Cataracts- New Sample (Chronic Conditions) % | ----    | ----    | 0.831  |\n",
       "| ~~~No                                        | 76.05 % | 75.53 % | --     |\n",
       "| ~~~Yes                                       | 23.95 % | 24.47 % | --     |\n",
       "| Money to meed needs %                        | ----    | ----    | 0.795  |\n",
       "| ~~~Completely                                | 8.51 %  | 9.53 %  | --     |\n",
       "| ~~~Mostly                                    | 15.64 % | 17.61 % | --     |\n",
       "| ~~~Moderately                                | 45.56 % | 44.17 % | --     |\n",
       "| ~~~A little                                  | 22.91 % | 21.83 % | --     |\n",
       "| ~~~None at all                               | 7.39 %  | 6.86 %  | --     |\n",
       "\n"
      ],
      "text/plain": [
       "   Name                                         Nonadhering Adhering  Pvalue\n",
       "1  Age Group %                                  ----        ----      <0.001\n",
       "2  ~~~<50                                       16.62 %     10.53 %   --    \n",
       "3  ~~~>=50                                      83.38 %     89.47 %   --    \n",
       "4  Sex of the respondent %                      ----        ----      0.426 \n",
       "5  ~~~Male                                      45.68 %     47.44 %   --    \n",
       "6  ~~~Female                                    54.32 %     52.56 %   --    \n",
       "7  5 quantiles of wealthscore %                 ----        ----      0.008 \n",
       "8  ~~~1                                         17.59 %     12.48 %   --    \n",
       "9  ~~~2                                         17.54 %     13.92 %   --    \n",
       "10 ~~~3                                         15.73 %     18.9 %    --    \n",
       "11 ~~~4                                         21.53 %     21.72 %   --    \n",
       "12 ~~~5                                         27.61 %     32.99 %   --    \n",
       "13 Number of Chronic Conditions [mean (SD)]     1.5 (0.74)  1.2 (0.5) <0.001\n",
       "14 Place of residence %                         ----        ----      0.006 \n",
       "15 ~~~Urban                                     27.02 %     37.1 %    --    \n",
       "16 ~~~Rural                                     72.98 %     62.9 %    --    \n",
       "17 Region %                                     ----        ----      <0.001\n",
       "18 ~~~ASSAM                                     11.71 %     4.1 %     --    \n",
       "19 ~~~KARNATAKA                                 9.15 %      17.36 %   --    \n",
       "20 ~~~MAHARASHTRA                               19.21 %     17.72 %   --    \n",
       "21 ~~~RAJASTHAN                                 19.85 %     12.04 %   --    \n",
       "22 ~~~UTTAR PRADESH                             21.59 %     21.65 %   --    \n",
       "23 ~~~WEST BENGAL                               18.49 %     27.14 %   --    \n",
       "24 Current Marital Status %                     ----        ----      0.404 \n",
       "25 ~~~Currently Married                         74.24 %     75.87 %   --    \n",
       "26 ~~~Not Currently Married                     25.76 %     24.13 %   --    \n",
       "27 Religion %                                   ----        ----      0.231 \n",
       "28 ~~~Hinduism                                  82.31 %     84.43 %   --    \n",
       "29 ~~~Islam                                     12.96 %     12.49 %   --    \n",
       "30 ~~~Other / None                              4.73 %      3.07 %    --    \n",
       "⋮  ⋮                                            ⋮           ⋮         ⋮     \n",
       "53 Currently working %                          ----        ----      0.008 \n",
       "54 ~~~Yes                                       60.63 %     50.5 %    --    \n",
       "55 ~~~No                                        39.37 %     49.5 %    --    \n",
       "56 Health care provider %                       ----        ----      0.482 \n",
       "57 ~~~Private                                   60.47 %     61.15 %   --    \n",
       "58 ~~~Public                                    31.04 %     28.98 %   --    \n",
       "59 ~~~Community                                 4.62 %      6.72 %    --    \n",
       "60 ~~~Other                                     3.87 %      3.14 %    --    \n",
       "61 Ever Been to School %                        ----        ----      <0.001\n",
       "62 ~~~Yes                                       58.65 %     66.27 %   --    \n",
       "63 ~~~No                                        41.35 %     33.73 %   --    \n",
       "64 Level of Education %                         ----        ----      0.315 \n",
       "65 ~~~Less than primary school/don't know       23.16 %     23.72 %   --    \n",
       "66 ~~~Secondary school and below                48.12 %     43.45 %   --    \n",
       "67 ~~~Past secondary school                     28.73 %     32.83 %   --    \n",
       "68 Feeling sad/low/depression %                 ----        ----      0.012 \n",
       "69 ~~~None/Mild                                 69.97 %     75.24 %   --    \n",
       "70 ~~~Moderate or worse                         30.03 %     24.76 %   --    \n",
       "71 Worry or anxiety %                           ----        ----      0.005 \n",
       "72 ~~~None/Mild                                 57.03 %     64.53 %   --    \n",
       "73 ~~~Moderate or worse                         42.97 %     35.47 %   --    \n",
       "74 Cataracts- New Sample (Chronic Conditions) % ----        ----      0.831 \n",
       "75 ~~~No                                        76.05 %     75.53 %   --    \n",
       "76 ~~~Yes                                       23.95 %     24.47 %   --    \n",
       "77 Money to meed needs %                        ----        ----      0.795 \n",
       "78 ~~~Completely                                8.51 %      9.53 %    --    \n",
       "79 ~~~Mostly                                    15.64 %     17.61 %   --    \n",
       "80 ~~~Moderately                                45.56 %     44.17 %   --    \n",
       "81 ~~~A little                                  22.91 %     21.83 %   --    \n",
       "82 ~~~None at all                               7.39 %      6.86 %    --    "
      ]
     },
     "metadata": {},
     "output_type": "display_data"
    }
   ],
   "source": [
    "dfs <- apply(VariableList, 1, function(Var) {weightedBVCalc(Var, Morbidity, \"adherence\")})\n",
    "MorbidityWeightedBV <- do.call(rbind, dfs)\n",
    "MorbidityWeightedBV\n",
    "write.csv(MorbidityWeightedBV,\"Supplementary2/MorbidityWeightedBV.csv\")"
   ]
  },
  {
   "attachments": {},
   "cell_type": "markdown",
   "metadata": {},
   "source": [
    "## Comparison between unimorbid and multimorbid respondents"
   ]
  },
  {
   "attachments": {},
   "cell_type": "markdown",
   "metadata": {},
   "source": [
    "number of diseases can no longer be a factor"
   ]
  },
  {
   "cell_type": "code",
   "execution_count": 40,
   "metadata": {
    "vscode": {
     "languageId": "r"
    }
   },
   "outputs": [],
   "source": [
    "# D, C for discrete vs continuous\n",
    "\n",
    "VariableList <- matrix(\n",
    "\n",
    "    c(  #\"q1011\", \"C\", #age\n",
    "        \"age_category\", \"D\", #age category\n",
    "        \"q1009\",  \"D\", # gender\n",
    "        \"quintile\",\"D\", #wealth quintile     \n",
    "        #\"wealthscore\",\"C\", #wealth score          \n",
    "        \"q0104\",  \"D\", # rural/urban\n",
    "        \"q0105a\", \"D\", # state   \n",
    "        \"q1012\",  \"D\", # current marital status         \n",
    "        \"q1019_\", \"D\", # Religion        \n",
    "        \"q1018_\", \"D\", # Caste        \n",
    "        \"q3001\", \"D\", #tobacco        \n",
    "        \"q3008\", \"D\", #alcohol\n",
    "        \"q2000\", \"D\", #self reported health\n",
    "        \"q2010\", \"D\", #cognitive function\n",
    "        \"q2002\", \"D\", #physical function\n",
    "        \"q8062\", \"D\", #community support\n",
    "        \"q1503\", \"D\", #working\n",
    "        \"q5004\", \"D\", #PHC\n",
    "        \"q1015\",  \"D\", # schooling\n",
    "        \"q1016_\", \"D\", # Highest level of schooling\n",
    "        \"q2018\",  \"D\", # Depression, last 30 days\n",
    "        \"q2019\",  \"D\", # Anxiety\n",
    "        \"q4062\",  \"D\",  # Cataracts\n",
    "        \"q7002\", \"D\" #Subjective wealth\n",
    "), ncol = 2, byrow = TRUE\n",
    ")\n"
   ]
  },
  {
   "cell_type": "code",
   "execution_count": 41,
   "metadata": {
    "vscode": {
     "languageId": "r"
    }
   },
   "outputs": [
    {
     "data": {
      "text/html": [
       "<table class=\"dataframe\">\n",
       "<caption>A data.frame: 81 × 4</caption>\n",
       "<thead>\n",
       "\t<tr><th scope=col>Name</th><th scope=col>Nonadhering</th><th scope=col>Adhering</th><th scope=col>Pvalue</th></tr>\n",
       "\t<tr><th scope=col>&lt;chr&gt;</th><th scope=col>&lt;chr&gt;</th><th scope=col>&lt;chr&gt;</th><th scope=col>&lt;chr&gt;</th></tr>\n",
       "</thead>\n",
       "<tbody>\n",
       "\t<tr><td><span style=white-space:pre-wrap>Age Group %                 </span></td><td><span style=white-space:pre-wrap>----   </span></td><td><span style=white-space:pre-wrap>----   </span></td><td>&lt;0.001</td></tr>\n",
       "\t<tr><td><span style=white-space:pre-wrap>~~~&lt;50                      </span></td><td>9.78 % </td><td>2.59 % </td><td><span style=white-space:pre-wrap>--    </span></td></tr>\n",
       "\t<tr><td><span style=white-space:pre-wrap>~~~&gt;=50                     </span></td><td>90.22 %</td><td>97.41 %</td><td><span style=white-space:pre-wrap>--    </span></td></tr>\n",
       "\t<tr><td>Sex of the respondent %     </td><td>----   </td><td>----   </td><td>0.209 </td></tr>\n",
       "\t<tr><td>~~~Male                     </td><td>48.89 %</td><td>54.19 %</td><td>--    </td></tr>\n",
       "\t<tr><td>~~~Female                   </td><td>51.11 %</td><td>45.81 %</td><td>--    </td></tr>\n",
       "\t<tr><td>5 quantiles of wealthscore %</td><td>----   </td><td>----   </td><td>0.337 </td></tr>\n",
       "\t<tr><td>~~~1                        </td><td>13.83 %</td><td>8.92 % </td><td>--    </td></tr>\n",
       "\t<tr><td>~~~2                        </td><td>13.95 %</td><td>13.14 %</td><td>--    </td></tr>\n",
       "\t<tr><td>~~~3                        </td><td>14.87 %</td><td>17.2 % </td><td>--    </td></tr>\n",
       "\t<tr><td>~~~4                        </td><td>17.69 %</td><td>20.49 %</td><td>--    </td></tr>\n",
       "\t<tr><td>~~~5                        </td><td>39.66 %</td><td>40.24 %</td><td>--    </td></tr>\n",
       "\t<tr><td>Place of residence %        </td><td>----   </td><td>----   </td><td>0.455 </td></tr>\n",
       "\t<tr><td>~~~Urban                    </td><td>36.84 %</td><td>41.04 %</td><td>--    </td></tr>\n",
       "\t<tr><td>~~~Rural                    </td><td>63.16 %</td><td>58.96 %</td><td>--    </td></tr>\n",
       "\t<tr><td><span style=white-space:pre-wrap>Region %                    </span></td><td><span style=white-space:pre-wrap>----   </span></td><td><span style=white-space:pre-wrap>----   </span></td><td>&lt;0.001</td></tr>\n",
       "\t<tr><td>~~~ASSAM                    </td><td>11.05 %</td><td>2 %    </td><td>--    </td></tr>\n",
       "\t<tr><td>~~~KARNATAKA                </td><td>10.76 %</td><td>21.09 %</td><td>--    </td></tr>\n",
       "\t<tr><td>~~~MAHARASHTRA              </td><td>18.05 %</td><td>18.9 % </td><td>--    </td></tr>\n",
       "\t<tr><td>~~~RAJASTHAN                </td><td>18.94 %</td><td>14.2 % </td><td>--    </td></tr>\n",
       "\t<tr><td>~~~UTTAR PRADESH            </td><td>20.39 %</td><td>13.2 % </td><td>--    </td></tr>\n",
       "\t<tr><td>~~~WEST BENGAL              </td><td>20.82 %</td><td>30.61 %</td><td>--    </td></tr>\n",
       "\t<tr><td>Current Marital Status %    </td><td>----   </td><td>----   </td><td>0.69  </td></tr>\n",
       "\t<tr><td>~~~Currently Married        </td><td>74.06 %</td><td>75.55 %</td><td>--    </td></tr>\n",
       "\t<tr><td>~~~Not Currently Married    </td><td>25.94 %</td><td>24.45 %</td><td>--    </td></tr>\n",
       "\t<tr><td>Religion %                  </td><td>----   </td><td>----   </td><td>0.198 </td></tr>\n",
       "\t<tr><td>~~~Hinduism                 </td><td>79.11 %</td><td>83.75 %</td><td>--    </td></tr>\n",
       "\t<tr><td>~~~Islam                    </td><td>15.2 % </td><td>14.18 %</td><td>--    </td></tr>\n",
       "\t<tr><td>~~~Other / None             </td><td>5.68 % </td><td>2.07 % </td><td>--    </td></tr>\n",
       "\t<tr><td>Ethnic Group %              </td><td>----   </td><td>----   </td><td>0.162 </td></tr>\n",
       "\t<tr><td>⋮</td><td>⋮</td><td>⋮</td><td>⋮</td></tr>\n",
       "\t<tr><td>Currently working %                         </td><td>----   </td><td>----   </td><td>0.06 </td></tr>\n",
       "\t<tr><td>~~~Yes                                      </td><td>48.55 %</td><td>36.49 %</td><td>--   </td></tr>\n",
       "\t<tr><td>~~~No                                       </td><td>51.45 %</td><td>63.51 %</td><td>--   </td></tr>\n",
       "\t<tr><td>Health care provider %                      </td><td>----   </td><td>----   </td><td>0.385</td></tr>\n",
       "\t<tr><td>~~~Private                                  </td><td>63.95 %</td><td>67.93 %</td><td>--   </td></tr>\n",
       "\t<tr><td>~~~Public                                   </td><td>28.11 %</td><td>27.19 %</td><td>--   </td></tr>\n",
       "\t<tr><td>~~~Community                                </td><td>5.83 % </td><td>4.51 % </td><td>--   </td></tr>\n",
       "\t<tr><td>~~~Other                                    </td><td>2.11 % </td><td>0.37 % </td><td>--   </td></tr>\n",
       "\t<tr><td>Ever Been to School %                       </td><td>----   </td><td>----   </td><td>0.709</td></tr>\n",
       "\t<tr><td>~~~Yes                                      </td><td>68.43 %</td><td>70 %   </td><td>--   </td></tr>\n",
       "\t<tr><td>~~~No                                       </td><td>31.57 %</td><td>30 %   </td><td>--   </td></tr>\n",
       "\t<tr><td>Level of Education %                        </td><td>----   </td><td>----   </td><td>0.212</td></tr>\n",
       "\t<tr><td>~~~Less than primary school/don't know      </td><td>23.23 %</td><td>25.01 %</td><td>--   </td></tr>\n",
       "\t<tr><td>~~~Secondary school and below               </td><td>42.94 %</td><td>35.17 %</td><td>--   </td></tr>\n",
       "\t<tr><td>~~~Past secondary school                    </td><td>33.83 %</td><td>39.81 %</td><td>--   </td></tr>\n",
       "\t<tr><td>Feeling sad/low/depression %                </td><td>----   </td><td>----   </td><td>0.206</td></tr>\n",
       "\t<tr><td>~~~None/Mild                                </td><td>69.67 %</td><td>74.6 % </td><td>--   </td></tr>\n",
       "\t<tr><td>~~~Moderate or worse                        </td><td>30.33 %</td><td>25.4 % </td><td>--   </td></tr>\n",
       "\t<tr><td>Worry or anxiety %                          </td><td>----   </td><td>----   </td><td>0.317</td></tr>\n",
       "\t<tr><td>~~~None/Mild                                </td><td>56.74 %</td><td>61.63 %</td><td>--   </td></tr>\n",
       "\t<tr><td>~~~Moderate or worse                        </td><td>43.26 %</td><td>38.37 %</td><td>--   </td></tr>\n",
       "\t<tr><td>Cataracts- New Sample (Chronic Conditions) %</td><td>----   </td><td>----   </td><td>0.904</td></tr>\n",
       "\t<tr><td>~~~No                                       </td><td>66.81 %</td><td>67.41 %</td><td>--   </td></tr>\n",
       "\t<tr><td>~~~Yes                                      </td><td>33.19 %</td><td>32.59 %</td><td>--   </td></tr>\n",
       "\t<tr><td>Money to meed needs %                       </td><td>----   </td><td>----   </td><td>0.945</td></tr>\n",
       "\t<tr><td>~~~Completely                               </td><td>10.18 %</td><td>10.51 %</td><td>--   </td></tr>\n",
       "\t<tr><td>~~~Mostly                                   </td><td>19.08 %</td><td>17.12 %</td><td>--   </td></tr>\n",
       "\t<tr><td>~~~Moderately                               </td><td>41.61 %</td><td>44.17 %</td><td>--   </td></tr>\n",
       "\t<tr><td>~~~A little                                 </td><td>23.46 %</td><td>21.67 %</td><td>--   </td></tr>\n",
       "\t<tr><td>~~~None at all                              </td><td>5.67 % </td><td>6.53 % </td><td>--   </td></tr>\n",
       "</tbody>\n",
       "</table>\n"
      ],
      "text/latex": [
       "A data.frame: 81 × 4\n",
       "\\begin{tabular}{llll}\n",
       " Name & Nonadhering & Adhering & Pvalue\\\\\n",
       " <chr> & <chr> & <chr> & <chr>\\\\\n",
       "\\hline\n",
       "\t Age Group \\%                  & ----    & ----    & <0.001\\\\\n",
       "\t \\textasciitilde{}\\textasciitilde{}\\textasciitilde{}<50                       & 9.78 \\%  & 2.59 \\%  & --    \\\\\n",
       "\t \\textasciitilde{}\\textasciitilde{}\\textasciitilde{}>=50                      & 90.22 \\% & 97.41 \\% & --    \\\\\n",
       "\t Sex of the respondent \\%      & ----    & ----    & 0.209 \\\\\n",
       "\t \\textasciitilde{}\\textasciitilde{}\\textasciitilde{}Male                      & 48.89 \\% & 54.19 \\% & --    \\\\\n",
       "\t \\textasciitilde{}\\textasciitilde{}\\textasciitilde{}Female                    & 51.11 \\% & 45.81 \\% & --    \\\\\n",
       "\t 5 quantiles of wealthscore \\% & ----    & ----    & 0.337 \\\\\n",
       "\t \\textasciitilde{}\\textasciitilde{}\\textasciitilde{}1                         & 13.83 \\% & 8.92 \\%  & --    \\\\\n",
       "\t \\textasciitilde{}\\textasciitilde{}\\textasciitilde{}2                         & 13.95 \\% & 13.14 \\% & --    \\\\\n",
       "\t \\textasciitilde{}\\textasciitilde{}\\textasciitilde{}3                         & 14.87 \\% & 17.2 \\%  & --    \\\\\n",
       "\t \\textasciitilde{}\\textasciitilde{}\\textasciitilde{}4                         & 17.69 \\% & 20.49 \\% & --    \\\\\n",
       "\t \\textasciitilde{}\\textasciitilde{}\\textasciitilde{}5                         & 39.66 \\% & 40.24 \\% & --    \\\\\n",
       "\t Place of residence \\%         & ----    & ----    & 0.455 \\\\\n",
       "\t \\textasciitilde{}\\textasciitilde{}\\textasciitilde{}Urban                     & 36.84 \\% & 41.04 \\% & --    \\\\\n",
       "\t \\textasciitilde{}\\textasciitilde{}\\textasciitilde{}Rural                     & 63.16 \\% & 58.96 \\% & --    \\\\\n",
       "\t Region \\%                     & ----    & ----    & <0.001\\\\\n",
       "\t \\textasciitilde{}\\textasciitilde{}\\textasciitilde{}ASSAM                     & 11.05 \\% & 2 \\%     & --    \\\\\n",
       "\t \\textasciitilde{}\\textasciitilde{}\\textasciitilde{}KARNATAKA                 & 10.76 \\% & 21.09 \\% & --    \\\\\n",
       "\t \\textasciitilde{}\\textasciitilde{}\\textasciitilde{}MAHARASHTRA               & 18.05 \\% & 18.9 \\%  & --    \\\\\n",
       "\t \\textasciitilde{}\\textasciitilde{}\\textasciitilde{}RAJASTHAN                 & 18.94 \\% & 14.2 \\%  & --    \\\\\n",
       "\t \\textasciitilde{}\\textasciitilde{}\\textasciitilde{}UTTAR PRADESH             & 20.39 \\% & 13.2 \\%  & --    \\\\\n",
       "\t \\textasciitilde{}\\textasciitilde{}\\textasciitilde{}WEST BENGAL               & 20.82 \\% & 30.61 \\% & --    \\\\\n",
       "\t Current Marital Status \\%     & ----    & ----    & 0.69  \\\\\n",
       "\t \\textasciitilde{}\\textasciitilde{}\\textasciitilde{}Currently Married         & 74.06 \\% & 75.55 \\% & --    \\\\\n",
       "\t \\textasciitilde{}\\textasciitilde{}\\textasciitilde{}Not Currently Married     & 25.94 \\% & 24.45 \\% & --    \\\\\n",
       "\t Religion \\%                   & ----    & ----    & 0.198 \\\\\n",
       "\t \\textasciitilde{}\\textasciitilde{}\\textasciitilde{}Hinduism                  & 79.11 \\% & 83.75 \\% & --    \\\\\n",
       "\t \\textasciitilde{}\\textasciitilde{}\\textasciitilde{}Islam                     & 15.2 \\%  & 14.18 \\% & --    \\\\\n",
       "\t \\textasciitilde{}\\textasciitilde{}\\textasciitilde{}Other / None              & 5.68 \\%  & 2.07 \\%  & --    \\\\\n",
       "\t Ethnic Group \\%               & ----    & ----    & 0.162 \\\\\n",
       "\t ⋮ & ⋮ & ⋮ & ⋮\\\\\n",
       "\t Currently working \\%                          & ----    & ----    & 0.06 \\\\\n",
       "\t \\textasciitilde{}\\textasciitilde{}\\textasciitilde{}Yes                                       & 48.55 \\% & 36.49 \\% & --   \\\\\n",
       "\t \\textasciitilde{}\\textasciitilde{}\\textasciitilde{}No                                        & 51.45 \\% & 63.51 \\% & --   \\\\\n",
       "\t Health care provider \\%                       & ----    & ----    & 0.385\\\\\n",
       "\t \\textasciitilde{}\\textasciitilde{}\\textasciitilde{}Private                                   & 63.95 \\% & 67.93 \\% & --   \\\\\n",
       "\t \\textasciitilde{}\\textasciitilde{}\\textasciitilde{}Public                                    & 28.11 \\% & 27.19 \\% & --   \\\\\n",
       "\t \\textasciitilde{}\\textasciitilde{}\\textasciitilde{}Community                                 & 5.83 \\%  & 4.51 \\%  & --   \\\\\n",
       "\t \\textasciitilde{}\\textasciitilde{}\\textasciitilde{}Other                                     & 2.11 \\%  & 0.37 \\%  & --   \\\\\n",
       "\t Ever Been to School \\%                        & ----    & ----    & 0.709\\\\\n",
       "\t \\textasciitilde{}\\textasciitilde{}\\textasciitilde{}Yes                                       & 68.43 \\% & 70 \\%    & --   \\\\\n",
       "\t \\textasciitilde{}\\textasciitilde{}\\textasciitilde{}No                                        & 31.57 \\% & 30 \\%    & --   \\\\\n",
       "\t Level of Education \\%                         & ----    & ----    & 0.212\\\\\n",
       "\t \\textasciitilde{}\\textasciitilde{}\\textasciitilde{}Less than primary school/don't know       & 23.23 \\% & 25.01 \\% & --   \\\\\n",
       "\t \\textasciitilde{}\\textasciitilde{}\\textasciitilde{}Secondary school and below                & 42.94 \\% & 35.17 \\% & --   \\\\\n",
       "\t \\textasciitilde{}\\textasciitilde{}\\textasciitilde{}Past secondary school                     & 33.83 \\% & 39.81 \\% & --   \\\\\n",
       "\t Feeling sad/low/depression \\%                 & ----    & ----    & 0.206\\\\\n",
       "\t \\textasciitilde{}\\textasciitilde{}\\textasciitilde{}None/Mild                                 & 69.67 \\% & 74.6 \\%  & --   \\\\\n",
       "\t \\textasciitilde{}\\textasciitilde{}\\textasciitilde{}Moderate or worse                         & 30.33 \\% & 25.4 \\%  & --   \\\\\n",
       "\t Worry or anxiety \\%                           & ----    & ----    & 0.317\\\\\n",
       "\t \\textasciitilde{}\\textasciitilde{}\\textasciitilde{}None/Mild                                 & 56.74 \\% & 61.63 \\% & --   \\\\\n",
       "\t \\textasciitilde{}\\textasciitilde{}\\textasciitilde{}Moderate or worse                         & 43.26 \\% & 38.37 \\% & --   \\\\\n",
       "\t Cataracts- New Sample (Chronic Conditions) \\% & ----    & ----    & 0.904\\\\\n",
       "\t \\textasciitilde{}\\textasciitilde{}\\textasciitilde{}No                                        & 66.81 \\% & 67.41 \\% & --   \\\\\n",
       "\t \\textasciitilde{}\\textasciitilde{}\\textasciitilde{}Yes                                       & 33.19 \\% & 32.59 \\% & --   \\\\\n",
       "\t Money to meed needs \\%                        & ----    & ----    & 0.945\\\\\n",
       "\t \\textasciitilde{}\\textasciitilde{}\\textasciitilde{}Completely                                & 10.18 \\% & 10.51 \\% & --   \\\\\n",
       "\t \\textasciitilde{}\\textasciitilde{}\\textasciitilde{}Mostly                                    & 19.08 \\% & 17.12 \\% & --   \\\\\n",
       "\t \\textasciitilde{}\\textasciitilde{}\\textasciitilde{}Moderately                                & 41.61 \\% & 44.17 \\% & --   \\\\\n",
       "\t \\textasciitilde{}\\textasciitilde{}\\textasciitilde{}A little                                  & 23.46 \\% & 21.67 \\% & --   \\\\\n",
       "\t \\textasciitilde{}\\textasciitilde{}\\textasciitilde{}None at all                               & 5.67 \\%  & 6.53 \\%  & --   \\\\\n",
       "\\end{tabular}\n"
      ],
      "text/markdown": [
       "\n",
       "A data.frame: 81 × 4\n",
       "\n",
       "| Name &lt;chr&gt; | Nonadhering &lt;chr&gt; | Adhering &lt;chr&gt; | Pvalue &lt;chr&gt; |\n",
       "|---|---|---|---|\n",
       "| Age Group %                  | ----    | ----    | &lt;0.001 |\n",
       "| ~~~&lt;50                       | 9.78 %  | 2.59 %  | --     |\n",
       "| ~~~&gt;=50                      | 90.22 % | 97.41 % | --     |\n",
       "| Sex of the respondent %      | ----    | ----    | 0.209  |\n",
       "| ~~~Male                      | 48.89 % | 54.19 % | --     |\n",
       "| ~~~Female                    | 51.11 % | 45.81 % | --     |\n",
       "| 5 quantiles of wealthscore % | ----    | ----    | 0.337  |\n",
       "| ~~~1                         | 13.83 % | 8.92 %  | --     |\n",
       "| ~~~2                         | 13.95 % | 13.14 % | --     |\n",
       "| ~~~3                         | 14.87 % | 17.2 %  | --     |\n",
       "| ~~~4                         | 17.69 % | 20.49 % | --     |\n",
       "| ~~~5                         | 39.66 % | 40.24 % | --     |\n",
       "| Place of residence %         | ----    | ----    | 0.455  |\n",
       "| ~~~Urban                     | 36.84 % | 41.04 % | --     |\n",
       "| ~~~Rural                     | 63.16 % | 58.96 % | --     |\n",
       "| Region %                     | ----    | ----    | &lt;0.001 |\n",
       "| ~~~ASSAM                     | 11.05 % | 2 %     | --     |\n",
       "| ~~~KARNATAKA                 | 10.76 % | 21.09 % | --     |\n",
       "| ~~~MAHARASHTRA               | 18.05 % | 18.9 %  | --     |\n",
       "| ~~~RAJASTHAN                 | 18.94 % | 14.2 %  | --     |\n",
       "| ~~~UTTAR PRADESH             | 20.39 % | 13.2 %  | --     |\n",
       "| ~~~WEST BENGAL               | 20.82 % | 30.61 % | --     |\n",
       "| Current Marital Status %     | ----    | ----    | 0.69   |\n",
       "| ~~~Currently Married         | 74.06 % | 75.55 % | --     |\n",
       "| ~~~Not Currently Married     | 25.94 % | 24.45 % | --     |\n",
       "| Religion %                   | ----    | ----    | 0.198  |\n",
       "| ~~~Hinduism                  | 79.11 % | 83.75 % | --     |\n",
       "| ~~~Islam                     | 15.2 %  | 14.18 % | --     |\n",
       "| ~~~Other / None              | 5.68 %  | 2.07 %  | --     |\n",
       "| Ethnic Group %               | ----    | ----    | 0.162  |\n",
       "| ⋮ | ⋮ | ⋮ | ⋮ |\n",
       "| Currently working %                          | ----    | ----    | 0.06  |\n",
       "| ~~~Yes                                       | 48.55 % | 36.49 % | --    |\n",
       "| ~~~No                                        | 51.45 % | 63.51 % | --    |\n",
       "| Health care provider %                       | ----    | ----    | 0.385 |\n",
       "| ~~~Private                                   | 63.95 % | 67.93 % | --    |\n",
       "| ~~~Public                                    | 28.11 % | 27.19 % | --    |\n",
       "| ~~~Community                                 | 5.83 %  | 4.51 %  | --    |\n",
       "| ~~~Other                                     | 2.11 %  | 0.37 %  | --    |\n",
       "| Ever Been to School %                        | ----    | ----    | 0.709 |\n",
       "| ~~~Yes                                       | 68.43 % | 70 %    | --    |\n",
       "| ~~~No                                        | 31.57 % | 30 %    | --    |\n",
       "| Level of Education %                         | ----    | ----    | 0.212 |\n",
       "| ~~~Less than primary school/don't know       | 23.23 % | 25.01 % | --    |\n",
       "| ~~~Secondary school and below                | 42.94 % | 35.17 % | --    |\n",
       "| ~~~Past secondary school                     | 33.83 % | 39.81 % | --    |\n",
       "| Feeling sad/low/depression %                 | ----    | ----    | 0.206 |\n",
       "| ~~~None/Mild                                 | 69.67 % | 74.6 %  | --    |\n",
       "| ~~~Moderate or worse                         | 30.33 % | 25.4 %  | --    |\n",
       "| Worry or anxiety %                           | ----    | ----    | 0.317 |\n",
       "| ~~~None/Mild                                 | 56.74 % | 61.63 % | --    |\n",
       "| ~~~Moderate or worse                         | 43.26 % | 38.37 % | --    |\n",
       "| Cataracts- New Sample (Chronic Conditions) % | ----    | ----    | 0.904 |\n",
       "| ~~~No                                        | 66.81 % | 67.41 % | --    |\n",
       "| ~~~Yes                                       | 33.19 % | 32.59 % | --    |\n",
       "| Money to meed needs %                        | ----    | ----    | 0.945 |\n",
       "| ~~~Completely                                | 10.18 % | 10.51 % | --    |\n",
       "| ~~~Mostly                                    | 19.08 % | 17.12 % | --    |\n",
       "| ~~~Moderately                                | 41.61 % | 44.17 % | --    |\n",
       "| ~~~A little                                  | 23.46 % | 21.67 % | --    |\n",
       "| ~~~None at all                               | 5.67 %  | 6.53 %  | --    |\n",
       "\n"
      ],
      "text/plain": [
       "   Name                                         Nonadhering Adhering Pvalue\n",
       "1  Age Group %                                  ----        ----     <0.001\n",
       "2  ~~~<50                                       9.78 %      2.59 %   --    \n",
       "3  ~~~>=50                                      90.22 %     97.41 %  --    \n",
       "4  Sex of the respondent %                      ----        ----     0.209 \n",
       "5  ~~~Male                                      48.89 %     54.19 %  --    \n",
       "6  ~~~Female                                    51.11 %     45.81 %  --    \n",
       "7  5 quantiles of wealthscore %                 ----        ----     0.337 \n",
       "8  ~~~1                                         13.83 %     8.92 %   --    \n",
       "9  ~~~2                                         13.95 %     13.14 %  --    \n",
       "10 ~~~3                                         14.87 %     17.2 %   --    \n",
       "11 ~~~4                                         17.69 %     20.49 %  --    \n",
       "12 ~~~5                                         39.66 %     40.24 %  --    \n",
       "13 Place of residence %                         ----        ----     0.455 \n",
       "14 ~~~Urban                                     36.84 %     41.04 %  --    \n",
       "15 ~~~Rural                                     63.16 %     58.96 %  --    \n",
       "16 Region %                                     ----        ----     <0.001\n",
       "17 ~~~ASSAM                                     11.05 %     2 %      --    \n",
       "18 ~~~KARNATAKA                                 10.76 %     21.09 %  --    \n",
       "19 ~~~MAHARASHTRA                               18.05 %     18.9 %   --    \n",
       "20 ~~~RAJASTHAN                                 18.94 %     14.2 %   --    \n",
       "21 ~~~UTTAR PRADESH                             20.39 %     13.2 %   --    \n",
       "22 ~~~WEST BENGAL                               20.82 %     30.61 %  --    \n",
       "23 Current Marital Status %                     ----        ----     0.69  \n",
       "24 ~~~Currently Married                         74.06 %     75.55 %  --    \n",
       "25 ~~~Not Currently Married                     25.94 %     24.45 %  --    \n",
       "26 Religion %                                   ----        ----     0.198 \n",
       "27 ~~~Hinduism                                  79.11 %     83.75 %  --    \n",
       "28 ~~~Islam                                     15.2 %      14.18 %  --    \n",
       "29 ~~~Other / None                              5.68 %      2.07 %   --    \n",
       "30 Ethnic Group %                               ----        ----     0.162 \n",
       "⋮  ⋮                                            ⋮           ⋮        ⋮     \n",
       "52 Currently working %                          ----        ----     0.06  \n",
       "53 ~~~Yes                                       48.55 %     36.49 %  --    \n",
       "54 ~~~No                                        51.45 %     63.51 %  --    \n",
       "55 Health care provider %                       ----        ----     0.385 \n",
       "56 ~~~Private                                   63.95 %     67.93 %  --    \n",
       "57 ~~~Public                                    28.11 %     27.19 %  --    \n",
       "58 ~~~Community                                 5.83 %      4.51 %   --    \n",
       "59 ~~~Other                                     2.11 %      0.37 %   --    \n",
       "60 Ever Been to School %                        ----        ----     0.709 \n",
       "61 ~~~Yes                                       68.43 %     70 %     --    \n",
       "62 ~~~No                                        31.57 %     30 %     --    \n",
       "63 Level of Education %                         ----        ----     0.212 \n",
       "64 ~~~Less than primary school/don't know       23.23 %     25.01 %  --    \n",
       "65 ~~~Secondary school and below                42.94 %     35.17 %  --    \n",
       "66 ~~~Past secondary school                     33.83 %     39.81 %  --    \n",
       "67 Feeling sad/low/depression %                 ----        ----     0.206 \n",
       "68 ~~~None/Mild                                 69.67 %     74.6 %   --    \n",
       "69 ~~~Moderate or worse                         30.33 %     25.4 %   --    \n",
       "70 Worry or anxiety %                           ----        ----     0.317 \n",
       "71 ~~~None/Mild                                 56.74 %     61.63 %  --    \n",
       "72 ~~~Moderate or worse                         43.26 %     38.37 %  --    \n",
       "73 Cataracts- New Sample (Chronic Conditions) % ----        ----     0.904 \n",
       "74 ~~~No                                        66.81 %     67.41 %  --    \n",
       "75 ~~~Yes                                       33.19 %     32.59 %  --    \n",
       "76 Money to meed needs %                        ----        ----     0.945 \n",
       "77 ~~~Completely                                10.18 %     10.51 %  --    \n",
       "78 ~~~Mostly                                    19.08 %     17.12 %  --    \n",
       "79 ~~~Moderately                                41.61 %     44.17 %  --    \n",
       "80 ~~~A little                                  23.46 %     21.67 %  --    \n",
       "81 ~~~None at all                               5.67 %      6.53 %   --    "
      ]
     },
     "metadata": {},
     "output_type": "display_data"
    }
   ],
   "source": [
    "dfs <- apply(VariableList, 1, function(Var) {weightedBVCalc(Var, Multimorbid, \"adherence\")})\n",
    "multiMorbidityBV <- do.call(rbind, dfs)\n",
    "multiMorbidityBV\n",
    "write.csv(multiMorbidityBV,\"Supplementary2/multiMorbidityBVweighted.csv\")"
   ]
  },
  {
   "cell_type": "code",
   "execution_count": 42,
   "metadata": {
    "vscode": {
     "languageId": "r"
    }
   },
   "outputs": [
    {
     "data": {
      "text/html": [
       "<table class=\"dataframe\">\n",
       "<caption>A data.frame: 81 × 4</caption>\n",
       "<thead>\n",
       "\t<tr><th scope=col>Name</th><th scope=col>Nonadhering</th><th scope=col>Adhering</th><th scope=col>Pvalue</th></tr>\n",
       "\t<tr><th scope=col>&lt;chr&gt;</th><th scope=col>&lt;chr&gt;</th><th scope=col>&lt;chr&gt;</th><th scope=col>&lt;chr&gt;</th></tr>\n",
       "</thead>\n",
       "<tbody>\n",
       "\t<tr><td><span style=white-space:pre-wrap>Age Group %                 </span></td><td><span style=white-space:pre-wrap>----   </span></td><td><span style=white-space:pre-wrap>----   </span></td><td>&lt;0.001</td></tr>\n",
       "\t<tr><td><span style=white-space:pre-wrap>~~~&lt;50                      </span></td><td>20.49 %</td><td>12.58 %</td><td><span style=white-space:pre-wrap>--    </span></td></tr>\n",
       "\t<tr><td><span style=white-space:pre-wrap>~~~&gt;=50                     </span></td><td>79.51 %</td><td>87.42 %</td><td><span style=white-space:pre-wrap>--    </span></td></tr>\n",
       "\t<tr><td>Sex of the respondent %     </td><td>----   </td><td>----   </td><td>0.477 </td></tr>\n",
       "\t<tr><td>~~~Male                     </td><td>43.87 %</td><td>45.7 % </td><td>--    </td></tr>\n",
       "\t<tr><td>~~~Female                   </td><td>56.13 %</td><td>54.3 % </td><td>--    </td></tr>\n",
       "\t<tr><td>5 quantiles of wealthscore %</td><td>----   </td><td>----   </td><td>0.003 </td></tr>\n",
       "\t<tr><td>~~~1                        </td><td>19.72 %</td><td>13.4 % </td><td>--    </td></tr>\n",
       "\t<tr><td>~~~2                        </td><td>19.57 %</td><td>14.12 %</td><td>--    </td></tr>\n",
       "\t<tr><td>~~~3                        </td><td>16.21 %</td><td>19.33 %</td><td>--    </td></tr>\n",
       "\t<tr><td>~~~4                        </td><td>23.7 % </td><td>22.03 %</td><td>--    </td></tr>\n",
       "\t<tr><td>~~~5                        </td><td>20.79 %</td><td>31.11 %</td><td>--    </td></tr>\n",
       "\t<tr><td><span style=white-space:pre-wrap>Place of residence %        </span></td><td><span style=white-space:pre-wrap>----   </span></td><td><span style=white-space:pre-wrap>----   </span></td><td>&lt;0.001</td></tr>\n",
       "\t<tr><td>~~~Urban                    </td><td>21.47 %</td><td>36.09 %</td><td>--    </td></tr>\n",
       "\t<tr><td>~~~Rural                    </td><td>78.53 %</td><td>63.91 %</td><td>--    </td></tr>\n",
       "\t<tr><td><span style=white-space:pre-wrap>Region %                    </span></td><td><span style=white-space:pre-wrap>----   </span></td><td><span style=white-space:pre-wrap>----   </span></td><td>&lt;0.001</td></tr>\n",
       "\t<tr><td>~~~ASSAM                    </td><td>12.09 %</td><td>4.64 % </td><td>--    </td></tr>\n",
       "\t<tr><td>~~~KARNATAKA                </td><td>8.24 % </td><td>16.4 % </td><td>--    </td></tr>\n",
       "\t<tr><td>~~~MAHARASHTRA              </td><td>19.87 %</td><td>17.41 %</td><td>--    </td></tr>\n",
       "\t<tr><td>~~~RAJASTHAN                </td><td>20.36 %</td><td>11.48 %</td><td>--    </td></tr>\n",
       "\t<tr><td>~~~UTTAR PRADESH            </td><td>22.27 %</td><td>23.83 %</td><td>--    </td></tr>\n",
       "\t<tr><td>~~~WEST BENGAL              </td><td>17.18 %</td><td>26.24 %</td><td>--    </td></tr>\n",
       "\t<tr><td>Current Marital Status %    </td><td>----   </td><td>----   </td><td>0.432 </td></tr>\n",
       "\t<tr><td>~~~Currently Married        </td><td>74.34 %</td><td>75.95 %</td><td>--    </td></tr>\n",
       "\t<tr><td>~~~Not Currently Married    </td><td>25.66 %</td><td>24.05 %</td><td>--    </td></tr>\n",
       "\t<tr><td>Religion %                  </td><td>----   </td><td>----   </td><td>0.683 </td></tr>\n",
       "\t<tr><td>~~~Hinduism                 </td><td>84.12 %</td><td>84.61 %</td><td>--    </td></tr>\n",
       "\t<tr><td>~~~Islam                    </td><td>11.69 %</td><td>12.06 %</td><td>--    </td></tr>\n",
       "\t<tr><td>~~~Other / None             </td><td>4.19 % </td><td>3.33 % </td><td>--    </td></tr>\n",
       "\t<tr><td>Ethnic Group %              </td><td>----   </td><td>----   </td><td>0.003 </td></tr>\n",
       "\t<tr><td>⋮</td><td>⋮</td><td>⋮</td><td>⋮</td></tr>\n",
       "\t<tr><td>Currently working %                         </td><td>----   </td><td>----   </td><td>0.004 </td></tr>\n",
       "\t<tr><td>~~~Yes                                      </td><td>66.81 %</td><td>54.64 %</td><td>--    </td></tr>\n",
       "\t<tr><td>~~~No                                       </td><td>33.19 %</td><td>45.36 %</td><td>--    </td></tr>\n",
       "\t<tr><td>Health care provider %                      </td><td>----   </td><td>----   </td><td>0.218 </td></tr>\n",
       "\t<tr><td>~~~Private                                  </td><td>58.48 %</td><td>59.24 %</td><td>--    </td></tr>\n",
       "\t<tr><td>~~~Public                                   </td><td>32.72 %</td><td>29.49 %</td><td>--    </td></tr>\n",
       "\t<tr><td>~~~Community                                </td><td>3.92 % </td><td>7.34 % </td><td>--    </td></tr>\n",
       "\t<tr><td>~~~Other                                    </td><td>4.88 % </td><td>3.93 % </td><td>--    </td></tr>\n",
       "\t<tr><td><span style=white-space:pre-wrap>Ever Been to School %                       </span></td><td><span style=white-space:pre-wrap>----   </span></td><td><span style=white-space:pre-wrap>----   </span></td><td>&lt;0.001</td></tr>\n",
       "\t<tr><td>~~~Yes                                      </td><td>53.12 %</td><td>65.3 % </td><td>--    </td></tr>\n",
       "\t<tr><td>~~~No                                       </td><td>46.88 %</td><td>34.7 % </td><td>--    </td></tr>\n",
       "\t<tr><td>Level of Education %                        </td><td>----   </td><td>----   </td><td>0.232 </td></tr>\n",
       "\t<tr><td>~~~Less than primary school/don't know      </td><td>23.11 %</td><td>23.36 %</td><td>--    </td></tr>\n",
       "\t<tr><td>~~~Secondary school and below               </td><td>51.89 %</td><td>45.74 %</td><td>--    </td></tr>\n",
       "\t<tr><td>~~~Past secondary school                    </td><td>25 %   </td><td>30.9 % </td><td>--    </td></tr>\n",
       "\t<tr><td>Feeling sad/low/depression %                </td><td>----   </td><td>----   </td><td>0.045 </td></tr>\n",
       "\t<tr><td>~~~None/Mild                                </td><td>70.14 %</td><td>75.41 %</td><td>--    </td></tr>\n",
       "\t<tr><td>~~~Moderate or worse                        </td><td>29.86 %</td><td>24.59 %</td><td>--    </td></tr>\n",
       "\t<tr><td>Worry or anxiety %                          </td><td>----   </td><td>----   </td><td>0.01  </td></tr>\n",
       "\t<tr><td>~~~None/Mild                                </td><td>57.19 %</td><td>65.28 %</td><td>--    </td></tr>\n",
       "\t<tr><td>~~~Moderate or worse                        </td><td>42.81 %</td><td>34.72 %</td><td>--    </td></tr>\n",
       "\t<tr><td>Cataracts- New Sample (Chronic Conditions) %</td><td>----   </td><td>----   </td><td>0.175 </td></tr>\n",
       "\t<tr><td>~~~No                                       </td><td>81.29 %</td><td>77.62 %</td><td>--    </td></tr>\n",
       "\t<tr><td>~~~Yes                                      </td><td>18.71 %</td><td>22.38 %</td><td>--    </td></tr>\n",
       "\t<tr><td>Money to meed needs %                       </td><td>----   </td><td>----   </td><td>0.407 </td></tr>\n",
       "\t<tr><td>~~~Completely                               </td><td>7.56 % </td><td>9.27 % </td><td>--    </td></tr>\n",
       "\t<tr><td>~~~Mostly                                   </td><td>13.7 % </td><td>17.74 %</td><td>--    </td></tr>\n",
       "\t<tr><td>~~~Moderately                               </td><td>47.78 %</td><td>44.17 %</td><td>--    </td></tr>\n",
       "\t<tr><td>~~~A little                                 </td><td>22.6 % </td><td>21.87 %</td><td>--    </td></tr>\n",
       "\t<tr><td>~~~None at all                              </td><td>8.36 % </td><td>6.95 % </td><td>--    </td></tr>\n",
       "</tbody>\n",
       "</table>\n"
      ],
      "text/latex": [
       "A data.frame: 81 × 4\n",
       "\\begin{tabular}{llll}\n",
       " Name & Nonadhering & Adhering & Pvalue\\\\\n",
       " <chr> & <chr> & <chr> & <chr>\\\\\n",
       "\\hline\n",
       "\t Age Group \\%                  & ----    & ----    & <0.001\\\\\n",
       "\t \\textasciitilde{}\\textasciitilde{}\\textasciitilde{}<50                       & 20.49 \\% & 12.58 \\% & --    \\\\\n",
       "\t \\textasciitilde{}\\textasciitilde{}\\textasciitilde{}>=50                      & 79.51 \\% & 87.42 \\% & --    \\\\\n",
       "\t Sex of the respondent \\%      & ----    & ----    & 0.477 \\\\\n",
       "\t \\textasciitilde{}\\textasciitilde{}\\textasciitilde{}Male                      & 43.87 \\% & 45.7 \\%  & --    \\\\\n",
       "\t \\textasciitilde{}\\textasciitilde{}\\textasciitilde{}Female                    & 56.13 \\% & 54.3 \\%  & --    \\\\\n",
       "\t 5 quantiles of wealthscore \\% & ----    & ----    & 0.003 \\\\\n",
       "\t \\textasciitilde{}\\textasciitilde{}\\textasciitilde{}1                         & 19.72 \\% & 13.4 \\%  & --    \\\\\n",
       "\t \\textasciitilde{}\\textasciitilde{}\\textasciitilde{}2                         & 19.57 \\% & 14.12 \\% & --    \\\\\n",
       "\t \\textasciitilde{}\\textasciitilde{}\\textasciitilde{}3                         & 16.21 \\% & 19.33 \\% & --    \\\\\n",
       "\t \\textasciitilde{}\\textasciitilde{}\\textasciitilde{}4                         & 23.7 \\%  & 22.03 \\% & --    \\\\\n",
       "\t \\textasciitilde{}\\textasciitilde{}\\textasciitilde{}5                         & 20.79 \\% & 31.11 \\% & --    \\\\\n",
       "\t Place of residence \\%         & ----    & ----    & <0.001\\\\\n",
       "\t \\textasciitilde{}\\textasciitilde{}\\textasciitilde{}Urban                     & 21.47 \\% & 36.09 \\% & --    \\\\\n",
       "\t \\textasciitilde{}\\textasciitilde{}\\textasciitilde{}Rural                     & 78.53 \\% & 63.91 \\% & --    \\\\\n",
       "\t Region \\%                     & ----    & ----    & <0.001\\\\\n",
       "\t \\textasciitilde{}\\textasciitilde{}\\textasciitilde{}ASSAM                     & 12.09 \\% & 4.64 \\%  & --    \\\\\n",
       "\t \\textasciitilde{}\\textasciitilde{}\\textasciitilde{}KARNATAKA                 & 8.24 \\%  & 16.4 \\%  & --    \\\\\n",
       "\t \\textasciitilde{}\\textasciitilde{}\\textasciitilde{}MAHARASHTRA               & 19.87 \\% & 17.41 \\% & --    \\\\\n",
       "\t \\textasciitilde{}\\textasciitilde{}\\textasciitilde{}RAJASTHAN                 & 20.36 \\% & 11.48 \\% & --    \\\\\n",
       "\t \\textasciitilde{}\\textasciitilde{}\\textasciitilde{}UTTAR PRADESH             & 22.27 \\% & 23.83 \\% & --    \\\\\n",
       "\t \\textasciitilde{}\\textasciitilde{}\\textasciitilde{}WEST BENGAL               & 17.18 \\% & 26.24 \\% & --    \\\\\n",
       "\t Current Marital Status \\%     & ----    & ----    & 0.432 \\\\\n",
       "\t \\textasciitilde{}\\textasciitilde{}\\textasciitilde{}Currently Married         & 74.34 \\% & 75.95 \\% & --    \\\\\n",
       "\t \\textasciitilde{}\\textasciitilde{}\\textasciitilde{}Not Currently Married     & 25.66 \\% & 24.05 \\% & --    \\\\\n",
       "\t Religion \\%                   & ----    & ----    & 0.683 \\\\\n",
       "\t \\textasciitilde{}\\textasciitilde{}\\textasciitilde{}Hinduism                  & 84.12 \\% & 84.61 \\% & --    \\\\\n",
       "\t \\textasciitilde{}\\textasciitilde{}\\textasciitilde{}Islam                     & 11.69 \\% & 12.06 \\% & --    \\\\\n",
       "\t \\textasciitilde{}\\textasciitilde{}\\textasciitilde{}Other / None              & 4.19 \\%  & 3.33 \\%  & --    \\\\\n",
       "\t Ethnic Group \\%               & ----    & ----    & 0.003 \\\\\n",
       "\t ⋮ & ⋮ & ⋮ & ⋮\\\\\n",
       "\t Currently working \\%                          & ----    & ----    & 0.004 \\\\\n",
       "\t \\textasciitilde{}\\textasciitilde{}\\textasciitilde{}Yes                                       & 66.81 \\% & 54.64 \\% & --    \\\\\n",
       "\t \\textasciitilde{}\\textasciitilde{}\\textasciitilde{}No                                        & 33.19 \\% & 45.36 \\% & --    \\\\\n",
       "\t Health care provider \\%                       & ----    & ----    & 0.218 \\\\\n",
       "\t \\textasciitilde{}\\textasciitilde{}\\textasciitilde{}Private                                   & 58.48 \\% & 59.24 \\% & --    \\\\\n",
       "\t \\textasciitilde{}\\textasciitilde{}\\textasciitilde{}Public                                    & 32.72 \\% & 29.49 \\% & --    \\\\\n",
       "\t \\textasciitilde{}\\textasciitilde{}\\textasciitilde{}Community                                 & 3.92 \\%  & 7.34 \\%  & --    \\\\\n",
       "\t \\textasciitilde{}\\textasciitilde{}\\textasciitilde{}Other                                     & 4.88 \\%  & 3.93 \\%  & --    \\\\\n",
       "\t Ever Been to School \\%                        & ----    & ----    & <0.001\\\\\n",
       "\t \\textasciitilde{}\\textasciitilde{}\\textasciitilde{}Yes                                       & 53.12 \\% & 65.3 \\%  & --    \\\\\n",
       "\t \\textasciitilde{}\\textasciitilde{}\\textasciitilde{}No                                        & 46.88 \\% & 34.7 \\%  & --    \\\\\n",
       "\t Level of Education \\%                         & ----    & ----    & 0.232 \\\\\n",
       "\t \\textasciitilde{}\\textasciitilde{}\\textasciitilde{}Less than primary school/don't know       & 23.11 \\% & 23.36 \\% & --    \\\\\n",
       "\t \\textasciitilde{}\\textasciitilde{}\\textasciitilde{}Secondary school and below                & 51.89 \\% & 45.74 \\% & --    \\\\\n",
       "\t \\textasciitilde{}\\textasciitilde{}\\textasciitilde{}Past secondary school                     & 25 \\%    & 30.9 \\%  & --    \\\\\n",
       "\t Feeling sad/low/depression \\%                 & ----    & ----    & 0.045 \\\\\n",
       "\t \\textasciitilde{}\\textasciitilde{}\\textasciitilde{}None/Mild                                 & 70.14 \\% & 75.41 \\% & --    \\\\\n",
       "\t \\textasciitilde{}\\textasciitilde{}\\textasciitilde{}Moderate or worse                         & 29.86 \\% & 24.59 \\% & --    \\\\\n",
       "\t Worry or anxiety \\%                           & ----    & ----    & 0.01  \\\\\n",
       "\t \\textasciitilde{}\\textasciitilde{}\\textasciitilde{}None/Mild                                 & 57.19 \\% & 65.28 \\% & --    \\\\\n",
       "\t \\textasciitilde{}\\textasciitilde{}\\textasciitilde{}Moderate or worse                         & 42.81 \\% & 34.72 \\% & --    \\\\\n",
       "\t Cataracts- New Sample (Chronic Conditions) \\% & ----    & ----    & 0.175 \\\\\n",
       "\t \\textasciitilde{}\\textasciitilde{}\\textasciitilde{}No                                        & 81.29 \\% & 77.62 \\% & --    \\\\\n",
       "\t \\textasciitilde{}\\textasciitilde{}\\textasciitilde{}Yes                                       & 18.71 \\% & 22.38 \\% & --    \\\\\n",
       "\t Money to meed needs \\%                        & ----    & ----    & 0.407 \\\\\n",
       "\t \\textasciitilde{}\\textasciitilde{}\\textasciitilde{}Completely                                & 7.56 \\%  & 9.27 \\%  & --    \\\\\n",
       "\t \\textasciitilde{}\\textasciitilde{}\\textasciitilde{}Mostly                                    & 13.7 \\%  & 17.74 \\% & --    \\\\\n",
       "\t \\textasciitilde{}\\textasciitilde{}\\textasciitilde{}Moderately                                & 47.78 \\% & 44.17 \\% & --    \\\\\n",
       "\t \\textasciitilde{}\\textasciitilde{}\\textasciitilde{}A little                                  & 22.6 \\%  & 21.87 \\% & --    \\\\\n",
       "\t \\textasciitilde{}\\textasciitilde{}\\textasciitilde{}None at all                               & 8.36 \\%  & 6.95 \\%  & --    \\\\\n",
       "\\end{tabular}\n"
      ],
      "text/markdown": [
       "\n",
       "A data.frame: 81 × 4\n",
       "\n",
       "| Name &lt;chr&gt; | Nonadhering &lt;chr&gt; | Adhering &lt;chr&gt; | Pvalue &lt;chr&gt; |\n",
       "|---|---|---|---|\n",
       "| Age Group %                  | ----    | ----    | &lt;0.001 |\n",
       "| ~~~&lt;50                       | 20.49 % | 12.58 % | --     |\n",
       "| ~~~&gt;=50                      | 79.51 % | 87.42 % | --     |\n",
       "| Sex of the respondent %      | ----    | ----    | 0.477  |\n",
       "| ~~~Male                      | 43.87 % | 45.7 %  | --     |\n",
       "| ~~~Female                    | 56.13 % | 54.3 %  | --     |\n",
       "| 5 quantiles of wealthscore % | ----    | ----    | 0.003  |\n",
       "| ~~~1                         | 19.72 % | 13.4 %  | --     |\n",
       "| ~~~2                         | 19.57 % | 14.12 % | --     |\n",
       "| ~~~3                         | 16.21 % | 19.33 % | --     |\n",
       "| ~~~4                         | 23.7 %  | 22.03 % | --     |\n",
       "| ~~~5                         | 20.79 % | 31.11 % | --     |\n",
       "| Place of residence %         | ----    | ----    | &lt;0.001 |\n",
       "| ~~~Urban                     | 21.47 % | 36.09 % | --     |\n",
       "| ~~~Rural                     | 78.53 % | 63.91 % | --     |\n",
       "| Region %                     | ----    | ----    | &lt;0.001 |\n",
       "| ~~~ASSAM                     | 12.09 % | 4.64 %  | --     |\n",
       "| ~~~KARNATAKA                 | 8.24 %  | 16.4 %  | --     |\n",
       "| ~~~MAHARASHTRA               | 19.87 % | 17.41 % | --     |\n",
       "| ~~~RAJASTHAN                 | 20.36 % | 11.48 % | --     |\n",
       "| ~~~UTTAR PRADESH             | 22.27 % | 23.83 % | --     |\n",
       "| ~~~WEST BENGAL               | 17.18 % | 26.24 % | --     |\n",
       "| Current Marital Status %     | ----    | ----    | 0.432  |\n",
       "| ~~~Currently Married         | 74.34 % | 75.95 % | --     |\n",
       "| ~~~Not Currently Married     | 25.66 % | 24.05 % | --     |\n",
       "| Religion %                   | ----    | ----    | 0.683  |\n",
       "| ~~~Hinduism                  | 84.12 % | 84.61 % | --     |\n",
       "| ~~~Islam                     | 11.69 % | 12.06 % | --     |\n",
       "| ~~~Other / None              | 4.19 %  | 3.33 %  | --     |\n",
       "| Ethnic Group %               | ----    | ----    | 0.003  |\n",
       "| ⋮ | ⋮ | ⋮ | ⋮ |\n",
       "| Currently working %                          | ----    | ----    | 0.004  |\n",
       "| ~~~Yes                                       | 66.81 % | 54.64 % | --     |\n",
       "| ~~~No                                        | 33.19 % | 45.36 % | --     |\n",
       "| Health care provider %                       | ----    | ----    | 0.218  |\n",
       "| ~~~Private                                   | 58.48 % | 59.24 % | --     |\n",
       "| ~~~Public                                    | 32.72 % | 29.49 % | --     |\n",
       "| ~~~Community                                 | 3.92 %  | 7.34 %  | --     |\n",
       "| ~~~Other                                     | 4.88 %  | 3.93 %  | --     |\n",
       "| Ever Been to School %                        | ----    | ----    | &lt;0.001 |\n",
       "| ~~~Yes                                       | 53.12 % | 65.3 %  | --     |\n",
       "| ~~~No                                        | 46.88 % | 34.7 %  | --     |\n",
       "| Level of Education %                         | ----    | ----    | 0.232  |\n",
       "| ~~~Less than primary school/don't know       | 23.11 % | 23.36 % | --     |\n",
       "| ~~~Secondary school and below                | 51.89 % | 45.74 % | --     |\n",
       "| ~~~Past secondary school                     | 25 %    | 30.9 %  | --     |\n",
       "| Feeling sad/low/depression %                 | ----    | ----    | 0.045  |\n",
       "| ~~~None/Mild                                 | 70.14 % | 75.41 % | --     |\n",
       "| ~~~Moderate or worse                         | 29.86 % | 24.59 % | --     |\n",
       "| Worry or anxiety %                           | ----    | ----    | 0.01   |\n",
       "| ~~~None/Mild                                 | 57.19 % | 65.28 % | --     |\n",
       "| ~~~Moderate or worse                         | 42.81 % | 34.72 % | --     |\n",
       "| Cataracts- New Sample (Chronic Conditions) % | ----    | ----    | 0.175  |\n",
       "| ~~~No                                        | 81.29 % | 77.62 % | --     |\n",
       "| ~~~Yes                                       | 18.71 % | 22.38 % | --     |\n",
       "| Money to meed needs %                        | ----    | ----    | 0.407  |\n",
       "| ~~~Completely                                | 7.56 %  | 9.27 %  | --     |\n",
       "| ~~~Mostly                                    | 13.7 %  | 17.74 % | --     |\n",
       "| ~~~Moderately                                | 47.78 % | 44.17 % | --     |\n",
       "| ~~~A little                                  | 22.6 %  | 21.87 % | --     |\n",
       "| ~~~None at all                               | 8.36 %  | 6.95 %  | --     |\n",
       "\n"
      ],
      "text/plain": [
       "   Name                                         Nonadhering Adhering Pvalue\n",
       "1  Age Group %                                  ----        ----     <0.001\n",
       "2  ~~~<50                                       20.49 %     12.58 %  --    \n",
       "3  ~~~>=50                                      79.51 %     87.42 %  --    \n",
       "4  Sex of the respondent %                      ----        ----     0.477 \n",
       "5  ~~~Male                                      43.87 %     45.7 %   --    \n",
       "6  ~~~Female                                    56.13 %     54.3 %   --    \n",
       "7  5 quantiles of wealthscore %                 ----        ----     0.003 \n",
       "8  ~~~1                                         19.72 %     13.4 %   --    \n",
       "9  ~~~2                                         19.57 %     14.12 %  --    \n",
       "10 ~~~3                                         16.21 %     19.33 %  --    \n",
       "11 ~~~4                                         23.7 %      22.03 %  --    \n",
       "12 ~~~5                                         20.79 %     31.11 %  --    \n",
       "13 Place of residence %                         ----        ----     <0.001\n",
       "14 ~~~Urban                                     21.47 %     36.09 %  --    \n",
       "15 ~~~Rural                                     78.53 %     63.91 %  --    \n",
       "16 Region %                                     ----        ----     <0.001\n",
       "17 ~~~ASSAM                                     12.09 %     4.64 %   --    \n",
       "18 ~~~KARNATAKA                                 8.24 %      16.4 %   --    \n",
       "19 ~~~MAHARASHTRA                               19.87 %     17.41 %  --    \n",
       "20 ~~~RAJASTHAN                                 20.36 %     11.48 %  --    \n",
       "21 ~~~UTTAR PRADESH                             22.27 %     23.83 %  --    \n",
       "22 ~~~WEST BENGAL                               17.18 %     26.24 %  --    \n",
       "23 Current Marital Status %                     ----        ----     0.432 \n",
       "24 ~~~Currently Married                         74.34 %     75.95 %  --    \n",
       "25 ~~~Not Currently Married                     25.66 %     24.05 %  --    \n",
       "26 Religion %                                   ----        ----     0.683 \n",
       "27 ~~~Hinduism                                  84.12 %     84.61 %  --    \n",
       "28 ~~~Islam                                     11.69 %     12.06 %  --    \n",
       "29 ~~~Other / None                              4.19 %      3.33 %   --    \n",
       "30 Ethnic Group %                               ----        ----     0.003 \n",
       "⋮  ⋮                                            ⋮           ⋮        ⋮     \n",
       "52 Currently working %                          ----        ----     0.004 \n",
       "53 ~~~Yes                                       66.81 %     54.64 %  --    \n",
       "54 ~~~No                                        33.19 %     45.36 %  --    \n",
       "55 Health care provider %                       ----        ----     0.218 \n",
       "56 ~~~Private                                   58.48 %     59.24 %  --    \n",
       "57 ~~~Public                                    32.72 %     29.49 %  --    \n",
       "58 ~~~Community                                 3.92 %      7.34 %   --    \n",
       "59 ~~~Other                                     4.88 %      3.93 %   --    \n",
       "60 Ever Been to School %                        ----        ----     <0.001\n",
       "61 ~~~Yes                                       53.12 %     65.3 %   --    \n",
       "62 ~~~No                                        46.88 %     34.7 %   --    \n",
       "63 Level of Education %                         ----        ----     0.232 \n",
       "64 ~~~Less than primary school/don't know       23.11 %     23.36 %  --    \n",
       "65 ~~~Secondary school and below                51.89 %     45.74 %  --    \n",
       "66 ~~~Past secondary school                     25 %        30.9 %   --    \n",
       "67 Feeling sad/low/depression %                 ----        ----     0.045 \n",
       "68 ~~~None/Mild                                 70.14 %     75.41 %  --    \n",
       "69 ~~~Moderate or worse                         29.86 %     24.59 %  --    \n",
       "70 Worry or anxiety %                           ----        ----     0.01  \n",
       "71 ~~~None/Mild                                 57.19 %     65.28 %  --    \n",
       "72 ~~~Moderate or worse                         42.81 %     34.72 %  --    \n",
       "73 Cataracts- New Sample (Chronic Conditions) % ----        ----     0.175 \n",
       "74 ~~~No                                        81.29 %     77.62 %  --    \n",
       "75 ~~~Yes                                       18.71 %     22.38 %  --    \n",
       "76 Money to meed needs %                        ----        ----     0.407 \n",
       "77 ~~~Completely                                7.56 %      9.27 %   --    \n",
       "78 ~~~Mostly                                    13.7 %      17.74 %  --    \n",
       "79 ~~~Moderately                                47.78 %     44.17 %  --    \n",
       "80 ~~~A little                                  22.6 %      21.87 %  --    \n",
       "81 ~~~None at all                               8.36 %      6.95 %   --    "
      ]
     },
     "metadata": {},
     "output_type": "display_data"
    }
   ],
   "source": [
    "dfs <- apply(VariableList, 1, function(Var) {weightedBVCalc(Var, Unimorbid, \"adherence\")})\n",
    "uniMorbidityBV <- do.call(rbind, dfs)\n",
    "uniMorbidityBV\n",
    "write.csv(uniMorbidityBV,\"Supplementary2/uniMorbidityBVweighted.csv\")"
   ]
  },
  {
   "attachments": {},
   "cell_type": "markdown",
   "metadata": {},
   "source": [
    "## By Disease"
   ]
  },
  {
   "cell_type": "code",
   "execution_count": 43,
   "metadata": {
    "vscode": {
     "languageId": "r"
    }
   },
   "outputs": [],
   "source": [
    "# D, C for discrete vs continuous\n",
    "\n",
    "VariableList <- matrix(\n",
    "\n",
    "    c(  #\"q1011\", \"C\", #age\n",
    "        \"age_category\", \"D\", #age category\n",
    "        \"q1009\",  \"D\", # gender\n",
    "        \"quintile\",\"D\", #wealth quintile     \n",
    "        #\"wealthscore\",\"C\", #wealth score          \n",
    "        \"q0104\",  \"D\", # rural/urban\n",
    "        \"q0105a\", \"D\", # state   \n",
    "        \"q1012\",  \"D\", # current marital status         \n",
    "        \"q1019_\", \"D\", # Religion        \n",
    "        \"q1018_\", \"D\", # Caste        \n",
    "        \"q3001\", \"D\", #tobacco        \n",
    "        \"q3008\", \"D\", #alcohol\n",
    "        \"q2000\", \"D\", #self reported health\n",
    "        \"q2010\", \"D\", #cognitive function\n",
    "        \"q2002\", \"D\", #physical function\n",
    "        \"q8062\", \"D\", #community support\n",
    "        \"q1503\", \"D\", #working\n",
    "        \"q5004\", \"D\", #PHC\n",
    "        \"q1015\",  \"D\", # schooling\n",
    "        \"q1016_\", \"D\", # Highest level of schooling\n",
    "        \"q2018\",  \"D\", # Depression, last 30 days\n",
    "        \"q2019\",  \"D\", # Anxiety\n",
    "        \"q4062\",  \"D\",  # Cataracts\n",
    "        \"q7002\", \"D\" #Subjective wealth\n",
    "), ncol = 2, byrow = TRUE\n",
    ")"
   ]
  },
  {
   "cell_type": "code",
   "execution_count": 44,
   "metadata": {
    "vscode": {
     "languageId": "r"
    }
   },
   "outputs": [],
   "source": [
    "dfs <- apply(VariableList, 1, function(Var) {weightedBVCalc(Var, Stroke, \"q4011a\")})\n",
    "DF <- do.call(rbind, dfs)\n",
    "write.csv(DF,\"Supplementary3/StrokeBVweighted.csv\")\n",
    "\n",
    "dfs <- apply(VariableList, 1, function(Var) {weightedBVCalc(Var, Angina , \"q4015a\")})\n",
    "DF <- do.call(rbind, dfs)\n",
    "write.csv(DF,\"Supplementary3/AnginaBVweighted.csv\")\n",
    " \n",
    "dfs <- apply(VariableList, 1, function(Var) {weightedBVCalc(Var, Diabetes, \"q4023a\")})\n",
    "DF <- do.call(rbind, dfs)\n",
    "write.csv(DF,\"Supplementary3/DiabetesBVweighted.csv\")\n",
    "\n",
    "dfs <- apply(VariableList, 1, function(Var) {weightedBVCalc(Var, LungDisease, \"q4026a\")})\n",
    "DF <- do.call(rbind, dfs)\n",
    "write.csv(DF,\"Supplementary3/LungDiseaseBVweighted.csv\")\n",
    "\n",
    "dfs <- apply(VariableList, 1, function(Var) {weightedBVCalc(Var, Asthma, \"q4034a\")})\n",
    "DF <- do.call(rbind, dfs)\n",
    "write.csv(DF,\"Supplementary3/AsthmaBVweighted.csv\")\n",
    "\n",
    "dfs <- apply(VariableList, 1, function(Var) {weightedBVCalc(Var, Depression, \"q4041a\")})\n",
    "DF <- do.call(rbind, dfs)\n",
    "write.csv(DF,\"Supplementary3/DepressionBVweighted.csv\")\n",
    "\n",
    "dfs <- apply(VariableList, 1, function(Var) {weightedBVCalc(Var, Hypertension, \"q4061a\")})\n",
    "DF <- do.call(rbind, dfs)\n",
    "write.csv(DF,\"Supplementary3/HypertensionBVweighted.csv\")"
   ]
  },
  {
   "attachments": {},
   "cell_type": "markdown",
   "metadata": {},
   "source": [
    "This is to see if any specific diagnoses have an effect on the adherence rate.\n",
    "This asks, of the population who have one or more diseases, is the distribution of people with a specific disease, different between those who adhere to all there medication and those who do not."
   ]
  },
  {
   "cell_type": "code",
   "execution_count": 45,
   "metadata": {
    "vscode": {
     "languageId": "r"
    }
   },
   "outputs": [],
   "source": [
    "# D, C for discrete vs continuous\n",
    "VariableList <- matrix(\n",
    "\n",
    "    c(  # Chronic conditions\n",
    "        \"q4010\",  \"D\", # Stroke\n",
    "        \"q4014\",  \"D\", # Angina\n",
    "        \"q4022\",  \"D\", # Diabetes\n",
    "        \"q4025\",  \"D\", # Lung Disease\n",
    "        \"q4033\",  \"D\", # Asthma\n",
    "        \"q4040\",  \"D\", # Clinical Depression\n",
    "        \"q4060\",  \"D\" # Hypertension\n",
    "), ncol = 2, byrow = TRUE\n",
    ")"
   ]
  },
  {
   "cell_type": "code",
   "execution_count": 46,
   "metadata": {
    "vscode": {
     "languageId": "r"
    }
   },
   "outputs": [
    {
     "data": {
      "text/html": [
       "<table class=\"dataframe\">\n",
       "<caption>A data.frame: 21 × 4</caption>\n",
       "<thead>\n",
       "\t<tr><th scope=col>Name</th><th scope=col>Nonadhering</th><th scope=col>Adhering</th><th scope=col>Pvalue</th></tr>\n",
       "\t<tr><th scope=col>&lt;chr&gt;</th><th scope=col>&lt;chr&gt;</th><th scope=col>&lt;chr&gt;</th><th scope=col>&lt;chr&gt;</th></tr>\n",
       "</thead>\n",
       "<tbody>\n",
       "\t<tr><td><span style=white-space:pre-wrap>Self reported prevalence of stroke %               </span></td><td><span style=white-space:pre-wrap>----   </span></td><td><span style=white-space:pre-wrap>----   </span></td><td>&lt;0.001</td></tr>\n",
       "\t<tr><td>~~~Yes                                             </td><td>8.26 % </td><td>4.89 % </td><td>--    </td></tr>\n",
       "\t<tr><td>~~~No                                              </td><td>91.74 %</td><td>95.11 %</td><td>--    </td></tr>\n",
       "\t<tr><td>Angina (Self repoted prevalence of angina) %       </td><td>----   </td><td>----   </td><td>0.015 </td></tr>\n",
       "\t<tr><td>~~~Yes                                             </td><td>13 %   </td><td>8.86 % </td><td>--    </td></tr>\n",
       "\t<tr><td>~~~No                                              </td><td>87 %   </td><td>91.14 %</td><td>--    </td></tr>\n",
       "\t<tr><td>Diabetes-New Sample (Chronic Conditions) %         </td><td>----   </td><td>----   </td><td>0.987 </td></tr>\n",
       "\t<tr><td>~~~Yes                                             </td><td>28.68 %</td><td>28.72 %</td><td>--    </td></tr>\n",
       "\t<tr><td>~~~No                                              </td><td>71.32 %</td><td>71.28 %</td><td>--    </td></tr>\n",
       "\t<tr><td>Self reported prevalence of chronic lung diseases %</td><td><span style=white-space:pre-wrap>----   </span></td><td><span style=white-space:pre-wrap>----   </span></td><td>&lt;0.001</td></tr>\n",
       "\t<tr><td>~~~Yes                                             </td><td>8.55 % </td><td>3.7 %  </td><td>--    </td></tr>\n",
       "\t<tr><td>~~~No                                              </td><td>91.45 %</td><td>96.3 % </td><td>--    </td></tr>\n",
       "\t<tr><td>Asthama(Self reported prevalence of asthama) %     </td><td>----   </td><td>----   </td><td>0.036 </td></tr>\n",
       "\t<tr><td>~~~Yes                                             </td><td>16.18 %</td><td>12.81 %</td><td>--    </td></tr>\n",
       "\t<tr><td>~~~No                                              </td><td>83.82 %</td><td>87.19 %</td><td>--    </td></tr>\n",
       "\t<tr><td><span style=white-space:pre-wrap>Self reported prevalence of depression %           </span></td><td><span style=white-space:pre-wrap>----   </span></td><td><span style=white-space:pre-wrap>----   </span></td><td>&lt;0.001</td></tr>\n",
       "\t<tr><td>~~~No                                              </td><td>89.24 %</td><td>96.21 %</td><td>--    </td></tr>\n",
       "\t<tr><td>~~~Yes                                             </td><td>10.76 %</td><td>3.79 % </td><td>--    </td></tr>\n",
       "\t<tr><td>Self reported prevalence of hypertension %         </td><td>----   </td><td>----   </td><td>0.567 </td></tr>\n",
       "\t<tr><td>~~~Yes                                             </td><td>62.6 % </td><td>61.06 %</td><td>--    </td></tr>\n",
       "\t<tr><td>~~~No                                              </td><td>37.4 % </td><td>38.94 %</td><td>--    </td></tr>\n",
       "</tbody>\n",
       "</table>\n"
      ],
      "text/latex": [
       "A data.frame: 21 × 4\n",
       "\\begin{tabular}{llll}\n",
       " Name & Nonadhering & Adhering & Pvalue\\\\\n",
       " <chr> & <chr> & <chr> & <chr>\\\\\n",
       "\\hline\n",
       "\t Self reported prevalence of stroke \\%                & ----    & ----    & <0.001\\\\\n",
       "\t \\textasciitilde{}\\textasciitilde{}\\textasciitilde{}Yes                                              & 8.26 \\%  & 4.89 \\%  & --    \\\\\n",
       "\t \\textasciitilde{}\\textasciitilde{}\\textasciitilde{}No                                               & 91.74 \\% & 95.11 \\% & --    \\\\\n",
       "\t Angina (Self repoted prevalence of angina) \\%        & ----    & ----    & 0.015 \\\\\n",
       "\t \\textasciitilde{}\\textasciitilde{}\\textasciitilde{}Yes                                              & 13 \\%    & 8.86 \\%  & --    \\\\\n",
       "\t \\textasciitilde{}\\textasciitilde{}\\textasciitilde{}No                                               & 87 \\%    & 91.14 \\% & --    \\\\\n",
       "\t Diabetes-New Sample (Chronic Conditions) \\%          & ----    & ----    & 0.987 \\\\\n",
       "\t \\textasciitilde{}\\textasciitilde{}\\textasciitilde{}Yes                                              & 28.68 \\% & 28.72 \\% & --    \\\\\n",
       "\t \\textasciitilde{}\\textasciitilde{}\\textasciitilde{}No                                               & 71.32 \\% & 71.28 \\% & --    \\\\\n",
       "\t Self reported prevalence of chronic lung diseases \\% & ----    & ----    & <0.001\\\\\n",
       "\t \\textasciitilde{}\\textasciitilde{}\\textasciitilde{}Yes                                              & 8.55 \\%  & 3.7 \\%   & --    \\\\\n",
       "\t \\textasciitilde{}\\textasciitilde{}\\textasciitilde{}No                                               & 91.45 \\% & 96.3 \\%  & --    \\\\\n",
       "\t Asthama(Self reported prevalence of asthama) \\%      & ----    & ----    & 0.036 \\\\\n",
       "\t \\textasciitilde{}\\textasciitilde{}\\textasciitilde{}Yes                                              & 16.18 \\% & 12.81 \\% & --    \\\\\n",
       "\t \\textasciitilde{}\\textasciitilde{}\\textasciitilde{}No                                               & 83.82 \\% & 87.19 \\% & --    \\\\\n",
       "\t Self reported prevalence of depression \\%            & ----    & ----    & <0.001\\\\\n",
       "\t \\textasciitilde{}\\textasciitilde{}\\textasciitilde{}No                                               & 89.24 \\% & 96.21 \\% & --    \\\\\n",
       "\t \\textasciitilde{}\\textasciitilde{}\\textasciitilde{}Yes                                              & 10.76 \\% & 3.79 \\%  & --    \\\\\n",
       "\t Self reported prevalence of hypertension \\%          & ----    & ----    & 0.567 \\\\\n",
       "\t \\textasciitilde{}\\textasciitilde{}\\textasciitilde{}Yes                                              & 62.6 \\%  & 61.06 \\% & --    \\\\\n",
       "\t \\textasciitilde{}\\textasciitilde{}\\textasciitilde{}No                                               & 37.4 \\%  & 38.94 \\% & --    \\\\\n",
       "\\end{tabular}\n"
      ],
      "text/markdown": [
       "\n",
       "A data.frame: 21 × 4\n",
       "\n",
       "| Name &lt;chr&gt; | Nonadhering &lt;chr&gt; | Adhering &lt;chr&gt; | Pvalue &lt;chr&gt; |\n",
       "|---|---|---|---|\n",
       "| Self reported prevalence of stroke %                | ----    | ----    | &lt;0.001 |\n",
       "| ~~~Yes                                              | 8.26 %  | 4.89 %  | --     |\n",
       "| ~~~No                                               | 91.74 % | 95.11 % | --     |\n",
       "| Angina (Self repoted prevalence of angina) %        | ----    | ----    | 0.015  |\n",
       "| ~~~Yes                                              | 13 %    | 8.86 %  | --     |\n",
       "| ~~~No                                               | 87 %    | 91.14 % | --     |\n",
       "| Diabetes-New Sample (Chronic Conditions) %          | ----    | ----    | 0.987  |\n",
       "| ~~~Yes                                              | 28.68 % | 28.72 % | --     |\n",
       "| ~~~No                                               | 71.32 % | 71.28 % | --     |\n",
       "| Self reported prevalence of chronic lung diseases % | ----    | ----    | &lt;0.001 |\n",
       "| ~~~Yes                                              | 8.55 %  | 3.7 %   | --     |\n",
       "| ~~~No                                               | 91.45 % | 96.3 %  | --     |\n",
       "| Asthama(Self reported prevalence of asthama) %      | ----    | ----    | 0.036  |\n",
       "| ~~~Yes                                              | 16.18 % | 12.81 % | --     |\n",
       "| ~~~No                                               | 83.82 % | 87.19 % | --     |\n",
       "| Self reported prevalence of depression %            | ----    | ----    | &lt;0.001 |\n",
       "| ~~~No                                               | 89.24 % | 96.21 % | --     |\n",
       "| ~~~Yes                                              | 10.76 % | 3.79 %  | --     |\n",
       "| Self reported prevalence of hypertension %          | ----    | ----    | 0.567  |\n",
       "| ~~~Yes                                              | 62.6 %  | 61.06 % | --     |\n",
       "| ~~~No                                               | 37.4 %  | 38.94 % | --     |\n",
       "\n"
      ],
      "text/plain": [
       "   Name                                                Nonadhering Adhering\n",
       "1  Self reported prevalence of stroke %                ----        ----    \n",
       "2  ~~~Yes                                              8.26 %      4.89 %  \n",
       "3  ~~~No                                               91.74 %     95.11 % \n",
       "4  Angina (Self repoted prevalence of angina) %        ----        ----    \n",
       "5  ~~~Yes                                              13 %        8.86 %  \n",
       "6  ~~~No                                               87 %        91.14 % \n",
       "7  Diabetes-New Sample (Chronic Conditions) %          ----        ----    \n",
       "8  ~~~Yes                                              28.68 %     28.72 % \n",
       "9  ~~~No                                               71.32 %     71.28 % \n",
       "10 Self reported prevalence of chronic lung diseases % ----        ----    \n",
       "11 ~~~Yes                                              8.55 %      3.7 %   \n",
       "12 ~~~No                                               91.45 %     96.3 %  \n",
       "13 Asthama(Self reported prevalence of asthama) %      ----        ----    \n",
       "14 ~~~Yes                                              16.18 %     12.81 % \n",
       "15 ~~~No                                               83.82 %     87.19 % \n",
       "16 Self reported prevalence of depression %            ----        ----    \n",
       "17 ~~~No                                               89.24 %     96.21 % \n",
       "18 ~~~Yes                                              10.76 %     3.79 %  \n",
       "19 Self reported prevalence of hypertension %          ----        ----    \n",
       "20 ~~~Yes                                              62.6 %      61.06 % \n",
       "21 ~~~No                                               37.4 %      38.94 % \n",
       "   Pvalue\n",
       "1  <0.001\n",
       "2  --    \n",
       "3  --    \n",
       "4  0.015 \n",
       "5  --    \n",
       "6  --    \n",
       "7  0.987 \n",
       "8  --    \n",
       "9  --    \n",
       "10 <0.001\n",
       "11 --    \n",
       "12 --    \n",
       "13 0.036 \n",
       "14 --    \n",
       "15 --    \n",
       "16 <0.001\n",
       "17 --    \n",
       "18 --    \n",
       "19 0.567 \n",
       "20 --    \n",
       "21 --    "
      ]
     },
     "metadata": {},
     "output_type": "display_data"
    }
   ],
   "source": [
    "dfs <- apply(VariableList, 1, function(Var) {weightedBVCalc(Var, Morbidity, \"adherence\")})\n",
    "weightedDiseaseBV <- do.call(rbind, dfs)\n",
    "weightedDiseaseBV\n",
    "write.csv(weightedDiseaseBV,\"Misc/weightedDiseaseBV.csv\")"
   ]
  },
  {
   "attachments": {},
   "cell_type": "markdown",
   "metadata": {},
   "source": [
    "### Weighted prevalence of diseases"
   ]
  },
  {
   "cell_type": "code",
   "execution_count": 47,
   "metadata": {
    "vscode": {
     "languageId": "r"
    }
   },
   "outputs": [],
   "source": [
    "VariableList <- matrix(\n",
    "# disease and question\n",
    "    c(    \"surveyDesign\", \"anymorbidity\",\n",
    "          \"surveyDesign\",  \"q4014\", # Angina\n",
    "          \"surveyDesign\",  \"q4022\", # Diabetes\n",
    "          \"surveyDesign\",  \"q4033\", # Asthma\n",
    "          \"surveyDesign\",  \"q4060\", # Hypertension\n",
    "          \"surveyDesign\",  \"q4010\", # Stroke\n",
    "          \"surveyDesign\",  \"q4025\", # Lung Disease\n",
    "          \"surveyDesign\",  \"q4040\"  # Clinical Depression\n",
    "\n",
    "), ncol = 2, byrow = TRUE\n",
    ")"
   ]
  },
  {
   "cell_type": "code",
   "execution_count": 48,
   "metadata": {
    "vscode": {
     "languageId": "r"
    }
   },
   "outputs": [
    {
     "data": {
      "text/html": [
       "'Any Morbidity'"
      ],
      "text/latex": [
       "'Any Morbidity'"
      ],
      "text/markdown": [
       "'Any Morbidity'"
      ],
      "text/plain": [
       "[1] \"Any Morbidity\""
      ]
     },
     "metadata": {},
     "output_type": "display_data"
    },
    {
     "data": {
      "text/html": [
       "<table class=\"dataframe\">\n",
       "<caption>A data.frame: 8 × 3</caption>\n",
       "<thead>\n",
       "\t<tr><th scope=col>Name</th><th scope=col>No</th><th scope=col>Yes</th></tr>\n",
       "\t<tr><th scope=col>&lt;chr[,1]&gt;</th><th scope=col>&lt;chr&gt;</th><th scope=col>&lt;chr&gt;</th></tr>\n",
       "</thead>\n",
       "<tbody>\n",
       "\t<tr><td>Any Morbidity                                    </td><td>72.47 %</td><td>27.53 %</td></tr>\n",
       "\t<tr><td>Angina (Self repoted prevalence of angina)       </td><td>96.99 %</td><td>3.01 % </td></tr>\n",
       "\t<tr><td>Diabetes-New Sample (Chronic Conditions)         </td><td>92.06 %</td><td>7.94 % </td></tr>\n",
       "\t<tr><td>Asthama(Self reported prevalence of asthama)     </td><td>96 %   </td><td>4 %    </td></tr>\n",
       "\t<tr><td>Self reported prevalence of hypertension         </td><td>82.89 %</td><td>17.11 %</td></tr>\n",
       "\t<tr><td>Self reported prevalence of stroke               </td><td>98.19 %</td><td>1.81 % </td></tr>\n",
       "\t<tr><td>Self reported prevalence of chronic lung diseases</td><td>98.33 %</td><td>1.67 % </td></tr>\n",
       "\t<tr><td>Self reported prevalence of depression           </td><td>98.01 %</td><td>1.99 % </td></tr>\n",
       "</tbody>\n",
       "</table>\n"
      ],
      "text/latex": [
       "A data.frame: 8 × 3\n",
       "\\begin{tabular}{lll}\n",
       " Name & No & Yes\\\\\n",
       " <chr{[},1{]}> & <chr> & <chr>\\\\\n",
       "\\hline\n",
       "\t Any Morbidity                                     & 72.47 \\% & 27.53 \\%\\\\\n",
       "\t Angina (Self repoted prevalence of angina)        & 96.99 \\% & 3.01 \\% \\\\\n",
       "\t Diabetes-New Sample (Chronic Conditions)          & 92.06 \\% & 7.94 \\% \\\\\n",
       "\t Asthama(Self reported prevalence of asthama)      & 96 \\%    & 4 \\%    \\\\\n",
       "\t Self reported prevalence of hypertension          & 82.89 \\% & 17.11 \\%\\\\\n",
       "\t Self reported prevalence of stroke                & 98.19 \\% & 1.81 \\% \\\\\n",
       "\t Self reported prevalence of chronic lung diseases & 98.33 \\% & 1.67 \\% \\\\\n",
       "\t Self reported prevalence of depression            & 98.01 \\% & 1.99 \\% \\\\\n",
       "\\end{tabular}\n"
      ],
      "text/markdown": [
       "\n",
       "A data.frame: 8 × 3\n",
       "\n",
       "| Name &lt;chr[,1]&gt; | No &lt;chr&gt; | Yes &lt;chr&gt; |\n",
       "|---|---|---|\n",
       "| Any Morbidity                                     | 72.47 % | 27.53 % |\n",
       "| Angina (Self repoted prevalence of angina)        | 96.99 % | 3.01 %  |\n",
       "| Diabetes-New Sample (Chronic Conditions)          | 92.06 % | 7.94 %  |\n",
       "| Asthama(Self reported prevalence of asthama)      | 96 %    | 4 %     |\n",
       "| Self reported prevalence of hypertension          | 82.89 % | 17.11 % |\n",
       "| Self reported prevalence of stroke                | 98.19 % | 1.81 %  |\n",
       "| Self reported prevalence of chronic lung diseases | 98.33 % | 1.67 %  |\n",
       "| Self reported prevalence of depression            | 98.01 % | 1.99 %  |\n",
       "\n"
      ],
      "text/plain": [
       "  Name                                              No      Yes    \n",
       "1 Any Morbidity                                     72.47 % 27.53 %\n",
       "2 Angina (Self repoted prevalence of angina)        96.99 % 3.01 % \n",
       "3 Diabetes-New Sample (Chronic Conditions)          92.06 % 7.94 % \n",
       "4 Asthama(Self reported prevalence of asthama)      96 %    4 %    \n",
       "5 Self reported prevalence of hypertension          82.89 % 17.11 %\n",
       "6 Self reported prevalence of stroke                98.19 % 1.81 % \n",
       "7 Self reported prevalence of chronic lung diseases 98.33 % 1.67 % \n",
       "8 Self reported prevalence of depression            98.01 % 1.99 % "
      ]
     },
     "metadata": {},
     "output_type": "display_data"
    }
   ],
   "source": [
    "dfs <- apply(VariableList, 1, function(Var) { weightedPropFunc(Var[1],  Var[2]) } )\n",
    "weightedDiseasePrev <- do.call(rbind, dfs)\n",
    "weightedDiseasePrev[,1] <- do.call(rbind,lapply(VariableList[,2], function(Var){attr(morbidity[ ,Var], \"label\")})) #\n",
    "attr(morbidity[ ,VariableList[,2][1]], \"label\")\n",
    "weightedDiseasePrev\n",
    "write.csv( weightedDiseasePrev,\"Misc/weightedPrevalence_by_Disease.csv\")"
   ]
  },
  {
   "attachments": {},
   "cell_type": "markdown",
   "metadata": {},
   "source": [
    "In over 50\"s (to check against paper results) [Cross check with fig 7.1, page 163 (pdf 165/291) (`addNA = F`)]"
   ]
  },
  {
   "cell_type": "code",
   "execution_count": 49,
   "metadata": {
    "vscode": {
     "languageId": "r"
    }
   },
   "outputs": [],
   "source": [
    "VariableList <- matrix(\n",
    "# disease and question\n",
    "    c(     \"Check\", \"anymorbidity\",\n",
    "           \"Check\",  \"q4014\", # Angina\n",
    "           \"Check\",  \"q4022\", # Diabetes\n",
    "           \"Check\",  \"q4033\", # Asthma\n",
    "           \"Check\",  \"q4060\", # Hypertension\n",
    "           \"Check\",  \"q4010\", # Stroke\n",
    "           \"Check\",  \"q4025\", # Lung Disease\n",
    "           \"Check\",  \"q4040\" # Clinical Depression\n",
    "\n",
    "), ncol = 2, byrow = TRUE\n",
    ")\n"
   ]
  },
  {
   "cell_type": "code",
   "execution_count": 50,
   "metadata": {
    "vscode": {
     "languageId": "r"
    }
   },
   "outputs": [
    {
     "data": {
      "text/html": [
       "'Any Morbidity'"
      ],
      "text/latex": [
       "'Any Morbidity'"
      ],
      "text/markdown": [
       "'Any Morbidity'"
      ],
      "text/plain": [
       "[1] \"Any Morbidity\""
      ]
     },
     "metadata": {},
     "output_type": "display_data"
    },
    {
     "data": {
      "text/html": [
       "<table class=\"dataframe\">\n",
       "<caption>A data.frame: 8 × 3</caption>\n",
       "<thead>\n",
       "\t<tr><th scope=col>Name</th><th scope=col>No</th><th scope=col>Yes</th></tr>\n",
       "\t<tr><th scope=col>&lt;chr[,1]&gt;</th><th scope=col>&lt;chr&gt;</th><th scope=col>&lt;chr&gt;</th></tr>\n",
       "</thead>\n",
       "<tbody>\n",
       "\t<tr><td>Any Morbidity                                    </td><td>68.12 %</td><td>31.88 %</td></tr>\n",
       "\t<tr><td>Angina (Self repoted prevalence of angina)       </td><td>96.4 % </td><td>3.6 %  </td></tr>\n",
       "\t<tr><td>Diabetes-New Sample (Chronic Conditions)         </td><td>90.26 %</td><td>9.74 % </td></tr>\n",
       "\t<tr><td>Asthama(Self reported prevalence of asthama)     </td><td>95.16 %</td><td>4.84 % </td></tr>\n",
       "\t<tr><td>Self reported prevalence of hypertension         </td><td>80.07 %</td><td>19.93 %</td></tr>\n",
       "\t<tr><td>Self reported prevalence of stroke               </td><td>97.84 %</td><td>2.16 % </td></tr>\n",
       "\t<tr><td>Self reported prevalence of chronic lung diseases</td><td>97.92 %</td><td>2.08 % </td></tr>\n",
       "\t<tr><td>Self reported prevalence of depression           </td><td>98.15 %</td><td>1.85 % </td></tr>\n",
       "</tbody>\n",
       "</table>\n"
      ],
      "text/latex": [
       "A data.frame: 8 × 3\n",
       "\\begin{tabular}{lll}\n",
       " Name & No & Yes\\\\\n",
       " <chr{[},1{]}> & <chr> & <chr>\\\\\n",
       "\\hline\n",
       "\t Any Morbidity                                     & 68.12 \\% & 31.88 \\%\\\\\n",
       "\t Angina (Self repoted prevalence of angina)        & 96.4 \\%  & 3.6 \\%  \\\\\n",
       "\t Diabetes-New Sample (Chronic Conditions)          & 90.26 \\% & 9.74 \\% \\\\\n",
       "\t Asthama(Self reported prevalence of asthama)      & 95.16 \\% & 4.84 \\% \\\\\n",
       "\t Self reported prevalence of hypertension          & 80.07 \\% & 19.93 \\%\\\\\n",
       "\t Self reported prevalence of stroke                & 97.84 \\% & 2.16 \\% \\\\\n",
       "\t Self reported prevalence of chronic lung diseases & 97.92 \\% & 2.08 \\% \\\\\n",
       "\t Self reported prevalence of depression            & 98.15 \\% & 1.85 \\% \\\\\n",
       "\\end{tabular}\n"
      ],
      "text/markdown": [
       "\n",
       "A data.frame: 8 × 3\n",
       "\n",
       "| Name &lt;chr[,1]&gt; | No &lt;chr&gt; | Yes &lt;chr&gt; |\n",
       "|---|---|---|\n",
       "| Any Morbidity                                     | 68.12 % | 31.88 % |\n",
       "| Angina (Self repoted prevalence of angina)        | 96.4 %  | 3.6 %   |\n",
       "| Diabetes-New Sample (Chronic Conditions)          | 90.26 % | 9.74 %  |\n",
       "| Asthama(Self reported prevalence of asthama)      | 95.16 % | 4.84 %  |\n",
       "| Self reported prevalence of hypertension          | 80.07 % | 19.93 % |\n",
       "| Self reported prevalence of stroke                | 97.84 % | 2.16 %  |\n",
       "| Self reported prevalence of chronic lung diseases | 97.92 % | 2.08 %  |\n",
       "| Self reported prevalence of depression            | 98.15 % | 1.85 %  |\n",
       "\n"
      ],
      "text/plain": [
       "  Name                                              No      Yes    \n",
       "1 Any Morbidity                                     68.12 % 31.88 %\n",
       "2 Angina (Self repoted prevalence of angina)        96.4 %  3.6 %  \n",
       "3 Diabetes-New Sample (Chronic Conditions)          90.26 % 9.74 % \n",
       "4 Asthama(Self reported prevalence of asthama)      95.16 % 4.84 % \n",
       "5 Self reported prevalence of hypertension          80.07 % 19.93 %\n",
       "6 Self reported prevalence of stroke                97.84 % 2.16 % \n",
       "7 Self reported prevalence of chronic lung diseases 97.92 % 2.08 % \n",
       "8 Self reported prevalence of depression            98.15 % 1.85 % "
      ]
     },
     "metadata": {},
     "output_type": "display_data"
    }
   ],
   "source": [
    "dfs <- apply(VariableList, 1, function(Var) { weightedPropFunc(Var[1],  Var[2]) } )\n",
    "weightedDiseasePrev <- do.call(rbind, dfs)\n",
    "weightedDiseasePrev[,1] <- do.call(rbind,lapply(VariableList[,2], function(Var){attr(morbidity[ ,Var], \"label\")})) #\n",
    "attr(morbidity[ ,VariableList[,2][1]], \"label\")\n",
    "weightedDiseasePrev\n",
    "#write.csv( weightedDiseasePrev,\"Misc/weightedPrevalence_by_Disease.csv\")"
   ]
  },
  {
   "attachments": {},
   "cell_type": "markdown",
   "metadata": {},
   "source": [
    "## Adherence rates by disease\n",
    "\n",
    "This is the adherence rate by disease, for medications for that disease"
   ]
  },
  {
   "cell_type": "code",
   "execution_count": 51,
   "metadata": {
    "vscode": {
     "languageId": "r"
    }
   },
   "outputs": [],
   "source": [
    "VariableList <- matrix(\n",
    "# disease and question\n",
    "    c(     \"Morbidity\", \"adherence\",\n",
    "           \"Multimorbid\", \"adherence\",\n",
    "           \"Unimorbid\", \"adherence\",\n",
    "        # Chronic conditions\n",
    "           \"Angina\",  \"q4015a\", # Angina\n",
    "         \"Diabetes\",  \"q4023a\", # Diabetes\n",
    "           \"Asthma\",  \"q4034a\", # Asthma\n",
    "\"Hypertension\",  \"q4061a\", # Hypertension\n",
    "           \"Stroke\",  \"q4011a\", # Stroke\n",
    "      \"LungDisease\",  \"q4026a\", # Lung Disease\n",
    "       \"Depression\",  \"q4041a\" # Clinical Depression\n",
    "\n",
    "), ncol = 2, byrow = TRUE\n",
    ")"
   ]
  },
  {
   "cell_type": "code",
   "execution_count": 52,
   "metadata": {
    "vscode": {
     "languageId": "r"
    }
   },
   "outputs": [
    {
     "data": {
      "text/html": [
       "<table class=\"dataframe\">\n",
       "<caption>A data.frame: 10 × 3</caption>\n",
       "<thead>\n",
       "\t<tr><th scope=col>Name</th><th scope=col>No</th><th scope=col>Yes</th></tr>\n",
       "\t<tr><th scope=col>&lt;chr&gt;</th><th scope=col>&lt;chr&gt;</th><th scope=col>&lt;chr&gt;</th></tr>\n",
       "</thead>\n",
       "<tbody>\n",
       "\t<tr><td>Morbidity   </td><td>48.62 %</td><td>51.38 %</td></tr>\n",
       "\t<tr><td>Multimorbid </td><td>62.48 %</td><td>37.52 %</td></tr>\n",
       "\t<tr><td>Unimorbid   </td><td>43.2 % </td><td>56.8 % </td></tr>\n",
       "\t<tr><td>Angina      </td><td>36.94 %</td><td>63.06 %</td></tr>\n",
       "\t<tr><td>Diabetes    </td><td>35.89 %</td><td>64.11 %</td></tr>\n",
       "\t<tr><td>Asthma      </td><td>42.69 %</td><td>57.31 %</td></tr>\n",
       "\t<tr><td>Hypertension</td><td>42.37 %</td><td>57.63 %</td></tr>\n",
       "\t<tr><td>Stroke      </td><td>46.6 % </td><td>53.4 % </td></tr>\n",
       "\t<tr><td>LungDisease </td><td>56.77 %</td><td>43.23 %</td></tr>\n",
       "\t<tr><td>Depression  </td><td>66.81 %</td><td>33.19 %</td></tr>\n",
       "</tbody>\n",
       "</table>\n"
      ],
      "text/latex": [
       "A data.frame: 10 × 3\n",
       "\\begin{tabular}{lll}\n",
       " Name & No & Yes\\\\\n",
       " <chr> & <chr> & <chr>\\\\\n",
       "\\hline\n",
       "\t Morbidity    & 48.62 \\% & 51.38 \\%\\\\\n",
       "\t Multimorbid  & 62.48 \\% & 37.52 \\%\\\\\n",
       "\t Unimorbid    & 43.2 \\%  & 56.8 \\% \\\\\n",
       "\t Angina       & 36.94 \\% & 63.06 \\%\\\\\n",
       "\t Diabetes     & 35.89 \\% & 64.11 \\%\\\\\n",
       "\t Asthma       & 42.69 \\% & 57.31 \\%\\\\\n",
       "\t Hypertension & 42.37 \\% & 57.63 \\%\\\\\n",
       "\t Stroke       & 46.6 \\%  & 53.4 \\% \\\\\n",
       "\t LungDisease  & 56.77 \\% & 43.23 \\%\\\\\n",
       "\t Depression   & 66.81 \\% & 33.19 \\%\\\\\n",
       "\\end{tabular}\n"
      ],
      "text/markdown": [
       "\n",
       "A data.frame: 10 × 3\n",
       "\n",
       "| Name &lt;chr&gt; | No &lt;chr&gt; | Yes &lt;chr&gt; |\n",
       "|---|---|---|\n",
       "| Morbidity    | 48.62 % | 51.38 % |\n",
       "| Multimorbid  | 62.48 % | 37.52 % |\n",
       "| Unimorbid    | 43.2 %  | 56.8 %  |\n",
       "| Angina       | 36.94 % | 63.06 % |\n",
       "| Diabetes     | 35.89 % | 64.11 % |\n",
       "| Asthma       | 42.69 % | 57.31 % |\n",
       "| Hypertension | 42.37 % | 57.63 % |\n",
       "| Stroke       | 46.6 %  | 53.4 %  |\n",
       "| LungDisease  | 56.77 % | 43.23 % |\n",
       "| Depression   | 66.81 % | 33.19 % |\n",
       "\n"
      ],
      "text/plain": [
       "   Name         No      Yes    \n",
       "1  Morbidity    48.62 % 51.38 %\n",
       "2  Multimorbid  62.48 % 37.52 %\n",
       "3  Unimorbid    43.2 %  56.8 % \n",
       "4  Angina       36.94 % 63.06 %\n",
       "5  Diabetes     35.89 % 64.11 %\n",
       "6  Asthma       42.69 % 57.31 %\n",
       "7  Hypertension 42.37 % 57.63 %\n",
       "8  Stroke       46.6 %  53.4 % \n",
       "9  LungDisease  56.77 % 43.23 %\n",
       "10 Depression   66.81 % 33.19 %"
      ]
     },
     "metadata": {},
     "output_type": "display_data"
    }
   ],
   "source": [
    "dfs <- apply(VariableList, 1, function(Var) { weightedPropFunc(Var[1],  Var[2]) } )\n",
    "weightedDiseaseAdh <- do.call(rbind, dfs)\n",
    "weightedDiseaseAdh\n",
    "write.csv(weightedDiseaseAdh,\"Misc/weightedAdherence_by_Disease.csv\")"
   ]
  },
  {
   "cell_type": "code",
   "execution_count": 53,
   "metadata": {
    "vscode": {
     "languageId": "r"
    }
   },
   "outputs": [],
   "source": [
    "VariableList <- matrix(\n",
    "# disease and question\n",
    "    c(     \"Morbidity\", \"twelve_adherence\",\n",
    "            \"Adherent\", \"twelve_adherence\",\n",
    "            \"Nonadherent\", \"twelve_adherence\"\n",
    "\n",
    "), ncol = 2, byrow = TRUE\n",
    ")"
   ]
  },
  {
   "cell_type": "code",
   "execution_count": 54,
   "metadata": {
    "vscode": {
     "languageId": "r"
    }
   },
   "outputs": [
    {
     "data": {
      "text/html": [
       "<table class=\"dataframe\">\n",
       "<caption>A data.frame: 3 × 3</caption>\n",
       "<thead>\n",
       "\t<tr><th scope=col>Name</th><th scope=col>No</th><th scope=col>Yes</th></tr>\n",
       "\t<tr><th scope=col>&lt;chr&gt;</th><th scope=col>&lt;chr&gt;</th><th scope=col>&lt;chr&gt;</th></tr>\n",
       "</thead>\n",
       "<tbody>\n",
       "\t<tr><td>Morbidity  </td><td>44.34 %</td><td>55.66 %</td></tr>\n",
       "\t<tr><td>Adherent   </td><td>2.5 %  </td><td>97.5 % </td></tr>\n",
       "\t<tr><td>Nonadherent</td><td>75.04 %</td><td>24.96 %</td></tr>\n",
       "</tbody>\n",
       "</table>\n"
      ],
      "text/latex": [
       "A data.frame: 3 × 3\n",
       "\\begin{tabular}{lll}\n",
       " Name & No & Yes\\\\\n",
       " <chr> & <chr> & <chr>\\\\\n",
       "\\hline\n",
       "\t Morbidity   & 44.34 \\% & 55.66 \\%\\\\\n",
       "\t Adherent    & 2.5 \\%   & 97.5 \\% \\\\\n",
       "\t Nonadherent & 75.04 \\% & 24.96 \\%\\\\\n",
       "\\end{tabular}\n"
      ],
      "text/markdown": [
       "\n",
       "A data.frame: 3 × 3\n",
       "\n",
       "| Name &lt;chr&gt; | No &lt;chr&gt; | Yes &lt;chr&gt; |\n",
       "|---|---|---|\n",
       "| Morbidity   | 44.34 % | 55.66 % |\n",
       "| Adherent    | 2.5 %   | 97.5 %  |\n",
       "| Nonadherent | 75.04 % | 24.96 % |\n",
       "\n"
      ],
      "text/plain": [
       "  Name        No      Yes    \n",
       "1 Morbidity   44.34 % 55.66 %\n",
       "2 Adherent    2.5 %   97.5 % \n",
       "3 Nonadherent 75.04 % 24.96 %"
      ]
     },
     "metadata": {},
     "output_type": "display_data"
    }
   ],
   "source": [
    "dfs <- apply(VariableList, 1, function(Var) { weightedPropFunc(Var[1],  Var[2]) } )\n",
    "weightedDiseaseAdh <- do.call(rbind, dfs)\n",
    "weightedDiseaseAdh\n",
    "write.csv(weightedDiseaseAdh,\"Misc/weighted12MAdherence_by_Disease.csv\")"
   ]
  },
  {
   "attachments": {},
   "cell_type": "markdown",
   "metadata": {},
   "source": [
    "## Multimorbidity Rates by disease"
   ]
  },
  {
   "cell_type": "code",
   "execution_count": 55,
   "metadata": {
    "vscode": {
     "languageId": "r"
    }
   },
   "outputs": [],
   "source": [
    "VariableList <- matrix(\n",
    "# disease and question\n",
    "    c(     \"morbidity\", \"multimorbidity\",\n",
    "        # Chronic conditions\n",
    "           \"Stroke\",  \"multimorbidity\", # Stroke\n",
    "           \"Angina\",  \"multimorbidity\", # Angina\n",
    "         \"Diabetes\",  \"multimorbidity\", # Diabetes\n",
    "      \"LungDisease\",  \"multimorbidity\", # Lung Disease\n",
    "           \"Asthma\",  \"multimorbidity\", # Asthma   \n",
    "       \"Depression\",  \"multimorbidity\", # Clinical Depression\n",
    "\"Hypertension\",  \"multimorbidity\"  # Hypertension\n",
    "), ncol = 2, byrow = TRUE\n",
    ")"
   ]
  },
  {
   "cell_type": "code",
   "execution_count": 56,
   "metadata": {
    "vscode": {
     "languageId": "r"
    }
   },
   "outputs": [
    {
     "data": {
      "text/html": [
       "<table class=\"dataframe\">\n",
       "<caption>A data.frame: 8 × 3</caption>\n",
       "<thead>\n",
       "\t<tr><th scope=col>Name</th><th scope=col>No</th><th scope=col>Yes</th></tr>\n",
       "\t<tr><th scope=col>&lt;chr&gt;</th><th scope=col>&lt;chr&gt;</th><th scope=col>&lt;chr&gt;</th></tr>\n",
       "</thead>\n",
       "<tbody>\n",
       "\t<tr><td>Morbidity   </td><td>71.88 %</td><td>28.12 %</td></tr>\n",
       "\t<tr><td>Stroke      </td><td>31.56 %</td><td>68.44 %</td></tr>\n",
       "\t<tr><td>Angina      </td><td>33.75 %</td><td>66.25 %</td></tr>\n",
       "\t<tr><td>Diabetes    </td><td>45.45 %</td><td>54.55 %</td></tr>\n",
       "\t<tr><td>LungDisease </td><td>35.44 %</td><td>64.56 %</td></tr>\n",
       "\t<tr><td>Asthma      </td><td>56.48 %</td><td>43.52 %</td></tr>\n",
       "\t<tr><td>Depression  </td><td>56.7 % </td><td>43.3 % </td></tr>\n",
       "\t<tr><td>Hypertension</td><td>62.78 %</td><td>37.22 %</td></tr>\n",
       "</tbody>\n",
       "</table>\n"
      ],
      "text/latex": [
       "A data.frame: 8 × 3\n",
       "\\begin{tabular}{lll}\n",
       " Name & No & Yes\\\\\n",
       " <chr> & <chr> & <chr>\\\\\n",
       "\\hline\n",
       "\t Morbidity    & 71.88 \\% & 28.12 \\%\\\\\n",
       "\t Stroke       & 31.56 \\% & 68.44 \\%\\\\\n",
       "\t Angina       & 33.75 \\% & 66.25 \\%\\\\\n",
       "\t Diabetes     & 45.45 \\% & 54.55 \\%\\\\\n",
       "\t LungDisease  & 35.44 \\% & 64.56 \\%\\\\\n",
       "\t Asthma       & 56.48 \\% & 43.52 \\%\\\\\n",
       "\t Depression   & 56.7 \\%  & 43.3 \\% \\\\\n",
       "\t Hypertension & 62.78 \\% & 37.22 \\%\\\\\n",
       "\\end{tabular}\n"
      ],
      "text/markdown": [
       "\n",
       "A data.frame: 8 × 3\n",
       "\n",
       "| Name &lt;chr&gt; | No &lt;chr&gt; | Yes &lt;chr&gt; |\n",
       "|---|---|---|\n",
       "| Morbidity    | 71.88 % | 28.12 % |\n",
       "| Stroke       | 31.56 % | 68.44 % |\n",
       "| Angina       | 33.75 % | 66.25 % |\n",
       "| Diabetes     | 45.45 % | 54.55 % |\n",
       "| LungDisease  | 35.44 % | 64.56 % |\n",
       "| Asthma       | 56.48 % | 43.52 % |\n",
       "| Depression   | 56.7 %  | 43.3 %  |\n",
       "| Hypertension | 62.78 % | 37.22 % |\n",
       "\n"
      ],
      "text/plain": [
       "  Name         No      Yes    \n",
       "1 Morbidity    71.88 % 28.12 %\n",
       "2 Stroke       31.56 % 68.44 %\n",
       "3 Angina       33.75 % 66.25 %\n",
       "4 Diabetes     45.45 % 54.55 %\n",
       "5 LungDisease  35.44 % 64.56 %\n",
       "6 Asthma       56.48 % 43.52 %\n",
       "7 Depression   56.7 %  43.3 % \n",
       "8 Hypertension 62.78 % 37.22 %"
      ]
     },
     "metadata": {},
     "output_type": "display_data"
    }
   ],
   "source": [
    "dfs <- apply(VariableList, 1, function(Var) { weightedPropFunc(Var[1],  Var[2]) } )\n",
    "weightedDiseaseAdh <- do.call(rbind, dfs)\n",
    "weightedDiseaseAdh\n",
    "write.csv(weightedDiseaseAdh,\"Misc/weightedMultimorbidity_by_disease.csv\")"
   ]
  },
  {
   "cell_type": "code",
   "execution_count": 57,
   "metadata": {
    "vscode": {
     "languageId": "r"
    }
   },
   "outputs": [],
   "source": [
    "VariableList <- matrix(\n",
    "# disease and question\n",
    "    c(     \"morbidity\", \"complex_multimorbidity\",\n",
    "        # Chronic conditions\n",
    "           \"Stroke\",  \"complex_multimorbidity\", # Stroke\n",
    "           \"Angina\",  \"complex_multimorbidity\", # Angina\n",
    "         \"Diabetes\",  \"complex_multimorbidity\", # Diabetes\n",
    "      \"LungDisease\",  \"complex_multimorbidity\", # Lung Disease\n",
    "           \"Asthma\",  \"complex_multimorbidity\", # Asthma   \n",
    "       \"Depression\",  \"complex_multimorbidity\", # Clinical Depression\n",
    "\"Hypertension\",  \"complex_multimorbidity\"  # Hypertension\n",
    "), ncol = 2, byrow = TRUE\n",
    ")"
   ]
  },
  {
   "cell_type": "code",
   "execution_count": 58,
   "metadata": {
    "vscode": {
     "languageId": "r"
    }
   },
   "outputs": [
    {
     "data": {
      "text/html": [
       "<table class=\"dataframe\">\n",
       "<caption>A data.frame: 8 × 3</caption>\n",
       "<thead>\n",
       "\t<tr><th scope=col>Name</th><th scope=col>No</th><th scope=col>Yes</th></tr>\n",
       "\t<tr><th scope=col>&lt;chr&gt;</th><th scope=col>&lt;chr&gt;</th><th scope=col>&lt;chr&gt;</th></tr>\n",
       "</thead>\n",
       "<tbody>\n",
       "\t<tr><td>Morbidity   </td><td>94.07 %</td><td>5.93 % </td></tr>\n",
       "\t<tr><td>Stroke      </td><td>74.49 %</td><td>25.51 %</td></tr>\n",
       "\t<tr><td>Angina      </td><td>70.67 %</td><td>29.33 %</td></tr>\n",
       "\t<tr><td>Diabetes    </td><td>85.79 %</td><td>14.21 %</td></tr>\n",
       "\t<tr><td>LungDisease </td><td>73.73 %</td><td>26.27 %</td></tr>\n",
       "\t<tr><td>Asthma      </td><td>84.3 % </td><td>15.7 % </td></tr>\n",
       "\t<tr><td>Depression  </td><td>83.9 % </td><td>16.1 % </td></tr>\n",
       "\t<tr><td>Hypertension</td><td>91.47 %</td><td>8.53 % </td></tr>\n",
       "</tbody>\n",
       "</table>\n"
      ],
      "text/latex": [
       "A data.frame: 8 × 3\n",
       "\\begin{tabular}{lll}\n",
       " Name & No & Yes\\\\\n",
       " <chr> & <chr> & <chr>\\\\\n",
       "\\hline\n",
       "\t Morbidity    & 94.07 \\% & 5.93 \\% \\\\\n",
       "\t Stroke       & 74.49 \\% & 25.51 \\%\\\\\n",
       "\t Angina       & 70.67 \\% & 29.33 \\%\\\\\n",
       "\t Diabetes     & 85.79 \\% & 14.21 \\%\\\\\n",
       "\t LungDisease  & 73.73 \\% & 26.27 \\%\\\\\n",
       "\t Asthma       & 84.3 \\%  & 15.7 \\% \\\\\n",
       "\t Depression   & 83.9 \\%  & 16.1 \\% \\\\\n",
       "\t Hypertension & 91.47 \\% & 8.53 \\% \\\\\n",
       "\\end{tabular}\n"
      ],
      "text/markdown": [
       "\n",
       "A data.frame: 8 × 3\n",
       "\n",
       "| Name &lt;chr&gt; | No &lt;chr&gt; | Yes &lt;chr&gt; |\n",
       "|---|---|---|\n",
       "| Morbidity    | 94.07 % | 5.93 %  |\n",
       "| Stroke       | 74.49 % | 25.51 % |\n",
       "| Angina       | 70.67 % | 29.33 % |\n",
       "| Diabetes     | 85.79 % | 14.21 % |\n",
       "| LungDisease  | 73.73 % | 26.27 % |\n",
       "| Asthma       | 84.3 %  | 15.7 %  |\n",
       "| Depression   | 83.9 %  | 16.1 %  |\n",
       "| Hypertension | 91.47 % | 8.53 %  |\n",
       "\n"
      ],
      "text/plain": [
       "  Name         No      Yes    \n",
       "1 Morbidity    94.07 % 5.93 % \n",
       "2 Stroke       74.49 % 25.51 %\n",
       "3 Angina       70.67 % 29.33 %\n",
       "4 Diabetes     85.79 % 14.21 %\n",
       "5 LungDisease  73.73 % 26.27 %\n",
       "6 Asthma       84.3 %  15.7 % \n",
       "7 Depression   83.9 %  16.1 % \n",
       "8 Hypertension 91.47 % 8.53 % "
      ]
     },
     "metadata": {},
     "output_type": "display_data"
    }
   ],
   "source": [
    "dfs <- apply(VariableList, 1, function(Var) { weightedPropFunc(Var[1],  Var[2]) } )\n",
    "weightedDiseaseAdh <- do.call(rbind, dfs)\n",
    "weightedDiseaseAdh\n",
    "write.csv(weightedDiseaseAdh,\"Misc/weightedcomplex_Multimorbidity_by_disease.csv\")"
   ]
  },
  {
   "attachments": {},
   "cell_type": "markdown",
   "metadata": {},
   "source": [
    "# Restrict Variables\n",
    "\n",
    "Restrict the variables to only those considered for the logistic regression. These are those which are statistically significant (p < 0.05). When multiple similar categories are possible (eg age and age group), only one is selected. "
   ]
  },
  {
   "cell_type": "code",
   "execution_count": 59,
   "metadata": {
    "vscode": {
     "languageId": "r"
    }
   },
   "outputs": [],
   "source": [
    "# D, C for discrete vs continuous\n",
    "\n",
    "VariableList <- matrix(\n",
    "\n",
    "    c(  \"age_category\", \"D\",    # age category\n",
    "        \"quintile\",\"D\",         # wealth        \n",
    "        \"count_diseases\", \"C\",  # Number of Morbidities        \n",
    "        \"q0104\",  \"D\",          # rural/urban\n",
    "        \"q0105a\", \"D\",          # state             \n",
    "        \"q1018_\", \"D\",          # Caste        \n",
    "        \"q3001\", \"D\",           # tobacco        \n",
    "        \"q2010\", \"D\",           # cognitive function\n",
    "        \"q1503\", \"D\",           # working\n",
    "        \"q1015\",  \"D\",          # schooling\n",
    "        \"q2018\",  \"D\",          # Depression, last 30 days\n",
    "        #\"q4040\",  \"D\",          # Clinical Depression\n",
    "        \"q2019\",  \"D\",          # Anxiety\n",
    "        \"q4062\",  \"D\"           # Cataracts\n",
    "), ncol = 2, byrow = TRUE\n",
    ")"
   ]
  },
  {
   "attachments": {},
   "cell_type": "markdown",
   "metadata": {},
   "source": [
    "## Restricted Bivariate Analysis"
   ]
  },
  {
   "cell_type": "code",
   "execution_count": 60,
   "metadata": {
    "vscode": {
     "languageId": "r"
    }
   },
   "outputs": [
    {
     "data": {
      "text/html": [
       "<table class=\"dataframe\">\n",
       "<caption>A data.frame: 45 × 4</caption>\n",
       "<thead>\n",
       "\t<tr><th scope=col>Name</th><th scope=col>Nonadhering</th><th scope=col>Adhering</th><th scope=col>Pvalue</th></tr>\n",
       "\t<tr><th scope=col>&lt;chr&gt;</th><th scope=col>&lt;chr&gt;</th><th scope=col>&lt;chr&gt;</th><th scope=col>&lt;chr&gt;</th></tr>\n",
       "</thead>\n",
       "<tbody>\n",
       "\t<tr><td><span style=white-space:pre-wrap>Age Group %                                                    </span></td><td><span style=white-space:pre-wrap>----      </span></td><td><span style=white-space:pre-wrap>----     </span></td><td>&lt;0.001</td></tr>\n",
       "\t<tr><td><span style=white-space:pre-wrap>~~~&lt;50                                                         </span></td><td><span style=white-space:pre-wrap>16.62 %   </span></td><td><span style=white-space:pre-wrap>10.53 %  </span></td><td><span style=white-space:pre-wrap>--    </span></td></tr>\n",
       "\t<tr><td><span style=white-space:pre-wrap>~~~&gt;=50                                                        </span></td><td><span style=white-space:pre-wrap>83.38 %   </span></td><td><span style=white-space:pre-wrap>89.47 %  </span></td><td><span style=white-space:pre-wrap>--    </span></td></tr>\n",
       "\t<tr><td>5 quantiles of wealthscore %                                   </td><td>----      </td><td>----     </td><td>0.008 </td></tr>\n",
       "\t<tr><td>~~~1                                                           </td><td>17.59 %   </td><td>12.48 %  </td><td>--    </td></tr>\n",
       "\t<tr><td>~~~2                                                           </td><td>17.54 %   </td><td>13.92 %  </td><td>--    </td></tr>\n",
       "\t<tr><td>~~~3                                                           </td><td>15.73 %   </td><td>18.9 %   </td><td>--    </td></tr>\n",
       "\t<tr><td>~~~4                                                           </td><td>21.53 %   </td><td>21.72 %  </td><td>--    </td></tr>\n",
       "\t<tr><td>~~~5                                                           </td><td>27.61 %   </td><td>32.99 %  </td><td>--    </td></tr>\n",
       "\t<tr><td><span style=white-space:pre-wrap>Number of Chronic Conditions [mean (SD)]                       </span></td><td>1.5 (0.74)</td><td>1.2 (0.5)</td><td>&lt;0.001</td></tr>\n",
       "\t<tr><td>Place of residence %                                           </td><td>----      </td><td>----     </td><td>0.006 </td></tr>\n",
       "\t<tr><td>~~~Urban                                                       </td><td>27.02 %   </td><td>37.1 %   </td><td>--    </td></tr>\n",
       "\t<tr><td>~~~Rural                                                       </td><td>72.98 %   </td><td>62.9 %   </td><td>--    </td></tr>\n",
       "\t<tr><td><span style=white-space:pre-wrap>Region %                                                       </span></td><td><span style=white-space:pre-wrap>----      </span></td><td><span style=white-space:pre-wrap>----     </span></td><td>&lt;0.001</td></tr>\n",
       "\t<tr><td>~~~ASSAM                                                       </td><td>11.71 %   </td><td>4.1 %    </td><td>--    </td></tr>\n",
       "\t<tr><td>~~~KARNATAKA                                                   </td><td>9.15 %    </td><td>17.36 %  </td><td>--    </td></tr>\n",
       "\t<tr><td>~~~MAHARASHTRA                                                 </td><td>19.21 %   </td><td>17.72 %  </td><td>--    </td></tr>\n",
       "\t<tr><td>~~~RAJASTHAN                                                   </td><td>19.85 %   </td><td>12.04 %  </td><td>--    </td></tr>\n",
       "\t<tr><td>~~~UTTAR PRADESH                                               </td><td>21.59 %   </td><td>21.65 %  </td><td>--    </td></tr>\n",
       "\t<tr><td>~~~WEST BENGAL                                                 </td><td>18.49 %   </td><td>27.14 %  </td><td>--    </td></tr>\n",
       "\t<tr><td>Ethnic Group %                                                 </td><td>----      </td><td>----     </td><td>0.002 </td></tr>\n",
       "\t<tr><td>~~~Schedule Tribe                                              </td><td>6.33 %    </td><td>4.07 %   </td><td>--    </td></tr>\n",
       "\t<tr><td>~~~Schedule Caste                                              </td><td>16.42 %   </td><td>12.5 %   </td><td>--    </td></tr>\n",
       "\t<tr><td>~~~Others                                                      </td><td>77.25 %   </td><td>83.43 %  </td><td>--    </td></tr>\n",
       "\t<tr><td>Ever smoked %                                                  </td><td>----      </td><td>----     </td><td>0.021 </td></tr>\n",
       "\t<tr><td>~~~No                                                          </td><td>62.4 %    </td><td>68.79 %  </td><td>--    </td></tr>\n",
       "\t<tr><td>~~~Yes                                                         </td><td>37.6 %    </td><td>31.21 %  </td><td>--    </td></tr>\n",
       "\t<tr><td>Difficulty in cognition with concentrating/remembering things %</td><td>----      </td><td>----     </td><td>0.036 </td></tr>\n",
       "\t<tr><td>~~~Moderate or worse                                           </td><td>38.42 %   </td><td>32.84 %  </td><td>--    </td></tr>\n",
       "\t<tr><td>~~~None/Mild                                                   </td><td>61.58 %   </td><td>67.16 %  </td><td>--    </td></tr>\n",
       "\t<tr><td>Currently working %                                            </td><td>----      </td><td>----     </td><td>0.008 </td></tr>\n",
       "\t<tr><td>~~~Yes                                                         </td><td>60.63 %   </td><td>50.5 %   </td><td>--    </td></tr>\n",
       "\t<tr><td>~~~No                                                          </td><td>39.37 %   </td><td>49.5 %   </td><td>--    </td></tr>\n",
       "\t<tr><td><span style=white-space:pre-wrap>Ever Been to School %                                          </span></td><td><span style=white-space:pre-wrap>----      </span></td><td><span style=white-space:pre-wrap>----     </span></td><td>&lt;0.001</td></tr>\n",
       "\t<tr><td>~~~Yes                                                         </td><td>58.65 %   </td><td>66.27 %  </td><td>--    </td></tr>\n",
       "\t<tr><td>~~~No                                                          </td><td>41.35 %   </td><td>33.73 %  </td><td>--    </td></tr>\n",
       "\t<tr><td>Feeling sad/low/depression %                                   </td><td>----      </td><td>----     </td><td>0.012 </td></tr>\n",
       "\t<tr><td>~~~None/Mild                                                   </td><td>69.97 %   </td><td>75.24 %  </td><td>--    </td></tr>\n",
       "\t<tr><td>~~~Moderate or worse                                           </td><td>30.03 %   </td><td>24.76 %  </td><td>--    </td></tr>\n",
       "\t<tr><td>Worry or anxiety %                                             </td><td>----      </td><td>----     </td><td>0.005 </td></tr>\n",
       "\t<tr><td>~~~None/Mild                                                   </td><td>57.03 %   </td><td>64.53 %  </td><td>--    </td></tr>\n",
       "\t<tr><td>~~~Moderate or worse                                           </td><td>42.97 %   </td><td>35.47 %  </td><td>--    </td></tr>\n",
       "\t<tr><td>Cataracts- New Sample (Chronic Conditions) %                   </td><td>----      </td><td>----     </td><td>0.831 </td></tr>\n",
       "\t<tr><td>~~~No                                                          </td><td>76.05 %   </td><td>75.53 %  </td><td>--    </td></tr>\n",
       "\t<tr><td>~~~Yes                                                         </td><td>23.95 %   </td><td>24.47 %  </td><td>--    </td></tr>\n",
       "</tbody>\n",
       "</table>\n"
      ],
      "text/latex": [
       "A data.frame: 45 × 4\n",
       "\\begin{tabular}{llll}\n",
       " Name & Nonadhering & Adhering & Pvalue\\\\\n",
       " <chr> & <chr> & <chr> & <chr>\\\\\n",
       "\\hline\n",
       "\t Age Group \\%                                                     & ----       & ----      & <0.001\\\\\n",
       "\t \\textasciitilde{}\\textasciitilde{}\\textasciitilde{}<50                                                          & 16.62 \\%    & 10.53 \\%   & --    \\\\\n",
       "\t \\textasciitilde{}\\textasciitilde{}\\textasciitilde{}>=50                                                         & 83.38 \\%    & 89.47 \\%   & --    \\\\\n",
       "\t 5 quantiles of wealthscore \\%                                    & ----       & ----      & 0.008 \\\\\n",
       "\t \\textasciitilde{}\\textasciitilde{}\\textasciitilde{}1                                                            & 17.59 \\%    & 12.48 \\%   & --    \\\\\n",
       "\t \\textasciitilde{}\\textasciitilde{}\\textasciitilde{}2                                                            & 17.54 \\%    & 13.92 \\%   & --    \\\\\n",
       "\t \\textasciitilde{}\\textasciitilde{}\\textasciitilde{}3                                                            & 15.73 \\%    & 18.9 \\%    & --    \\\\\n",
       "\t \\textasciitilde{}\\textasciitilde{}\\textasciitilde{}4                                                            & 21.53 \\%    & 21.72 \\%   & --    \\\\\n",
       "\t \\textasciitilde{}\\textasciitilde{}\\textasciitilde{}5                                                            & 27.61 \\%    & 32.99 \\%   & --    \\\\\n",
       "\t Number of Chronic Conditions {[}mean (SD){]}                        & 1.5 (0.74) & 1.2 (0.5) & <0.001\\\\\n",
       "\t Place of residence \\%                                            & ----       & ----      & 0.006 \\\\\n",
       "\t \\textasciitilde{}\\textasciitilde{}\\textasciitilde{}Urban                                                        & 27.02 \\%    & 37.1 \\%    & --    \\\\\n",
       "\t \\textasciitilde{}\\textasciitilde{}\\textasciitilde{}Rural                                                        & 72.98 \\%    & 62.9 \\%    & --    \\\\\n",
       "\t Region \\%                                                        & ----       & ----      & <0.001\\\\\n",
       "\t \\textasciitilde{}\\textasciitilde{}\\textasciitilde{}ASSAM                                                        & 11.71 \\%    & 4.1 \\%     & --    \\\\\n",
       "\t \\textasciitilde{}\\textasciitilde{}\\textasciitilde{}KARNATAKA                                                    & 9.15 \\%     & 17.36 \\%   & --    \\\\\n",
       "\t \\textasciitilde{}\\textasciitilde{}\\textasciitilde{}MAHARASHTRA                                                  & 19.21 \\%    & 17.72 \\%   & --    \\\\\n",
       "\t \\textasciitilde{}\\textasciitilde{}\\textasciitilde{}RAJASTHAN                                                    & 19.85 \\%    & 12.04 \\%   & --    \\\\\n",
       "\t \\textasciitilde{}\\textasciitilde{}\\textasciitilde{}UTTAR PRADESH                                                & 21.59 \\%    & 21.65 \\%   & --    \\\\\n",
       "\t \\textasciitilde{}\\textasciitilde{}\\textasciitilde{}WEST BENGAL                                                  & 18.49 \\%    & 27.14 \\%   & --    \\\\\n",
       "\t Ethnic Group \\%                                                  & ----       & ----      & 0.002 \\\\\n",
       "\t \\textasciitilde{}\\textasciitilde{}\\textasciitilde{}Schedule Tribe                                               & 6.33 \\%     & 4.07 \\%    & --    \\\\\n",
       "\t \\textasciitilde{}\\textasciitilde{}\\textasciitilde{}Schedule Caste                                               & 16.42 \\%    & 12.5 \\%    & --    \\\\\n",
       "\t \\textasciitilde{}\\textasciitilde{}\\textasciitilde{}Others                                                       & 77.25 \\%    & 83.43 \\%   & --    \\\\\n",
       "\t Ever smoked \\%                                                   & ----       & ----      & 0.021 \\\\\n",
       "\t \\textasciitilde{}\\textasciitilde{}\\textasciitilde{}No                                                           & 62.4 \\%     & 68.79 \\%   & --    \\\\\n",
       "\t \\textasciitilde{}\\textasciitilde{}\\textasciitilde{}Yes                                                          & 37.6 \\%     & 31.21 \\%   & --    \\\\\n",
       "\t Difficulty in cognition with concentrating/remembering things \\% & ----       & ----      & 0.036 \\\\\n",
       "\t \\textasciitilde{}\\textasciitilde{}\\textasciitilde{}Moderate or worse                                            & 38.42 \\%    & 32.84 \\%   & --    \\\\\n",
       "\t \\textasciitilde{}\\textasciitilde{}\\textasciitilde{}None/Mild                                                    & 61.58 \\%    & 67.16 \\%   & --    \\\\\n",
       "\t Currently working \\%                                             & ----       & ----      & 0.008 \\\\\n",
       "\t \\textasciitilde{}\\textasciitilde{}\\textasciitilde{}Yes                                                          & 60.63 \\%    & 50.5 \\%    & --    \\\\\n",
       "\t \\textasciitilde{}\\textasciitilde{}\\textasciitilde{}No                                                           & 39.37 \\%    & 49.5 \\%    & --    \\\\\n",
       "\t Ever Been to School \\%                                           & ----       & ----      & <0.001\\\\\n",
       "\t \\textasciitilde{}\\textasciitilde{}\\textasciitilde{}Yes                                                          & 58.65 \\%    & 66.27 \\%   & --    \\\\\n",
       "\t \\textasciitilde{}\\textasciitilde{}\\textasciitilde{}No                                                           & 41.35 \\%    & 33.73 \\%   & --    \\\\\n",
       "\t Feeling sad/low/depression \\%                                    & ----       & ----      & 0.012 \\\\\n",
       "\t \\textasciitilde{}\\textasciitilde{}\\textasciitilde{}None/Mild                                                    & 69.97 \\%    & 75.24 \\%   & --    \\\\\n",
       "\t \\textasciitilde{}\\textasciitilde{}\\textasciitilde{}Moderate or worse                                            & 30.03 \\%    & 24.76 \\%   & --    \\\\\n",
       "\t Worry or anxiety \\%                                              & ----       & ----      & 0.005 \\\\\n",
       "\t \\textasciitilde{}\\textasciitilde{}\\textasciitilde{}None/Mild                                                    & 57.03 \\%    & 64.53 \\%   & --    \\\\\n",
       "\t \\textasciitilde{}\\textasciitilde{}\\textasciitilde{}Moderate or worse                                            & 42.97 \\%    & 35.47 \\%   & --    \\\\\n",
       "\t Cataracts- New Sample (Chronic Conditions) \\%                    & ----       & ----      & 0.831 \\\\\n",
       "\t \\textasciitilde{}\\textasciitilde{}\\textasciitilde{}No                                                           & 76.05 \\%    & 75.53 \\%   & --    \\\\\n",
       "\t \\textasciitilde{}\\textasciitilde{}\\textasciitilde{}Yes                                                          & 23.95 \\%    & 24.47 \\%   & --    \\\\\n",
       "\\end{tabular}\n"
      ],
      "text/markdown": [
       "\n",
       "A data.frame: 45 × 4\n",
       "\n",
       "| Name &lt;chr&gt; | Nonadhering &lt;chr&gt; | Adhering &lt;chr&gt; | Pvalue &lt;chr&gt; |\n",
       "|---|---|---|---|\n",
       "| Age Group %                                                     | ----       | ----      | &lt;0.001 |\n",
       "| ~~~&lt;50                                                          | 16.62 %    | 10.53 %   | --     |\n",
       "| ~~~&gt;=50                                                         | 83.38 %    | 89.47 %   | --     |\n",
       "| 5 quantiles of wealthscore %                                    | ----       | ----      | 0.008  |\n",
       "| ~~~1                                                            | 17.59 %    | 12.48 %   | --     |\n",
       "| ~~~2                                                            | 17.54 %    | 13.92 %   | --     |\n",
       "| ~~~3                                                            | 15.73 %    | 18.9 %    | --     |\n",
       "| ~~~4                                                            | 21.53 %    | 21.72 %   | --     |\n",
       "| ~~~5                                                            | 27.61 %    | 32.99 %   | --     |\n",
       "| Number of Chronic Conditions [mean (SD)]                        | 1.5 (0.74) | 1.2 (0.5) | &lt;0.001 |\n",
       "| Place of residence %                                            | ----       | ----      | 0.006  |\n",
       "| ~~~Urban                                                        | 27.02 %    | 37.1 %    | --     |\n",
       "| ~~~Rural                                                        | 72.98 %    | 62.9 %    | --     |\n",
       "| Region %                                                        | ----       | ----      | &lt;0.001 |\n",
       "| ~~~ASSAM                                                        | 11.71 %    | 4.1 %     | --     |\n",
       "| ~~~KARNATAKA                                                    | 9.15 %     | 17.36 %   | --     |\n",
       "| ~~~MAHARASHTRA                                                  | 19.21 %    | 17.72 %   | --     |\n",
       "| ~~~RAJASTHAN                                                    | 19.85 %    | 12.04 %   | --     |\n",
       "| ~~~UTTAR PRADESH                                                | 21.59 %    | 21.65 %   | --     |\n",
       "| ~~~WEST BENGAL                                                  | 18.49 %    | 27.14 %   | --     |\n",
       "| Ethnic Group %                                                  | ----       | ----      | 0.002  |\n",
       "| ~~~Schedule Tribe                                               | 6.33 %     | 4.07 %    | --     |\n",
       "| ~~~Schedule Caste                                               | 16.42 %    | 12.5 %    | --     |\n",
       "| ~~~Others                                                       | 77.25 %    | 83.43 %   | --     |\n",
       "| Ever smoked %                                                   | ----       | ----      | 0.021  |\n",
       "| ~~~No                                                           | 62.4 %     | 68.79 %   | --     |\n",
       "| ~~~Yes                                                          | 37.6 %     | 31.21 %   | --     |\n",
       "| Difficulty in cognition with concentrating/remembering things % | ----       | ----      | 0.036  |\n",
       "| ~~~Moderate or worse                                            | 38.42 %    | 32.84 %   | --     |\n",
       "| ~~~None/Mild                                                    | 61.58 %    | 67.16 %   | --     |\n",
       "| Currently working %                                             | ----       | ----      | 0.008  |\n",
       "| ~~~Yes                                                          | 60.63 %    | 50.5 %    | --     |\n",
       "| ~~~No                                                           | 39.37 %    | 49.5 %    | --     |\n",
       "| Ever Been to School %                                           | ----       | ----      | &lt;0.001 |\n",
       "| ~~~Yes                                                          | 58.65 %    | 66.27 %   | --     |\n",
       "| ~~~No                                                           | 41.35 %    | 33.73 %   | --     |\n",
       "| Feeling sad/low/depression %                                    | ----       | ----      | 0.012  |\n",
       "| ~~~None/Mild                                                    | 69.97 %    | 75.24 %   | --     |\n",
       "| ~~~Moderate or worse                                            | 30.03 %    | 24.76 %   | --     |\n",
       "| Worry or anxiety %                                              | ----       | ----      | 0.005  |\n",
       "| ~~~None/Mild                                                    | 57.03 %    | 64.53 %   | --     |\n",
       "| ~~~Moderate or worse                                            | 42.97 %    | 35.47 %   | --     |\n",
       "| Cataracts- New Sample (Chronic Conditions) %                    | ----       | ----      | 0.831  |\n",
       "| ~~~No                                                           | 76.05 %    | 75.53 %   | --     |\n",
       "| ~~~Yes                                                          | 23.95 %    | 24.47 %   | --     |\n",
       "\n"
      ],
      "text/plain": [
       "   Name                                                            Nonadhering\n",
       "1  Age Group %                                                     ----       \n",
       "2  ~~~<50                                                          16.62 %    \n",
       "3  ~~~>=50                                                         83.38 %    \n",
       "4  5 quantiles of wealthscore %                                    ----       \n",
       "5  ~~~1                                                            17.59 %    \n",
       "6  ~~~2                                                            17.54 %    \n",
       "7  ~~~3                                                            15.73 %    \n",
       "8  ~~~4                                                            21.53 %    \n",
       "9  ~~~5                                                            27.61 %    \n",
       "10 Number of Chronic Conditions [mean (SD)]                        1.5 (0.74) \n",
       "11 Place of residence %                                            ----       \n",
       "12 ~~~Urban                                                        27.02 %    \n",
       "13 ~~~Rural                                                        72.98 %    \n",
       "14 Region %                                                        ----       \n",
       "15 ~~~ASSAM                                                        11.71 %    \n",
       "16 ~~~KARNATAKA                                                    9.15 %     \n",
       "17 ~~~MAHARASHTRA                                                  19.21 %    \n",
       "18 ~~~RAJASTHAN                                                    19.85 %    \n",
       "19 ~~~UTTAR PRADESH                                                21.59 %    \n",
       "20 ~~~WEST BENGAL                                                  18.49 %    \n",
       "21 Ethnic Group %                                                  ----       \n",
       "22 ~~~Schedule Tribe                                               6.33 %     \n",
       "23 ~~~Schedule Caste                                               16.42 %    \n",
       "24 ~~~Others                                                       77.25 %    \n",
       "25 Ever smoked %                                                   ----       \n",
       "26 ~~~No                                                           62.4 %     \n",
       "27 ~~~Yes                                                          37.6 %     \n",
       "28 Difficulty in cognition with concentrating/remembering things % ----       \n",
       "29 ~~~Moderate or worse                                            38.42 %    \n",
       "30 ~~~None/Mild                                                    61.58 %    \n",
       "31 Currently working %                                             ----       \n",
       "32 ~~~Yes                                                          60.63 %    \n",
       "33 ~~~No                                                           39.37 %    \n",
       "34 Ever Been to School %                                           ----       \n",
       "35 ~~~Yes                                                          58.65 %    \n",
       "36 ~~~No                                                           41.35 %    \n",
       "37 Feeling sad/low/depression %                                    ----       \n",
       "38 ~~~None/Mild                                                    69.97 %    \n",
       "39 ~~~Moderate or worse                                            30.03 %    \n",
       "40 Worry or anxiety %                                              ----       \n",
       "41 ~~~None/Mild                                                    57.03 %    \n",
       "42 ~~~Moderate or worse                                            42.97 %    \n",
       "43 Cataracts- New Sample (Chronic Conditions) %                    ----       \n",
       "44 ~~~No                                                           76.05 %    \n",
       "45 ~~~Yes                                                          23.95 %    \n",
       "   Adhering  Pvalue\n",
       "1  ----      <0.001\n",
       "2  10.53 %   --    \n",
       "3  89.47 %   --    \n",
       "4  ----      0.008 \n",
       "5  12.48 %   --    \n",
       "6  13.92 %   --    \n",
       "7  18.9 %    --    \n",
       "8  21.72 %   --    \n",
       "9  32.99 %   --    \n",
       "10 1.2 (0.5) <0.001\n",
       "11 ----      0.006 \n",
       "12 37.1 %    --    \n",
       "13 62.9 %    --    \n",
       "14 ----      <0.001\n",
       "15 4.1 %     --    \n",
       "16 17.36 %   --    \n",
       "17 17.72 %   --    \n",
       "18 12.04 %   --    \n",
       "19 21.65 %   --    \n",
       "20 27.14 %   --    \n",
       "21 ----      0.002 \n",
       "22 4.07 %    --    \n",
       "23 12.5 %    --    \n",
       "24 83.43 %   --    \n",
       "25 ----      0.021 \n",
       "26 68.79 %   --    \n",
       "27 31.21 %   --    \n",
       "28 ----      0.036 \n",
       "29 32.84 %   --    \n",
       "30 67.16 %   --    \n",
       "31 ----      0.008 \n",
       "32 50.5 %    --    \n",
       "33 49.5 %    --    \n",
       "34 ----      <0.001\n",
       "35 66.27 %   --    \n",
       "36 33.73 %   --    \n",
       "37 ----      0.012 \n",
       "38 75.24 %   --    \n",
       "39 24.76 %   --    \n",
       "40 ----      0.005 \n",
       "41 64.53 %   --    \n",
       "42 35.47 %   --    \n",
       "43 ----      0.831 \n",
       "44 75.53 %   --    \n",
       "45 24.47 %   --    "
      ]
     },
     "metadata": {},
     "output_type": "display_data"
    }
   ],
   "source": [
    "dfs <- apply(VariableList, 1, function(Var) {weightedBVCalc(Var, Morbidity, \"adherence\")})\n",
    "MorbidityBV <- do.call(rbind, dfs)\n",
    "MorbidityBV\n",
    "write.csv(MorbidityBV,\"Misc/MorbidityBVrestricted.csv\")"
   ]
  },
  {
   "attachments": {},
   "cell_type": "markdown",
   "metadata": {},
   "source": [
    "# Logistic Regression Model"
   ]
  },
  {
   "attachments": {},
   "cell_type": "markdown",
   "metadata": {},
   "source": [
    "State and caste are not included in the logistic regression"
   ]
  },
  {
   "cell_type": "code",
   "execution_count": 61,
   "metadata": {
    "vscode": {
     "languageId": "r"
    }
   },
   "outputs": [],
   "source": [
    "VariableList <- matrix(\n",
    "\n",
    "    c(  \"age_category\", \"D\",    # age category\n",
    "        #\"wealthscore\", \"C\",     # wealthscore\n",
    "        \"quintile\",\"D\",         # wealth        \n",
    "        \"count_diseases\", \"C\",  # Number of Morbidities        \n",
    "        \"q0104\",  \"D\",          # rural/urban        \n",
    "        \"q3001\", \"D\",           # tobacco        \n",
    "        \"q2010\", \"D\",           # cognitive function\n",
    "        \"q1503\", \"D\",           # working\n",
    "        \"q1015\",  \"D\",          # schooling\n",
    "        \"q2018\",  \"D\",          # Depression, last 30 days\n",
    "        #\"q4040\",  \"D\",          # Clinical Depression\n",
    "        \"q2019\",  \"D\"           # Anxiety\n",
    "        #\"q4062\",  \"D\"          # Cataracts\n",
    "), ncol = 2, byrow = TRUE\n",
    ")"
   ]
  },
  {
   "cell_type": "code",
   "execution_count": 62,
   "metadata": {
    "vscode": {
     "languageId": "r"
    }
   },
   "outputs": [],
   "source": [
    "AnalysisData <- dplyr::select(morbidity, c(VariableList[,1],\"adherence\"))"
   ]
  },
  {
   "attachments": {},
   "cell_type": "markdown",
   "metadata": {},
   "source": [
    "The logistic regression needs Yes encoded as 1, and No as 0"
   ]
  },
  {
   "cell_type": "code",
   "execution_count": 63,
   "metadata": {
    "vscode": {
     "languageId": "r"
    }
   },
   "outputs": [],
   "source": [
    "AnalysisData$adherence <- dplyr::recode(AnalysisData$adherence, \"Yes\" = 1, \"No\" = 0)"
   ]
  },
  {
   "attachments": {},
   "cell_type": "markdown",
   "metadata": {},
   "source": [
    "## Remove NAs\n",
    "Ensure any column with more than 10% NA values is removed"
   ]
  },
  {
   "cell_type": "code",
   "execution_count": 64,
   "metadata": {
    "vscode": {
     "languageId": "r"
    }
   },
   "outputs": [],
   "source": [
    "ResponseRates <- AnalysisData %>% summarize_all(funs(100*(1-(sum(is.na(.)) / length(.)))))\n",
    "write.csv(ResponseRates ,\"Misc/ResponseRatesLogisticRegression.csv\")"
   ]
  },
  {
   "cell_type": "code",
   "execution_count": 65,
   "metadata": {
    "vscode": {
     "languageId": "r"
    }
   },
   "outputs": [
    {
     "data": {
      "text/html": [
       "<table class=\"dataframe\">\n",
       "<caption>A data.frame: 1 × 11</caption>\n",
       "<thead>\n",
       "\t<tr><th scope=col>age_category</th><th scope=col>quintile</th><th scope=col>count_diseases</th><th scope=col>q0104</th><th scope=col>q3001</th><th scope=col>q2010</th><th scope=col>q1503</th><th scope=col>q1015</th><th scope=col>q2018</th><th scope=col>q2019</th><th scope=col>adherence</th></tr>\n",
       "\t<tr><th scope=col>&lt;dbl&gt;</th><th scope=col>&lt;dbl&gt;</th><th scope=col>&lt;dbl&gt;</th><th scope=col>&lt;dbl&gt;</th><th scope=col>&lt;dbl&gt;</th><th scope=col>&lt;dbl&gt;</th><th scope=col>&lt;dbl&gt;</th><th scope=col>&lt;dbl&gt;</th><th scope=col>&lt;dbl&gt;</th><th scope=col>&lt;dbl&gt;</th><th scope=col>&lt;dbl&gt;</th></tr>\n",
       "</thead>\n",
       "<tbody>\n",
       "\t<tr><td>0</td><td>0</td><td>0</td><td>0</td><td>0</td><td>0</td><td>0.4978873</td><td>0</td><td>0</td><td>0</td><td>0</td></tr>\n",
       "</tbody>\n",
       "</table>\n"
      ],
      "text/latex": [
       "A data.frame: 1 × 11\n",
       "\\begin{tabular}{lllllllllll}\n",
       " age\\_category & quintile & count\\_diseases & q0104 & q3001 & q2010 & q1503 & q1015 & q2018 & q2019 & adherence\\\\\n",
       " <dbl> & <dbl> & <dbl> & <dbl> & <dbl> & <dbl> & <dbl> & <dbl> & <dbl> & <dbl> & <dbl>\\\\\n",
       "\\hline\n",
       "\t 0 & 0 & 0 & 0 & 0 & 0 & 0.4978873 & 0 & 0 & 0 & 0\\\\\n",
       "\\end{tabular}\n"
      ],
      "text/markdown": [
       "\n",
       "A data.frame: 1 × 11\n",
       "\n",
       "| age_category &lt;dbl&gt; | quintile &lt;dbl&gt; | count_diseases &lt;dbl&gt; | q0104 &lt;dbl&gt; | q3001 &lt;dbl&gt; | q2010 &lt;dbl&gt; | q1503 &lt;dbl&gt; | q1015 &lt;dbl&gt; | q2018 &lt;dbl&gt; | q2019 &lt;dbl&gt; | adherence &lt;dbl&gt; |\n",
       "|---|---|---|---|---|---|---|---|---|---|---|\n",
       "| 0 | 0 | 0 | 0 | 0 | 0 | 0.4978873 | 0 | 0 | 0 | 0 |\n",
       "\n"
      ],
      "text/plain": [
       "  age_category quintile count_diseases q0104 q3001 q2010 q1503     q1015 q2018\n",
       "1 0            0        0              0     0     0     0.4978873 0     0    \n",
       "  q2019 adherence\n",
       "1 0     0        "
      ]
     },
     "metadata": {},
     "output_type": "display_data"
    }
   ],
   "source": [
    "AnalysisData %>% summarize_all(funs(sum(is.na(.)) / length(.)))\n",
    "original_cols <- colnames(AnalysisData)"
   ]
  },
  {
   "cell_type": "code",
   "execution_count": 66,
   "metadata": {
    "vscode": {
     "languageId": "r"
    }
   },
   "outputs": [
    {
     "data": {
      "text/html": [
       "<table class=\"dataframe\">\n",
       "<caption>A data.frame: 1 × 10</caption>\n",
       "<thead>\n",
       "\t<tr><th scope=col>age_category</th><th scope=col>quintile</th><th scope=col>count_diseases</th><th scope=col>q0104</th><th scope=col>q3001</th><th scope=col>q2010</th><th scope=col>q1015</th><th scope=col>q2018</th><th scope=col>q2019</th><th scope=col>adherence</th></tr>\n",
       "\t<tr><th scope=col>&lt;dbl&gt;</th><th scope=col>&lt;dbl&gt;</th><th scope=col>&lt;dbl&gt;</th><th scope=col>&lt;dbl&gt;</th><th scope=col>&lt;dbl&gt;</th><th scope=col>&lt;dbl&gt;</th><th scope=col>&lt;dbl&gt;</th><th scope=col>&lt;dbl&gt;</th><th scope=col>&lt;dbl&gt;</th><th scope=col>&lt;dbl&gt;</th></tr>\n",
       "</thead>\n",
       "<tbody>\n",
       "\t<tr><td>0</td><td>0</td><td>0</td><td>0</td><td>0</td><td>0</td><td>0</td><td>0</td><td>0</td><td>0</td></tr>\n",
       "</tbody>\n",
       "</table>\n"
      ],
      "text/latex": [
       "A data.frame: 1 × 10\n",
       "\\begin{tabular}{llllllllll}\n",
       " age\\_category & quintile & count\\_diseases & q0104 & q3001 & q2010 & q1015 & q2018 & q2019 & adherence\\\\\n",
       " <dbl> & <dbl> & <dbl> & <dbl> & <dbl> & <dbl> & <dbl> & <dbl> & <dbl> & <dbl>\\\\\n",
       "\\hline\n",
       "\t 0 & 0 & 0 & 0 & 0 & 0 & 0 & 0 & 0 & 0\\\\\n",
       "\\end{tabular}\n"
      ],
      "text/markdown": [
       "\n",
       "A data.frame: 1 × 10\n",
       "\n",
       "| age_category &lt;dbl&gt; | quintile &lt;dbl&gt; | count_diseases &lt;dbl&gt; | q0104 &lt;dbl&gt; | q3001 &lt;dbl&gt; | q2010 &lt;dbl&gt; | q1015 &lt;dbl&gt; | q2018 &lt;dbl&gt; | q2019 &lt;dbl&gt; | adherence &lt;dbl&gt; |\n",
       "|---|---|---|---|---|---|---|---|---|---|\n",
       "| 0 | 0 | 0 | 0 | 0 | 0 | 0 | 0 | 0 | 0 |\n",
       "\n"
      ],
      "text/plain": [
       "  age_category quintile count_diseases q0104 q3001 q2010 q1015 q2018 q2019\n",
       "1 0            0        0              0     0     0     0     0     0    \n",
       "  adherence\n",
       "1 0        "
      ]
     },
     "metadata": {},
     "output_type": "display_data"
    },
    {
     "data": {
      "text/html": [
       "'Removed :q1503'"
      ],
      "text/latex": [
       "'Removed :q1503'"
      ],
      "text/markdown": [
       "'Removed :q1503'"
      ],
      "text/plain": [
       "[1] \"Removed :q1503\""
      ]
     },
     "metadata": {},
     "output_type": "display_data"
    }
   ],
   "source": [
    "AnalysisData <- AnalysisData[lapply(AnalysisData, function(x) mean(is.na(x))) < 0.1]\n",
    "AnalysisData %>% summarize_all(funs(sum(is.na(.)) / length(.)))\n",
    "final_cols <- colnames(AnalysisData)\n",
    "paste(\"Removed :\", setdiff(original_cols, final_cols), sep = \"\")"
   ]
  },
  {
   "attachments": {},
   "cell_type": "markdown",
   "metadata": {},
   "source": [
    "## Set reference categories"
   ]
  },
  {
   "cell_type": "code",
   "execution_count": 67,
   "metadata": {
    "vscode": {
     "languageId": "r"
    }
   },
   "outputs": [],
   "source": [
    "#AnalysisData <- within(AnalysisData, q4040 <- relevel(q4040, ref = \"No\"))\n",
    "#AnalysisData <- within(AnalysisData, q4062 <- relevel(q4062, ref = \"No\"))\n",
    "AnalysisData <- within(AnalysisData, q3001 <- relevel(q3001, ref = \"No\"))\n",
    "AnalysisData <- within(AnalysisData, q2018 <- relevel(q2018, ref = \"None/Mild\"))\n",
    "AnalysisData <- within(AnalysisData, q2019 <- relevel(q2019, ref = \"None/Mild\"))"
   ]
  },
  {
   "attachments": {},
   "cell_type": "markdown",
   "metadata": {},
   "source": [
    "## Set Wealth Quantiles as Discrete\n",
    "The wealth quintiles should be treated as a categorical variable instead of a continuous variable"
   ]
  },
  {
   "cell_type": "code",
   "execution_count": 68,
   "metadata": {
    "vscode": {
     "languageId": "r"
    }
   },
   "outputs": [],
   "source": [
    "AnalysisData$quintile <- as.factor(AnalysisData$quintile)"
   ]
  },
  {
   "attachments": {},
   "cell_type": "markdown",
   "metadata": {},
   "source": [
    "## Create Logistic regression"
   ]
  },
  {
   "cell_type": "code",
   "execution_count": 69,
   "metadata": {
    "vscode": {
     "languageId": "r"
    }
   },
   "outputs": [
    {
     "name": "stdout",
     "output_type": "stream",
     "text": [
      "\n",
      "==================================================\n",
      "                           Dependent variable:    \n",
      "                       ---------------------------\n",
      "                                adherence         \n",
      "--------------------------------------------------\n",
      "age_category> =50               2.020***          \n",
      "                             (1.511, 2.700)       \n",
      "                                                  \n",
      "count_diseases                  0.479***          \n",
      "                             (0.400, 0.573)       \n",
      "                                                  \n",
      "q0104Rural                       0.681**          \n",
      "                             (0.474, 0.978)       \n",
      "                                                  \n",
      "q3001Yes                         0.751**          \n",
      "                             (0.576, 0.978)       \n",
      "                                                  \n",
      "q2019Moderate or worse            0.829           \n",
      "                             (0.640, 1.073)       \n",
      "                                                  \n",
      "q1015No                         0.722***          \n",
      "                             (0.594, 0.877)       \n",
      "                                                  \n",
      "q2018Moderate or worse            0.917           \n",
      "                             (0.716, 1.173)       \n",
      "                                                  \n",
      "Constant                        2.757***          \n",
      "                             (1.717, 4.427)       \n",
      "                                                  \n",
      "--------------------------------------------------\n",
      "Observations                      2,840           \n",
      "Log Likelihood                 -1,993.837         \n",
      "Akaike Inf. Crit.               4,003.674         \n",
      "==================================================\n",
      "Note:                  *p<0.1; **p<0.05; ***p<0.01\n"
     ]
    }
   ],
   "source": [
    "logit1 <- (svyglm(adherence~age_category+count_diseases+q0104+q3001+q2019+q1015+q2018, family=binomial, design=Morbidity, na.action = na.omit))\n",
    "#summary(logit1)\n",
    "OR <- exp(coef(logit1))\n",
    "CI.OR.logit1<- as.matrix(exp(confint.default(logit1)))\n",
    "stargazer(logit1, coef=list(OR), ci.custom = list(CI.OR.logit1), t.auto=F, p.auto=F, ci = T, type = \"text\")"
   ]
  },
  {
   "attachments": {},
   "cell_type": "markdown",
   "metadata": {},
   "source": [
    "## Assess multicolinearity\n",
    "\n",
    "Multicolinearity is assesed using generalised variance inflation factors. For generalised inflation factors, the `GVIF^(1/(2*Df))` is comparable to VIF^(1/2) for standard continuous variables ([source](https://www.tandfonline.com/doi/abs/10.1080/01621459.1992.10475190#.U2jkTFdMzTo), [explanation](https://stats.stackexchange.com/a/96593)) and so a cutoff of 1.6 (2^(1/2)) can be applied:  [*VIFs of 2.5 or greater are generally considered indicative of considerable collinearity*](https://link.springer.com/article/10.1007/s11135-017-0584-6)"
   ]
  },
  {
   "attachments": {},
   "cell_type": "markdown",
   "metadata": {},
   "source": [
    "It can be seen that all the factors are sufficiently independent"
   ]
  },
  {
   "cell_type": "code",
   "execution_count": 70,
   "metadata": {
    "vscode": {
     "languageId": "r"
    }
   },
   "outputs": [
    {
     "data": {
      "text/html": [
       "<style>\n",
       ".dl-inline {width: auto; margin:0; padding: 0}\n",
       ".dl-inline>dt, .dl-inline>dd {float: none; width: auto; display: inline-block}\n",
       ".dl-inline>dt::after {content: \":\\0020\"; padding-right: .5ex}\n",
       ".dl-inline>dt:not(:first-of-type) {padding-left: .5ex}\n",
       "</style><dl class=dl-inline><dt>age_category</dt><dd>1.0818626607556</dd><dt>count_diseases</dt><dd>1.12814388798866</dd><dt>q0104</dt><dd>1.35294556326035</dd><dt>q3001</dt><dd>1.23700115258092</dd><dt>q2019</dt><dd>1.56729061765864</dd><dt>q1015</dt><dd>1.14772598009978</dd><dt>q2018</dt><dd>1.55239926667696</dd></dl>\n"
      ],
      "text/latex": [
       "\\begin{description*}\n",
       "\\item[age\\textbackslash{}\\_category] 1.0818626607556\n",
       "\\item[count\\textbackslash{}\\_diseases] 1.12814388798866\n",
       "\\item[q0104] 1.35294556326035\n",
       "\\item[q3001] 1.23700115258092\n",
       "\\item[q2019] 1.56729061765864\n",
       "\\item[q1015] 1.14772598009978\n",
       "\\item[q2018] 1.55239926667696\n",
       "\\end{description*}\n"
      ],
      "text/markdown": [
       "age_category\n",
       ":   1.0818626607556count_diseases\n",
       ":   1.12814388798866q0104\n",
       ":   1.35294556326035q3001\n",
       ":   1.23700115258092q2019\n",
       ":   1.56729061765864q1015\n",
       ":   1.14772598009978q2018\n",
       ":   1.55239926667696\n",
       "\n"
      ],
      "text/plain": [
       "  age_category count_diseases          q0104          q3001          q2019 \n",
       "      1.081863       1.128144       1.352946       1.237001       1.567291 \n",
       "         q1015          q2018 \n",
       "      1.147726       1.552399 "
      ]
     },
     "metadata": {},
     "output_type": "display_data"
    }
   ],
   "source": [
    "car::vif(logit1)"
   ]
  },
  {
   "attachments": {},
   "cell_type": "markdown",
   "metadata": {},
   "source": [
    "## Generate forest plot"
   ]
  },
  {
   "cell_type": "code",
   "execution_count": 71,
   "metadata": {
    "vscode": {
     "languageId": "r"
    }
   },
   "outputs": [],
   "source": [
    "#colnames(CI.OR)\n",
    "OR <- exp(coef(logit1)[2:length(coef(logit1))])\n",
    "LL<-CI.OR.logit1[,\"2.5 %\"][2:length(coef(logit1))]\n",
    "UL<-CI.OR.logit1[,\"97.5 %\"][2:length(coef(logit1))]"
   ]
  },
  {
   "cell_type": "code",
   "execution_count": 72,
   "metadata": {
    "vscode": {
     "languageId": "r"
    }
   },
   "outputs": [],
   "source": [
    "dat <- data.frame(\n",
    "  Index = 1:length(OR), ## This provides an order to the data\n",
    "  label = c(\"Age 50+ (ref. <50)\",\n",
    "  \"Number of Chronic Conditions\", \"Rural (ref. Urban)\",  \"Uses Tobacco (ref. None)\",\n",
    "   \"Feelings of anxiety: (moderate or worse) (ref. None/mild)\", \"Schooling: No (ref. Yes)\",\n",
    "   \"Feelings of depression: (moderate or worse) (ref. None/mild)\"),#, \"Age\"\n",
    "  OR = OR,\n",
    "  LL = LL,\n",
    "  UL = UL\n",
    ")"
   ]
  },
  {
   "cell_type": "code",
   "execution_count": 73,
   "metadata": {
    "vscode": {
     "languageId": "r"
    }
   },
   "outputs": [
    {
     "data": {
      "image/png": "[encoded data removed]",
      "text/plain": [
       "plot without title"
      ]
     },
     "metadata": {
      "image/png": {
       "height": 240,
       "width": 720
      }
     },
     "output_type": "display_data"
    }
   ],
   "source": [
    "plot1 <- ggplot(dat, aes(y = Index, x = OR)) +\n",
    "  theme(aspect.ratio = 10) +\n",
    "  geom_point(shape = 18, size = 5) +  \n",
    "  geom_errorbarh(aes(xmin = LL, xmax = UL), height = 0.25) +\n",
    "  geom_vline(xintercept = 1, color = \"red\", linetype = \"dashed\", cex = 1, alpha = 0.5) +\n",
    "  scale_y_continuous(name = \"\", breaks=1:length(OR), labels = dat$label, trans = \"reverse\", \n",
    "        sec.axis = sec_axis(~.,\n",
    "                    breaks = 1:length(OR),\n",
    "                    labels = paste(round(OR, 2), \n",
    "                        \" (\",round(LL, 2), \n",
    "                         \", \", round(UL,2), \")\", sep = \"\"  ))) +\n",
    "  xlab(\"Odds Ratio (95% CI)\") + \n",
    "  ylab(\" \") + \n",
    "  ggtitle(\"Factor Associated With Adherence\") +\n",
    "  labs(tag = \"Figure 1b\") +\n",
    "  theme_bw() +\n",
    "  theme(plot.title = element_text(hjust = -1),\n",
    "        plot.tag.position = \"bottom\",\n",
    "        plot.tag = element_text(face = \"bold\", size = 13), \n",
    "        panel.border = element_blank(),\n",
    "        panel.background = element_blank(),\n",
    "        panel.grid.major = element_blank(), \n",
    "        panel.grid.minor = element_blank(), \n",
    "        axis.line = element_line(colour = \"black\"),\n",
    "        axis.text.y = element_text(size = 12, colour = \"black\"),\n",
    "        axis.text.x.bottom = element_text(size = 12, colour = \"black\"),\n",
    "        axis.title.x = element_text(size = 12, colour = \"black\"))\n",
    "plot1\n",
    "ggsave(file=\"Figures/ForestPlotWeighted.jpg\", width=12, height=4, dpi=600)"
   ]
  },
  {
   "attachments": {},
   "cell_type": "markdown",
   "metadata": {},
   "source": [
    "## Alternative Model"
   ]
  },
  {
   "cell_type": "code",
   "execution_count": 74,
   "metadata": {
    "vscode": {
     "languageId": "r"
    }
   },
   "outputs": [
    {
     "name": "stdout",
     "output_type": "stream",
     "text": [
      "\n",
      "==================================================\n",
      "                           Dependent variable:    \n",
      "                       ---------------------------\n",
      "                                adherence         \n",
      "--------------------------------------------------\n",
      "quintile2                         1.072           \n",
      "                             (0.783, 1.466)       \n",
      "                                                  \n",
      "quintile3                       1.587***          \n",
      "                             (1.133, 2.223)       \n",
      "                                                  \n",
      "quintile4                         1.127           \n",
      "                             (0.804, 1.579)       \n",
      "                                                  \n",
      "quintile5                         1.284           \n",
      "                             (0.846, 1.949)       \n",
      "                                                  \n",
      "age_category> =50               2.021***          \n",
      "                             (1.508, 2.709)       \n",
      "                                                  \n",
      "count_diseases                  0.473***          \n",
      "                             (0.397, 0.563)       \n",
      "                                                  \n",
      "q0104Rural                       0.700*           \n",
      "                             (0.479, 1.024)       \n",
      "                                                  \n",
      "q3001Yes                         0.758**          \n",
      "                             (0.587, 0.980)       \n",
      "                                                  \n",
      "q2019Moderate or worse            0.843           \n",
      "                             (0.660, 1.078)       \n",
      "                                                  \n",
      "q1015No                         0.753***          \n",
      "                             (0.619, 0.915)       \n",
      "                                                  \n",
      "q2018Moderate or worse            0.901           \n",
      "                             (0.699, 1.160)       \n",
      "                                                  \n",
      "Constant                         2.220**          \n",
      "                             (1.202, 4.102)       \n",
      "                                                  \n",
      "--------------------------------------------------\n",
      "Observations                      2,840           \n",
      "Log Likelihood                 -1,985.572         \n",
      "Akaike Inf. Crit.               3,995.144         \n",
      "==================================================\n",
      "Note:                  *p<0.1; **p<0.05; ***p<0.01\n"
     ]
    }
   ],
   "source": [
    "logit2 <- (svyglm(adherence~quintile+age_category+count_diseases+q0104+q3001+q2019+q1015+q2018, family=binomial, design=Morbidity, na.action = na.omit))\n",
    "#summary(logit1)\n",
    "OR <- exp(coef(logit2))\n",
    "CI.OR.logit2<- as.matrix(exp(confint.default(logit2)))\n",
    "stargazer(logit2, coef=list(OR), ci.custom = list(CI.OR.logit2), t.auto=F, p.auto=F, ci = T, type = \"text\")"
   ]
  },
  {
   "cell_type": "code",
   "execution_count": 75,
   "metadata": {
    "vscode": {
     "languageId": "r"
    }
   },
   "outputs": [],
   "source": [
    "#colnames(CI.OR)\n",
    "OR <- exp(coef(logit2)[2:length(coef(logit2))])\n",
    "LL<-CI.OR.logit2[,\"2.5 %\"][2:length(coef(logit2))]\n",
    "UL<-CI.OR.logit2[,\"97.5 %\"][2:length(coef(logit2))]"
   ]
  },
  {
   "cell_type": "code",
   "execution_count": 76,
   "metadata": {
    "vscode": {
     "languageId": "r"
    }
   },
   "outputs": [],
   "source": [
    "dat <- data.frame(\n",
    "  Index = 1:length(OR), ## This provides an order to the data\n",
    "  label = c(\"Quintile: 2 (ref. 1)\", \"Quintile: 3 (ref. 1)\", \"Quintile: 4 (ref. 1)\", \"Quintile: 5 (ref. 1)\", \"Age 50+ (ref. <50)\", \n",
    "  \"Number of Chronic Conditions\", \"Rural (ref. Urban)\",  \"Uses Tobacco (ref. None)\",\n",
    "   \"Feelings of anxiety: (moderate or worse) (ref. None/mild)\", \"Schooling: No (ref. Yes)\",\n",
    "   \"Feelings of depression:  (moderate or worse) (ref. None/mild)\"),#, \"Age\"\n",
    "  OR = OR,\n",
    "  LL = LL,\n",
    "  UL = UL\n",
    ")"
   ]
  },
  {
   "cell_type": "code",
   "execution_count": 77,
   "metadata": {
    "vscode": {
     "languageId": "r"
    }
   },
   "outputs": [
    {
     "data": {
      "image/png": "[encoded data removed]",
      "text/plain": [
       "plot without title"
      ]
     },
     "metadata": {
      "image/png": {
       "height": 240,
       "width": 720
      }
     },
     "output_type": "display_data"
    }
   ],
   "source": [
    "plot2 <- ggplot(dat, aes(y = Index, x = OR)) +\n",
    "  theme(aspect.ratio = 10) +\n",
    "  geom_point(shape = 18, size = 5) +  \n",
    "  geom_errorbarh(aes(xmin = LL, xmax = UL), height = 0.25) +\n",
    "  geom_vline(xintercept = 1, color = \"red\", linetype = \"dashed\", cex = 1, alpha = 0.5) +\n",
    "  scale_y_continuous(name = \" \", breaks=1:length(OR), labels = dat$label, trans = \"reverse\", \n",
    "        sec.axis = sec_axis(~.,\n",
    "                    breaks = 1:length(OR),\n",
    "                    labels = paste(round(OR, 2), \n",
    "                        \" (\",round(LL, 2), \n",
    "                         \", \", round(UL,2), \")\", sep = \"\"  ))) +\n",
    "  xlab(\"Odds Ratio (95% CI)\") + \n",
    "  ylab(\" \") + \n",
    "  ggtitle(\"Factor Associated With Adherence\") +\n",
    "  labs(tag = \"Figure 1a\") +\n",
    "  theme_bw() +\n",
    "  theme(plot.title = element_text(hjust = -1),\n",
    "        plot.tag.position = \"bottom\",\n",
    "        plot.tag = element_text(face = \"bold\", size = 13), \n",
    "        panel.border = element_blank(),\n",
    "        panel.background = element_blank(),\n",
    "        panel.grid.major = element_blank(), \n",
    "        panel.grid.minor = element_blank(), \n",
    "        axis.line = element_line(colour = \"black\"),\n",
    "        axis.text.y = element_text(size = 12, colour = \"black\"),\n",
    "        axis.text.x.bottom = element_text(size = 12, colour = \"black\"),\n",
    "        axis.title.x = element_text(size = 12, colour = \"black\"))\n",
    "plot2\n",
    "ggsave(file=\"Figures/ForestPlotWeighted2.jpg\", width=12, height=4, dpi=600)"
   ]
  },
  {
   "cell_type": "code",
   "execution_count": 78,
   "metadata": {
    "vscode": {
     "languageId": "r"
    }
   },
   "outputs": [
    {
     "data": {
      "text/html": [
       "<table class=\"dataframe\">\n",
       "<caption>A matrix: 8 × 3 of type dbl</caption>\n",
       "<thead>\n",
       "\t<tr><th></th><th scope=col>GVIF</th><th scope=col>Df</th><th scope=col>GVIF^(1/(2*Df))</th></tr>\n",
       "</thead>\n",
       "<tbody>\n",
       "\t<tr><th scope=row>quintile</th><td>2.475783</td><td>4</td><td>1.119990</td></tr>\n",
       "\t<tr><th scope=row>age_category</th><td>1.100118</td><td>1</td><td>1.048865</td></tr>\n",
       "\t<tr><th scope=row>count_diseases</th><td>1.144813</td><td>1</td><td>1.069959</td></tr>\n",
       "\t<tr><th scope=row>q0104</th><td>1.606342</td><td>1</td><td>1.267416</td></tr>\n",
       "\t<tr><th scope=row>q3001</th><td>1.221629</td><td>1</td><td>1.105273</td></tr>\n",
       "\t<tr><th scope=row>q2019</th><td>1.679779</td><td>1</td><td>1.296063</td></tr>\n",
       "\t<tr><th scope=row>q1015</th><td>1.201497</td><td>1</td><td>1.096128</td></tr>\n",
       "\t<tr><th scope=row>q2018</th><td>1.749590</td><td>1</td><td>1.322721</td></tr>\n",
       "</tbody>\n",
       "</table>\n"
      ],
      "text/latex": [
       "A matrix: 8 × 3 of type dbl\n",
       "\\begin{tabular}{r|lll}\n",
       "  & GVIF & Df & GVIF\\textasciicircum{}(1/(2*Df))\\\\\n",
       "\\hline\n",
       "\tquintile & 2.475783 & 4 & 1.119990\\\\\n",
       "\tage\\_category & 1.100118 & 1 & 1.048865\\\\\n",
       "\tcount\\_diseases & 1.144813 & 1 & 1.069959\\\\\n",
       "\tq0104 & 1.606342 & 1 & 1.267416\\\\\n",
       "\tq3001 & 1.221629 & 1 & 1.105273\\\\\n",
       "\tq2019 & 1.679779 & 1 & 1.296063\\\\\n",
       "\tq1015 & 1.201497 & 1 & 1.096128\\\\\n",
       "\tq2018 & 1.749590 & 1 & 1.322721\\\\\n",
       "\\end{tabular}\n"
      ],
      "text/markdown": [
       "\n",
       "A matrix: 8 × 3 of type dbl\n",
       "\n",
       "| <!--/--> | GVIF | Df | GVIF^(1/(2*Df)) |\n",
       "|---|---|---|---|\n",
       "| quintile | 2.475783 | 4 | 1.119990 |\n",
       "| age_category | 1.100118 | 1 | 1.048865 |\n",
       "| count_diseases | 1.144813 | 1 | 1.069959 |\n",
       "| q0104 | 1.606342 | 1 | 1.267416 |\n",
       "| q3001 | 1.221629 | 1 | 1.105273 |\n",
       "| q2019 | 1.679779 | 1 | 1.296063 |\n",
       "| q1015 | 1.201497 | 1 | 1.096128 |\n",
       "| q2018 | 1.749590 | 1 | 1.322721 |\n",
       "\n"
      ],
      "text/plain": [
       "               GVIF     Df GVIF^(1/(2*Df))\n",
       "quintile       2.475783 4  1.119990       \n",
       "age_category   1.100118 1  1.048865       \n",
       "count_diseases 1.144813 1  1.069959       \n",
       "q0104          1.606342 1  1.267416       \n",
       "q3001          1.221629 1  1.105273       \n",
       "q2019          1.679779 1  1.296063       \n",
       "q1015          1.201497 1  1.096128       \n",
       "q2018          1.749590 1  1.322721       "
      ]
     },
     "metadata": {},
     "output_type": "display_data"
    }
   ],
   "source": [
    "car::vif(logit2)"
   ]
  },
  {
   "cell_type": "code",
   "execution_count": 79,
   "metadata": {
    "vscode": {
     "languageId": "r"
    }
   },
   "outputs": [],
   "source": [
    "options(repr.plot.width = 12, repr.plot.height = 8)"
   ]
  },
  {
   "cell_type": "code",
   "execution_count": 80,
   "metadata": {
    "vscode": {
     "languageId": "r"
    }
   },
   "outputs": [
    {
     "data": {
      "image/png": "[encoded data removed]",
      "text/plain": [
       "plot without title"
      ]
     },
     "metadata": {
      "image/png": {
       "height": 480,
       "width": 720
      }
     },
     "output_type": "display_data"
    }
   ],
   "source": [
    "combined_plot <- ggarrange(plot2,\n",
    "                           plot1,\n",
    "                           nrow = 2,\n",
    "                           ncol = 1) \n",
    "combined_plot\n",
    "ggsave(file=\"Figures/ForestPlotWeightedCombined.jpg\", width=12, height=8, dpi=600)"
   ]
  },
  {
   "attachments": {},
   "cell_type": "markdown",
   "metadata": {},
   "source": [
    "# Unweighted Analysis"
   ]
  },
  {
   "cell_type": "code",
   "execution_count": 81,
   "metadata": {
    "vscode": {
     "languageId": "r"
    }
   },
   "outputs": [],
   "source": [
    "BVCalc <- function(variable, disease, adherenceQ){\n",
    "    Name <- attr(disease[ ,variable[1]], \"label\")\n",
    "\n",
    "    \n",
    "    if (variable[2] == \"D\"){\n",
    "        AnalysisTable <- table(disease[ ,variable[1]], disease[ ,adherenceQ])\n",
    "        AnalysisTable <- AnalysisTable[,c('No', 'Yes')]\n",
    "        AnalysisTable <- AnalysisTable[rowSums(AnalysisTable[])>0,] # remove empty rows\n",
    "        MarginTable <- margin.table(AnalysisTable,c(1,2))\n",
    "        PropTable <- 100*prop.table(AnalysisTable, margin = 2)\n",
    "        p.value <- summary(AnalysisTable)$p.value\n",
    "        if (p.value < 0.001){\n",
    "            p.value <- paste('<0.001')\n",
    "        } else {\n",
    "            p.value <- paste(round(p.value, 3))\n",
    "        }\n",
    "        RowNames <- row.names(PropTable)\n",
    "        Title <- c(paste(Name, ' [n (%)]', sep = '' ), '----', '----', p.value)\n",
    "        fx <- lapply(RowNames, function(x) {\n",
    "            name <- paste0('~~~', x, sep = '')\n",
    "            nonAdhering <- paste(MarginTable[x, 'No'], \n",
    "            ' (',round(PropTable[x, 'No'], 2), ' %)', sep = '')\n",
    "            adhering <- paste(MarginTable[x, 'Yes'], \n",
    "            ' (',round(PropTable[x, 'Yes'], 2), ' %)', sep = '')\n",
    "            pval = paste('--')\n",
    "            data.frame(\n",
    "                Name = name,\n",
    "                Nonadhering = nonAdhering,\n",
    "                Adhering = adhering,\n",
    "                Pvalue = pval,\n",
    "                stringsAsFactors=FALSE\n",
    "        )\n",
    "        })\n",
    "        output_dataframe <- do.call(rbind, fx)\n",
    "        output_dataframe <- rbind(Title, output_dataframe)        \n",
    "    }\n",
    "    if (variable[2] == \"C\"){ #t-test is applicable here https://thestatsgeek.com/2013/09/28/the-t-test-and-robustness-to-non-normality/\n",
    "        adh<-subset(disease, disease[,adherenceQ]==\"Yes\")\n",
    "        adh <- adh[,variable[1]]\n",
    "        ndh<-subset(disease, disease[,adherenceQ]==\"No\")\n",
    "        ndh <- ndh[,variable[1]]\n",
    "        adhering <- paste(signif(mean(adh, na.rm=TRUE),2), ' (',signif(sd(adh, na.rm=TRUE),2) , ')', sep = '')\n",
    "        nonAdhering <- paste(signif(mean(ndh, na.rm=TRUE),2), ' (',signif(sd(ndh, na.rm=TRUE),2) , ')', sep = '')\n",
    "        p.value <- t.test(adh, ndh, var.equal = FALSE)$p.value\n",
    "        if (p.value < 0.001){\n",
    "            p.value <- paste('<0.001')\n",
    "        } else {\n",
    "            p.value <- paste(round(p.value, 3))\n",
    "        }\n",
    "        Title <- data.frame(\n",
    "                Name = paste(Name, ' [mean (SD)]', sep = '' ),\n",
    "                Nonadhering = nonAdhering,\n",
    "                Adhering = adhering,\n",
    "                Pvalue = p.value,\n",
    "                stringsAsFactors=FALSE\n",
    "        )\n",
    "        output_dataframe <- Title   \n",
    "    }\n",
    "\n",
    "    \n",
    "\n",
    "    output_dataframe           \n",
    "\n",
    "}"
   ]
  },
  {
   "cell_type": "code",
   "execution_count": 82,
   "metadata": {
    "vscode": {
     "languageId": "r"
    }
   },
   "outputs": [],
   "source": [
    "PropFunc <- function(diseaseStr, question){\n",
    "    disease <- eval(parse(text = diseaseStr))\n",
    "    total <- length(disease[,question])\n",
    "    name <- diseaseStr\n",
    "    AnalysisTable <- table(disease[,question])\n",
    "    #AnalysisTable <- AnalysisTable[c('No', 'Yes')]\n",
    "    PropTable <- prop.table(AnalysisTable)\n",
    "    \n",
    "    output_dataframe <- data.frame(\n",
    "                Name = name,\n",
    "                No = paste(AnalysisTable['No'], ' (', round(100*PropTable['No'],2), ' %)', sep = ''),\n",
    "                Yes = paste(AnalysisTable['Yes'], ' (', round(100*PropTable['Yes'],2), ' %)', sep = ''),\n",
    "                Total = total,\n",
    "                stringsAsFactors=FALSE\n",
    "        )\n",
    "    \n",
    "\n",
    "    output_dataframe           \n",
    "\n",
    "}"
   ]
  },
  {
   "cell_type": "code",
   "execution_count": 83,
   "metadata": {
    "vscode": {
     "languageId": "r"
    }
   },
   "outputs": [],
   "source": [
    "VariableList <- matrix(\n",
    "# disease and question\n",
    "    c(     \"morbidity\", \"adherence\",\n",
    "           \"multimorbid\", \"adherence\",\n",
    "           \"unimorbid\", \"adherence\",\n",
    "        # Chronic conditions\n",
    "           \"angina\",  \"q4015a\", # Angina\n",
    "         \"diabetes\",  \"q4023a\", # Diabetes\n",
    "           \"asthma\",  \"q4034a\", # Asthma\n",
    "\"hypertension\",  \"q4061a\", # Hypertension\n",
    "           \"stroke\",  \"q4011a\", # Stroke\n",
    "      \"lungDisease\",  \"q4026a\", # Lung Disease\n",
    "       \"depression\",  \"q4041a\" # Clinical Depression\n",
    "\n",
    "), ncol = 2, byrow = TRUE\n",
    ")"
   ]
  },
  {
   "cell_type": "code",
   "execution_count": 84,
   "metadata": {
    "vscode": {
     "languageId": "r"
    }
   },
   "outputs": [
    {
     "data": {
      "text/html": [
       "<table class=\"dataframe\">\n",
       "<caption>A data.frame: 10 × 4</caption>\n",
       "<thead>\n",
       "\t<tr><th scope=col>Name</th><th scope=col>No</th><th scope=col>Yes</th><th scope=col>Total</th></tr>\n",
       "\t<tr><th scope=col>&lt;chr&gt;</th><th scope=col>&lt;chr&gt;</th><th scope=col>&lt;chr&gt;</th><th scope=col>&lt;int&gt;</th></tr>\n",
       "</thead>\n",
       "<tbody>\n",
       "\t<tr><td>morbidity   </td><td>1422 (50.07 %)</td><td>1418 (49.93 %)</td><td>2840</td></tr>\n",
       "\t<tr><td>multimorbid </td><td>491 (61.15 %) </td><td>312 (38.85 %) </td><td> 803</td></tr>\n",
       "\t<tr><td>unimorbid   </td><td>931 (45.7 %)  </td><td>1106 (54.3 %) </td><td>2037</td></tr>\n",
       "\t<tr><td>angina      </td><td>98 (35.25 %)  </td><td>180 (64.75 %) </td><td> 278</td></tr>\n",
       "\t<tr><td>diabetes    </td><td>286 (36.57 %) </td><td>496 (63.43 %) </td><td> 783</td></tr>\n",
       "\t<tr><td>asthma      </td><td>185 (42.33 %) </td><td>252 (57.67 %) </td><td> 439</td></tr>\n",
       "\t<tr><td>hypertension</td><td>754 (42.7 %)  </td><td>1012 (57.3 %) </td><td>1768</td></tr>\n",
       "\t<tr><td>stroke      </td><td>96 (47.52 %)  </td><td>106 (52.48 %) </td><td> 202</td></tr>\n",
       "\t<tr><td>lungDisease </td><td>104 (57.46 %) </td><td>77 (42.54 %)  </td><td> 182</td></tr>\n",
       "\t<tr><td>depression  </td><td>161 (70.93 %) </td><td>66 (29.07 %)  </td><td> 227</td></tr>\n",
       "</tbody>\n",
       "</table>\n"
      ],
      "text/latex": [
       "A data.frame: 10 × 4\n",
       "\\begin{tabular}{llll}\n",
       " Name & No & Yes & Total\\\\\n",
       " <chr> & <chr> & <chr> & <int>\\\\\n",
       "\\hline\n",
       "\t morbidity    & 1422 (50.07 \\%) & 1418 (49.93 \\%) & 2840\\\\\n",
       "\t multimorbid  & 491 (61.15 \\%)  & 312 (38.85 \\%)  &  803\\\\\n",
       "\t unimorbid    & 931 (45.7 \\%)   & 1106 (54.3 \\%)  & 2037\\\\\n",
       "\t angina       & 98 (35.25 \\%)   & 180 (64.75 \\%)  &  278\\\\\n",
       "\t diabetes     & 286 (36.57 \\%)  & 496 (63.43 \\%)  &  783\\\\\n",
       "\t asthma       & 185 (42.33 \\%)  & 252 (57.67 \\%)  &  439\\\\\n",
       "\t hypertension & 754 (42.7 \\%)   & 1012 (57.3 \\%)  & 1768\\\\\n",
       "\t stroke       & 96 (47.52 \\%)   & 106 (52.48 \\%)  &  202\\\\\n",
       "\t lungDisease  & 104 (57.46 \\%)  & 77 (42.54 \\%)   &  182\\\\\n",
       "\t depression   & 161 (70.93 \\%)  & 66 (29.07 \\%)   &  227\\\\\n",
       "\\end{tabular}\n"
      ],
      "text/markdown": [
       "\n",
       "A data.frame: 10 × 4\n",
       "\n",
       "| Name &lt;chr&gt; | No &lt;chr&gt; | Yes &lt;chr&gt; | Total &lt;int&gt; |\n",
       "|---|---|---|---|\n",
       "| morbidity    | 1422 (50.07 %) | 1418 (49.93 %) | 2840 |\n",
       "| multimorbid  | 491 (61.15 %)  | 312 (38.85 %)  |  803 |\n",
       "| unimorbid    | 931 (45.7 %)   | 1106 (54.3 %)  | 2037 |\n",
       "| angina       | 98 (35.25 %)   | 180 (64.75 %)  |  278 |\n",
       "| diabetes     | 286 (36.57 %)  | 496 (63.43 %)  |  783 |\n",
       "| asthma       | 185 (42.33 %)  | 252 (57.67 %)  |  439 |\n",
       "| hypertension | 754 (42.7 %)   | 1012 (57.3 %)  | 1768 |\n",
       "| stroke       | 96 (47.52 %)   | 106 (52.48 %)  |  202 |\n",
       "| lungDisease  | 104 (57.46 %)  | 77 (42.54 %)   |  182 |\n",
       "| depression   | 161 (70.93 %)  | 66 (29.07 %)   |  227 |\n",
       "\n"
      ],
      "text/plain": [
       "   Name         No             Yes            Total\n",
       "1  morbidity    1422 (50.07 %) 1418 (49.93 %) 2840 \n",
       "2  multimorbid  491 (61.15 %)  312 (38.85 %)   803 \n",
       "3  unimorbid    931 (45.7 %)   1106 (54.3 %)  2037 \n",
       "4  angina       98 (35.25 %)   180 (64.75 %)   278 \n",
       "5  diabetes     286 (36.57 %)  496 (63.43 %)   783 \n",
       "6  asthma       185 (42.33 %)  252 (57.67 %)   439 \n",
       "7  hypertension 754 (42.7 %)   1012 (57.3 %)  1768 \n",
       "8  stroke       96 (47.52 %)   106 (52.48 %)   202 \n",
       "9  lungDisease  104 (57.46 %)  77 (42.54 %)    182 \n",
       "10 depression   161 (70.93 %)  66 (29.07 %)    227 "
      ]
     },
     "metadata": {},
     "output_type": "display_data"
    }
   ],
   "source": [
    "dfs <- apply(VariableList, 1, function(Var) { PropFunc(Var[1],  Var[2]) } )\n",
    "weightedDiseaseAdh <- do.call(rbind, dfs)\n",
    "weightedDiseaseAdh\n",
    "write.csv(weightedDiseaseAdh,\"Misc/unweightedAdherence_by_Disease.csv\")"
   ]
  },
  {
   "cell_type": "code",
   "execution_count": 85,
   "metadata": {
    "vscode": {
     "languageId": "r"
    }
   },
   "outputs": [],
   "source": [
    "VariableList <- matrix(\n",
    "# disease and question\n",
    "    c(     \"morbidity\", \"twelve_adherence\",\n",
    "            \"adherent\", \"twelve_adherence\",\n",
    "            \"nonadherent\", \"twelve_adherence\"\n",
    "), ncol = 2, byrow = TRUE\n",
    ")"
   ]
  },
  {
   "cell_type": "code",
   "execution_count": 86,
   "metadata": {
    "vscode": {
     "languageId": "r"
    }
   },
   "outputs": [
    {
     "data": {
      "text/html": [
       "<table class=\"dataframe\">\n",
       "<caption>A data.frame: 3 × 4</caption>\n",
       "<thead>\n",
       "\t<tr><th scope=col>Name</th><th scope=col>No</th><th scope=col>Yes</th><th scope=col>Total</th></tr>\n",
       "\t<tr><th scope=col>&lt;chr&gt;</th><th scope=col>&lt;chr&gt;</th><th scope=col>&lt;chr&gt;</th><th scope=col>&lt;int&gt;</th></tr>\n",
       "</thead>\n",
       "<tbody>\n",
       "\t<tr><td>morbidity  </td><td>1313 (46.23 %)</td><td>1527 (53.77 %)</td><td>2840</td></tr>\n",
       "\t<tr><td>adherent   </td><td>235 (3.05 %)  </td><td>7459 (96.95 %)</td><td>7694</td></tr>\n",
       "\t<tr><td>nonadherent</td><td>1079 (75.88 %)</td><td>343 (24.12 %) </td><td>1422</td></tr>\n",
       "</tbody>\n",
       "</table>\n"
      ],
      "text/latex": [
       "A data.frame: 3 × 4\n",
       "\\begin{tabular}{llll}\n",
       " Name & No & Yes & Total\\\\\n",
       " <chr> & <chr> & <chr> & <int>\\\\\n",
       "\\hline\n",
       "\t morbidity   & 1313 (46.23 \\%) & 1527 (53.77 \\%) & 2840\\\\\n",
       "\t adherent    & 235 (3.05 \\%)   & 7459 (96.95 \\%) & 7694\\\\\n",
       "\t nonadherent & 1079 (75.88 \\%) & 343 (24.12 \\%)  & 1422\\\\\n",
       "\\end{tabular}\n"
      ],
      "text/markdown": [
       "\n",
       "A data.frame: 3 × 4\n",
       "\n",
       "| Name &lt;chr&gt; | No &lt;chr&gt; | Yes &lt;chr&gt; | Total &lt;int&gt; |\n",
       "|---|---|---|---|\n",
       "| morbidity   | 1313 (46.23 %) | 1527 (53.77 %) | 2840 |\n",
       "| adherent    | 235 (3.05 %)   | 7459 (96.95 %) | 7694 |\n",
       "| nonadherent | 1079 (75.88 %) | 343 (24.12 %)  | 1422 |\n",
       "\n"
      ],
      "text/plain": [
       "  Name        No             Yes            Total\n",
       "1 morbidity   1313 (46.23 %) 1527 (53.77 %) 2840 \n",
       "2 adherent    235 (3.05 %)   7459 (96.95 %) 7694 \n",
       "3 nonadherent 1079 (75.88 %) 343 (24.12 %)  1422 "
      ]
     },
     "metadata": {},
     "output_type": "display_data"
    }
   ],
   "source": [
    "dfs <- apply(VariableList, 1, function(Var) { PropFunc(Var[1],  Var[2]) } )\n",
    "weightedDiseaseAdh <- do.call(rbind, dfs)\n",
    "weightedDiseaseAdh\n",
    "write.csv(weightedDiseaseAdh,\"Misc/unweighted12MAdherence_by_Disease.csv\")"
   ]
  },
  {
   "cell_type": "code",
   "execution_count": 87,
   "metadata": {
    "vscode": {
     "languageId": "r"
    }
   },
   "outputs": [],
   "source": [
    "# D, C for discrete vs continuous\n",
    "\n",
    "VariableList <- matrix(\n",
    "\n",
    "    c(  #\"q1011\", \"C\", # age\n",
    "        \"age_category\", \"D\", # age category\n",
    "        \"q1009\",  \"D\", # gender\n",
    "        \"quintile\",\"D\", # wealth quintile     \n",
    "        #\"wealthscore\",\"C\", # wealth score    \n",
    "        \"count_diseases\", \"C\", # Number of Morbidities        \n",
    "        \"q0104\",  \"D\", # rural/urban\n",
    "        \"q0105a\", \"D\", # state   \n",
    "        \"q1012\",  \"D\", # current marital status         \n",
    "        \"q1019_\", \"D\", # Religion        \n",
    "        \"q1018_\", \"D\", # Caste        \n",
    "        \"q3001\", \"D\", # tobacco        \n",
    "        \"q3008\", \"D\", # alcohol\n",
    "        \"q2000\", \"D\", # self reported health\n",
    "        \"q2010\", \"D\", # cognitive function\n",
    "        \"q2002\", \"D\", # physical function\n",
    "        \"q8062\", \"D\", # community support\n",
    "        \"q1503\", \"D\", # working\n",
    "        \"q5004\", \"D\", # PHC\n",
    "        \"q1015\",  \"D\", # schooling\n",
    "        \"q1016_\", \"D\", # Highest level of schooling\n",
    "        \"q2018\",  \"D\", # Depression, last 30 days\n",
    "        #\"q4040\",  \"D\", # Clinical Depression\n",
    "        \"q2019\",  \"D\", # Anxiety\n",
    "        \"q4062\",  \"D\", # Cataracts\n",
    "        \"q7002\", \"D\" # Subjective wealth\n",
    "), ncol = 2, byrow = TRUE\n",
    ")"
   ]
  },
  {
   "cell_type": "code",
   "execution_count": 88,
   "metadata": {
    "vscode": {
     "languageId": "r"
    }
   },
   "outputs": [
    {
     "data": {
      "text/html": [
       "<table class=\"dataframe\">\n",
       "<caption>A data.frame: 82 × 4</caption>\n",
       "<thead>\n",
       "\t<tr><th scope=col>Name</th><th scope=col>Nonadhering</th><th scope=col>Adhering</th><th scope=col>Pvalue</th></tr>\n",
       "\t<tr><th scope=col>&lt;chr&gt;</th><th scope=col>&lt;chr&gt;</th><th scope=col>&lt;chr&gt;</th><th scope=col>&lt;chr&gt;</th></tr>\n",
       "</thead>\n",
       "<tbody>\n",
       "\t<tr><td><span style=white-space:pre-wrap>Age Group [n (%)]                       </span></td><td><span style=white-space:pre-wrap>----          </span></td><td><span style=white-space:pre-wrap>----          </span></td><td>&lt;0.001</td></tr>\n",
       "\t<tr><td><span style=white-space:pre-wrap>~~~&lt;50                                  </span></td><td>218 (15.33 %) </td><td><span style=white-space:pre-wrap>119 (8.39 %)  </span></td><td><span style=white-space:pre-wrap>--    </span></td></tr>\n",
       "\t<tr><td><span style=white-space:pre-wrap>~~~&gt;=50                                 </span></td><td>1204 (84.67 %)</td><td>1299 (91.61 %)</td><td><span style=white-space:pre-wrap>--    </span></td></tr>\n",
       "\t<tr><td>Sex of the respondent [n (%)]           </td><td>----          </td><td>----          </td><td>0.165 </td></tr>\n",
       "\t<tr><td>~~~Male                                 </td><td>637 (44.8 %)  </td><td>672 (47.39 %) </td><td>--    </td></tr>\n",
       "\t<tr><td>~~~Female                               </td><td>785 (55.2 %)  </td><td>746 (52.61 %) </td><td>--    </td></tr>\n",
       "\t<tr><td><span style=white-space:pre-wrap>5 quantiles of wealthscore [n (%)]      </span></td><td><span style=white-space:pre-wrap>----          </span></td><td><span style=white-space:pre-wrap>----          </span></td><td>&lt;0.001</td></tr>\n",
       "\t<tr><td>~~~1                                    </td><td>236 (16.6 %)  </td><td>174 (12.27 %) </td><td>--    </td></tr>\n",
       "\t<tr><td>~~~2                                    </td><td>263 (18.5 %)  </td><td>205 (14.46 %) </td><td>--    </td></tr>\n",
       "\t<tr><td>~~~3                                    </td><td>235 (16.53 %) </td><td>264 (18.62 %) </td><td>--    </td></tr>\n",
       "\t<tr><td>~~~4                                    </td><td>305 (21.45 %) </td><td>308 (21.72 %) </td><td>--    </td></tr>\n",
       "\t<tr><td>~~~5                                    </td><td>383 (26.93 %) </td><td>467 (32.93 %) </td><td>--    </td></tr>\n",
       "\t<tr><td>Number of Chronic Conditions [mean (SD)]</td><td><span style=white-space:pre-wrap>1.5 (0.76)    </span></td><td><span style=white-space:pre-wrap>1.3 (0.53)    </span></td><td>&lt;0.001</td></tr>\n",
       "\t<tr><td><span style=white-space:pre-wrap>Place of residence [n (%)]              </span></td><td><span style=white-space:pre-wrap>----          </span></td><td><span style=white-space:pre-wrap>----          </span></td><td>&lt;0.001</td></tr>\n",
       "\t<tr><td>~~~Urban                                </td><td>317 (22.29 %) </td><td>461 (32.51 %) </td><td>--    </td></tr>\n",
       "\t<tr><td>~~~Rural                                </td><td>1105 (77.71 %)</td><td>957 (67.49 %) </td><td>--    </td></tr>\n",
       "\t<tr><td><span style=white-space:pre-wrap>Region [n (%)]                          </span></td><td><span style=white-space:pre-wrap>----          </span></td><td><span style=white-space:pre-wrap>----          </span></td><td>&lt;0.001</td></tr>\n",
       "\t<tr><td>~~~ASSAM                                </td><td>274 (19.27 %) </td><td>105 (7.4 %)   </td><td>--    </td></tr>\n",
       "\t<tr><td>~~~KARNATAKA                            </td><td>118 (8.3 %)   </td><td>254 (17.91 %) </td><td>--    </td></tr>\n",
       "\t<tr><td>~~~MAHARASHTRA                          </td><td>194 (13.64 %) </td><td>220 (15.51 %) </td><td>--    </td></tr>\n",
       "\t<tr><td>~~~RAJASTHAN                            </td><td>395 (27.78 %) </td><td>282 (19.89 %) </td><td>--    </td></tr>\n",
       "\t<tr><td>~~~UTTAR PRADESH                        </td><td>201 (14.14 %) </td><td>193 (13.61 %) </td><td>--    </td></tr>\n",
       "\t<tr><td>~~~WEST BENGAL                          </td><td>240 (16.88 %) </td><td>364 (25.67 %) </td><td>--    </td></tr>\n",
       "\t<tr><td>Current Marital Status [n (%)]          </td><td>----          </td><td>----          </td><td>0.523 </td></tr>\n",
       "\t<tr><td>~~~Currently Married                    </td><td>1042 (73.28 %)</td><td>1054 (74.33 %)</td><td>--    </td></tr>\n",
       "\t<tr><td>~~~Not Currently Married                </td><td>380 (26.72 %) </td><td>364 (25.67 %) </td><td>--    </td></tr>\n",
       "\t<tr><td>Religion [n (%)]                        </td><td>----          </td><td>----          </td><td>0.637 </td></tr>\n",
       "\t<tr><td>~~~Hinduism                             </td><td>1158 (81.43 %)</td><td>1173 (82.72 %)</td><td>--    </td></tr>\n",
       "\t<tr><td>~~~Islam                                </td><td>195 (13.71 %) </td><td>184 (12.98 %) </td><td>--    </td></tr>\n",
       "\t<tr><td>~~~Other / None                         </td><td>69 (4.85 %)   </td><td>61 (4.3 %)    </td><td>--    </td></tr>\n",
       "\t<tr><td>⋮</td><td>⋮</td><td>⋮</td><td>⋮</td></tr>\n",
       "\t<tr><td><span style=white-space:pre-wrap>Currently working [n (%)]                         </span></td><td><span style=white-space:pre-wrap>----          </span></td><td><span style=white-space:pre-wrap>----          </span></td><td>&lt;0.001</td></tr>\n",
       "\t<tr><td>~~~Yes                                            </td><td>426 (61.38 %) </td><td>359 (49.04 %) </td><td>--    </td></tr>\n",
       "\t<tr><td>~~~No                                             </td><td>268 (38.62 %) </td><td>373 (50.96 %) </td><td>--    </td></tr>\n",
       "\t<tr><td>Health care provider [n (%)]                      </td><td>----          </td><td>----          </td><td>0.682 </td></tr>\n",
       "\t<tr><td>~~~Private                                        </td><td>435 (55.56 %) </td><td>483 (57.43 %) </td><td>--    </td></tr>\n",
       "\t<tr><td>~~~Public                                         </td><td>281 (35.89 %) </td><td>284 (33.77 %) </td><td>--    </td></tr>\n",
       "\t<tr><td>~~~Community                                      </td><td>37 (4.73 %)   </td><td>46 (5.47 %)   </td><td>--    </td></tr>\n",
       "\t<tr><td>~~~Other                                          </td><td>30 (3.83 %)   </td><td>28 (3.33 %)   </td><td>--    </td></tr>\n",
       "\t<tr><td><span style=white-space:pre-wrap>Ever Been to School [n (%)]                       </span></td><td><span style=white-space:pre-wrap>----          </span></td><td><span style=white-space:pre-wrap>----          </span></td><td>&lt;0.001</td></tr>\n",
       "\t<tr><td>~~~Yes                                            </td><td>780 (54.85 %) </td><td>887 (62.55 %) </td><td>--    </td></tr>\n",
       "\t<tr><td>~~~No                                             </td><td>642 (45.15 %) </td><td>531 (37.45 %) </td><td>--    </td></tr>\n",
       "\t<tr><td>Level of Education [n (%)]                        </td><td>----          </td><td>----          </td><td>0.7   </td></tr>\n",
       "\t<tr><td>~~~Less than primary school/don't know            </td><td>194 (24.87 %) </td><td>224 (25.25 %) </td><td>--    </td></tr>\n",
       "\t<tr><td>~~~Secondary school and below                     </td><td>373 (47.82 %) </td><td>407 (45.89 %) </td><td>--    </td></tr>\n",
       "\t<tr><td>~~~Past secondary school                          </td><td>213 (27.31 %) </td><td>256 (28.86 %) </td><td>--    </td></tr>\n",
       "\t<tr><td>Feeling sad/low/depression [n (%)]                </td><td>----          </td><td>----          </td><td>0.005 </td></tr>\n",
       "\t<tr><td>~~~None/Mild                                      </td><td>996 (70.04 %) </td><td>1060 (74.75 %)</td><td>--    </td></tr>\n",
       "\t<tr><td>~~~Moderate or worse                              </td><td>426 (29.96 %) </td><td>358 (25.25 %) </td><td>--    </td></tr>\n",
       "\t<tr><td><span style=white-space:pre-wrap>Worry or anxiety [n (%)]                          </span></td><td><span style=white-space:pre-wrap>----          </span></td><td><span style=white-space:pre-wrap>----          </span></td><td>&lt;0.001</td></tr>\n",
       "\t<tr><td>~~~None/Mild                                      </td><td>802 (56.4 %)  </td><td>909 (64.1 %)  </td><td>--    </td></tr>\n",
       "\t<tr><td>~~~Moderate or worse                              </td><td>620 (43.6 %)  </td><td>509 (35.9 %)  </td><td>--    </td></tr>\n",
       "\t<tr><td>Cataracts- New Sample (Chronic Conditions) [n (%)]</td><td>----          </td><td>----          </td><td>0.022 </td></tr>\n",
       "\t<tr><td>~~~No                                             </td><td>1103 (77.62 %)</td><td>1047 (73.94 %)</td><td>--    </td></tr>\n",
       "\t<tr><td>~~~Yes                                            </td><td>318 (22.38 %) </td><td>369 (26.06 %) </td><td>--    </td></tr>\n",
       "\t<tr><td>Money to meed needs [n (%)]                       </td><td>----          </td><td>----          </td><td>0.343 </td></tr>\n",
       "\t<tr><td>~~~Completely                                     </td><td>118 (8.31 %)  </td><td>148 (10.44 %) </td><td>--    </td></tr>\n",
       "\t<tr><td>~~~Mostly                                         </td><td>238 (16.76 %) </td><td>224 (15.81 %) </td><td>--    </td></tr>\n",
       "\t<tr><td>~~~Moderately                                     </td><td>656 (46.2 %)  </td><td>659 (46.51 %) </td><td>--    </td></tr>\n",
       "\t<tr><td>~~~A little                                       </td><td>310 (21.83 %) </td><td>290 (20.47 %) </td><td>--    </td></tr>\n",
       "\t<tr><td>~~~None at all                                    </td><td>98 (6.9 %)    </td><td>96 (6.77 %)   </td><td>--    </td></tr>\n",
       "</tbody>\n",
       "</table>\n"
      ],
      "text/latex": [
       "A data.frame: 82 × 4\n",
       "\\begin{tabular}{llll}\n",
       " Name & Nonadhering & Adhering & Pvalue\\\\\n",
       " <chr> & <chr> & <chr> & <chr>\\\\\n",
       "\\hline\n",
       "\t Age Group {[}n (\\%){]}                        & ----           & ----           & <0.001\\\\\n",
       "\t \\textasciitilde{}\\textasciitilde{}\\textasciitilde{}<50                                   & 218 (15.33 \\%)  & 119 (8.39 \\%)   & --    \\\\\n",
       "\t \\textasciitilde{}\\textasciitilde{}\\textasciitilde{}>=50                                  & 1204 (84.67 \\%) & 1299 (91.61 \\%) & --    \\\\\n",
       "\t Sex of the respondent {[}n (\\%){]}            & ----           & ----           & 0.165 \\\\\n",
       "\t \\textasciitilde{}\\textasciitilde{}\\textasciitilde{}Male                                  & 637 (44.8 \\%)   & 672 (47.39 \\%)  & --    \\\\\n",
       "\t \\textasciitilde{}\\textasciitilde{}\\textasciitilde{}Female                                & 785 (55.2 \\%)   & 746 (52.61 \\%)  & --    \\\\\n",
       "\t 5 quantiles of wealthscore {[}n (\\%){]}       & ----           & ----           & <0.001\\\\\n",
       "\t \\textasciitilde{}\\textasciitilde{}\\textasciitilde{}1                                     & 236 (16.6 \\%)   & 174 (12.27 \\%)  & --    \\\\\n",
       "\t \\textasciitilde{}\\textasciitilde{}\\textasciitilde{}2                                     & 263 (18.5 \\%)   & 205 (14.46 \\%)  & --    \\\\\n",
       "\t \\textasciitilde{}\\textasciitilde{}\\textasciitilde{}3                                     & 235 (16.53 \\%)  & 264 (18.62 \\%)  & --    \\\\\n",
       "\t \\textasciitilde{}\\textasciitilde{}\\textasciitilde{}4                                     & 305 (21.45 \\%)  & 308 (21.72 \\%)  & --    \\\\\n",
       "\t \\textasciitilde{}\\textasciitilde{}\\textasciitilde{}5                                     & 383 (26.93 \\%)  & 467 (32.93 \\%)  & --    \\\\\n",
       "\t Number of Chronic Conditions {[}mean (SD){]} & 1.5 (0.76)     & 1.3 (0.53)     & <0.001\\\\\n",
       "\t Place of residence {[}n (\\%){]}               & ----           & ----           & <0.001\\\\\n",
       "\t \\textasciitilde{}\\textasciitilde{}\\textasciitilde{}Urban                                 & 317 (22.29 \\%)  & 461 (32.51 \\%)  & --    \\\\\n",
       "\t \\textasciitilde{}\\textasciitilde{}\\textasciitilde{}Rural                                 & 1105 (77.71 \\%) & 957 (67.49 \\%)  & --    \\\\\n",
       "\t Region {[}n (\\%){]}                           & ----           & ----           & <0.001\\\\\n",
       "\t \\textasciitilde{}\\textasciitilde{}\\textasciitilde{}ASSAM                                 & 274 (19.27 \\%)  & 105 (7.4 \\%)    & --    \\\\\n",
       "\t \\textasciitilde{}\\textasciitilde{}\\textasciitilde{}KARNATAKA                             & 118 (8.3 \\%)    & 254 (17.91 \\%)  & --    \\\\\n",
       "\t \\textasciitilde{}\\textasciitilde{}\\textasciitilde{}MAHARASHTRA                           & 194 (13.64 \\%)  & 220 (15.51 \\%)  & --    \\\\\n",
       "\t \\textasciitilde{}\\textasciitilde{}\\textasciitilde{}RAJASTHAN                             & 395 (27.78 \\%)  & 282 (19.89 \\%)  & --    \\\\\n",
       "\t \\textasciitilde{}\\textasciitilde{}\\textasciitilde{}UTTAR PRADESH                         & 201 (14.14 \\%)  & 193 (13.61 \\%)  & --    \\\\\n",
       "\t \\textasciitilde{}\\textasciitilde{}\\textasciitilde{}WEST BENGAL                           & 240 (16.88 \\%)  & 364 (25.67 \\%)  & --    \\\\\n",
       "\t Current Marital Status {[}n (\\%){]}           & ----           & ----           & 0.523 \\\\\n",
       "\t \\textasciitilde{}\\textasciitilde{}\\textasciitilde{}Currently Married                     & 1042 (73.28 \\%) & 1054 (74.33 \\%) & --    \\\\\n",
       "\t \\textasciitilde{}\\textasciitilde{}\\textasciitilde{}Not Currently Married                 & 380 (26.72 \\%)  & 364 (25.67 \\%)  & --    \\\\\n",
       "\t Religion {[}n (\\%){]}                         & ----           & ----           & 0.637 \\\\\n",
       "\t \\textasciitilde{}\\textasciitilde{}\\textasciitilde{}Hinduism                              & 1158 (81.43 \\%) & 1173 (82.72 \\%) & --    \\\\\n",
       "\t \\textasciitilde{}\\textasciitilde{}\\textasciitilde{}Islam                                 & 195 (13.71 \\%)  & 184 (12.98 \\%)  & --    \\\\\n",
       "\t \\textasciitilde{}\\textasciitilde{}\\textasciitilde{}Other / None                          & 69 (4.85 \\%)    & 61 (4.3 \\%)     & --    \\\\\n",
       "\t ⋮ & ⋮ & ⋮ & ⋮\\\\\n",
       "\t Currently working {[}n (\\%){]}                          & ----           & ----           & <0.001\\\\\n",
       "\t \\textasciitilde{}\\textasciitilde{}\\textasciitilde{}Yes                                             & 426 (61.38 \\%)  & 359 (49.04 \\%)  & --    \\\\\n",
       "\t \\textasciitilde{}\\textasciitilde{}\\textasciitilde{}No                                              & 268 (38.62 \\%)  & 373 (50.96 \\%)  & --    \\\\\n",
       "\t Health care provider {[}n (\\%){]}                       & ----           & ----           & 0.682 \\\\\n",
       "\t \\textasciitilde{}\\textasciitilde{}\\textasciitilde{}Private                                         & 435 (55.56 \\%)  & 483 (57.43 \\%)  & --    \\\\\n",
       "\t \\textasciitilde{}\\textasciitilde{}\\textasciitilde{}Public                                          & 281 (35.89 \\%)  & 284 (33.77 \\%)  & --    \\\\\n",
       "\t \\textasciitilde{}\\textasciitilde{}\\textasciitilde{}Community                                       & 37 (4.73 \\%)    & 46 (5.47 \\%)    & --    \\\\\n",
       "\t \\textasciitilde{}\\textasciitilde{}\\textasciitilde{}Other                                           & 30 (3.83 \\%)    & 28 (3.33 \\%)    & --    \\\\\n",
       "\t Ever Been to School {[}n (\\%){]}                        & ----           & ----           & <0.001\\\\\n",
       "\t \\textasciitilde{}\\textasciitilde{}\\textasciitilde{}Yes                                             & 780 (54.85 \\%)  & 887 (62.55 \\%)  & --    \\\\\n",
       "\t \\textasciitilde{}\\textasciitilde{}\\textasciitilde{}No                                              & 642 (45.15 \\%)  & 531 (37.45 \\%)  & --    \\\\\n",
       "\t Level of Education {[}n (\\%){]}                         & ----           & ----           & 0.7   \\\\\n",
       "\t \\textasciitilde{}\\textasciitilde{}\\textasciitilde{}Less than primary school/don't know             & 194 (24.87 \\%)  & 224 (25.25 \\%)  & --    \\\\\n",
       "\t \\textasciitilde{}\\textasciitilde{}\\textasciitilde{}Secondary school and below                      & 373 (47.82 \\%)  & 407 (45.89 \\%)  & --    \\\\\n",
       "\t \\textasciitilde{}\\textasciitilde{}\\textasciitilde{}Past secondary school                           & 213 (27.31 \\%)  & 256 (28.86 \\%)  & --    \\\\\n",
       "\t Feeling sad/low/depression {[}n (\\%){]}                 & ----           & ----           & 0.005 \\\\\n",
       "\t \\textasciitilde{}\\textasciitilde{}\\textasciitilde{}None/Mild                                       & 996 (70.04 \\%)  & 1060 (74.75 \\%) & --    \\\\\n",
       "\t \\textasciitilde{}\\textasciitilde{}\\textasciitilde{}Moderate or worse                               & 426 (29.96 \\%)  & 358 (25.25 \\%)  & --    \\\\\n",
       "\t Worry or anxiety {[}n (\\%){]}                           & ----           & ----           & <0.001\\\\\n",
       "\t \\textasciitilde{}\\textasciitilde{}\\textasciitilde{}None/Mild                                       & 802 (56.4 \\%)   & 909 (64.1 \\%)   & --    \\\\\n",
       "\t \\textasciitilde{}\\textasciitilde{}\\textasciitilde{}Moderate or worse                               & 620 (43.6 \\%)   & 509 (35.9 \\%)   & --    \\\\\n",
       "\t Cataracts- New Sample (Chronic Conditions) {[}n (\\%){]} & ----           & ----           & 0.022 \\\\\n",
       "\t \\textasciitilde{}\\textasciitilde{}\\textasciitilde{}No                                              & 1103 (77.62 \\%) & 1047 (73.94 \\%) & --    \\\\\n",
       "\t \\textasciitilde{}\\textasciitilde{}\\textasciitilde{}Yes                                             & 318 (22.38 \\%)  & 369 (26.06 \\%)  & --    \\\\\n",
       "\t Money to meed needs {[}n (\\%){]}                        & ----           & ----           & 0.343 \\\\\n",
       "\t \\textasciitilde{}\\textasciitilde{}\\textasciitilde{}Completely                                      & 118 (8.31 \\%)   & 148 (10.44 \\%)  & --    \\\\\n",
       "\t \\textasciitilde{}\\textasciitilde{}\\textasciitilde{}Mostly                                          & 238 (16.76 \\%)  & 224 (15.81 \\%)  & --    \\\\\n",
       "\t \\textasciitilde{}\\textasciitilde{}\\textasciitilde{}Moderately                                      & 656 (46.2 \\%)   & 659 (46.51 \\%)  & --    \\\\\n",
       "\t \\textasciitilde{}\\textasciitilde{}\\textasciitilde{}A little                                        & 310 (21.83 \\%)  & 290 (20.47 \\%)  & --    \\\\\n",
       "\t \\textasciitilde{}\\textasciitilde{}\\textasciitilde{}None at all                                     & 98 (6.9 \\%)     & 96 (6.77 \\%)    & --    \\\\\n",
       "\\end{tabular}\n"
      ],
      "text/markdown": [
       "\n",
       "A data.frame: 82 × 4\n",
       "\n",
       "| Name &lt;chr&gt; | Nonadhering &lt;chr&gt; | Adhering &lt;chr&gt; | Pvalue &lt;chr&gt; |\n",
       "|---|---|---|---|\n",
       "| Age Group [n (%)]                        | ----           | ----           | &lt;0.001 |\n",
       "| ~~~&lt;50                                   | 218 (15.33 %)  | 119 (8.39 %)   | --     |\n",
       "| ~~~&gt;=50                                  | 1204 (84.67 %) | 1299 (91.61 %) | --     |\n",
       "| Sex of the respondent [n (%)]            | ----           | ----           | 0.165  |\n",
       "| ~~~Male                                  | 637 (44.8 %)   | 672 (47.39 %)  | --     |\n",
       "| ~~~Female                                | 785 (55.2 %)   | 746 (52.61 %)  | --     |\n",
       "| 5 quantiles of wealthscore [n (%)]       | ----           | ----           | &lt;0.001 |\n",
       "| ~~~1                                     | 236 (16.6 %)   | 174 (12.27 %)  | --     |\n",
       "| ~~~2                                     | 263 (18.5 %)   | 205 (14.46 %)  | --     |\n",
       "| ~~~3                                     | 235 (16.53 %)  | 264 (18.62 %)  | --     |\n",
       "| ~~~4                                     | 305 (21.45 %)  | 308 (21.72 %)  | --     |\n",
       "| ~~~5                                     | 383 (26.93 %)  | 467 (32.93 %)  | --     |\n",
       "| Number of Chronic Conditions [mean (SD)] | 1.5 (0.76)     | 1.3 (0.53)     | &lt;0.001 |\n",
       "| Place of residence [n (%)]               | ----           | ----           | &lt;0.001 |\n",
       "| ~~~Urban                                 | 317 (22.29 %)  | 461 (32.51 %)  | --     |\n",
       "| ~~~Rural                                 | 1105 (77.71 %) | 957 (67.49 %)  | --     |\n",
       "| Region [n (%)]                           | ----           | ----           | &lt;0.001 |\n",
       "| ~~~ASSAM                                 | 274 (19.27 %)  | 105 (7.4 %)    | --     |\n",
       "| ~~~KARNATAKA                             | 118 (8.3 %)    | 254 (17.91 %)  | --     |\n",
       "| ~~~MAHARASHTRA                           | 194 (13.64 %)  | 220 (15.51 %)  | --     |\n",
       "| ~~~RAJASTHAN                             | 395 (27.78 %)  | 282 (19.89 %)  | --     |\n",
       "| ~~~UTTAR PRADESH                         | 201 (14.14 %)  | 193 (13.61 %)  | --     |\n",
       "| ~~~WEST BENGAL                           | 240 (16.88 %)  | 364 (25.67 %)  | --     |\n",
       "| Current Marital Status [n (%)]           | ----           | ----           | 0.523  |\n",
       "| ~~~Currently Married                     | 1042 (73.28 %) | 1054 (74.33 %) | --     |\n",
       "| ~~~Not Currently Married                 | 380 (26.72 %)  | 364 (25.67 %)  | --     |\n",
       "| Religion [n (%)]                         | ----           | ----           | 0.637  |\n",
       "| ~~~Hinduism                              | 1158 (81.43 %) | 1173 (82.72 %) | --     |\n",
       "| ~~~Islam                                 | 195 (13.71 %)  | 184 (12.98 %)  | --     |\n",
       "| ~~~Other / None                          | 69 (4.85 %)    | 61 (4.3 %)     | --     |\n",
       "| ⋮ | ⋮ | ⋮ | ⋮ |\n",
       "| Currently working [n (%)]                          | ----           | ----           | &lt;0.001 |\n",
       "| ~~~Yes                                             | 426 (61.38 %)  | 359 (49.04 %)  | --     |\n",
       "| ~~~No                                              | 268 (38.62 %)  | 373 (50.96 %)  | --     |\n",
       "| Health care provider [n (%)]                       | ----           | ----           | 0.682  |\n",
       "| ~~~Private                                         | 435 (55.56 %)  | 483 (57.43 %)  | --     |\n",
       "| ~~~Public                                          | 281 (35.89 %)  | 284 (33.77 %)  | --     |\n",
       "| ~~~Community                                       | 37 (4.73 %)    | 46 (5.47 %)    | --     |\n",
       "| ~~~Other                                           | 30 (3.83 %)    | 28 (3.33 %)    | --     |\n",
       "| Ever Been to School [n (%)]                        | ----           | ----           | &lt;0.001 |\n",
       "| ~~~Yes                                             | 780 (54.85 %)  | 887 (62.55 %)  | --     |\n",
       "| ~~~No                                              | 642 (45.15 %)  | 531 (37.45 %)  | --     |\n",
       "| Level of Education [n (%)]                         | ----           | ----           | 0.7    |\n",
       "| ~~~Less than primary school/don't know             | 194 (24.87 %)  | 224 (25.25 %)  | --     |\n",
       "| ~~~Secondary school and below                      | 373 (47.82 %)  | 407 (45.89 %)  | --     |\n",
       "| ~~~Past secondary school                           | 213 (27.31 %)  | 256 (28.86 %)  | --     |\n",
       "| Feeling sad/low/depression [n (%)]                 | ----           | ----           | 0.005  |\n",
       "| ~~~None/Mild                                       | 996 (70.04 %)  | 1060 (74.75 %) | --     |\n",
       "| ~~~Moderate or worse                               | 426 (29.96 %)  | 358 (25.25 %)  | --     |\n",
       "| Worry or anxiety [n (%)]                           | ----           | ----           | &lt;0.001 |\n",
       "| ~~~None/Mild                                       | 802 (56.4 %)   | 909 (64.1 %)   | --     |\n",
       "| ~~~Moderate or worse                               | 620 (43.6 %)   | 509 (35.9 %)   | --     |\n",
       "| Cataracts- New Sample (Chronic Conditions) [n (%)] | ----           | ----           | 0.022  |\n",
       "| ~~~No                                              | 1103 (77.62 %) | 1047 (73.94 %) | --     |\n",
       "| ~~~Yes                                             | 318 (22.38 %)  | 369 (26.06 %)  | --     |\n",
       "| Money to meed needs [n (%)]                        | ----           | ----           | 0.343  |\n",
       "| ~~~Completely                                      | 118 (8.31 %)   | 148 (10.44 %)  | --     |\n",
       "| ~~~Mostly                                          | 238 (16.76 %)  | 224 (15.81 %)  | --     |\n",
       "| ~~~Moderately                                      | 656 (46.2 %)   | 659 (46.51 %)  | --     |\n",
       "| ~~~A little                                        | 310 (21.83 %)  | 290 (20.47 %)  | --     |\n",
       "| ~~~None at all                                     | 98 (6.9 %)     | 96 (6.77 %)    | --     |\n",
       "\n"
      ],
      "text/plain": [
       "   Name                                               Nonadhering   \n",
       "1  Age Group [n (%)]                                  ----          \n",
       "2  ~~~<50                                             218 (15.33 %) \n",
       "3  ~~~>=50                                            1204 (84.67 %)\n",
       "4  Sex of the respondent [n (%)]                      ----          \n",
       "5  ~~~Male                                            637 (44.8 %)  \n",
       "6  ~~~Female                                          785 (55.2 %)  \n",
       "7  5 quantiles of wealthscore [n (%)]                 ----          \n",
       "8  ~~~1                                               236 (16.6 %)  \n",
       "9  ~~~2                                               263 (18.5 %)  \n",
       "10 ~~~3                                               235 (16.53 %) \n",
       "11 ~~~4                                               305 (21.45 %) \n",
       "12 ~~~5                                               383 (26.93 %) \n",
       "13 Number of Chronic Conditions [mean (SD)]           1.5 (0.76)    \n",
       "14 Place of residence [n (%)]                         ----          \n",
       "15 ~~~Urban                                           317 (22.29 %) \n",
       "16 ~~~Rural                                           1105 (77.71 %)\n",
       "17 Region [n (%)]                                     ----          \n",
       "18 ~~~ASSAM                                           274 (19.27 %) \n",
       "19 ~~~KARNATAKA                                       118 (8.3 %)   \n",
       "20 ~~~MAHARASHTRA                                     194 (13.64 %) \n",
       "21 ~~~RAJASTHAN                                       395 (27.78 %) \n",
       "22 ~~~UTTAR PRADESH                                   201 (14.14 %) \n",
       "23 ~~~WEST BENGAL                                     240 (16.88 %) \n",
       "24 Current Marital Status [n (%)]                     ----          \n",
       "25 ~~~Currently Married                               1042 (73.28 %)\n",
       "26 ~~~Not Currently Married                           380 (26.72 %) \n",
       "27 Religion [n (%)]                                   ----          \n",
       "28 ~~~Hinduism                                        1158 (81.43 %)\n",
       "29 ~~~Islam                                           195 (13.71 %) \n",
       "30 ~~~Other / None                                    69 (4.85 %)   \n",
       "⋮  ⋮                                                  ⋮             \n",
       "53 Currently working [n (%)]                          ----          \n",
       "54 ~~~Yes                                             426 (61.38 %) \n",
       "55 ~~~No                                              268 (38.62 %) \n",
       "56 Health care provider [n (%)]                       ----          \n",
       "57 ~~~Private                                         435 (55.56 %) \n",
       "58 ~~~Public                                          281 (35.89 %) \n",
       "59 ~~~Community                                       37 (4.73 %)   \n",
       "60 ~~~Other                                           30 (3.83 %)   \n",
       "61 Ever Been to School [n (%)]                        ----          \n",
       "62 ~~~Yes                                             780 (54.85 %) \n",
       "63 ~~~No                                              642 (45.15 %) \n",
       "64 Level of Education [n (%)]                         ----          \n",
       "65 ~~~Less than primary school/don't know             194 (24.87 %) \n",
       "66 ~~~Secondary school and below                      373 (47.82 %) \n",
       "67 ~~~Past secondary school                           213 (27.31 %) \n",
       "68 Feeling sad/low/depression [n (%)]                 ----          \n",
       "69 ~~~None/Mild                                       996 (70.04 %) \n",
       "70 ~~~Moderate or worse                               426 (29.96 %) \n",
       "71 Worry or anxiety [n (%)]                           ----          \n",
       "72 ~~~None/Mild                                       802 (56.4 %)  \n",
       "73 ~~~Moderate or worse                               620 (43.6 %)  \n",
       "74 Cataracts- New Sample (Chronic Conditions) [n (%)] ----          \n",
       "75 ~~~No                                              1103 (77.62 %)\n",
       "76 ~~~Yes                                             318 (22.38 %) \n",
       "77 Money to meed needs [n (%)]                        ----          \n",
       "78 ~~~Completely                                      118 (8.31 %)  \n",
       "79 ~~~Mostly                                          238 (16.76 %) \n",
       "80 ~~~Moderately                                      656 (46.2 %)  \n",
       "81 ~~~A little                                        310 (21.83 %) \n",
       "82 ~~~None at all                                     98 (6.9 %)    \n",
       "   Adhering       Pvalue\n",
       "1  ----           <0.001\n",
       "2  119 (8.39 %)   --    \n",
       "3  1299 (91.61 %) --    \n",
       "4  ----           0.165 \n",
       "5  672 (47.39 %)  --    \n",
       "6  746 (52.61 %)  --    \n",
       "7  ----           <0.001\n",
       "8  174 (12.27 %)  --    \n",
       "9  205 (14.46 %)  --    \n",
       "10 264 (18.62 %)  --    \n",
       "11 308 (21.72 %)  --    \n",
       "12 467 (32.93 %)  --    \n",
       "13 1.3 (0.53)     <0.001\n",
       "14 ----           <0.001\n",
       "15 461 (32.51 %)  --    \n",
       "16 957 (67.49 %)  --    \n",
       "17 ----           <0.001\n",
       "18 105 (7.4 %)    --    \n",
       "19 254 (17.91 %)  --    \n",
       "20 220 (15.51 %)  --    \n",
       "21 282 (19.89 %)  --    \n",
       "22 193 (13.61 %)  --    \n",
       "23 364 (25.67 %)  --    \n",
       "24 ----           0.523 \n",
       "25 1054 (74.33 %) --    \n",
       "26 364 (25.67 %)  --    \n",
       "27 ----           0.637 \n",
       "28 1173 (82.72 %) --    \n",
       "29 184 (12.98 %)  --    \n",
       "30 61 (4.3 %)     --    \n",
       "⋮  ⋮              ⋮     \n",
       "53 ----           <0.001\n",
       "54 359 (49.04 %)  --    \n",
       "55 373 (50.96 %)  --    \n",
       "56 ----           0.682 \n",
       "57 483 (57.43 %)  --    \n",
       "58 284 (33.77 %)  --    \n",
       "59 46 (5.47 %)    --    \n",
       "60 28 (3.33 %)    --    \n",
       "61 ----           <0.001\n",
       "62 887 (62.55 %)  --    \n",
       "63 531 (37.45 %)  --    \n",
       "64 ----           0.7   \n",
       "65 224 (25.25 %)  --    \n",
       "66 407 (45.89 %)  --    \n",
       "67 256 (28.86 %)  --    \n",
       "68 ----           0.005 \n",
       "69 1060 (74.75 %) --    \n",
       "70 358 (25.25 %)  --    \n",
       "71 ----           <0.001\n",
       "72 909 (64.1 %)   --    \n",
       "73 509 (35.9 %)   --    \n",
       "74 ----           0.022 \n",
       "75 1047 (73.94 %) --    \n",
       "76 369 (26.06 %)  --    \n",
       "77 ----           0.343 \n",
       "78 148 (10.44 %)  --    \n",
       "79 224 (15.81 %)  --    \n",
       "80 659 (46.51 %)  --    \n",
       "81 290 (20.47 %)  --    \n",
       "82 96 (6.77 %)    --    "
      ]
     },
     "metadata": {},
     "output_type": "display_data"
    }
   ],
   "source": [
    "dfs <- apply(VariableList, 1, function(Var) {BVCalc(Var, morbidity, \"adherence\")})\n",
    "MorbidityBV <- do.call(rbind, dfs)\n",
    "MorbidityBV\n",
    "write.csv(MorbidityBV,\"Supplementary2/MorbidityUnweightedBV.csv\")"
   ]
  },
  {
   "cell_type": "code",
   "execution_count": 89,
   "metadata": {
    "vscode": {
     "languageId": "r"
    }
   },
   "outputs": [
    {
     "data": {
      "text/html": [
       "<table class=\"dataframe\">\n",
       "<caption>A data.frame: 82 × 4</caption>\n",
       "<thead>\n",
       "\t<tr><th scope=col>Name</th><th scope=col>Nonadhering</th><th scope=col>Adhering</th><th scope=col>Pvalue</th></tr>\n",
       "\t<tr><th scope=col>&lt;chr&gt;</th><th scope=col>&lt;chr&gt;</th><th scope=col>&lt;chr&gt;</th><th scope=col>&lt;chr&gt;</th></tr>\n",
       "</thead>\n",
       "<tbody>\n",
       "\t<tr><td><span style=white-space:pre-wrap> [n (%)]                </span></td><td><span style=white-space:pre-wrap>----         </span></td><td><span style=white-space:pre-wrap>----         </span></td><td>&lt;0.001</td></tr>\n",
       "\t<tr><td><span style=white-space:pre-wrap>~~~&lt;50                  </span></td><td><span style=white-space:pre-wrap>54 (11 %)    </span></td><td><span style=white-space:pre-wrap>9 (2.88 %)   </span></td><td><span style=white-space:pre-wrap>--    </span></td></tr>\n",
       "\t<tr><td><span style=white-space:pre-wrap>~~~&gt;=50                 </span></td><td><span style=white-space:pre-wrap>437 (89 %)   </span></td><td>303 (97.12 %)</td><td><span style=white-space:pre-wrap>--    </span></td></tr>\n",
       "\t<tr><td> [n (%)]                </td><td>----         </td><td>----         </td><td>0.116 </td></tr>\n",
       "\t<tr><td>~~~Male                 </td><td>227 (46.23 %)</td><td>162 (51.92 %)</td><td>--    </td></tr>\n",
       "\t<tr><td>~~~Female               </td><td>264 (53.77 %)</td><td>150 (48.08 %)</td><td>--    </td></tr>\n",
       "\t<tr><td> [n (%)]                </td><td>----         </td><td>----         </td><td>0.207 </td></tr>\n",
       "\t<tr><td>~~~1                    </td><td>72 (14.66 %) </td><td>29 (9.29 %)  </td><td>--    </td></tr>\n",
       "\t<tr><td>~~~2                    </td><td>76 (15.48 %) </td><td>44 (14.1 %)  </td><td>--    </td></tr>\n",
       "\t<tr><td>~~~3                    </td><td>77 (15.68 %) </td><td>56 (17.95 %) </td><td>--    </td></tr>\n",
       "\t<tr><td>~~~4                    </td><td>91 (18.53 %) </td><td>62 (19.87 %) </td><td>--    </td></tr>\n",
       "\t<tr><td>~~~5                    </td><td>175 (35.64 %)</td><td>121 (38.78 %)</td><td>--    </td></tr>\n",
       "\t<tr><td><span style=white-space:pre-wrap> [mean (SD)]            </span></td><td><span style=white-space:pre-wrap>2.4 (0.68)   </span></td><td><span style=white-space:pre-wrap>2.2 (0.44)   </span></td><td>&lt;0.001</td></tr>\n",
       "\t<tr><td><span style=white-space:pre-wrap> [n (%)]                </span></td><td><span style=white-space:pre-wrap>----         </span></td><td><span style=white-space:pre-wrap>----         </span></td><td>&lt;0.001</td></tr>\n",
       "\t<tr><td>~~~Urban                </td><td>141 (28.72 %)</td><td>127 (40.71 %)</td><td>--    </td></tr>\n",
       "\t<tr><td>~~~Rural                </td><td>350 (71.28 %)</td><td>185 (59.29 %)</td><td>--    </td></tr>\n",
       "\t<tr><td><span style=white-space:pre-wrap> [n (%)]                </span></td><td><span style=white-space:pre-wrap>----         </span></td><td><span style=white-space:pre-wrap>----         </span></td><td>&lt;0.001</td></tr>\n",
       "\t<tr><td>~~~ASSAM                </td><td>93 (18.94 %) </td><td>12 (3.85 %)  </td><td>--    </td></tr>\n",
       "\t<tr><td>~~~KARNATAKA            </td><td>47 (9.57 %)  </td><td>63 (20.19 %) </td><td>--    </td></tr>\n",
       "\t<tr><td>~~~MAHARASHTRA          </td><td>61 (12.42 %) </td><td>59 (18.91 %) </td><td>--    </td></tr>\n",
       "\t<tr><td>~~~RAJASTHAN            </td><td>131 (26.68 %)</td><td>63 (20.19 %) </td><td>--    </td></tr>\n",
       "\t<tr><td>~~~UTTAR PRADESH        </td><td>70 (14.26 %) </td><td>27 (8.65 %)  </td><td>--    </td></tr>\n",
       "\t<tr><td>~~~WEST BENGAL          </td><td>89 (18.13 %) </td><td>88 (28.21 %) </td><td>--    </td></tr>\n",
       "\t<tr><td> [n (%)]                </td><td>----         </td><td>----         </td><td>0.981 </td></tr>\n",
       "\t<tr><td>~~~Currently Married    </td><td>360 (73.32 %)</td><td>229 (73.4 %) </td><td>--    </td></tr>\n",
       "\t<tr><td>~~~Not Currently Married</td><td>131 (26.68 %)</td><td>83 (26.6 %)  </td><td>--    </td></tr>\n",
       "\t<tr><td> [n (%)]                </td><td>----         </td><td>----         </td><td>0.219 </td></tr>\n",
       "\t<tr><td>~~~Hinduism             </td><td>384 (78.21 %)</td><td>258 (82.69 %)</td><td>--    </td></tr>\n",
       "\t<tr><td>~~~Islam                </td><td>81 (16.5 %)  </td><td>44 (14.1 %)  </td><td>--    </td></tr>\n",
       "\t<tr><td>~~~Other / None         </td><td>26 (5.3 %)   </td><td>10 (3.21 %)  </td><td>--    </td></tr>\n",
       "\t<tr><td>⋮</td><td>⋮</td><td>⋮</td><td>⋮</td></tr>\n",
       "\t<tr><td><span style=white-space:pre-wrap> [n (%)]                              </span></td><td><span style=white-space:pre-wrap>----         </span></td><td><span style=white-space:pre-wrap>----         </span></td><td>&lt;0.001</td></tr>\n",
       "\t<tr><td>~~~Yes                                </td><td>114 (51.35 %)</td><td>58 (32.58 %) </td><td>--    </td></tr>\n",
       "\t<tr><td>~~~No                                 </td><td>108 (48.65 %)</td><td>120 (67.42 %)</td><td>--    </td></tr>\n",
       "\t<tr><td> [n (%)]                              </td><td>----         </td><td>----         </td><td>0.162 </td></tr>\n",
       "\t<tr><td>~~~Private                            </td><td>162 (57.86 %)</td><td>132 (65.67 %)</td><td>--    </td></tr>\n",
       "\t<tr><td>~~~Public                             </td><td>95 (33.93 %) </td><td>61 (30.35 %) </td><td>--    </td></tr>\n",
       "\t<tr><td>~~~Community                          </td><td>18 (6.43 %)  </td><td>7 (3.48 %)   </td><td>--    </td></tr>\n",
       "\t<tr><td>~~~Other                              </td><td>5 (1.79 %)   </td><td>1 (0.5 %)    </td><td>--    </td></tr>\n",
       "\t<tr><td> [n (%)]                              </td><td>----         </td><td>----         </td><td>0.083 </td></tr>\n",
       "\t<tr><td>~~~Yes                                </td><td>309 (62.93 %)</td><td>215 (68.91 %)</td><td>--    </td></tr>\n",
       "\t<tr><td>~~~No                                 </td><td>182 (37.07 %)</td><td>97 (31.09 %) </td><td>--    </td></tr>\n",
       "\t<tr><td> [n (%)]                              </td><td>----         </td><td>----         </td><td>0.087 </td></tr>\n",
       "\t<tr><td>~~~Less than primary school/don't know</td><td>82 (26.54 %) </td><td>55 (25.58 %) </td><td>--    </td></tr>\n",
       "\t<tr><td>~~~Secondary school and below         </td><td>139 (44.98 %)</td><td>80 (37.21 %) </td><td>--    </td></tr>\n",
       "\t<tr><td>~~~Past secondary school              </td><td>88 (28.48 %) </td><td>80 (37.21 %) </td><td>--    </td></tr>\n",
       "\t<tr><td> [n (%)]                              </td><td>----         </td><td>----         </td><td>0.148 </td></tr>\n",
       "\t<tr><td>~~~None/Mild                          </td><td>332 (67.62 %)</td><td>226 (72.44 %)</td><td>--    </td></tr>\n",
       "\t<tr><td>~~~Moderate or worse                  </td><td>159 (32.38 %)</td><td>86 (27.56 %) </td><td>--    </td></tr>\n",
       "\t<tr><td> [n (%)]                              </td><td>----         </td><td>----         </td><td>0.201 </td></tr>\n",
       "\t<tr><td>~~~None/Mild                          </td><td>267 (54.38 %)</td><td>184 (58.97 %)</td><td>--    </td></tr>\n",
       "\t<tr><td>~~~Moderate or worse                  </td><td>224 (45.62 %)</td><td>128 (41.03 %)</td><td>--    </td></tr>\n",
       "\t<tr><td> [n (%)]                              </td><td>----         </td><td>----         </td><td>0.416 </td></tr>\n",
       "\t<tr><td>~~~No                                 </td><td>348 (70.88 %)</td><td>212 (68.17 %)</td><td>--    </td></tr>\n",
       "\t<tr><td>~~~Yes                                </td><td>143 (29.12 %)</td><td>99 (31.83 %) </td><td>--    </td></tr>\n",
       "\t<tr><td> [n (%)]                              </td><td>----         </td><td>----         </td><td>0.457 </td></tr>\n",
       "\t<tr><td>~~~Completely                         </td><td>47 (9.59 %)  </td><td>35 (11.22 %) </td><td>--    </td></tr>\n",
       "\t<tr><td>~~~Mostly                             </td><td>93 (18.98 %) </td><td>46 (14.74 %) </td><td>--    </td></tr>\n",
       "\t<tr><td>~~~Moderately                         </td><td>215 (43.88 %)</td><td>146 (46.79 %)</td><td>--    </td></tr>\n",
       "\t<tr><td>~~~A little                           </td><td>110 (22.45 %)</td><td>65 (20.83 %) </td><td>--    </td></tr>\n",
       "\t<tr><td>~~~None at all                        </td><td>25 (5.1 %)   </td><td>20 (6.41 %)  </td><td>--    </td></tr>\n",
       "</tbody>\n",
       "</table>\n"
      ],
      "text/latex": [
       "A data.frame: 82 × 4\n",
       "\\begin{tabular}{llll}\n",
       " Name & Nonadhering & Adhering & Pvalue\\\\\n",
       " <chr> & <chr> & <chr> & <chr>\\\\\n",
       "\\hline\n",
       "\t  {[}n (\\%){]}                 & ----          & ----          & <0.001\\\\\n",
       "\t \\textasciitilde{}\\textasciitilde{}\\textasciitilde{}<50                   & 54 (11 \\%)     & 9 (2.88 \\%)    & --    \\\\\n",
       "\t \\textasciitilde{}\\textasciitilde{}\\textasciitilde{}>=50                  & 437 (89 \\%)    & 303 (97.12 \\%) & --    \\\\\n",
       "\t  {[}n (\\%){]}                 & ----          & ----          & 0.116 \\\\\n",
       "\t \\textasciitilde{}\\textasciitilde{}\\textasciitilde{}Male                  & 227 (46.23 \\%) & 162 (51.92 \\%) & --    \\\\\n",
       "\t \\textasciitilde{}\\textasciitilde{}\\textasciitilde{}Female                & 264 (53.77 \\%) & 150 (48.08 \\%) & --    \\\\\n",
       "\t  {[}n (\\%){]}                 & ----          & ----          & 0.207 \\\\\n",
       "\t \\textasciitilde{}\\textasciitilde{}\\textasciitilde{}1                     & 72 (14.66 \\%)  & 29 (9.29 \\%)   & --    \\\\\n",
       "\t \\textasciitilde{}\\textasciitilde{}\\textasciitilde{}2                     & 76 (15.48 \\%)  & 44 (14.1 \\%)   & --    \\\\\n",
       "\t \\textasciitilde{}\\textasciitilde{}\\textasciitilde{}3                     & 77 (15.68 \\%)  & 56 (17.95 \\%)  & --    \\\\\n",
       "\t \\textasciitilde{}\\textasciitilde{}\\textasciitilde{}4                     & 91 (18.53 \\%)  & 62 (19.87 \\%)  & --    \\\\\n",
       "\t \\textasciitilde{}\\textasciitilde{}\\textasciitilde{}5                     & 175 (35.64 \\%) & 121 (38.78 \\%) & --    \\\\\n",
       "\t  {[}mean (SD){]}             & 2.4 (0.68)    & 2.2 (0.44)    & <0.001\\\\\n",
       "\t  {[}n (\\%){]}                 & ----          & ----          & <0.001\\\\\n",
       "\t \\textasciitilde{}\\textasciitilde{}\\textasciitilde{}Urban                 & 141 (28.72 \\%) & 127 (40.71 \\%) & --    \\\\\n",
       "\t \\textasciitilde{}\\textasciitilde{}\\textasciitilde{}Rural                 & 350 (71.28 \\%) & 185 (59.29 \\%) & --    \\\\\n",
       "\t  {[}n (\\%){]}                 & ----          & ----          & <0.001\\\\\n",
       "\t \\textasciitilde{}\\textasciitilde{}\\textasciitilde{}ASSAM                 & 93 (18.94 \\%)  & 12 (3.85 \\%)   & --    \\\\\n",
       "\t \\textasciitilde{}\\textasciitilde{}\\textasciitilde{}KARNATAKA             & 47 (9.57 \\%)   & 63 (20.19 \\%)  & --    \\\\\n",
       "\t \\textasciitilde{}\\textasciitilde{}\\textasciitilde{}MAHARASHTRA           & 61 (12.42 \\%)  & 59 (18.91 \\%)  & --    \\\\\n",
       "\t \\textasciitilde{}\\textasciitilde{}\\textasciitilde{}RAJASTHAN             & 131 (26.68 \\%) & 63 (20.19 \\%)  & --    \\\\\n",
       "\t \\textasciitilde{}\\textasciitilde{}\\textasciitilde{}UTTAR PRADESH         & 70 (14.26 \\%)  & 27 (8.65 \\%)   & --    \\\\\n",
       "\t \\textasciitilde{}\\textasciitilde{}\\textasciitilde{}WEST BENGAL           & 89 (18.13 \\%)  & 88 (28.21 \\%)  & --    \\\\\n",
       "\t  {[}n (\\%){]}                 & ----          & ----          & 0.981 \\\\\n",
       "\t \\textasciitilde{}\\textasciitilde{}\\textasciitilde{}Currently Married     & 360 (73.32 \\%) & 229 (73.4 \\%)  & --    \\\\\n",
       "\t \\textasciitilde{}\\textasciitilde{}\\textasciitilde{}Not Currently Married & 131 (26.68 \\%) & 83 (26.6 \\%)   & --    \\\\\n",
       "\t  {[}n (\\%){]}                 & ----          & ----          & 0.219 \\\\\n",
       "\t \\textasciitilde{}\\textasciitilde{}\\textasciitilde{}Hinduism              & 384 (78.21 \\%) & 258 (82.69 \\%) & --    \\\\\n",
       "\t \\textasciitilde{}\\textasciitilde{}\\textasciitilde{}Islam                 & 81 (16.5 \\%)   & 44 (14.1 \\%)   & --    \\\\\n",
       "\t \\textasciitilde{}\\textasciitilde{}\\textasciitilde{}Other / None          & 26 (5.3 \\%)    & 10 (3.21 \\%)   & --    \\\\\n",
       "\t ⋮ & ⋮ & ⋮ & ⋮\\\\\n",
       "\t  {[}n (\\%){]}                               & ----          & ----          & <0.001\\\\\n",
       "\t \\textasciitilde{}\\textasciitilde{}\\textasciitilde{}Yes                                 & 114 (51.35 \\%) & 58 (32.58 \\%)  & --    \\\\\n",
       "\t \\textasciitilde{}\\textasciitilde{}\\textasciitilde{}No                                  & 108 (48.65 \\%) & 120 (67.42 \\%) & --    \\\\\n",
       "\t  {[}n (\\%){]}                               & ----          & ----          & 0.162 \\\\\n",
       "\t \\textasciitilde{}\\textasciitilde{}\\textasciitilde{}Private                             & 162 (57.86 \\%) & 132 (65.67 \\%) & --    \\\\\n",
       "\t \\textasciitilde{}\\textasciitilde{}\\textasciitilde{}Public                              & 95 (33.93 \\%)  & 61 (30.35 \\%)  & --    \\\\\n",
       "\t \\textasciitilde{}\\textasciitilde{}\\textasciitilde{}Community                           & 18 (6.43 \\%)   & 7 (3.48 \\%)    & --    \\\\\n",
       "\t \\textasciitilde{}\\textasciitilde{}\\textasciitilde{}Other                               & 5 (1.79 \\%)    & 1 (0.5 \\%)     & --    \\\\\n",
       "\t  {[}n (\\%){]}                               & ----          & ----          & 0.083 \\\\\n",
       "\t \\textasciitilde{}\\textasciitilde{}\\textasciitilde{}Yes                                 & 309 (62.93 \\%) & 215 (68.91 \\%) & --    \\\\\n",
       "\t \\textasciitilde{}\\textasciitilde{}\\textasciitilde{}No                                  & 182 (37.07 \\%) & 97 (31.09 \\%)  & --    \\\\\n",
       "\t  {[}n (\\%){]}                               & ----          & ----          & 0.087 \\\\\n",
       "\t \\textasciitilde{}\\textasciitilde{}\\textasciitilde{}Less than primary school/don't know & 82 (26.54 \\%)  & 55 (25.58 \\%)  & --    \\\\\n",
       "\t \\textasciitilde{}\\textasciitilde{}\\textasciitilde{}Secondary school and below          & 139 (44.98 \\%) & 80 (37.21 \\%)  & --    \\\\\n",
       "\t \\textasciitilde{}\\textasciitilde{}\\textasciitilde{}Past secondary school               & 88 (28.48 \\%)  & 80 (37.21 \\%)  & --    \\\\\n",
       "\t  {[}n (\\%){]}                               & ----          & ----          & 0.148 \\\\\n",
       "\t \\textasciitilde{}\\textasciitilde{}\\textasciitilde{}None/Mild                           & 332 (67.62 \\%) & 226 (72.44 \\%) & --    \\\\\n",
       "\t \\textasciitilde{}\\textasciitilde{}\\textasciitilde{}Moderate or worse                   & 159 (32.38 \\%) & 86 (27.56 \\%)  & --    \\\\\n",
       "\t  {[}n (\\%){]}                               & ----          & ----          & 0.201 \\\\\n",
       "\t \\textasciitilde{}\\textasciitilde{}\\textasciitilde{}None/Mild                           & 267 (54.38 \\%) & 184 (58.97 \\%) & --    \\\\\n",
       "\t \\textasciitilde{}\\textasciitilde{}\\textasciitilde{}Moderate or worse                   & 224 (45.62 \\%) & 128 (41.03 \\%) & --    \\\\\n",
       "\t  {[}n (\\%){]}                               & ----          & ----          & 0.416 \\\\\n",
       "\t \\textasciitilde{}\\textasciitilde{}\\textasciitilde{}No                                  & 348 (70.88 \\%) & 212 (68.17 \\%) & --    \\\\\n",
       "\t \\textasciitilde{}\\textasciitilde{}\\textasciitilde{}Yes                                 & 143 (29.12 \\%) & 99 (31.83 \\%)  & --    \\\\\n",
       "\t  {[}n (\\%){]}                               & ----          & ----          & 0.457 \\\\\n",
       "\t \\textasciitilde{}\\textasciitilde{}\\textasciitilde{}Completely                          & 47 (9.59 \\%)   & 35 (11.22 \\%)  & --    \\\\\n",
       "\t \\textasciitilde{}\\textasciitilde{}\\textasciitilde{}Mostly                              & 93 (18.98 \\%)  & 46 (14.74 \\%)  & --    \\\\\n",
       "\t \\textasciitilde{}\\textasciitilde{}\\textasciitilde{}Moderately                          & 215 (43.88 \\%) & 146 (46.79 \\%) & --    \\\\\n",
       "\t \\textasciitilde{}\\textasciitilde{}\\textasciitilde{}A little                            & 110 (22.45 \\%) & 65 (20.83 \\%)  & --    \\\\\n",
       "\t \\textasciitilde{}\\textasciitilde{}\\textasciitilde{}None at all                         & 25 (5.1 \\%)    & 20 (6.41 \\%)   & --    \\\\\n",
       "\\end{tabular}\n"
      ],
      "text/markdown": [
       "\n",
       "A data.frame: 82 × 4\n",
       "\n",
       "| Name &lt;chr&gt; | Nonadhering &lt;chr&gt; | Adhering &lt;chr&gt; | Pvalue &lt;chr&gt; |\n",
       "|---|---|---|---|\n",
       "|  [n (%)]                 | ----          | ----          | &lt;0.001 |\n",
       "| ~~~&lt;50                   | 54 (11 %)     | 9 (2.88 %)    | --     |\n",
       "| ~~~&gt;=50                  | 437 (89 %)    | 303 (97.12 %) | --     |\n",
       "|  [n (%)]                 | ----          | ----          | 0.116  |\n",
       "| ~~~Male                  | 227 (46.23 %) | 162 (51.92 %) | --     |\n",
       "| ~~~Female                | 264 (53.77 %) | 150 (48.08 %) | --     |\n",
       "|  [n (%)]                 | ----          | ----          | 0.207  |\n",
       "| ~~~1                     | 72 (14.66 %)  | 29 (9.29 %)   | --     |\n",
       "| ~~~2                     | 76 (15.48 %)  | 44 (14.1 %)   | --     |\n",
       "| ~~~3                     | 77 (15.68 %)  | 56 (17.95 %)  | --     |\n",
       "| ~~~4                     | 91 (18.53 %)  | 62 (19.87 %)  | --     |\n",
       "| ~~~5                     | 175 (35.64 %) | 121 (38.78 %) | --     |\n",
       "|  [mean (SD)]             | 2.4 (0.68)    | 2.2 (0.44)    | &lt;0.001 |\n",
       "|  [n (%)]                 | ----          | ----          | &lt;0.001 |\n",
       "| ~~~Urban                 | 141 (28.72 %) | 127 (40.71 %) | --     |\n",
       "| ~~~Rural                 | 350 (71.28 %) | 185 (59.29 %) | --     |\n",
       "|  [n (%)]                 | ----          | ----          | &lt;0.001 |\n",
       "| ~~~ASSAM                 | 93 (18.94 %)  | 12 (3.85 %)   | --     |\n",
       "| ~~~KARNATAKA             | 47 (9.57 %)   | 63 (20.19 %)  | --     |\n",
       "| ~~~MAHARASHTRA           | 61 (12.42 %)  | 59 (18.91 %)  | --     |\n",
       "| ~~~RAJASTHAN             | 131 (26.68 %) | 63 (20.19 %)  | --     |\n",
       "| ~~~UTTAR PRADESH         | 70 (14.26 %)  | 27 (8.65 %)   | --     |\n",
       "| ~~~WEST BENGAL           | 89 (18.13 %)  | 88 (28.21 %)  | --     |\n",
       "|  [n (%)]                 | ----          | ----          | 0.981  |\n",
       "| ~~~Currently Married     | 360 (73.32 %) | 229 (73.4 %)  | --     |\n",
       "| ~~~Not Currently Married | 131 (26.68 %) | 83 (26.6 %)   | --     |\n",
       "|  [n (%)]                 | ----          | ----          | 0.219  |\n",
       "| ~~~Hinduism              | 384 (78.21 %) | 258 (82.69 %) | --     |\n",
       "| ~~~Islam                 | 81 (16.5 %)   | 44 (14.1 %)   | --     |\n",
       "| ~~~Other / None          | 26 (5.3 %)    | 10 (3.21 %)   | --     |\n",
       "| ⋮ | ⋮ | ⋮ | ⋮ |\n",
       "|  [n (%)]                               | ----          | ----          | &lt;0.001 |\n",
       "| ~~~Yes                                 | 114 (51.35 %) | 58 (32.58 %)  | --     |\n",
       "| ~~~No                                  | 108 (48.65 %) | 120 (67.42 %) | --     |\n",
       "|  [n (%)]                               | ----          | ----          | 0.162  |\n",
       "| ~~~Private                             | 162 (57.86 %) | 132 (65.67 %) | --     |\n",
       "| ~~~Public                              | 95 (33.93 %)  | 61 (30.35 %)  | --     |\n",
       "| ~~~Community                           | 18 (6.43 %)   | 7 (3.48 %)    | --     |\n",
       "| ~~~Other                               | 5 (1.79 %)    | 1 (0.5 %)     | --     |\n",
       "|  [n (%)]                               | ----          | ----          | 0.083  |\n",
       "| ~~~Yes                                 | 309 (62.93 %) | 215 (68.91 %) | --     |\n",
       "| ~~~No                                  | 182 (37.07 %) | 97 (31.09 %)  | --     |\n",
       "|  [n (%)]                               | ----          | ----          | 0.087  |\n",
       "| ~~~Less than primary school/don't know | 82 (26.54 %)  | 55 (25.58 %)  | --     |\n",
       "| ~~~Secondary school and below          | 139 (44.98 %) | 80 (37.21 %)  | --     |\n",
       "| ~~~Past secondary school               | 88 (28.48 %)  | 80 (37.21 %)  | --     |\n",
       "|  [n (%)]                               | ----          | ----          | 0.148  |\n",
       "| ~~~None/Mild                           | 332 (67.62 %) | 226 (72.44 %) | --     |\n",
       "| ~~~Moderate or worse                   | 159 (32.38 %) | 86 (27.56 %)  | --     |\n",
       "|  [n (%)]                               | ----          | ----          | 0.201  |\n",
       "| ~~~None/Mild                           | 267 (54.38 %) | 184 (58.97 %) | --     |\n",
       "| ~~~Moderate or worse                   | 224 (45.62 %) | 128 (41.03 %) | --     |\n",
       "|  [n (%)]                               | ----          | ----          | 0.416  |\n",
       "| ~~~No                                  | 348 (70.88 %) | 212 (68.17 %) | --     |\n",
       "| ~~~Yes                                 | 143 (29.12 %) | 99 (31.83 %)  | --     |\n",
       "|  [n (%)]                               | ----          | ----          | 0.457  |\n",
       "| ~~~Completely                          | 47 (9.59 %)   | 35 (11.22 %)  | --     |\n",
       "| ~~~Mostly                              | 93 (18.98 %)  | 46 (14.74 %)  | --     |\n",
       "| ~~~Moderately                          | 215 (43.88 %) | 146 (46.79 %) | --     |\n",
       "| ~~~A little                            | 110 (22.45 %) | 65 (20.83 %)  | --     |\n",
       "| ~~~None at all                         | 25 (5.1 %)    | 20 (6.41 %)   | --     |\n",
       "\n"
      ],
      "text/plain": [
       "   Name                                   Nonadhering   Adhering      Pvalue\n",
       "1   [n (%)]                               ----          ----          <0.001\n",
       "2  ~~~<50                                 54 (11 %)     9 (2.88 %)    --    \n",
       "3  ~~~>=50                                437 (89 %)    303 (97.12 %) --    \n",
       "4   [n (%)]                               ----          ----          0.116 \n",
       "5  ~~~Male                                227 (46.23 %) 162 (51.92 %) --    \n",
       "6  ~~~Female                              264 (53.77 %) 150 (48.08 %) --    \n",
       "7   [n (%)]                               ----          ----          0.207 \n",
       "8  ~~~1                                   72 (14.66 %)  29 (9.29 %)   --    \n",
       "9  ~~~2                                   76 (15.48 %)  44 (14.1 %)   --    \n",
       "10 ~~~3                                   77 (15.68 %)  56 (17.95 %)  --    \n",
       "11 ~~~4                                   91 (18.53 %)  62 (19.87 %)  --    \n",
       "12 ~~~5                                   175 (35.64 %) 121 (38.78 %) --    \n",
       "13  [mean (SD)]                           2.4 (0.68)    2.2 (0.44)    <0.001\n",
       "14  [n (%)]                               ----          ----          <0.001\n",
       "15 ~~~Urban                               141 (28.72 %) 127 (40.71 %) --    \n",
       "16 ~~~Rural                               350 (71.28 %) 185 (59.29 %) --    \n",
       "17  [n (%)]                               ----          ----          <0.001\n",
       "18 ~~~ASSAM                               93 (18.94 %)  12 (3.85 %)   --    \n",
       "19 ~~~KARNATAKA                           47 (9.57 %)   63 (20.19 %)  --    \n",
       "20 ~~~MAHARASHTRA                         61 (12.42 %)  59 (18.91 %)  --    \n",
       "21 ~~~RAJASTHAN                           131 (26.68 %) 63 (20.19 %)  --    \n",
       "22 ~~~UTTAR PRADESH                       70 (14.26 %)  27 (8.65 %)   --    \n",
       "23 ~~~WEST BENGAL                         89 (18.13 %)  88 (28.21 %)  --    \n",
       "24  [n (%)]                               ----          ----          0.981 \n",
       "25 ~~~Currently Married                   360 (73.32 %) 229 (73.4 %)  --    \n",
       "26 ~~~Not Currently Married               131 (26.68 %) 83 (26.6 %)   --    \n",
       "27  [n (%)]                               ----          ----          0.219 \n",
       "28 ~~~Hinduism                            384 (78.21 %) 258 (82.69 %) --    \n",
       "29 ~~~Islam                               81 (16.5 %)   44 (14.1 %)   --    \n",
       "30 ~~~Other / None                        26 (5.3 %)    10 (3.21 %)   --    \n",
       "⋮  ⋮                                      ⋮             ⋮             ⋮     \n",
       "53  [n (%)]                               ----          ----          <0.001\n",
       "54 ~~~Yes                                 114 (51.35 %) 58 (32.58 %)  --    \n",
       "55 ~~~No                                  108 (48.65 %) 120 (67.42 %) --    \n",
       "56  [n (%)]                               ----          ----          0.162 \n",
       "57 ~~~Private                             162 (57.86 %) 132 (65.67 %) --    \n",
       "58 ~~~Public                              95 (33.93 %)  61 (30.35 %)  --    \n",
       "59 ~~~Community                           18 (6.43 %)   7 (3.48 %)    --    \n",
       "60 ~~~Other                               5 (1.79 %)    1 (0.5 %)     --    \n",
       "61  [n (%)]                               ----          ----          0.083 \n",
       "62 ~~~Yes                                 309 (62.93 %) 215 (68.91 %) --    \n",
       "63 ~~~No                                  182 (37.07 %) 97 (31.09 %)  --    \n",
       "64  [n (%)]                               ----          ----          0.087 \n",
       "65 ~~~Less than primary school/don't know 82 (26.54 %)  55 (25.58 %)  --    \n",
       "66 ~~~Secondary school and below          139 (44.98 %) 80 (37.21 %)  --    \n",
       "67 ~~~Past secondary school               88 (28.48 %)  80 (37.21 %)  --    \n",
       "68  [n (%)]                               ----          ----          0.148 \n",
       "69 ~~~None/Mild                           332 (67.62 %) 226 (72.44 %) --    \n",
       "70 ~~~Moderate or worse                   159 (32.38 %) 86 (27.56 %)  --    \n",
       "71  [n (%)]                               ----          ----          0.201 \n",
       "72 ~~~None/Mild                           267 (54.38 %) 184 (58.97 %) --    \n",
       "73 ~~~Moderate or worse                   224 (45.62 %) 128 (41.03 %) --    \n",
       "74  [n (%)]                               ----          ----          0.416 \n",
       "75 ~~~No                                  348 (70.88 %) 212 (68.17 %) --    \n",
       "76 ~~~Yes                                 143 (29.12 %) 99 (31.83 %)  --    \n",
       "77  [n (%)]                               ----          ----          0.457 \n",
       "78 ~~~Completely                          47 (9.59 %)   35 (11.22 %)  --    \n",
       "79 ~~~Mostly                              93 (18.98 %)  46 (14.74 %)  --    \n",
       "80 ~~~Moderately                          215 (43.88 %) 146 (46.79 %) --    \n",
       "81 ~~~A little                            110 (22.45 %) 65 (20.83 %)  --    \n",
       "82 ~~~None at all                         25 (5.1 %)    20 (6.41 %)   --    "
      ]
     },
     "metadata": {},
     "output_type": "display_data"
    }
   ],
   "source": [
    "dfs <- apply(VariableList, 1, function(Var) {BVCalc(Var, multimorbid, \"adherence\")})\n",
    "multiMorbidityBV <- do.call(rbind, dfs)\n",
    "multiMorbidityBV\n",
    "write.csv(MorbidityBV,\"Supplementary2/multiMorbidityUnweightedBV.csv\")"
   ]
  }
 ],
 "metadata": {
  "kernelspec": {
   "display_name": "R",
   "language": "R",
   "name": "ir"
  },
  "language_info": {
   "codemirror_mode": "r",
   "file_extension": ".r",
   "mimetype": "text/x-r-source",
   "name": "R",
   "pygments_lexer": "r",
   "version": "4.2.2"
  },
  "orig_nbformat": 4
 },
 "nbformat": 4,
 "nbformat_minor": 2
}
